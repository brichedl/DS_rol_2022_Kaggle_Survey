{
 "cells": [
  {
   "cell_type": "markdown",
   "metadata": {},
   "source": [
    "# Project: Comparative Analysis of the Data Scientist Role in the Top  Five Most Representative Countries within the Kaggle Community\n",
    "\n",
    "## Table of Contents\n",
    "<ul>\n",
    "<li><a href=\"#intro\">Introduction</a></li>\n",
    "<li><a href=\"#wrangling\">Data Wrangling</a></li>\n",
    "<li><a href=\"#eda\">Exploratory Data Analysis</a></li>\n",
    "<li><a href=\"#conclusions\">Conclusions</a></li>\n",
    "</ul>"
   ]
  },
  {
   "cell_type": "markdown",
   "metadata": {},
   "source": [
    "<a id='intro'></a>\n",
    "## Introduction\n",
    "\n",
    "In this research, the latest survey conducted up to the current date, known as the 2022 Kaggle DS & ML Survey [Kaggle](https://www.kaggle.com/datasets/kaggle/kaggle-survey-2017), will be analyzed. The aim is to utilize the data collected from the community and draw conclusions about demographics, industry involvement, and preferred technologies in the field of data science. Here are the question I plan on exploring:\n",
    "\n",
    "> **1:** Carry out a data cleaning and preparation process for the 2022 Kaggle DS & ML Survey database.\n",
    "\n",
    "> **2:** Identify the top five countries with the highest representation in the Kaggle community, focusing on the field of data science and considering levels of programming and machine learning expertise.\n",
    "\n",
    "> **3:** Conduct a detailed analysis of the demographics and industries to which data science experts are affiliated, exploring factors such as gender distribution, age, education, geographic location, and areas of industrial specialization.\n",
    "\n",
    "> **4:** Recognize the most used technologies and preferred techniques by data scientists.\n"
   ]
  },
  {
   "cell_type": "code",
   "execution_count": 1,
   "metadata": {},
   "outputs": [],
   "source": [
    "# exploration \n",
    "import pandas as pd\n",
    "import numpy as np\n",
    "# visualization\n",
    "import plotly.express as px\n",
    "import plotly.figure_factory as ff\n",
    "import plotly.graph_objects as go"
   ]
  },
  {
   "cell_type": "code",
   "execution_count": 2,
   "metadata": {},
   "outputs": [],
   "source": [
    "def group_question(min,max,v_v1):\n",
    "    '''generates a list containing the names of individual or grouped questions depending on the numerical values of min and max.\n",
    "    \n",
    "    Args:\n",
    "        min: minimum numerical value (x) representing the value of question Qx.\n",
    "        max: minimum or maximum numerical value (x) representing the value of question Qx.\n",
    "        v_v1: DataFrame summarizing descriptive information for each individual and grouped question.\n",
    "        \n",
    "    Returns:\n",
    "        generates a list containing the names of individual or grouped questions\n",
    "        group_question(9,9,v_v1)\n",
    "        ['Q9'] \n",
    "        group_question(9,15,v_v1)\n",
    "        ['Q6_1', 'Q6_2', 'Q6_3', 'Q6_4', 'Q6_5', 'Q6_6', 'Q6_7', 'Q6_8', 'Q6_9', 'Q6_10',\n",
    "        'Q6_11', 'Q6_12', 'Q7_1', 'Q7_2', 'Q7_3', 'Q7_4', 'Q7_5', 'Q7_6', 'Q7_7', 'Q8', 'Q9'] \n",
    "    '''\n",
    "    l=[]\n",
    "    for i in range(min,max+1):\n",
    "        con =f'Q{i}'\n",
    "        val=v_v1.loc[con,('number_answers', 'count')]\n",
    "        if val == 1:\n",
    "            l+=[con]\n",
    "            if min == max:\n",
    "                break\n",
    "            else:\n",
    "                continue\n",
    "        for j in range(1,val+1):\n",
    "            l+=[f'{con}_{j}']\n",
    "    return l"
   ]
  },
  {
   "cell_type": "code",
   "execution_count": 3,
   "metadata": {},
   "outputs": [],
   "source": [
    "def value_count_from_multiple_choice(df, v_v1,col):\n",
    "    ''' dataframe for figures\n",
    "    \n",
    "    Works to obtain a DataFrame that indexes the unique value of all columns belonging to a \n",
    "    multiple-choice question 'col', containing columns for yes, no, and the percentage of users \n",
    "    who approve each unique value.\n",
    "    \n",
    "    Args:\n",
    "        df: DataFrame containing data and columns.\n",
    "        v_v1: DataFrame summarizing descriptive information for each individual and grouped question.\n",
    "        col: numerical value (x) representing the value of question Qx.\n",
    "        \n",
    "    Returns:    \n",
    "        a new DataFrame containing columns for yes, no, and the percentage of users \n",
    "        who approve each unique value.\n",
    "    '''\n",
    "    \n",
    "    temp_df = df.copy()\n",
    "    current_column_names=group_question(col,col,v_v1)\n",
    "    # print(v_v1.T.loc[('question','unique'),f'Q{col}'])\n",
    "    # print(current_column_names)\n",
    "    renamed_column_names=v_v.T.loc['select',current_column_names].to_list()\n",
    "\n",
    "    for c in current_column_names:\n",
    "        temp_df[c] = temp_df[c].replace(np.nan, 0)\n",
    "        temp_df[c] = np.where(temp_df[c] == 0, \"No\", \"Yes\")\n",
    "        \n",
    "    q_df = temp_df[current_column_names].copy()\n",
    "    q_value_counts = q_df.apply(pd.Series.value_counts)\n",
    "    q_value_counts.columns = renamed_column_names\n",
    "    q_value_counts = q_value_counts.transpose()\n",
    "    q_value_counts[\"% Users\"] = round((q_value_counts[\"Yes\"] / (q_value_counts[\"No\"] + q_value_counts[\"Yes\"])).round(4)*100,2)\n",
    "    \n",
    "    return q_value_counts.fillna(0).sort_values(\"% Users\")"
   ]
  },
  {
   "cell_type": "code",
   "execution_count": 4,
   "metadata": {},
   "outputs": [],
   "source": [
    "def name_column_graph(tabla,symb):\n",
    "    '''Creates a list with the indices of the 'tabla'\n",
    "    \n",
    "    Args:\n",
    "        tabla: The result of the 'value_count_from_multiple_choice' function.\n",
    "        symb: Some indices contain long names and can be separated by a symbol.\n",
    "        \n",
    "    Returns: \n",
    "        a list contains the indices of the 'tabla' for figures and less characters\n",
    "    '''\n",
    "    l=[]\n",
    "    for i in tabla.index:\n",
    "        a= i.split(symb)\n",
    "        if len(a) > 1 :\n",
    "            l+=[a[0]]\n",
    "            \n",
    "        else:\n",
    "            l+=a\n",
    "    return l\n",
    "  "
   ]
  },
  {
   "attachments": {},
   "cell_type": "markdown",
   "metadata": {},
   "source": [
    "<a id='wrangling'></a>\n",
    "## Data Wrangling"
   ]
  },
  {
   "cell_type": "markdown",
   "metadata": {},
   "source": [
    "### Data exploration\n",
    "The first step before doing anything with data is to locate the file (for this report a .csv file) in the directory I am working on and then read it through the built-in Pandas functions. In my case, I have `kaggle-survey-2022/kaggle_survey_2022_responses.csv` file stored in the same directory I’m working on."
   ]
  },
  {
   "cell_type": "code",
   "execution_count": 5,
   "metadata": {},
   "outputs": [
    {
     "name": "stdout",
     "output_type": "stream",
     "text": [
      "Top 5 rows\n"
     ]
    },
    {
     "data": {
      "text/html": [
       "<div>\n",
       "<style scoped>\n",
       "    .dataframe tbody tr th:only-of-type {\n",
       "        vertical-align: middle;\n",
       "    }\n",
       "\n",
       "    .dataframe tbody tr th {\n",
       "        vertical-align: top;\n",
       "    }\n",
       "\n",
       "    .dataframe thead th {\n",
       "        text-align: right;\n",
       "    }\n",
       "</style>\n",
       "<table border=\"1\" class=\"dataframe\">\n",
       "  <thead>\n",
       "    <tr style=\"text-align: right;\">\n",
       "      <th></th>\n",
       "      <th>Duration (in seconds)</th>\n",
       "      <th>Q2</th>\n",
       "      <th>Q3</th>\n",
       "      <th>Q4</th>\n",
       "      <th>Q5</th>\n",
       "      <th>Q6_1</th>\n",
       "      <th>Q6_2</th>\n",
       "      <th>Q6_3</th>\n",
       "      <th>Q6_4</th>\n",
       "      <th>Q6_5</th>\n",
       "      <th>...</th>\n",
       "      <th>Q44_3</th>\n",
       "      <th>Q44_4</th>\n",
       "      <th>Q44_5</th>\n",
       "      <th>Q44_6</th>\n",
       "      <th>Q44_7</th>\n",
       "      <th>Q44_8</th>\n",
       "      <th>Q44_9</th>\n",
       "      <th>Q44_10</th>\n",
       "      <th>Q44_11</th>\n",
       "      <th>Q44_12</th>\n",
       "    </tr>\n",
       "  </thead>\n",
       "  <tbody>\n",
       "    <tr>\n",
       "      <th>0</th>\n",
       "      <td>Duration (in seconds)</td>\n",
       "      <td>What is your age (# years)?</td>\n",
       "      <td>What is your gender? - Selected Choice</td>\n",
       "      <td>In which country do you currently reside?</td>\n",
       "      <td>Are you currently a student? (high school, uni...</td>\n",
       "      <td>On which platforms have you begun or completed...</td>\n",
       "      <td>On which platforms have you begun or completed...</td>\n",
       "      <td>On which platforms have you begun or completed...</td>\n",
       "      <td>On which platforms have you begun or completed...</td>\n",
       "      <td>On which platforms have you begun or completed...</td>\n",
       "      <td>...</td>\n",
       "      <td>Who/what are your favorite media sources that ...</td>\n",
       "      <td>Who/what are your favorite media sources that ...</td>\n",
       "      <td>Who/what are your favorite media sources that ...</td>\n",
       "      <td>Who/what are your favorite media sources that ...</td>\n",
       "      <td>Who/what are your favorite media sources that ...</td>\n",
       "      <td>Who/what are your favorite media sources that ...</td>\n",
       "      <td>Who/what are your favorite media sources that ...</td>\n",
       "      <td>Who/what are your favorite media sources that ...</td>\n",
       "      <td>Who/what are your favorite media sources that ...</td>\n",
       "      <td>Who/what are your favorite media sources that ...</td>\n",
       "    </tr>\n",
       "    <tr>\n",
       "      <th>1</th>\n",
       "      <td>121</td>\n",
       "      <td>30-34</td>\n",
       "      <td>Man</td>\n",
       "      <td>India</td>\n",
       "      <td>No</td>\n",
       "      <td>NaN</td>\n",
       "      <td>NaN</td>\n",
       "      <td>NaN</td>\n",
       "      <td>NaN</td>\n",
       "      <td>NaN</td>\n",
       "      <td>...</td>\n",
       "      <td>NaN</td>\n",
       "      <td>NaN</td>\n",
       "      <td>NaN</td>\n",
       "      <td>NaN</td>\n",
       "      <td>NaN</td>\n",
       "      <td>NaN</td>\n",
       "      <td>NaN</td>\n",
       "      <td>NaN</td>\n",
       "      <td>NaN</td>\n",
       "      <td>NaN</td>\n",
       "    </tr>\n",
       "    <tr>\n",
       "      <th>2</th>\n",
       "      <td>462</td>\n",
       "      <td>30-34</td>\n",
       "      <td>Man</td>\n",
       "      <td>Algeria</td>\n",
       "      <td>No</td>\n",
       "      <td>NaN</td>\n",
       "      <td>NaN</td>\n",
       "      <td>NaN</td>\n",
       "      <td>NaN</td>\n",
       "      <td>NaN</td>\n",
       "      <td>...</td>\n",
       "      <td>NaN</td>\n",
       "      <td>NaN</td>\n",
       "      <td>NaN</td>\n",
       "      <td>NaN</td>\n",
       "      <td>NaN</td>\n",
       "      <td>NaN</td>\n",
       "      <td>NaN</td>\n",
       "      <td>NaN</td>\n",
       "      <td>NaN</td>\n",
       "      <td>NaN</td>\n",
       "    </tr>\n",
       "    <tr>\n",
       "      <th>3</th>\n",
       "      <td>293</td>\n",
       "      <td>18-21</td>\n",
       "      <td>Man</td>\n",
       "      <td>Egypt</td>\n",
       "      <td>Yes</td>\n",
       "      <td>Coursera</td>\n",
       "      <td>edX</td>\n",
       "      <td>NaN</td>\n",
       "      <td>DataCamp</td>\n",
       "      <td>NaN</td>\n",
       "      <td>...</td>\n",
       "      <td>NaN</td>\n",
       "      <td>Kaggle (notebooks, forums, etc)</td>\n",
       "      <td>NaN</td>\n",
       "      <td>YouTube (Kaggle YouTube, Cloud AI Adventures, ...</td>\n",
       "      <td>Podcasts (Chai Time Data Science, O’Reilly Dat...</td>\n",
       "      <td>NaN</td>\n",
       "      <td>NaN</td>\n",
       "      <td>NaN</td>\n",
       "      <td>NaN</td>\n",
       "      <td>NaN</td>\n",
       "    </tr>\n",
       "    <tr>\n",
       "      <th>4</th>\n",
       "      <td>851</td>\n",
       "      <td>55-59</td>\n",
       "      <td>Man</td>\n",
       "      <td>France</td>\n",
       "      <td>No</td>\n",
       "      <td>Coursera</td>\n",
       "      <td>NaN</td>\n",
       "      <td>Kaggle Learn Courses</td>\n",
       "      <td>NaN</td>\n",
       "      <td>NaN</td>\n",
       "      <td>...</td>\n",
       "      <td>NaN</td>\n",
       "      <td>Kaggle (notebooks, forums, etc)</td>\n",
       "      <td>Course Forums (forums.fast.ai, Coursera forums...</td>\n",
       "      <td>NaN</td>\n",
       "      <td>NaN</td>\n",
       "      <td>Blogs (Towards Data Science, Analytics Vidhya,...</td>\n",
       "      <td>NaN</td>\n",
       "      <td>NaN</td>\n",
       "      <td>NaN</td>\n",
       "      <td>NaN</td>\n",
       "    </tr>\n",
       "  </tbody>\n",
       "</table>\n",
       "<p>5 rows × 296 columns</p>\n",
       "</div>"
      ],
      "text/plain": [
       "   Duration (in seconds)                           Q2  \\\n",
       "0  Duration (in seconds)  What is your age (# years)?   \n",
       "1                    121                        30-34   \n",
       "2                    462                        30-34   \n",
       "3                    293                        18-21   \n",
       "4                    851                        55-59   \n",
       "\n",
       "                                       Q3  \\\n",
       "0  What is your gender? - Selected Choice   \n",
       "1                                     Man   \n",
       "2                                     Man   \n",
       "3                                     Man   \n",
       "4                                     Man   \n",
       "\n",
       "                                          Q4  \\\n",
       "0  In which country do you currently reside?   \n",
       "1                                      India   \n",
       "2                                    Algeria   \n",
       "3                                      Egypt   \n",
       "4                                     France   \n",
       "\n",
       "                                                  Q5  \\\n",
       "0  Are you currently a student? (high school, uni...   \n",
       "1                                                 No   \n",
       "2                                                 No   \n",
       "3                                                Yes   \n",
       "4                                                 No   \n",
       "\n",
       "                                                Q6_1  \\\n",
       "0  On which platforms have you begun or completed...   \n",
       "1                                                NaN   \n",
       "2                                                NaN   \n",
       "3                                           Coursera   \n",
       "4                                           Coursera   \n",
       "\n",
       "                                                Q6_2  \\\n",
       "0  On which platforms have you begun or completed...   \n",
       "1                                                NaN   \n",
       "2                                                NaN   \n",
       "3                                                edX   \n",
       "4                                                NaN   \n",
       "\n",
       "                                                Q6_3  \\\n",
       "0  On which platforms have you begun or completed...   \n",
       "1                                                NaN   \n",
       "2                                                NaN   \n",
       "3                                                NaN   \n",
       "4                               Kaggle Learn Courses   \n",
       "\n",
       "                                                Q6_4  \\\n",
       "0  On which platforms have you begun or completed...   \n",
       "1                                                NaN   \n",
       "2                                                NaN   \n",
       "3                                           DataCamp   \n",
       "4                                                NaN   \n",
       "\n",
       "                                                Q6_5  ...  \\\n",
       "0  On which platforms have you begun or completed...  ...   \n",
       "1                                                NaN  ...   \n",
       "2                                                NaN  ...   \n",
       "3                                                NaN  ...   \n",
       "4                                                NaN  ...   \n",
       "\n",
       "                                               Q44_3  \\\n",
       "0  Who/what are your favorite media sources that ...   \n",
       "1                                                NaN   \n",
       "2                                                NaN   \n",
       "3                                                NaN   \n",
       "4                                                NaN   \n",
       "\n",
       "                                               Q44_4  \\\n",
       "0  Who/what are your favorite media sources that ...   \n",
       "1                                                NaN   \n",
       "2                                                NaN   \n",
       "3                    Kaggle (notebooks, forums, etc)   \n",
       "4                    Kaggle (notebooks, forums, etc)   \n",
       "\n",
       "                                               Q44_5  \\\n",
       "0  Who/what are your favorite media sources that ...   \n",
       "1                                                NaN   \n",
       "2                                                NaN   \n",
       "3                                                NaN   \n",
       "4  Course Forums (forums.fast.ai, Coursera forums...   \n",
       "\n",
       "                                               Q44_6  \\\n",
       "0  Who/what are your favorite media sources that ...   \n",
       "1                                                NaN   \n",
       "2                                                NaN   \n",
       "3  YouTube (Kaggle YouTube, Cloud AI Adventures, ...   \n",
       "4                                                NaN   \n",
       "\n",
       "                                               Q44_7  \\\n",
       "0  Who/what are your favorite media sources that ...   \n",
       "1                                                NaN   \n",
       "2                                                NaN   \n",
       "3  Podcasts (Chai Time Data Science, O’Reilly Dat...   \n",
       "4                                                NaN   \n",
       "\n",
       "                                               Q44_8  \\\n",
       "0  Who/what are your favorite media sources that ...   \n",
       "1                                                NaN   \n",
       "2                                                NaN   \n",
       "3                                                NaN   \n",
       "4  Blogs (Towards Data Science, Analytics Vidhya,...   \n",
       "\n",
       "                                               Q44_9  \\\n",
       "0  Who/what are your favorite media sources that ...   \n",
       "1                                                NaN   \n",
       "2                                                NaN   \n",
       "3                                                NaN   \n",
       "4                                                NaN   \n",
       "\n",
       "                                              Q44_10  \\\n",
       "0  Who/what are your favorite media sources that ...   \n",
       "1                                                NaN   \n",
       "2                                                NaN   \n",
       "3                                                NaN   \n",
       "4                                                NaN   \n",
       "\n",
       "                                              Q44_11  \\\n",
       "0  Who/what are your favorite media sources that ...   \n",
       "1                                                NaN   \n",
       "2                                                NaN   \n",
       "3                                                NaN   \n",
       "4                                                NaN   \n",
       "\n",
       "                                              Q44_12  \n",
       "0  Who/what are your favorite media sources that ...  \n",
       "1                                                NaN  \n",
       "2                                                NaN  \n",
       "3                                                NaN  \n",
       "4                                                NaN  \n",
       "\n",
       "[5 rows x 296 columns]"
      ]
     },
     "execution_count": 5,
     "metadata": {},
     "output_type": "execute_result"
    }
   ],
   "source": [
    "df = pd.read_csv('kaggle_survey_2022_responses.csv',low_memory=False)\n",
    "print('Top 5 rows')\n",
    "df.head(5)"
   ]
  },
  {
   "cell_type": "code",
   "execution_count": 6,
   "metadata": {},
   "outputs": [
    {
     "data": {
      "text/html": [
       "<div>\n",
       "<style scoped>\n",
       "    .dataframe tbody tr th:only-of-type {\n",
       "        vertical-align: middle;\n",
       "    }\n",
       "\n",
       "    .dataframe tbody tr th {\n",
       "        vertical-align: top;\n",
       "    }\n",
       "\n",
       "    .dataframe thead th {\n",
       "        text-align: right;\n",
       "    }\n",
       "</style>\n",
       "<table border=\"1\" class=\"dataframe\">\n",
       "  <thead>\n",
       "    <tr style=\"text-align: right;\">\n",
       "      <th></th>\n",
       "      <th>Duration (in seconds)</th>\n",
       "      <th>Q2</th>\n",
       "      <th>Q3</th>\n",
       "      <th>Q4</th>\n",
       "      <th>Q5</th>\n",
       "      <th>Q6_1</th>\n",
       "      <th>Q6_2</th>\n",
       "      <th>Q6_3</th>\n",
       "      <th>Q6_4</th>\n",
       "      <th>Q6_5</th>\n",
       "      <th>...</th>\n",
       "      <th>Q44_3</th>\n",
       "      <th>Q44_4</th>\n",
       "      <th>Q44_5</th>\n",
       "      <th>Q44_6</th>\n",
       "      <th>Q44_7</th>\n",
       "      <th>Q44_8</th>\n",
       "      <th>Q44_9</th>\n",
       "      <th>Q44_10</th>\n",
       "      <th>Q44_11</th>\n",
       "      <th>Q44_12</th>\n",
       "    </tr>\n",
       "  </thead>\n",
       "  <tbody>\n",
       "    <tr>\n",
       "      <th>1</th>\n",
       "      <td>121</td>\n",
       "      <td>30-34</td>\n",
       "      <td>Man</td>\n",
       "      <td>India</td>\n",
       "      <td>No</td>\n",
       "      <td>NaN</td>\n",
       "      <td>NaN</td>\n",
       "      <td>NaN</td>\n",
       "      <td>NaN</td>\n",
       "      <td>NaN</td>\n",
       "      <td>...</td>\n",
       "      <td>NaN</td>\n",
       "      <td>NaN</td>\n",
       "      <td>NaN</td>\n",
       "      <td>NaN</td>\n",
       "      <td>NaN</td>\n",
       "      <td>NaN</td>\n",
       "      <td>NaN</td>\n",
       "      <td>NaN</td>\n",
       "      <td>NaN</td>\n",
       "      <td>NaN</td>\n",
       "    </tr>\n",
       "    <tr>\n",
       "      <th>2</th>\n",
       "      <td>462</td>\n",
       "      <td>30-34</td>\n",
       "      <td>Man</td>\n",
       "      <td>Algeria</td>\n",
       "      <td>No</td>\n",
       "      <td>NaN</td>\n",
       "      <td>NaN</td>\n",
       "      <td>NaN</td>\n",
       "      <td>NaN</td>\n",
       "      <td>NaN</td>\n",
       "      <td>...</td>\n",
       "      <td>NaN</td>\n",
       "      <td>NaN</td>\n",
       "      <td>NaN</td>\n",
       "      <td>NaN</td>\n",
       "      <td>NaN</td>\n",
       "      <td>NaN</td>\n",
       "      <td>NaN</td>\n",
       "      <td>NaN</td>\n",
       "      <td>NaN</td>\n",
       "      <td>NaN</td>\n",
       "    </tr>\n",
       "  </tbody>\n",
       "</table>\n",
       "<p>2 rows × 296 columns</p>\n",
       "</div>"
      ],
      "text/plain": [
       "  Duration (in seconds)     Q2   Q3       Q4  Q5 Q6_1 Q6_2 Q6_3 Q6_4 Q6_5  \\\n",
       "1                   121  30-34  Man    India  No  NaN  NaN  NaN  NaN  NaN   \n",
       "2                   462  30-34  Man  Algeria  No  NaN  NaN  NaN  NaN  NaN   \n",
       "\n",
       "   ... Q44_3 Q44_4 Q44_5 Q44_6 Q44_7 Q44_8 Q44_9 Q44_10 Q44_11 Q44_12  \n",
       "1  ...   NaN   NaN   NaN   NaN   NaN   NaN   NaN    NaN    NaN    NaN  \n",
       "2  ...   NaN   NaN   NaN   NaN   NaN   NaN   NaN    NaN    NaN    NaN  \n",
       "\n",
       "[2 rows x 296 columns]"
      ]
     },
     "execution_count": 6,
     "metadata": {},
     "output_type": "execute_result"
    }
   ],
   "source": [
    "# Delete row 0, which contains the question name and corresponding answer for each column.\n",
    "df_current = df.drop(df.index[0])\n",
    "df_current.head(2)"
   ]
  },
  {
   "cell_type": "code",
   "execution_count": 7,
   "metadata": {},
   "outputs": [
    {
     "name": "stdout",
     "output_type": "stream",
     "text": [
      "Rows: 23997 Columns: 296\n"
     ]
    }
   ],
   "source": [
    "# return the rows and columns of the dataframe\n",
    "print('Rows:',df_current.shape[0], 'Columns:',df_current.shape[1])\n"
   ]
  },
  {
   "cell_type": "code",
   "execution_count": 8,
   "metadata": {},
   "outputs": [
    {
     "data": {
      "text/plain": [
       "Duration (in seconds)    object\n",
       "Q2                       object\n",
       "Q3                       object\n",
       "Q4                       object\n",
       "Q5                       object\n",
       "                          ...  \n",
       "Q44_8                    object\n",
       "Q44_9                    object\n",
       "Q44_10                   object\n",
       "Q44_11                   object\n",
       "Q44_12                   object\n",
       "Length: 296, dtype: object"
      ]
     },
     "execution_count": 8,
     "metadata": {},
     "output_type": "execute_result"
    }
   ],
   "source": [
    "# return the data types of each column\n",
    "df_current.dtypes"
   ]
  },
  {
   "cell_type": "markdown",
   "metadata": {},
   "source": [
    "From the above code excerpt, I have explored the data, shapes, and also it types. I have an overview of the kind of data I am dealing with. Now let’s describe the data through `describe()` function."
   ]
  },
  {
   "cell_type": "code",
   "execution_count": 9,
   "metadata": {},
   "outputs": [
    {
     "data": {
      "text/html": [
       "<div>\n",
       "<style scoped>\n",
       "    .dataframe tbody tr th:only-of-type {\n",
       "        vertical-align: middle;\n",
       "    }\n",
       "\n",
       "    .dataframe tbody tr th {\n",
       "        vertical-align: top;\n",
       "    }\n",
       "\n",
       "    .dataframe thead th {\n",
       "        text-align: right;\n",
       "    }\n",
       "</style>\n",
       "<table border=\"1\" class=\"dataframe\">\n",
       "  <thead>\n",
       "    <tr style=\"text-align: right;\">\n",
       "      <th></th>\n",
       "      <th>Duration (in seconds)</th>\n",
       "      <th>Q2</th>\n",
       "      <th>Q3</th>\n",
       "      <th>Q4</th>\n",
       "      <th>Q5</th>\n",
       "      <th>Q6_1</th>\n",
       "      <th>Q6_2</th>\n",
       "      <th>Q6_3</th>\n",
       "      <th>Q6_4</th>\n",
       "      <th>Q6_5</th>\n",
       "      <th>...</th>\n",
       "      <th>Q44_3</th>\n",
       "      <th>Q44_4</th>\n",
       "      <th>Q44_5</th>\n",
       "      <th>Q44_6</th>\n",
       "      <th>Q44_7</th>\n",
       "      <th>Q44_8</th>\n",
       "      <th>Q44_9</th>\n",
       "      <th>Q44_10</th>\n",
       "      <th>Q44_11</th>\n",
       "      <th>Q44_12</th>\n",
       "    </tr>\n",
       "  </thead>\n",
       "  <tbody>\n",
       "    <tr>\n",
       "      <th>count</th>\n",
       "      <td>23997</td>\n",
       "      <td>23997</td>\n",
       "      <td>23997</td>\n",
       "      <td>23997</td>\n",
       "      <td>23997</td>\n",
       "      <td>9699</td>\n",
       "      <td>2474</td>\n",
       "      <td>6628</td>\n",
       "      <td>3718</td>\n",
       "      <td>944</td>\n",
       "      <td>...</td>\n",
       "      <td>2678</td>\n",
       "      <td>11181</td>\n",
       "      <td>4006</td>\n",
       "      <td>11957</td>\n",
       "      <td>2120</td>\n",
       "      <td>7766</td>\n",
       "      <td>3804</td>\n",
       "      <td>1726</td>\n",
       "      <td>1268</td>\n",
       "      <td>835</td>\n",
       "    </tr>\n",
       "    <tr>\n",
       "      <th>unique</th>\n",
       "      <td>3529</td>\n",
       "      <td>11</td>\n",
       "      <td>5</td>\n",
       "      <td>58</td>\n",
       "      <td>2</td>\n",
       "      <td>1</td>\n",
       "      <td>1</td>\n",
       "      <td>1</td>\n",
       "      <td>1</td>\n",
       "      <td>1</td>\n",
       "      <td>...</td>\n",
       "      <td>1</td>\n",
       "      <td>1</td>\n",
       "      <td>1</td>\n",
       "      <td>1</td>\n",
       "      <td>1</td>\n",
       "      <td>1</td>\n",
       "      <td>1</td>\n",
       "      <td>1</td>\n",
       "      <td>1</td>\n",
       "      <td>1</td>\n",
       "    </tr>\n",
       "    <tr>\n",
       "      <th>top</th>\n",
       "      <td>272</td>\n",
       "      <td>18-21</td>\n",
       "      <td>Man</td>\n",
       "      <td>India</td>\n",
       "      <td>No</td>\n",
       "      <td>Coursera</td>\n",
       "      <td>edX</td>\n",
       "      <td>Kaggle Learn Courses</td>\n",
       "      <td>DataCamp</td>\n",
       "      <td>Fast.ai</td>\n",
       "      <td>...</td>\n",
       "      <td>Reddit (r/machinelearning, etc)</td>\n",
       "      <td>Kaggle (notebooks, forums, etc)</td>\n",
       "      <td>Course Forums (forums.fast.ai, Coursera forums...</td>\n",
       "      <td>YouTube (Kaggle YouTube, Cloud AI Adventures, ...</td>\n",
       "      <td>Podcasts (Chai Time Data Science, O’Reilly Dat...</td>\n",
       "      <td>Blogs (Towards Data Science, Analytics Vidhya,...</td>\n",
       "      <td>Journal Publications (peer-reviewed journals, ...</td>\n",
       "      <td>Slack Communities (ods.ai, kagglenoobs, etc)</td>\n",
       "      <td>None</td>\n",
       "      <td>Other</td>\n",
       "    </tr>\n",
       "    <tr>\n",
       "      <th>freq</th>\n",
       "      <td>63</td>\n",
       "      <td>4559</td>\n",
       "      <td>18266</td>\n",
       "      <td>8792</td>\n",
       "      <td>12036</td>\n",
       "      <td>9699</td>\n",
       "      <td>2474</td>\n",
       "      <td>6628</td>\n",
       "      <td>3718</td>\n",
       "      <td>944</td>\n",
       "      <td>...</td>\n",
       "      <td>2678</td>\n",
       "      <td>11181</td>\n",
       "      <td>4006</td>\n",
       "      <td>11957</td>\n",
       "      <td>2120</td>\n",
       "      <td>7766</td>\n",
       "      <td>3804</td>\n",
       "      <td>1726</td>\n",
       "      <td>1268</td>\n",
       "      <td>835</td>\n",
       "    </tr>\n",
       "  </tbody>\n",
       "</table>\n",
       "<p>4 rows × 296 columns</p>\n",
       "</div>"
      ],
      "text/plain": [
       "       Duration (in seconds)     Q2     Q3     Q4     Q5      Q6_1  Q6_2  \\\n",
       "count                  23997  23997  23997  23997  23997      9699  2474   \n",
       "unique                  3529     11      5     58      2         1     1   \n",
       "top                      272  18-21    Man  India     No  Coursera   edX   \n",
       "freq                      63   4559  18266   8792  12036      9699  2474   \n",
       "\n",
       "                        Q6_3      Q6_4     Q6_5  ...  \\\n",
       "count                   6628      3718      944  ...   \n",
       "unique                     1         1        1  ...   \n",
       "top     Kaggle Learn Courses  DataCamp  Fast.ai  ...   \n",
       "freq                    6628      3718      944  ...   \n",
       "\n",
       "                                  Q44_3                            Q44_4  \\\n",
       "count                              2678                            11181   \n",
       "unique                                1                                1   \n",
       "top     Reddit (r/machinelearning, etc)  Kaggle (notebooks, forums, etc)   \n",
       "freq                               2678                            11181   \n",
       "\n",
       "                                                    Q44_5  \\\n",
       "count                                                4006   \n",
       "unique                                                  1   \n",
       "top     Course Forums (forums.fast.ai, Coursera forums...   \n",
       "freq                                                 4006   \n",
       "\n",
       "                                                    Q44_6  \\\n",
       "count                                               11957   \n",
       "unique                                                  1   \n",
       "top     YouTube (Kaggle YouTube, Cloud AI Adventures, ...   \n",
       "freq                                                11957   \n",
       "\n",
       "                                                    Q44_7  \\\n",
       "count                                                2120   \n",
       "unique                                                  1   \n",
       "top     Podcasts (Chai Time Data Science, O’Reilly Dat...   \n",
       "freq                                                 2120   \n",
       "\n",
       "                                                    Q44_8  \\\n",
       "count                                                7766   \n",
       "unique                                                  1   \n",
       "top     Blogs (Towards Data Science, Analytics Vidhya,...   \n",
       "freq                                                 7766   \n",
       "\n",
       "                                                    Q44_9  \\\n",
       "count                                                3804   \n",
       "unique                                                  1   \n",
       "top     Journal Publications (peer-reviewed journals, ...   \n",
       "freq                                                 3804   \n",
       "\n",
       "                                              Q44_10 Q44_11 Q44_12  \n",
       "count                                           1726   1268    835  \n",
       "unique                                             1      1      1  \n",
       "top     Slack Communities (ods.ai, kagglenoobs, etc)   None  Other  \n",
       "freq                                            1726   1268    835  \n",
       "\n",
       "[4 rows x 296 columns]"
      ]
     },
     "execution_count": 9,
     "metadata": {},
     "output_type": "execute_result"
    }
   ],
   "source": [
    "# return a basic statiscal description\n",
    "df_current.describe()"
   ]
  },
  {
   "cell_type": "markdown",
   "metadata": {},
   "source": [
    "The `describe()` provides information about the data, thus it can be seen that all the columns are of categorical type and yield unique, top, and frequency results. It's useful information but I want to know quantity of responses corresponding to each question, empty values has this dataframe and procentage."
   ]
  },
  {
   "cell_type": "code",
   "execution_count": 10,
   "metadata": {},
   "outputs": [],
   "source": [
    "aux=pd.isna(df_current).sum()\n",
    "aux.name = 'nan count'\n",
    "\n",
    "aux2= round(aux*100/df_current.shape[0],2)\n",
    "aux2.name = 'nan %'\n",
    "\n",
    "v_v = pd.concat([aux,aux2],axis=1)\n",
    "df_quest = pd.DataFrame(columns=['question','select'], index=df.columns)\n",
    "\n",
    "# columnas del Dataframe preguntas y  nombre seleccion\n",
    "name= df.loc[:0,:].T\n",
    "lm=name[0].str.split('?')\n",
    "l_question=[]\n",
    "l_select=[]\n",
    "\n",
    "for i,v in lm.items():\n",
    "    if ': (Select all that apply) - ' in v[0]:\n",
    "        # len(pregunta) == 1 y contiene ': (Select all that apply) - '\n",
    "        m = v[0].split(': (Select all that apply) - ')\n",
    "        question=m[0].strip()\n",
    "        select=m[-1].strip()\n",
    "    else:\n",
    "        # len(pregunta) == 1, solo pregunta \n",
    "        question=v[0].strip()   \n",
    "        select='Selected Choice'\n",
    "    \n",
    "    if len(v) > 1:\n",
    "        # len(pregunta) > 1 \n",
    "        if ' - Selected Choice - ' in v[1]:\n",
    "            #  contiene ' - Selected Choice - ' \n",
    "            select=v[1].split(' - Selected Choice - ')[-1].strip()\n",
    "        elif len(v[1]) > 0:\n",
    "            # string diferente de vacio \n",
    "            select=v[1].strip()\n",
    "            if '- ' in select:\n",
    "                select = select[2:]\n",
    "            \n",
    "    l_question+=[question]\n",
    "    l_select+=[select]"
   ]
  },
  {
   "cell_type": "code",
   "execution_count": 11,
   "metadata": {},
   "outputs": [
    {
     "data": {
      "text/html": [
       "<div>\n",
       "<style scoped>\n",
       "    .dataframe tbody tr th:only-of-type {\n",
       "        vertical-align: middle;\n",
       "    }\n",
       "\n",
       "    .dataframe tbody tr th {\n",
       "        vertical-align: top;\n",
       "    }\n",
       "\n",
       "    .dataframe thead th {\n",
       "        text-align: right;\n",
       "    }\n",
       "</style>\n",
       "<table border=\"1\" class=\"dataframe\">\n",
       "  <thead>\n",
       "    <tr style=\"text-align: right;\">\n",
       "      <th></th>\n",
       "      <th>number_answers</th>\n",
       "      <th>Q40</th>\n",
       "      <th>Q37</th>\n",
       "      <th>Q39</th>\n",
       "      <th>Q36</th>\n",
       "      <th>Q41</th>\n",
       "      <th>Q42</th>\n",
       "      <th>Q38</th>\n",
       "      <th>Q31</th>\n",
       "      <th>Q34</th>\n",
       "      <th>Q35</th>\n",
       "      <th>...</th>\n",
       "      <th>Q23</th>\n",
       "      <th>Q9</th>\n",
       "      <th>Q16</th>\n",
       "      <th>Q11</th>\n",
       "      <th>Q8</th>\n",
       "      <th>Duration (in seconds)</th>\n",
       "      <th>Q5</th>\n",
       "      <th>Q4</th>\n",
       "      <th>Q2</th>\n",
       "      <th>Q3</th>\n",
       "    </tr>\n",
       "  </thead>\n",
       "  <tbody>\n",
       "    <tr>\n",
       "      <th>question</th>\n",
       "      <th>unique</th>\n",
       "      <td>[Do you use any tools to help monitor your mac...</td>\n",
       "      <td>[Do you use any of the following managed machi...</td>\n",
       "      <td>[Do you use any of the following products to s...</td>\n",
       "      <td>[Do you use any of the following business inte...</td>\n",
       "      <td>[Do you use any of the following responsible o...</td>\n",
       "      <td>[Do you use any of the following types of spec...</td>\n",
       "      <td>[Do you use any of the following automated mac...</td>\n",
       "      <td>[Which of the following cloud computing platfo...</td>\n",
       "      <td>[Do you use any of the following data storage ...</td>\n",
       "      <td>[Do you use any of the following data products...</td>\n",
       "      <td>...</td>\n",
       "      <td>[Select the title most similar to your current...</td>\n",
       "      <td>[Have you ever published any academic research...</td>\n",
       "      <td>[For how many years have you used machine lear...</td>\n",
       "      <td>[For how many years have you been writing code...</td>\n",
       "      <td>[What is the highest level of formal education...</td>\n",
       "      <td>[Duration (in seconds)]</td>\n",
       "      <td>[Are you currently a student]</td>\n",
       "      <td>[In which country do you currently reside]</td>\n",
       "      <td>[What is your age (# years)]</td>\n",
       "      <td>[What is your gender]</td>\n",
       "    </tr>\n",
       "    <tr>\n",
       "      <th>number_answers</th>\n",
       "      <th>count</th>\n",
       "      <td>15</td>\n",
       "      <td>13</td>\n",
       "      <td>12</td>\n",
       "      <td>15</td>\n",
       "      <td>9</td>\n",
       "      <td>9</td>\n",
       "      <td>8</td>\n",
       "      <td>12</td>\n",
       "      <td>8</td>\n",
       "      <td>16</td>\n",
       "      <td>...</td>\n",
       "      <td>1</td>\n",
       "      <td>1</td>\n",
       "      <td>1</td>\n",
       "      <td>1</td>\n",
       "      <td>1</td>\n",
       "      <td>1</td>\n",
       "      <td>1</td>\n",
       "      <td>1</td>\n",
       "      <td>1</td>\n",
       "      <td>1</td>\n",
       "    </tr>\n",
       "    <tr>\n",
       "      <th>nan %</th>\n",
       "      <th>mean</th>\n",
       "      <td>98.445333</td>\n",
       "      <td>98.227692</td>\n",
       "      <td>98.133333</td>\n",
       "      <td>97.926</td>\n",
       "      <td>97.681111</td>\n",
       "      <td>97.488889</td>\n",
       "      <td>97.31625</td>\n",
       "      <td>97.165</td>\n",
       "      <td>96.97375</td>\n",
       "      <td>96.74875</td>\n",
       "      <td>...</td>\n",
       "      <td>55.7</td>\n",
       "      <td>48.49</td>\n",
       "      <td>17.13</td>\n",
       "      <td>3.14</td>\n",
       "      <td>2.5</td>\n",
       "      <td>0.0</td>\n",
       "      <td>0.0</td>\n",
       "      <td>0.0</td>\n",
       "      <td>0.0</td>\n",
       "      <td>0.0</td>\n",
       "    </tr>\n",
       "    <tr>\n",
       "      <th rowspan=\"2\" valign=\"top\">nan count</th>\n",
       "      <th>min</th>\n",
       "      <td>21067</td>\n",
       "      <td>20981</td>\n",
       "      <td>20677</td>\n",
       "      <td>21947</td>\n",
       "      <td>20077</td>\n",
       "      <td>21315</td>\n",
       "      <td>20461</td>\n",
       "      <td>21651</td>\n",
       "      <td>22373</td>\n",
       "      <td>21764</td>\n",
       "      <td>...</td>\n",
       "      <td>13367</td>\n",
       "      <td>11636</td>\n",
       "      <td>4111</td>\n",
       "      <td>754</td>\n",
       "      <td>599</td>\n",
       "      <td>0</td>\n",
       "      <td>0</td>\n",
       "      <td>0</td>\n",
       "      <td>0</td>\n",
       "      <td>0</td>\n",
       "    </tr>\n",
       "    <tr>\n",
       "      <th>max</th>\n",
       "      <td>23973</td>\n",
       "      <td>23967</td>\n",
       "      <td>23950</td>\n",
       "      <td>23975</td>\n",
       "      <td>23961</td>\n",
       "      <td>23971</td>\n",
       "      <td>23875</td>\n",
       "      <td>23950</td>\n",
       "      <td>23923</td>\n",
       "      <td>23805</td>\n",
       "      <td>...</td>\n",
       "      <td>13367</td>\n",
       "      <td>11636</td>\n",
       "      <td>4111</td>\n",
       "      <td>754</td>\n",
       "      <td>599</td>\n",
       "      <td>0</td>\n",
       "      <td>0</td>\n",
       "      <td>0</td>\n",
       "      <td>0</td>\n",
       "      <td>0</td>\n",
       "    </tr>\n",
       "    <tr>\n",
       "      <th>select</th>\n",
       "      <th>unique</th>\n",
       "      <td>[Neptune.ai, Weights &amp; Biases, Comet.ml, Tenso...</td>\n",
       "      <td>[Amazon SageMaker, Azure Machine Learning Stud...</td>\n",
       "      <td>[TensorFlow Extended (TFX), TorchServe, ONNX R...</td>\n",
       "      <td>[Amazon QuickSight, Microsoft Power BI, Google...</td>\n",
       "      <td>[Google Responsible AI Toolkit (LIT, What-if, ...</td>\n",
       "      <td>[GPUs, TPUs, IPUs, RDUs, WSEs, Trainium Chips,...</td>\n",
       "      <td>[Google Cloud AutoML, H2O Driverless AI, Datab...</td>\n",
       "      <td>[Amazon Web Services (AWS), Microsoft Azure, G...</td>\n",
       "      <td>[Microsoft Azure Blob Storage, Microsoft Azure...</td>\n",
       "      <td>[MySQL, PostgreSQL, SQLite, Oracle Database, M...</td>\n",
       "      <td>...</td>\n",
       "      <td>[Selected Choice]</td>\n",
       "      <td>[Selected Choice]</td>\n",
       "      <td>[Selected Choice]</td>\n",
       "      <td>[Selected Choice]</td>\n",
       "      <td>[Selected Choice]</td>\n",
       "      <td>[Selected Choice]</td>\n",
       "      <td>[(high school, university, or graduate)]</td>\n",
       "      <td>[Selected Choice]</td>\n",
       "      <td>[Selected Choice]</td>\n",
       "      <td>[Selected Choice]</td>\n",
       "    </tr>\n",
       "  </tbody>\n",
       "</table>\n",
       "<p>6 rows × 44 columns</p>\n",
       "</div>"
      ],
      "text/plain": [
       "number_answers                                                       Q40  \\\n",
       "question       unique  [Do you use any tools to help monitor your mac...   \n",
       "number_answers count                                                  15   \n",
       "nan %          mean                                            98.445333   \n",
       "nan count      min                                                 21067   \n",
       "               max                                                 23973   \n",
       "select         unique  [Neptune.ai, Weights & Biases, Comet.ml, Tenso...   \n",
       "\n",
       "number_answers                                                       Q37  \\\n",
       "question       unique  [Do you use any of the following managed machi...   \n",
       "number_answers count                                                  13   \n",
       "nan %          mean                                            98.227692   \n",
       "nan count      min                                                 20981   \n",
       "               max                                                 23967   \n",
       "select         unique  [Amazon SageMaker, Azure Machine Learning Stud...   \n",
       "\n",
       "number_answers                                                       Q39  \\\n",
       "question       unique  [Do you use any of the following products to s...   \n",
       "number_answers count                                                  12   \n",
       "nan %          mean                                            98.133333   \n",
       "nan count      min                                                 20677   \n",
       "               max                                                 23950   \n",
       "select         unique  [TensorFlow Extended (TFX), TorchServe, ONNX R...   \n",
       "\n",
       "number_answers                                                       Q36  \\\n",
       "question       unique  [Do you use any of the following business inte...   \n",
       "number_answers count                                                  15   \n",
       "nan %          mean                                               97.926   \n",
       "nan count      min                                                 21947   \n",
       "               max                                                 23975   \n",
       "select         unique  [Amazon QuickSight, Microsoft Power BI, Google...   \n",
       "\n",
       "number_answers                                                       Q41  \\\n",
       "question       unique  [Do you use any of the following responsible o...   \n",
       "number_answers count                                                   9   \n",
       "nan %          mean                                            97.681111   \n",
       "nan count      min                                                 20077   \n",
       "               max                                                 23961   \n",
       "select         unique  [Google Responsible AI Toolkit (LIT, What-if, ...   \n",
       "\n",
       "number_answers                                                       Q42  \\\n",
       "question       unique  [Do you use any of the following types of spec...   \n",
       "number_answers count                                                   9   \n",
       "nan %          mean                                            97.488889   \n",
       "nan count      min                                                 21315   \n",
       "               max                                                 23971   \n",
       "select         unique  [GPUs, TPUs, IPUs, RDUs, WSEs, Trainium Chips,...   \n",
       "\n",
       "number_answers                                                       Q38  \\\n",
       "question       unique  [Do you use any of the following automated mac...   \n",
       "number_answers count                                                   8   \n",
       "nan %          mean                                             97.31625   \n",
       "nan count      min                                                 20461   \n",
       "               max                                                 23875   \n",
       "select         unique  [Google Cloud AutoML, H2O Driverless AI, Datab...   \n",
       "\n",
       "number_answers                                                       Q31  \\\n",
       "question       unique  [Which of the following cloud computing platfo...   \n",
       "number_answers count                                                  12   \n",
       "nan %          mean                                               97.165   \n",
       "nan count      min                                                 21651   \n",
       "               max                                                 23950   \n",
       "select         unique  [Amazon Web Services (AWS), Microsoft Azure, G...   \n",
       "\n",
       "number_answers                                                       Q34  \\\n",
       "question       unique  [Do you use any of the following data storage ...   \n",
       "number_answers count                                                   8   \n",
       "nan %          mean                                             96.97375   \n",
       "nan count      min                                                 22373   \n",
       "               max                                                 23923   \n",
       "select         unique  [Microsoft Azure Blob Storage, Microsoft Azure...   \n",
       "\n",
       "number_answers                                                       Q35  ...  \\\n",
       "question       unique  [Do you use any of the following data products...  ...   \n",
       "number_answers count                                                  16  ...   \n",
       "nan %          mean                                             96.74875  ...   \n",
       "nan count      min                                                 21764  ...   \n",
       "               max                                                 23805  ...   \n",
       "select         unique  [MySQL, PostgreSQL, SQLite, Oracle Database, M...  ...   \n",
       "\n",
       "number_answers                                                       Q23  \\\n",
       "question       unique  [Select the title most similar to your current...   \n",
       "number_answers count                                                   1   \n",
       "nan %          mean                                                 55.7   \n",
       "nan count      min                                                 13367   \n",
       "               max                                                 13367   \n",
       "select         unique                                  [Selected Choice]   \n",
       "\n",
       "number_answers                                                        Q9  \\\n",
       "question       unique  [Have you ever published any academic research...   \n",
       "number_answers count                                                   1   \n",
       "nan %          mean                                                48.49   \n",
       "nan count      min                                                 11636   \n",
       "               max                                                 11636   \n",
       "select         unique                                  [Selected Choice]   \n",
       "\n",
       "number_answers                                                       Q16  \\\n",
       "question       unique  [For how many years have you used machine lear...   \n",
       "number_answers count                                                   1   \n",
       "nan %          mean                                                17.13   \n",
       "nan count      min                                                  4111   \n",
       "               max                                                  4111   \n",
       "select         unique                                  [Selected Choice]   \n",
       "\n",
       "number_answers                                                       Q11  \\\n",
       "question       unique  [For how many years have you been writing code...   \n",
       "number_answers count                                                   1   \n",
       "nan %          mean                                                 3.14   \n",
       "nan count      min                                                   754   \n",
       "               max                                                   754   \n",
       "select         unique                                  [Selected Choice]   \n",
       "\n",
       "number_answers                                                        Q8  \\\n",
       "question       unique  [What is the highest level of formal education...   \n",
       "number_answers count                                                   1   \n",
       "nan %          mean                                                  2.5   \n",
       "nan count      min                                                   599   \n",
       "               max                                                   599   \n",
       "select         unique                                  [Selected Choice]   \n",
       "\n",
       "number_answers           Duration (in seconds)  \\\n",
       "question       unique  [Duration (in seconds)]   \n",
       "number_answers count                         1   \n",
       "nan %          mean                        0.0   \n",
       "nan count      min                           0   \n",
       "               max                           0   \n",
       "select         unique        [Selected Choice]   \n",
       "\n",
       "number_answers                                               Q5  \\\n",
       "question       unique             [Are you currently a student]   \n",
       "number_answers count                                          1   \n",
       "nan %          mean                                         0.0   \n",
       "nan count      min                                            0   \n",
       "               max                                            0   \n",
       "select         unique  [(high school, university, or graduate)]   \n",
       "\n",
       "number_answers                                                 Q4  \\\n",
       "question       unique  [In which country do you currently reside]   \n",
       "number_answers count                                            1   \n",
       "nan %          mean                                           0.0   \n",
       "nan count      min                                              0   \n",
       "               max                                              0   \n",
       "select         unique                           [Selected Choice]   \n",
       "\n",
       "number_answers                                   Q2                     Q3  \n",
       "question       unique  [What is your age (# years)]  [What is your gender]  \n",
       "number_answers count                              1                      1  \n",
       "nan %          mean                             0.0                    0.0  \n",
       "nan count      min                                0                      0  \n",
       "               max                                0                      0  \n",
       "select         unique             [Selected Choice]      [Selected Choice]  \n",
       "\n",
       "[6 rows x 44 columns]"
      ]
     },
     "execution_count": 11,
     "metadata": {},
     "output_type": "execute_result"
    }
   ],
   "source": [
    "\n",
    "aux=pd.isna(df_current).sum()\n",
    "aux.name = 'nan count'\n",
    "\n",
    "aux2= round(aux*100/df_current.shape[0],2)\n",
    "aux2.name = 'nan %'\n",
    "\n",
    "v_v = pd.concat([aux,aux2],axis=1)\n",
    "df_quest = pd.DataFrame(columns=['question','select'], index=df.columns)\n",
    "\n",
    "# columnas del Dataframe preguntas y  nombre seleccion\n",
    "name= df.loc[:0,:].T\n",
    "lm=name[0].str.split('?')\n",
    "l_question=[]\n",
    "l_select=[]\n",
    "for i,v in lm.items():\n",
    "    if ': (Select all that apply) - ' in v[0]:\n",
    "        # len(pregunta) == 1 y contiene ': (Select all that apply) - '\n",
    "        m = v[0].split(': (Select all that apply) - ')\n",
    "        question=m[0].strip()\n",
    "        select=m[-1].strip()\n",
    "    else:\n",
    "        # len(pregunta) == 1, solo pregunta \n",
    "        question=v[0].strip()   \n",
    "        select='Selected Choice'\n",
    "    \n",
    "    if len(v) > 1:\n",
    "        # len(pregunta) > 1 \n",
    "        if ' - Selected Choice - ' in v[1]:\n",
    "            #  contiene ' - Selected Choice - ' \n",
    "            select=v[1].split(' - Selected Choice - ')[-1].strip()\n",
    "        elif len(v[1]) > 0:\n",
    "            # string diferente de vacio \n",
    "            select=v[1].strip()\n",
    "            if '- ' in select:\n",
    "                select = select[2:]\n",
    "            \n",
    "    l_question+=[question]\n",
    "    l_select+=[select]\n",
    "\n",
    "df_quest.loc[:,'question'] = l_question\n",
    "df_quest.loc[:,'select'] = l_select\n",
    "\n",
    "v_v=v_v.join(df_quest)\n",
    "\n",
    "v_v.loc[\"Q37_12\",'select'] = 'None'\n",
    "v_v.loc[\"Q34_7\",'select'] = 'None'\n",
    "v_v.sort_index(ascending=True).T\n",
    "\n",
    "# revision de valores mayores a 90% vacios\n",
    "for i in v_v.index:\n",
    "    count=i.split('_')\n",
    "    v_v.loc[ i,'number_answers'] = count[0]\n",
    "\n",
    "## split comlumna de dataframe str https://www.analyticslane.com/2020/10/19/separar-texto-en-columnas-con-pandas-en-python/#:~:text=Para%20separarlos%20podemos%20usar%20directamente,para%20obtener%20el%20siguiente%20resultado.&text=En%20el%20que%20se%20ha%20obtenido%20una%20serie%20de%20listas%20de%20valores.\n",
    "\n",
    "v_v1=v_v.groupby(['number_answers']).agg(\n",
    "    {'question':'unique','number_answers':'count','nan %':'mean', \n",
    "     'nan count':['min','max'],'select':'unique'})\n",
    "v_v1.sort_values(('nan %', 'mean'),ascending=False).T"
   ]
  },
  {
   "cell_type": "markdown",
   "metadata": {},
   "source": [
    "Summary table for 44 question:\n",
    "\n",
    "1. question unique: Representation of questions in a single column. Note: there are single or multiple-choice answers.\n",
    "2. number_answers count: shows the quantity of responses corresponding to each question.\n",
    "3. nan % mean: indicates the average of blanks among the response columns (number_answers) corresponding to the question.\n",
    "4. nan count:\n",
    "min: indicates the minimum blank value in one of the response columns in the original dataframe.\n",
    "max: indicates the maximum blank value in one of the response columns in the original dataframe.\n",
    "5. select: unique: displays the response values corresponding to each answer in the original dataframe."
   ]
  },
  {
   "cell_type": "markdown",
   "metadata": {},
   "source": [
    "High missing values.\n",
    "\n",
    "9 columns contain empty values ​​in a percentage less than 50%. I prefer to first select the data I am interested in."
   ]
  },
  {
   "attachments": {},
   "cell_type": "markdown",
   "metadata": {},
   "source": [
    "###  Data cleaning"
   ]
  },
  {
   "cell_type": "markdown",
   "metadata": {},
   "source": [
    "#### Selecting preferred data\n",
    "\n",
    "Based on my research goals, I am not interested in all the columns in the dataset. In the below code except, I will only select the data I am interested in.\n",
    "\n",
    "> Rename countries\n",
    "\n",
    "> Remove Q4 'I do not wish to disclose my location'\n",
    "\n",
    "> To do that, Dropping not desired columns.\n",
    "\n",
    "> Removing unlikely or inconsistent responses"
   ]
  },
  {
   "cell_type": "code",
   "execution_count": 12,
   "metadata": {},
   "outputs": [
    {
     "name": "stdout",
     "output_type": "stream",
     "text": [
      "42\n"
     ]
    }
   ],
   "source": [
    "# rename countries\n",
    "countries ={'United Kingdom of Great Britain and Northern Ireland': 'UK','United States of America':'USA',\n",
    "            'Iran, Islamic Republic of...':'Iran','Hong Kong (S.A.R.)':'Hong Kong'}\n",
    "df_current.replace(countries, inplace=True)\n",
    "\n",
    "## Remove Q4 'I do not wish to disclose my location'\n",
    "i = df_current[df_current['Q4'].isin(['I do not wish to disclose my location'])].index\n",
    "print(len(i))\n",
    "df_current.drop(i, axis=0, inplace=True)"
   ]
  },
  {
   "cell_type": "code",
   "execution_count": 13,
   "metadata": {},
   "outputs": [
    {
     "name": "stdout",
     "output_type": "stream",
     "text": [
      "Roles in question\n",
      "Q23\n",
      "Data Scientist                                                      1928\n",
      "Data Analyst (Business, Marketing, Financial, Quantitative, etc)    1538\n",
      "Currently not employed                                              1430\n",
      "Software Engineer                                                    976\n",
      "Teacher / professor                                                  831\n",
      "Manager (Program, Project, Operations, Executive-level, etc)         830\n",
      "Other                                                                754\n",
      "Research Scientist                                                   593\n",
      "Machine Learning/ MLops Engineer                                     569\n",
      "Engineer (non-software)                                              464\n",
      "Data Engineer                                                        352\n",
      "Statistician                                                         125\n",
      "Data Architect                                                        95\n",
      "Data Administrator                                                    70\n",
      "Developer Advocate                                                    61\n",
      "dtype: int64\n"
     ]
    }
   ],
   "source": [
    "print('Roles in question')\n",
    "print(df_current.value_counts('Q23'))"
   ]
  },
  {
   "cell_type": "code",
   "execution_count": 14,
   "metadata": {},
   "outputs": [
    {
     "name": "stdout",
     "output_type": "stream",
     "text": [
      "Number Data Scientist select: 1928\n"
     ]
    }
   ],
   "source": [
    "# select rows in Q23 equal to rol Data Scientist \n",
    "\n",
    "df_q = df_current[df_current['Q23'].isin(['Data Scientist']) ]\n",
    "print( 'Number Data Scientist select:',df_q.shape[0])\n"
   ]
  },
  {
   "cell_type": "code",
   "execution_count": 15,
   "metadata": {},
   "outputs": [
    {
     "name": "stdout",
     "output_type": "stream",
     "text": [
      "Dropping not desired columns ['Duration (in seconds)', 'Q5', 'Q9', 'Q10_1', 'Q10_2', 'Q10_3', 'Q32', 'Q33_1', 'Q33_2', 'Q33_3', 'Q33_4', 'Q33_5', 'Q38_1', 'Q38_2', 'Q38_3', 'Q38_4', 'Q38_5', 'Q38_6', 'Q38_7', 'Q38_8', 'Q40_1', 'Q40_2', 'Q40_3', 'Q40_4', 'Q40_5', 'Q40_6', 'Q40_7', 'Q40_8', 'Q40_9', 'Q40_10', 'Q40_11', 'Q40_12', 'Q40_13', 'Q40_14', 'Q40_15', 'Q41_1', 'Q41_2', 'Q41_3', 'Q41_4', 'Q41_5', 'Q41_6', 'Q41_7', 'Q41_8', 'Q41_9', 'Q43']\n"
     ]
    },
    {
     "data": {
      "text/html": [
       "<div>\n",
       "<style scoped>\n",
       "    .dataframe tbody tr th:only-of-type {\n",
       "        vertical-align: middle;\n",
       "    }\n",
       "\n",
       "    .dataframe tbody tr th {\n",
       "        vertical-align: top;\n",
       "    }\n",
       "\n",
       "    .dataframe thead th {\n",
       "        text-align: right;\n",
       "    }\n",
       "</style>\n",
       "<table border=\"1\" class=\"dataframe\">\n",
       "  <thead>\n",
       "    <tr style=\"text-align: right;\">\n",
       "      <th></th>\n",
       "      <th>Q2</th>\n",
       "      <th>Q3</th>\n",
       "      <th>Q4</th>\n",
       "      <th>Q6_1</th>\n",
       "      <th>Q6_2</th>\n",
       "      <th>Q6_3</th>\n",
       "      <th>Q6_4</th>\n",
       "      <th>Q6_5</th>\n",
       "      <th>Q6_6</th>\n",
       "      <th>Q6_7</th>\n",
       "      <th>...</th>\n",
       "      <th>Q44_3</th>\n",
       "      <th>Q44_4</th>\n",
       "      <th>Q44_5</th>\n",
       "      <th>Q44_6</th>\n",
       "      <th>Q44_7</th>\n",
       "      <th>Q44_8</th>\n",
       "      <th>Q44_9</th>\n",
       "      <th>Q44_10</th>\n",
       "      <th>Q44_11</th>\n",
       "      <th>Q44_12</th>\n",
       "    </tr>\n",
       "  </thead>\n",
       "  <tbody>\n",
       "    <tr>\n",
       "      <th>4</th>\n",
       "      <td>55-59</td>\n",
       "      <td>Man</td>\n",
       "      <td>France</td>\n",
       "      <td>Coursera</td>\n",
       "      <td>NaN</td>\n",
       "      <td>Kaggle Learn Courses</td>\n",
       "      <td>NaN</td>\n",
       "      <td>NaN</td>\n",
       "      <td>NaN</td>\n",
       "      <td>Udemy</td>\n",
       "      <td>...</td>\n",
       "      <td>NaN</td>\n",
       "      <td>Kaggle (notebooks, forums, etc)</td>\n",
       "      <td>Course Forums (forums.fast.ai, Coursera forums...</td>\n",
       "      <td>NaN</td>\n",
       "      <td>NaN</td>\n",
       "      <td>Blogs (Towards Data Science, Analytics Vidhya,...</td>\n",
       "      <td>NaN</td>\n",
       "      <td>NaN</td>\n",
       "      <td>NaN</td>\n",
       "      <td>NaN</td>\n",
       "    </tr>\n",
       "    <tr>\n",
       "      <th>17</th>\n",
       "      <td>40-44</td>\n",
       "      <td>Man</td>\n",
       "      <td>USA</td>\n",
       "      <td>Coursera</td>\n",
       "      <td>NaN</td>\n",
       "      <td>NaN</td>\n",
       "      <td>NaN</td>\n",
       "      <td>NaN</td>\n",
       "      <td>Udacity</td>\n",
       "      <td>Udemy</td>\n",
       "      <td>...</td>\n",
       "      <td>NaN</td>\n",
       "      <td>NaN</td>\n",
       "      <td>NaN</td>\n",
       "      <td>NaN</td>\n",
       "      <td>Podcasts (Chai Time Data Science, O’Reilly Dat...</td>\n",
       "      <td>Blogs (Towards Data Science, Analytics Vidhya,...</td>\n",
       "      <td>Journal Publications (peer-reviewed journals, ...</td>\n",
       "      <td>NaN</td>\n",
       "      <td>NaN</td>\n",
       "      <td>NaN</td>\n",
       "    </tr>\n",
       "  </tbody>\n",
       "</table>\n",
       "<p>2 rows × 251 columns</p>\n",
       "</div>"
      ],
      "text/plain": [
       "       Q2   Q3      Q4      Q6_1 Q6_2                  Q6_3 Q6_4 Q6_5  \\\n",
       "4   55-59  Man  France  Coursera  NaN  Kaggle Learn Courses  NaN  NaN   \n",
       "17  40-44  Man     USA  Coursera  NaN                   NaN  NaN  NaN   \n",
       "\n",
       "       Q6_6   Q6_7  ... Q44_3                            Q44_4  \\\n",
       "4       NaN  Udemy  ...   NaN  Kaggle (notebooks, forums, etc)   \n",
       "17  Udacity  Udemy  ...   NaN                              NaN   \n",
       "\n",
       "                                                Q44_5 Q44_6  \\\n",
       "4   Course Forums (forums.fast.ai, Coursera forums...   NaN   \n",
       "17                                                NaN   NaN   \n",
       "\n",
       "                                                Q44_7  \\\n",
       "4                                                 NaN   \n",
       "17  Podcasts (Chai Time Data Science, O’Reilly Dat...   \n",
       "\n",
       "                                                Q44_8  \\\n",
       "4   Blogs (Towards Data Science, Analytics Vidhya,...   \n",
       "17  Blogs (Towards Data Science, Analytics Vidhya,...   \n",
       "\n",
       "                                                Q44_9 Q44_10 Q44_11 Q44_12  \n",
       "4                                                 NaN    NaN    NaN    NaN  \n",
       "17  Journal Publications (peer-reviewed journals, ...    NaN    NaN    NaN  \n",
       "\n",
       "[2 rows x 251 columns]"
      ]
     },
     "execution_count": 15,
     "metadata": {},
     "output_type": "execute_result"
    }
   ],
   "source": [
    "# Dropping not desired columns\n",
    "'''\n",
    "# Duration (in seconds)\n",
    "# 5 Are you currently a student? Q9 academic research  Q10 use of machine learning for Q8 yes, Duration (in seconds)\n",
    "# 9 published any academic research \n",
    "# 10 research make use of machine learning \n",
    "# 32 -1 cloud platforms that you are familiar \n",
    "# 33 - 5  cloud computing products \n",
    "# 38 -8 automated machine learning tools\n",
    "# 40 - 15 monitor your machine learning models and/or experiments \n",
    "# 41 - 9 responsible or ethical AI products in your machine learning practices \n",
    "# 43 - 1 how many times have you used a TPU \n",
    "'''\n",
    "\n",
    "l=[\"Duration (in seconds)\",\"Q5\",\"Q9\"]\n",
    "l +=group_question(10,10,v_v1)+group_question(32,32,v_v1)+group_question(33,33,v_v1)+group_question(38,38,v_v1) +group_question(40,41,v_v1)+group_question(43,43,v_v1)\n",
    "print('Dropping not desired columns',l)\n",
    "df_q.drop(l,axis=1,inplace=True)\n",
    "\n",
    "# check the result\n",
    "df_q.head(2)"
   ]
  },
  {
   "cell_type": "markdown",
   "metadata": {},
   "source": [
    "In the process of data cleaning and quality assurance, only the role of data scientists was taken into account, leading to the exclusion of question **Q8 in case the respondent is a student**. Additionally, it's important to note that rows containing responses such as **'I do not wish to disclose my location' in question Q4**, which corresponds to country of residence, were removed. **Other row eliminations were performed according to:**\n",
    "1. Responses corresponding to the age range (Q2) of 18-24 years and education options (Q8) 'Doctoral degree' or 'Professional doctorate' were discarded, as they indicated that respondents were currently pursuing or planning to enter this educational level within the next 2 years.\n",
    "2. Rows were eliminated where age (Q2) fell within the 18-24 year range and programming experience in years (Q11) was over 20 years, as this scenario seemed unlikely and could have been an error in responses.\n",
    "3. Rows were excluded where age (Q2) was in the 18-24 year range and experience in years using Machine Learning methods (Q16) fell within the 10-20 year range, as this appeared uncommon and required additional verification.\n",
    "4. Empty values in the work industry (Q24) were discarded, as lack of information in this question would hinder proper analysis within the research context.\n",
    "\n",
    "These cleaning criteria ensure data quality by removing unlikely or inconsistent responses, as well as empty values that could affect subsequent analysis."
   ]
  },
  {
   "attachments": {},
   "cell_type": "markdown",
   "metadata": {},
   "source": [
    "##### 1. Responses corresponding to the age range (Q2) of 18-24 years and education options (Q8) 'Doctoral degree' or 'Professional doctorate'"
   ]
  },
  {
   "cell_type": "code",
   "execution_count": 16,
   "metadata": {},
   "outputs": [
    {
     "name": "stderr",
     "output_type": "stream",
     "text": [
      "/var/folders/g1/0ny7sby95zb23kk6rhmjh6nr0000gn/T/ipykernel_3319/3050381.py:10: UserWarning: Boolean Series key will be reindexed to match DataFrame index.\n",
      "  df_c1=df_q[(con1 | con2) & (con3 | con4)]\n"
     ]
    },
    {
     "data": {
      "text/html": [
       "<div>\n",
       "<style scoped>\n",
       "    .dataframe tbody tr th:only-of-type {\n",
       "        vertical-align: middle;\n",
       "    }\n",
       "\n",
       "    .dataframe tbody tr th {\n",
       "        vertical-align: top;\n",
       "    }\n",
       "\n",
       "    .dataframe thead th {\n",
       "        text-align: right;\n",
       "    }\n",
       "</style>\n",
       "<table border=\"1\" class=\"dataframe\">\n",
       "  <thead>\n",
       "    <tr style=\"text-align: right;\">\n",
       "      <th></th>\n",
       "      <th></th>\n",
       "      <th></th>\n",
       "      <th></th>\n",
       "      <th>Q3</th>\n",
       "      <th>Q6_1</th>\n",
       "      <th>Q6_2</th>\n",
       "      <th>Q6_3</th>\n",
       "      <th>Q6_4</th>\n",
       "      <th>Q6_5</th>\n",
       "      <th>Q6_6</th>\n",
       "      <th>Q6_7</th>\n",
       "      <th>Q6_8</th>\n",
       "      <th>Q6_9</th>\n",
       "      <th>...</th>\n",
       "      <th>Q44_3</th>\n",
       "      <th>Q44_4</th>\n",
       "      <th>Q44_5</th>\n",
       "      <th>Q44_6</th>\n",
       "      <th>Q44_7</th>\n",
       "      <th>Q44_8</th>\n",
       "      <th>Q44_9</th>\n",
       "      <th>Q44_10</th>\n",
       "      <th>Q44_11</th>\n",
       "      <th>Q44_12</th>\n",
       "    </tr>\n",
       "    <tr>\n",
       "      <th>Q2</th>\n",
       "      <th>Q8</th>\n",
       "      <th>Q23</th>\n",
       "      <th>Q4</th>\n",
       "      <th></th>\n",
       "      <th></th>\n",
       "      <th></th>\n",
       "      <th></th>\n",
       "      <th></th>\n",
       "      <th></th>\n",
       "      <th></th>\n",
       "      <th></th>\n",
       "      <th></th>\n",
       "      <th></th>\n",
       "      <th></th>\n",
       "      <th></th>\n",
       "      <th></th>\n",
       "      <th></th>\n",
       "      <th></th>\n",
       "      <th></th>\n",
       "      <th></th>\n",
       "      <th></th>\n",
       "      <th></th>\n",
       "      <th></th>\n",
       "      <th></th>\n",
       "    </tr>\n",
       "  </thead>\n",
       "  <tbody>\n",
       "    <tr>\n",
       "      <th>18-21</th>\n",
       "      <th>Professional doctorate</th>\n",
       "      <th>Data Scientist</th>\n",
       "      <th>UK</th>\n",
       "      <td>1</td>\n",
       "      <td>0</td>\n",
       "      <td>0</td>\n",
       "      <td>0</td>\n",
       "      <td>0</td>\n",
       "      <td>0</td>\n",
       "      <td>0</td>\n",
       "      <td>0</td>\n",
       "      <td>0</td>\n",
       "      <td>0</td>\n",
       "      <td>...</td>\n",
       "      <td>0</td>\n",
       "      <td>0</td>\n",
       "      <td>0</td>\n",
       "      <td>0</td>\n",
       "      <td>0</td>\n",
       "      <td>0</td>\n",
       "      <td>0</td>\n",
       "      <td>0</td>\n",
       "      <td>1</td>\n",
       "      <td>0</td>\n",
       "    </tr>\n",
       "    <tr>\n",
       "      <th rowspan=\"4\" valign=\"top\">22-24</th>\n",
       "      <th rowspan=\"2\" valign=\"top\">Doctoral degree</th>\n",
       "      <th rowspan=\"2\" valign=\"top\">Data Scientist</th>\n",
       "      <th>Algeria</th>\n",
       "      <td>1</td>\n",
       "      <td>0</td>\n",
       "      <td>0</td>\n",
       "      <td>0</td>\n",
       "      <td>0</td>\n",
       "      <td>0</td>\n",
       "      <td>0</td>\n",
       "      <td>0</td>\n",
       "      <td>0</td>\n",
       "      <td>0</td>\n",
       "      <td>...</td>\n",
       "      <td>1</td>\n",
       "      <td>1</td>\n",
       "      <td>0</td>\n",
       "      <td>1</td>\n",
       "      <td>0</td>\n",
       "      <td>1</td>\n",
       "      <td>0</td>\n",
       "      <td>0</td>\n",
       "      <td>0</td>\n",
       "      <td>0</td>\n",
       "    </tr>\n",
       "    <tr>\n",
       "      <th>India</th>\n",
       "      <td>3</td>\n",
       "      <td>1</td>\n",
       "      <td>0</td>\n",
       "      <td>3</td>\n",
       "      <td>0</td>\n",
       "      <td>1</td>\n",
       "      <td>0</td>\n",
       "      <td>1</td>\n",
       "      <td>0</td>\n",
       "      <td>1</td>\n",
       "      <td>...</td>\n",
       "      <td>0</td>\n",
       "      <td>2</td>\n",
       "      <td>2</td>\n",
       "      <td>2</td>\n",
       "      <td>0</td>\n",
       "      <td>1</td>\n",
       "      <td>1</td>\n",
       "      <td>0</td>\n",
       "      <td>0</td>\n",
       "      <td>0</td>\n",
       "    </tr>\n",
       "    <tr>\n",
       "      <th rowspan=\"2\" valign=\"top\">Professional doctorate</th>\n",
       "      <th rowspan=\"2\" valign=\"top\">Data Scientist</th>\n",
       "      <th>Egypt</th>\n",
       "      <td>1</td>\n",
       "      <td>1</td>\n",
       "      <td>0</td>\n",
       "      <td>1</td>\n",
       "      <td>1</td>\n",
       "      <td>0</td>\n",
       "      <td>1</td>\n",
       "      <td>1</td>\n",
       "      <td>0</td>\n",
       "      <td>0</td>\n",
       "      <td>...</td>\n",
       "      <td>1</td>\n",
       "      <td>0</td>\n",
       "      <td>0</td>\n",
       "      <td>0</td>\n",
       "      <td>0</td>\n",
       "      <td>0</td>\n",
       "      <td>0</td>\n",
       "      <td>0</td>\n",
       "      <td>0</td>\n",
       "      <td>0</td>\n",
       "    </tr>\n",
       "    <tr>\n",
       "      <th>India</th>\n",
       "      <td>2</td>\n",
       "      <td>0</td>\n",
       "      <td>0</td>\n",
       "      <td>0</td>\n",
       "      <td>0</td>\n",
       "      <td>0</td>\n",
       "      <td>0</td>\n",
       "      <td>0</td>\n",
       "      <td>0</td>\n",
       "      <td>0</td>\n",
       "      <td>...</td>\n",
       "      <td>0</td>\n",
       "      <td>1</td>\n",
       "      <td>0</td>\n",
       "      <td>1</td>\n",
       "      <td>1</td>\n",
       "      <td>1</td>\n",
       "      <td>1</td>\n",
       "      <td>0</td>\n",
       "      <td>0</td>\n",
       "      <td>0</td>\n",
       "    </tr>\n",
       "  </tbody>\n",
       "</table>\n",
       "<p>5 rows × 247 columns</p>\n",
       "</div>"
      ],
      "text/plain": [
       "                                                     Q3  Q6_1  Q6_2  Q6_3  \\\n",
       "Q2    Q8                     Q23            Q4                              \n",
       "18-21 Professional doctorate Data Scientist UK        1     0     0     0   \n",
       "22-24 Doctoral degree        Data Scientist Algeria   1     0     0     0   \n",
       "                                            India     3     1     0     3   \n",
       "      Professional doctorate Data Scientist Egypt     1     1     0     1   \n",
       "                                            India     2     0     0     0   \n",
       "\n",
       "                                                     Q6_4  Q6_5  Q6_6  Q6_7  \\\n",
       "Q2    Q8                     Q23            Q4                                \n",
       "18-21 Professional doctorate Data Scientist UK          0     0     0     0   \n",
       "22-24 Doctoral degree        Data Scientist Algeria     0     0     0     0   \n",
       "                                            India       0     1     0     1   \n",
       "      Professional doctorate Data Scientist Egypt       1     0     1     1   \n",
       "                                            India       0     0     0     0   \n",
       "\n",
       "                                                     Q6_8  Q6_9  ...  Q44_3  \\\n",
       "Q2    Q8                     Q23            Q4                   ...          \n",
       "18-21 Professional doctorate Data Scientist UK          0     0  ...      0   \n",
       "22-24 Doctoral degree        Data Scientist Algeria     0     0  ...      1   \n",
       "                                            India       0     1  ...      0   \n",
       "      Professional doctorate Data Scientist Egypt       0     0  ...      1   \n",
       "                                            India       0     0  ...      0   \n",
       "\n",
       "                                                     Q44_4  Q44_5  Q44_6  \\\n",
       "Q2    Q8                     Q23            Q4                             \n",
       "18-21 Professional doctorate Data Scientist UK           0      0      0   \n",
       "22-24 Doctoral degree        Data Scientist Algeria      1      0      1   \n",
       "                                            India        2      2      2   \n",
       "      Professional doctorate Data Scientist Egypt        0      0      0   \n",
       "                                            India        1      0      1   \n",
       "\n",
       "                                                     Q44_7  Q44_8  Q44_9  \\\n",
       "Q2    Q8                     Q23            Q4                             \n",
       "18-21 Professional doctorate Data Scientist UK           0      0      0   \n",
       "22-24 Doctoral degree        Data Scientist Algeria      0      1      0   \n",
       "                                            India        0      1      1   \n",
       "      Professional doctorate Data Scientist Egypt        0      0      0   \n",
       "                                            India        1      1      1   \n",
       "\n",
       "                                                     Q44_10  Q44_11  Q44_12  \n",
       "Q2    Q8                     Q23            Q4                               \n",
       "18-21 Professional doctorate Data Scientist UK            0       1       0  \n",
       "22-24 Doctoral degree        Data Scientist Algeria       0       0       0  \n",
       "                                            India         0       0       0  \n",
       "      Professional doctorate Data Scientist Egypt         0       0       0  \n",
       "                                            India         0       0       0  \n",
       "\n",
       "[5 rows x 247 columns]"
      ]
     },
     "execution_count": 16,
     "metadata": {},
     "output_type": "execute_result"
    }
   ],
   "source": [
    "# remove rows in which the respondents declared their age to be 24 years or less \n",
    "# (categories 18-21 and 22-24 in question Q2) and at the same time declare that they \n",
    "# have a doctoral degree or a professional degree (in question Q8).\n",
    "\n",
    "con1= df_current.loc[:,'Q2'] == '18-21' \n",
    "con2= df_current.loc[:,'Q2'] == '22-24'\n",
    "con3=df_current.loc[:,'Q8'] == 'Doctoral degree' \n",
    "con4 =df_current.loc[:,'Q8'] == 'Professional doctorate'\n",
    "\n",
    "df_c1=df_q[(con1 | con2) & (con3 | con4)]\n",
    "df_c1.groupby([\"Q2\",\"Q8\",\"Q23\",\"Q4\"]).count()"
   ]
  },
  {
   "attachments": {},
   "cell_type": "markdown",
   "metadata": {},
   "source": [
    "##### 2. Rows were eliminated where age (Q2) fell within the 18-24 year range and programming experience in years (Q11) was over 20 years, as this scenario seemed unlikely and could have been an error in responses."
   ]
  },
  {
   "cell_type": "code",
   "execution_count": 17,
   "metadata": {},
   "outputs": [
    {
     "data": {
      "text/html": [
       "<div>\n",
       "<style scoped>\n",
       "    .dataframe tbody tr th:only-of-type {\n",
       "        vertical-align: middle;\n",
       "    }\n",
       "\n",
       "    .dataframe tbody tr th {\n",
       "        vertical-align: top;\n",
       "    }\n",
       "\n",
       "    .dataframe thead th {\n",
       "        text-align: right;\n",
       "    }\n",
       "</style>\n",
       "<table border=\"1\" class=\"dataframe\">\n",
       "  <thead>\n",
       "    <tr style=\"text-align: right;\">\n",
       "      <th></th>\n",
       "      <th>Duration (in seconds)</th>\n",
       "      <th>Q2</th>\n",
       "      <th>Q3</th>\n",
       "      <th>Q4</th>\n",
       "      <th>Q5</th>\n",
       "      <th>Q6_1</th>\n",
       "      <th>Q6_2</th>\n",
       "      <th>Q6_3</th>\n",
       "      <th>Q6_4</th>\n",
       "      <th>Q6_5</th>\n",
       "      <th>...</th>\n",
       "      <th>Q44_3</th>\n",
       "      <th>Q44_4</th>\n",
       "      <th>Q44_5</th>\n",
       "      <th>Q44_6</th>\n",
       "      <th>Q44_7</th>\n",
       "      <th>Q44_8</th>\n",
       "      <th>Q44_9</th>\n",
       "      <th>Q44_10</th>\n",
       "      <th>Q44_11</th>\n",
       "      <th>Q44_12</th>\n",
       "    </tr>\n",
       "  </thead>\n",
       "  <tbody>\n",
       "  </tbody>\n",
       "</table>\n",
       "<p>0 rows × 296 columns</p>\n",
       "</div>"
      ],
      "text/plain": [
       "Empty DataFrame\n",
       "Columns: [Duration (in seconds), Q2, Q3, Q4, Q5, Q6_1, Q6_2, Q6_3, Q6_4, Q6_5, Q6_6, Q6_7, Q6_8, Q6_9, Q6_10, Q6_11, Q6_12, Q7_1, Q7_2, Q7_3, Q7_4, Q7_5, Q7_6, Q7_7, Q8, Q9, Q10_1, Q10_2, Q10_3, Q11, Q12_1, Q12_2, Q12_3, Q12_4, Q12_5, Q12_6, Q12_7, Q12_8, Q12_9, Q12_10, Q12_11, Q12_12, Q12_13, Q12_14, Q12_15, Q13_1, Q13_2, Q13_3, Q13_4, Q13_5, Q13_6, Q13_7, Q13_8, Q13_9, Q13_10, Q13_11, Q13_12, Q13_13, Q13_14, Q14_1, Q14_2, Q14_3, Q14_4, Q14_5, Q14_6, Q14_7, Q14_8, Q14_9, Q14_10, Q14_11, Q14_12, Q14_13, Q14_14, Q14_15, Q14_16, Q15_1, Q15_2, Q15_3, Q15_4, Q15_5, Q15_6, Q15_7, Q15_8, Q15_9, Q15_10, Q15_11, Q15_12, Q15_13, Q15_14, Q15_15, Q16, Q17_1, Q17_2, Q17_3, Q17_4, Q17_5, Q17_6, Q17_7, Q17_8, Q17_9, ...]\n",
       "Index: []\n",
       "\n",
       "[0 rows x 296 columns]"
      ]
     },
     "execution_count": 17,
     "metadata": {},
     "output_type": "execute_result"
    }
   ],
   "source": [
    "# We remove surveys in which the person filling out question Q2 indicates that has not \n",
    "# more than 29 years old (the three lowest categories) and at the same time declares \n",
    "# in question Q11 about the number of years of programming experience as over 20. \n",
    "\n",
    "con5=df_current.loc[:,'Q11'] == '20+ years' \n",
    "# NO existe\n",
    "df_c2=df_current[(con1 | con2) & con5 ]\n",
    "df_c2\n"
   ]
  },
  {
   "attachments": {},
   "cell_type": "markdown",
   "metadata": {},
   "source": [
    "##### 3. Rows were excluded where age (Q2) was in the 18-24 year range and experience in years using Machine Learning methods (Q16) fell within the 10-20 year range."
   ]
  },
  {
   "cell_type": "code",
   "execution_count": 18,
   "metadata": {},
   "outputs": [
    {
     "name": "stderr",
     "output_type": "stream",
     "text": [
      "/var/folders/g1/0ny7sby95zb23kk6rhmjh6nr0000gn/T/ipykernel_3319/2202974757.py:8: UserWarning: Boolean Series key will be reindexed to match DataFrame index.\n",
      "  df_c3=df_q[ (con1 | con2 | con6) & con7 ]\n"
     ]
    },
    {
     "data": {
      "text/html": [
       "<div>\n",
       "<style scoped>\n",
       "    .dataframe tbody tr th:only-of-type {\n",
       "        vertical-align: middle;\n",
       "    }\n",
       "\n",
       "    .dataframe tbody tr th {\n",
       "        vertical-align: top;\n",
       "    }\n",
       "\n",
       "    .dataframe thead th {\n",
       "        text-align: right;\n",
       "    }\n",
       "</style>\n",
       "<table border=\"1\" class=\"dataframe\">\n",
       "  <thead>\n",
       "    <tr style=\"text-align: right;\">\n",
       "      <th></th>\n",
       "      <th></th>\n",
       "      <th></th>\n",
       "      <th></th>\n",
       "      <th>Q3</th>\n",
       "      <th>Q6_1</th>\n",
       "      <th>Q6_2</th>\n",
       "      <th>Q6_3</th>\n",
       "      <th>Q6_4</th>\n",
       "      <th>Q6_5</th>\n",
       "      <th>Q6_6</th>\n",
       "      <th>Q6_7</th>\n",
       "      <th>Q6_8</th>\n",
       "      <th>Q6_9</th>\n",
       "      <th>...</th>\n",
       "      <th>Q44_3</th>\n",
       "      <th>Q44_4</th>\n",
       "      <th>Q44_5</th>\n",
       "      <th>Q44_6</th>\n",
       "      <th>Q44_7</th>\n",
       "      <th>Q44_8</th>\n",
       "      <th>Q44_9</th>\n",
       "      <th>Q44_10</th>\n",
       "      <th>Q44_11</th>\n",
       "      <th>Q44_12</th>\n",
       "    </tr>\n",
       "    <tr>\n",
       "      <th>Q2</th>\n",
       "      <th>Q8</th>\n",
       "      <th>Q23</th>\n",
       "      <th>Q4</th>\n",
       "      <th></th>\n",
       "      <th></th>\n",
       "      <th></th>\n",
       "      <th></th>\n",
       "      <th></th>\n",
       "      <th></th>\n",
       "      <th></th>\n",
       "      <th></th>\n",
       "      <th></th>\n",
       "      <th></th>\n",
       "      <th></th>\n",
       "      <th></th>\n",
       "      <th></th>\n",
       "      <th></th>\n",
       "      <th></th>\n",
       "      <th></th>\n",
       "      <th></th>\n",
       "      <th></th>\n",
       "      <th></th>\n",
       "      <th></th>\n",
       "      <th></th>\n",
       "    </tr>\n",
       "  </thead>\n",
       "  <tbody>\n",
       "    <tr>\n",
       "      <th rowspan=\"2\" valign=\"top\">25-29</th>\n",
       "      <th>Bachelor’s degree</th>\n",
       "      <th>Data Scientist</th>\n",
       "      <th>USA</th>\n",
       "      <td>1</td>\n",
       "      <td>0</td>\n",
       "      <td>0</td>\n",
       "      <td>0</td>\n",
       "      <td>0</td>\n",
       "      <td>0</td>\n",
       "      <td>1</td>\n",
       "      <td>0</td>\n",
       "      <td>1</td>\n",
       "      <td>0</td>\n",
       "      <td>...</td>\n",
       "      <td>0</td>\n",
       "      <td>0</td>\n",
       "      <td>0</td>\n",
       "      <td>0</td>\n",
       "      <td>0</td>\n",
       "      <td>0</td>\n",
       "      <td>0</td>\n",
       "      <td>0</td>\n",
       "      <td>0</td>\n",
       "      <td>0</td>\n",
       "    </tr>\n",
       "    <tr>\n",
       "      <th>Master’s degree</th>\n",
       "      <th>Data Scientist</th>\n",
       "      <th>Netherlands</th>\n",
       "      <td>1</td>\n",
       "      <td>0</td>\n",
       "      <td>0</td>\n",
       "      <td>0</td>\n",
       "      <td>0</td>\n",
       "      <td>0</td>\n",
       "      <td>0</td>\n",
       "      <td>0</td>\n",
       "      <td>0</td>\n",
       "      <td>0</td>\n",
       "      <td>...</td>\n",
       "      <td>1</td>\n",
       "      <td>1</td>\n",
       "      <td>0</td>\n",
       "      <td>0</td>\n",
       "      <td>0</td>\n",
       "      <td>1</td>\n",
       "      <td>1</td>\n",
       "      <td>1</td>\n",
       "      <td>0</td>\n",
       "      <td>0</td>\n",
       "    </tr>\n",
       "  </tbody>\n",
       "</table>\n",
       "<p>2 rows × 247 columns</p>\n",
       "</div>"
      ],
      "text/plain": [
       "                                                    Q3  Q6_1  Q6_2  Q6_3  \\\n",
       "Q2    Q8                Q23            Q4                                  \n",
       "25-29 Bachelor’s degree Data Scientist USA           1     0     0     0   \n",
       "      Master’s degree   Data Scientist Netherlands   1     0     0     0   \n",
       "\n",
       "                                                    Q6_4  Q6_5  Q6_6  Q6_7  \\\n",
       "Q2    Q8                Q23            Q4                                    \n",
       "25-29 Bachelor’s degree Data Scientist USA             0     0     1     0   \n",
       "      Master’s degree   Data Scientist Netherlands     0     0     0     0   \n",
       "\n",
       "                                                    Q6_8  Q6_9  ...  Q44_3  \\\n",
       "Q2    Q8                Q23            Q4                       ...          \n",
       "25-29 Bachelor’s degree Data Scientist USA             1     0  ...      0   \n",
       "      Master’s degree   Data Scientist Netherlands     0     0  ...      1   \n",
       "\n",
       "                                                    Q44_4  Q44_5  Q44_6  \\\n",
       "Q2    Q8                Q23            Q4                                 \n",
       "25-29 Bachelor’s degree Data Scientist USA              0      0      0   \n",
       "      Master’s degree   Data Scientist Netherlands      1      0      0   \n",
       "\n",
       "                                                    Q44_7  Q44_8  Q44_9  \\\n",
       "Q2    Q8                Q23            Q4                                 \n",
       "25-29 Bachelor’s degree Data Scientist USA              0      0      0   \n",
       "      Master’s degree   Data Scientist Netherlands      0      1      1   \n",
       "\n",
       "                                                    Q44_10  Q44_11  Q44_12  \n",
       "Q2    Q8                Q23            Q4                                   \n",
       "25-29 Bachelor’s degree Data Scientist USA               0       0       0  \n",
       "      Master’s degree   Data Scientist Netherlands       1       0       0  \n",
       "\n",
       "[2 rows x 247 columns]"
      ]
     },
     "execution_count": 18,
     "metadata": {},
     "output_type": "execute_result"
    }
   ],
   "source": [
    "# we exclude people who are also between 18 and 29 years old and declare that they \n",
    "# have been using machine learning methods for at least 20 years\n",
    "\n",
    "con6= df_q.loc[:,'Q2'] == '25-29'\n",
    "# Q16: Exp. ML methods\n",
    "con7=df_q.loc[:,'Q16'] == '10-20 years' \n",
    "\n",
    "df_c3=df_q[ (con1 | con2 | con6) & con7 ]\n",
    "df_c3.groupby([\"Q2\",\"Q8\",\"Q23\",\"Q4\"]).count()"
   ]
  },
  {
   "attachments": {},
   "cell_type": "markdown",
   "metadata": {},
   "source": [
    "##### 4. Empty values in the work industry (Q24) were discarded."
   ]
  },
  {
   "cell_type": "code",
   "execution_count": 19,
   "metadata": {},
   "outputs": [
    {
     "data": {
      "text/html": [
       "<div>\n",
       "<style scoped>\n",
       "    .dataframe tbody tr th:only-of-type {\n",
       "        vertical-align: middle;\n",
       "    }\n",
       "\n",
       "    .dataframe tbody tr th {\n",
       "        vertical-align: top;\n",
       "    }\n",
       "\n",
       "    .dataframe thead th {\n",
       "        text-align: right;\n",
       "    }\n",
       "</style>\n",
       "<table border=\"1\" class=\"dataframe\">\n",
       "  <thead>\n",
       "    <tr style=\"text-align: right;\">\n",
       "      <th></th>\n",
       "      <th></th>\n",
       "      <th>Q2</th>\n",
       "      <th>Q3</th>\n",
       "      <th>Q6_1</th>\n",
       "      <th>Q6_2</th>\n",
       "      <th>Q6_3</th>\n",
       "      <th>Q6_4</th>\n",
       "      <th>Q6_5</th>\n",
       "      <th>Q6_6</th>\n",
       "      <th>Q6_7</th>\n",
       "      <th>Q6_8</th>\n",
       "      <th>...</th>\n",
       "      <th>Q44_3</th>\n",
       "      <th>Q44_4</th>\n",
       "      <th>Q44_5</th>\n",
       "      <th>Q44_6</th>\n",
       "      <th>Q44_7</th>\n",
       "      <th>Q44_8</th>\n",
       "      <th>Q44_9</th>\n",
       "      <th>Q44_10</th>\n",
       "      <th>Q44_11</th>\n",
       "      <th>Q44_12</th>\n",
       "    </tr>\n",
       "    <tr>\n",
       "      <th>Q23</th>\n",
       "      <th>Q4</th>\n",
       "      <th></th>\n",
       "      <th></th>\n",
       "      <th></th>\n",
       "      <th></th>\n",
       "      <th></th>\n",
       "      <th></th>\n",
       "      <th></th>\n",
       "      <th></th>\n",
       "      <th></th>\n",
       "      <th></th>\n",
       "      <th></th>\n",
       "      <th></th>\n",
       "      <th></th>\n",
       "      <th></th>\n",
       "      <th></th>\n",
       "      <th></th>\n",
       "      <th></th>\n",
       "      <th></th>\n",
       "      <th></th>\n",
       "      <th></th>\n",
       "      <th></th>\n",
       "    </tr>\n",
       "  </thead>\n",
       "  <tbody>\n",
       "    <tr>\n",
       "      <th rowspan=\"10\" valign=\"top\">Data Scientist</th>\n",
       "      <th>Australia</th>\n",
       "      <td>1</td>\n",
       "      <td>1</td>\n",
       "      <td>0</td>\n",
       "      <td>0</td>\n",
       "      <td>1</td>\n",
       "      <td>0</td>\n",
       "      <td>0</td>\n",
       "      <td>0</td>\n",
       "      <td>0</td>\n",
       "      <td>1</td>\n",
       "      <td>...</td>\n",
       "      <td>0</td>\n",
       "      <td>0</td>\n",
       "      <td>0</td>\n",
       "      <td>0</td>\n",
       "      <td>0</td>\n",
       "      <td>0</td>\n",
       "      <td>0</td>\n",
       "      <td>0</td>\n",
       "      <td>0</td>\n",
       "      <td>0</td>\n",
       "    </tr>\n",
       "    <tr>\n",
       "      <th>Brazil</th>\n",
       "      <td>1</td>\n",
       "      <td>1</td>\n",
       "      <td>1</td>\n",
       "      <td>0</td>\n",
       "      <td>1</td>\n",
       "      <td>0</td>\n",
       "      <td>0</td>\n",
       "      <td>1</td>\n",
       "      <td>0</td>\n",
       "      <td>0</td>\n",
       "      <td>...</td>\n",
       "      <td>0</td>\n",
       "      <td>0</td>\n",
       "      <td>0</td>\n",
       "      <td>0</td>\n",
       "      <td>0</td>\n",
       "      <td>0</td>\n",
       "      <td>0</td>\n",
       "      <td>0</td>\n",
       "      <td>0</td>\n",
       "      <td>0</td>\n",
       "    </tr>\n",
       "    <tr>\n",
       "      <th>Canada</th>\n",
       "      <td>1</td>\n",
       "      <td>1</td>\n",
       "      <td>0</td>\n",
       "      <td>0</td>\n",
       "      <td>0</td>\n",
       "      <td>0</td>\n",
       "      <td>1</td>\n",
       "      <td>0</td>\n",
       "      <td>1</td>\n",
       "      <td>0</td>\n",
       "      <td>...</td>\n",
       "      <td>0</td>\n",
       "      <td>0</td>\n",
       "      <td>0</td>\n",
       "      <td>0</td>\n",
       "      <td>0</td>\n",
       "      <td>0</td>\n",
       "      <td>0</td>\n",
       "      <td>0</td>\n",
       "      <td>0</td>\n",
       "      <td>0</td>\n",
       "    </tr>\n",
       "    <tr>\n",
       "      <th>Colombia</th>\n",
       "      <td>1</td>\n",
       "      <td>1</td>\n",
       "      <td>1</td>\n",
       "      <td>0</td>\n",
       "      <td>0</td>\n",
       "      <td>0</td>\n",
       "      <td>0</td>\n",
       "      <td>0</td>\n",
       "      <td>0</td>\n",
       "      <td>0</td>\n",
       "      <td>...</td>\n",
       "      <td>0</td>\n",
       "      <td>0</td>\n",
       "      <td>0</td>\n",
       "      <td>0</td>\n",
       "      <td>0</td>\n",
       "      <td>0</td>\n",
       "      <td>0</td>\n",
       "      <td>0</td>\n",
       "      <td>0</td>\n",
       "      <td>0</td>\n",
       "    </tr>\n",
       "    <tr>\n",
       "      <th>India</th>\n",
       "      <td>7</td>\n",
       "      <td>7</td>\n",
       "      <td>0</td>\n",
       "      <td>0</td>\n",
       "      <td>1</td>\n",
       "      <td>1</td>\n",
       "      <td>0</td>\n",
       "      <td>0</td>\n",
       "      <td>3</td>\n",
       "      <td>0</td>\n",
       "      <td>...</td>\n",
       "      <td>0</td>\n",
       "      <td>0</td>\n",
       "      <td>0</td>\n",
       "      <td>0</td>\n",
       "      <td>0</td>\n",
       "      <td>0</td>\n",
       "      <td>0</td>\n",
       "      <td>0</td>\n",
       "      <td>0</td>\n",
       "      <td>0</td>\n",
       "    </tr>\n",
       "    <tr>\n",
       "      <th>Nepal</th>\n",
       "      <td>1</td>\n",
       "      <td>1</td>\n",
       "      <td>0</td>\n",
       "      <td>0</td>\n",
       "      <td>0</td>\n",
       "      <td>0</td>\n",
       "      <td>0</td>\n",
       "      <td>0</td>\n",
       "      <td>0</td>\n",
       "      <td>0</td>\n",
       "      <td>...</td>\n",
       "      <td>0</td>\n",
       "      <td>0</td>\n",
       "      <td>0</td>\n",
       "      <td>0</td>\n",
       "      <td>0</td>\n",
       "      <td>0</td>\n",
       "      <td>0</td>\n",
       "      <td>0</td>\n",
       "      <td>0</td>\n",
       "      <td>0</td>\n",
       "    </tr>\n",
       "    <tr>\n",
       "      <th>Nigeria</th>\n",
       "      <td>1</td>\n",
       "      <td>1</td>\n",
       "      <td>0</td>\n",
       "      <td>0</td>\n",
       "      <td>0</td>\n",
       "      <td>0</td>\n",
       "      <td>0</td>\n",
       "      <td>0</td>\n",
       "      <td>0</td>\n",
       "      <td>0</td>\n",
       "      <td>...</td>\n",
       "      <td>0</td>\n",
       "      <td>0</td>\n",
       "      <td>0</td>\n",
       "      <td>0</td>\n",
       "      <td>0</td>\n",
       "      <td>0</td>\n",
       "      <td>0</td>\n",
       "      <td>0</td>\n",
       "      <td>0</td>\n",
       "      <td>0</td>\n",
       "    </tr>\n",
       "    <tr>\n",
       "      <th>Other</th>\n",
       "      <td>1</td>\n",
       "      <td>1</td>\n",
       "      <td>1</td>\n",
       "      <td>0</td>\n",
       "      <td>1</td>\n",
       "      <td>1</td>\n",
       "      <td>0</td>\n",
       "      <td>1</td>\n",
       "      <td>0</td>\n",
       "      <td>0</td>\n",
       "      <td>...</td>\n",
       "      <td>0</td>\n",
       "      <td>0</td>\n",
       "      <td>0</td>\n",
       "      <td>0</td>\n",
       "      <td>0</td>\n",
       "      <td>0</td>\n",
       "      <td>0</td>\n",
       "      <td>0</td>\n",
       "      <td>0</td>\n",
       "      <td>0</td>\n",
       "    </tr>\n",
       "    <tr>\n",
       "      <th>Turkey</th>\n",
       "      <td>1</td>\n",
       "      <td>1</td>\n",
       "      <td>1</td>\n",
       "      <td>0</td>\n",
       "      <td>1</td>\n",
       "      <td>1</td>\n",
       "      <td>1</td>\n",
       "      <td>1</td>\n",
       "      <td>1</td>\n",
       "      <td>0</td>\n",
       "      <td>...</td>\n",
       "      <td>0</td>\n",
       "      <td>0</td>\n",
       "      <td>0</td>\n",
       "      <td>0</td>\n",
       "      <td>0</td>\n",
       "      <td>0</td>\n",
       "      <td>0</td>\n",
       "      <td>0</td>\n",
       "      <td>0</td>\n",
       "      <td>0</td>\n",
       "    </tr>\n",
       "    <tr>\n",
       "      <th>USA</th>\n",
       "      <td>1</td>\n",
       "      <td>1</td>\n",
       "      <td>1</td>\n",
       "      <td>0</td>\n",
       "      <td>1</td>\n",
       "      <td>0</td>\n",
       "      <td>0</td>\n",
       "      <td>0</td>\n",
       "      <td>1</td>\n",
       "      <td>0</td>\n",
       "      <td>...</td>\n",
       "      <td>0</td>\n",
       "      <td>0</td>\n",
       "      <td>0</td>\n",
       "      <td>0</td>\n",
       "      <td>0</td>\n",
       "      <td>0</td>\n",
       "      <td>0</td>\n",
       "      <td>0</td>\n",
       "      <td>0</td>\n",
       "      <td>0</td>\n",
       "    </tr>\n",
       "  </tbody>\n",
       "</table>\n",
       "<p>10 rows × 249 columns</p>\n",
       "</div>"
      ],
      "text/plain": [
       "                          Q2  Q3  Q6_1  Q6_2  Q6_3  Q6_4  Q6_5  Q6_6  Q6_7  \\\n",
       "Q23            Q4                                                            \n",
       "Data Scientist Australia   1   1     0     0     1     0     0     0     0   \n",
       "               Brazil      1   1     1     0     1     0     0     1     0   \n",
       "               Canada      1   1     0     0     0     0     1     0     1   \n",
       "               Colombia    1   1     1     0     0     0     0     0     0   \n",
       "               India       7   7     0     0     1     1     0     0     3   \n",
       "               Nepal       1   1     0     0     0     0     0     0     0   \n",
       "               Nigeria     1   1     0     0     0     0     0     0     0   \n",
       "               Other       1   1     1     0     1     1     0     1     0   \n",
       "               Turkey      1   1     1     0     1     1     1     1     1   \n",
       "               USA         1   1     1     0     1     0     0     0     1   \n",
       "\n",
       "                          Q6_8  ...  Q44_3  Q44_4  Q44_5  Q44_6  Q44_7  Q44_8  \\\n",
       "Q23            Q4               ...                                             \n",
       "Data Scientist Australia     1  ...      0      0      0      0      0      0   \n",
       "               Brazil        0  ...      0      0      0      0      0      0   \n",
       "               Canada        0  ...      0      0      0      0      0      0   \n",
       "               Colombia      0  ...      0      0      0      0      0      0   \n",
       "               India         0  ...      0      0      0      0      0      0   \n",
       "               Nepal         0  ...      0      0      0      0      0      0   \n",
       "               Nigeria       0  ...      0      0      0      0      0      0   \n",
       "               Other         0  ...      0      0      0      0      0      0   \n",
       "               Turkey        0  ...      0      0      0      0      0      0   \n",
       "               USA           0  ...      0      0      0      0      0      0   \n",
       "\n",
       "                          Q44_9  Q44_10  Q44_11  Q44_12  \n",
       "Q23            Q4                                        \n",
       "Data Scientist Australia      0       0       0       0  \n",
       "               Brazil         0       0       0       0  \n",
       "               Canada         0       0       0       0  \n",
       "               Colombia       0       0       0       0  \n",
       "               India          0       0       0       0  \n",
       "               Nepal          0       0       0       0  \n",
       "               Nigeria        0       0       0       0  \n",
       "               Other          0       0       0       0  \n",
       "               Turkey         0       0       0       0  \n",
       "               USA            0       0       0       0  \n",
       "\n",
       "[10 rows x 249 columns]"
      ]
     },
     "execution_count": 19,
     "metadata": {},
     "output_type": "execute_result"
    }
   ],
   "source": [
    "con8= df_q.loc[:,\"Q24\"].isna()\n",
    "df_c4=df_q[  con8 ]\n",
    "df_c4.groupby([\"Q23\",\"Q4\"]).count()"
   ]
  },
  {
   "attachments": {},
   "cell_type": "markdown",
   "metadata": {},
   "source": [
    "##### Removing unlikely or inconsistent responses rows"
   ]
  },
  {
   "cell_type": "code",
   "execution_count": 20,
   "metadata": {},
   "outputs": [
    {
     "name": "stderr",
     "output_type": "stream",
     "text": [
      "/var/folders/g1/0ny7sby95zb23kk6rhmjh6nr0000gn/T/ipykernel_3319/2988893417.py:1: UserWarning: Boolean Series key will be reindexed to match DataFrame index.\n",
      "  df_filtros = df_q[~(((con1 | con2) & (con3 | con4)) | ((con1 | con2 | con6) & con7) | con8 )].copy().reset_index(drop=True)\n"
     ]
    },
    {
     "name": "stdout",
     "output_type": "stream",
     "text": [
      "(1902, 251)\n"
     ]
    },
    {
     "data": {
      "text/html": [
       "<div>\n",
       "<style scoped>\n",
       "    .dataframe tbody tr th:only-of-type {\n",
       "        vertical-align: middle;\n",
       "    }\n",
       "\n",
       "    .dataframe tbody tr th {\n",
       "        vertical-align: top;\n",
       "    }\n",
       "\n",
       "    .dataframe thead th {\n",
       "        text-align: right;\n",
       "    }\n",
       "</style>\n",
       "<table border=\"1\" class=\"dataframe\">\n",
       "  <thead>\n",
       "    <tr style=\"text-align: right;\">\n",
       "      <th></th>\n",
       "      <th>Q2</th>\n",
       "      <th>Q3</th>\n",
       "      <th>Q4</th>\n",
       "      <th>Q6_1</th>\n",
       "      <th>Q6_2</th>\n",
       "      <th>Q6_3</th>\n",
       "      <th>Q6_4</th>\n",
       "      <th>Q6_5</th>\n",
       "      <th>Q6_6</th>\n",
       "      <th>Q6_7</th>\n",
       "      <th>...</th>\n",
       "      <th>Q44_3</th>\n",
       "      <th>Q44_4</th>\n",
       "      <th>Q44_5</th>\n",
       "      <th>Q44_6</th>\n",
       "      <th>Q44_7</th>\n",
       "      <th>Q44_8</th>\n",
       "      <th>Q44_9</th>\n",
       "      <th>Q44_10</th>\n",
       "      <th>Q44_11</th>\n",
       "      <th>Q44_12</th>\n",
       "    </tr>\n",
       "  </thead>\n",
       "  <tbody>\n",
       "    <tr>\n",
       "      <th>0</th>\n",
       "      <td>55-59</td>\n",
       "      <td>Man</td>\n",
       "      <td>France</td>\n",
       "      <td>Coursera</td>\n",
       "      <td>NaN</td>\n",
       "      <td>Kaggle Learn Courses</td>\n",
       "      <td>NaN</td>\n",
       "      <td>NaN</td>\n",
       "      <td>NaN</td>\n",
       "      <td>Udemy</td>\n",
       "      <td>...</td>\n",
       "      <td>NaN</td>\n",
       "      <td>Kaggle (notebooks, forums, etc)</td>\n",
       "      <td>Course Forums (forums.fast.ai, Coursera forums...</td>\n",
       "      <td>NaN</td>\n",
       "      <td>NaN</td>\n",
       "      <td>Blogs (Towards Data Science, Analytics Vidhya,...</td>\n",
       "      <td>NaN</td>\n",
       "      <td>NaN</td>\n",
       "      <td>NaN</td>\n",
       "      <td>NaN</td>\n",
       "    </tr>\n",
       "    <tr>\n",
       "      <th>1</th>\n",
       "      <td>40-44</td>\n",
       "      <td>Man</td>\n",
       "      <td>USA</td>\n",
       "      <td>Coursera</td>\n",
       "      <td>NaN</td>\n",
       "      <td>NaN</td>\n",
       "      <td>NaN</td>\n",
       "      <td>NaN</td>\n",
       "      <td>Udacity</td>\n",
       "      <td>Udemy</td>\n",
       "      <td>...</td>\n",
       "      <td>NaN</td>\n",
       "      <td>NaN</td>\n",
       "      <td>NaN</td>\n",
       "      <td>NaN</td>\n",
       "      <td>Podcasts (Chai Time Data Science, O’Reilly Dat...</td>\n",
       "      <td>Blogs (Towards Data Science, Analytics Vidhya,...</td>\n",
       "      <td>Journal Publications (peer-reviewed journals, ...</td>\n",
       "      <td>NaN</td>\n",
       "      <td>NaN</td>\n",
       "      <td>NaN</td>\n",
       "    </tr>\n",
       "  </tbody>\n",
       "</table>\n",
       "<p>2 rows × 251 columns</p>\n",
       "</div>"
      ],
      "text/plain": [
       "      Q2   Q3      Q4      Q6_1 Q6_2                  Q6_3 Q6_4 Q6_5     Q6_6  \\\n",
       "0  55-59  Man  France  Coursera  NaN  Kaggle Learn Courses  NaN  NaN      NaN   \n",
       "1  40-44  Man     USA  Coursera  NaN                   NaN  NaN  NaN  Udacity   \n",
       "\n",
       "    Q6_7  ... Q44_3                            Q44_4  \\\n",
       "0  Udemy  ...   NaN  Kaggle (notebooks, forums, etc)   \n",
       "1  Udemy  ...   NaN                              NaN   \n",
       "\n",
       "                                               Q44_5 Q44_6  \\\n",
       "0  Course Forums (forums.fast.ai, Coursera forums...   NaN   \n",
       "1                                                NaN   NaN   \n",
       "\n",
       "                                               Q44_7  \\\n",
       "0                                                NaN   \n",
       "1  Podcasts (Chai Time Data Science, O’Reilly Dat...   \n",
       "\n",
       "                                               Q44_8  \\\n",
       "0  Blogs (Towards Data Science, Analytics Vidhya,...   \n",
       "1  Blogs (Towards Data Science, Analytics Vidhya,...   \n",
       "\n",
       "                                               Q44_9 Q44_10 Q44_11 Q44_12  \n",
       "0                                                NaN    NaN    NaN    NaN  \n",
       "1  Journal Publications (peer-reviewed journals, ...    NaN    NaN    NaN  \n",
       "\n",
       "[2 rows x 251 columns]"
      ]
     },
     "execution_count": 20,
     "metadata": {},
     "output_type": "execute_result"
    }
   ],
   "source": [
    "df_filtros = df_q[~(((con1 | con2) & (con3 | con4)) | ((con1 | con2 | con6) & con7) | con8 )].copy().reset_index(drop=True)\n",
    "print(df_filtros.shape)\n",
    "\n",
    "df_filtros.head(2)\n"
   ]
  },
  {
   "attachments": {},
   "cell_type": "markdown",
   "metadata": {},
   "source": [
    "#### Missing values "
   ]
  },
  {
   "cell_type": "code",
   "execution_count": 21,
   "metadata": {},
   "outputs": [],
   "source": [
    "\n",
    "q2_i = ['18-21', '22-24', '25-29', '30-34', '35-39', '40-44', '45-49', '50-54', '55-59', '60-69','70+']\n",
    "\n",
    "df_filtros.loc[:,\"Q3\"].replace({'Prefer not to say':'Others', 'Nonbinary':'Others','Prefer to self-describe':'Others'}, inplace=True)\n",
    "\n",
    "q8_i = ['High School','No bachelor’s degree', 'Bachelor’s degree', 'Master’s degree', \n",
    "       'Doctoral degree', 'Professional doctorate','I prefer not to answer']\n",
    "df_filtros.loc[:,\"Q8\"].replace({'No formal education past high school':'High School', 'Some college/university study without earning a bachelor’s degree': 'No bachelor’s degree'}, inplace=True)\n",
    "\n",
    "q11_i=[\"0 years\",\"Under 1 year\",'1-3 years','3-5 years','5-10 years','10-20 years','20+ years']\n",
    "df_filtros.loc[:,\"Q11\"].replace({\"I have never written code\":\"0 years\" , '< 1 years':\"Under 1 year\"}, inplace=True)\n",
    "\n",
    "q16_i=[\"0 years\", 'Under 1 year','1-2 years', '2-3 years', '3-4 years', '4-5 years','5-10 years',  '10-20 years']\n",
    "df_filtros.loc[:,\"Q16\"].replace({\"I do not use machine learning methods\":\"0 years\", np.nan:\"0 years\"}, inplace=True)\n",
    "\n",
    "q25_i=['0-49 employees','50-249 employees','250-999 employees', '1000-9,999 employees', '10,000 or more employees','No answer']\n",
    "df_filtros['Q25'].fillna('No answer', inplace=True)\n",
    "\n",
    "q26_i= ['0', '1-2', '3-4', '5-9', '10-14', '15-19','20+']\n",
    "df_filtros['Q26'].fillna('No answer', inplace=True)\n",
    "\n",
    "q27_i = [\"1. Not Started\" ,  \"2. Exploration Stage\",\"3. Generating Insights\", \"4. Started Models in Production\",\n",
    "        \"5. Established Models in Production\", \"6. Not Known\"]\n",
    "Q27_replace = {\n",
    "    \"No (we do not use ML methods)\": \"1. Not Started\" , \n",
    "    \"We are exploring ML methods (and may one day put a model into production)\": \"2. Exploration Stage\",\n",
    "    \"We use ML methods for generating insights (but do not put working models into production)\": \"3. Generating Insights\", \n",
    "    \"We recently started using ML methods (i.e., models in production for less than 2 years)\": \"4. Started Models in Production\",\n",
    "    \"We have well established ML methods (i.e., models in production for more than 2 years)\": \"5. Established Models in Production\",\n",
    "    \"I do not know\": \"1. Not Started\",\n",
    "    np.nan: \"1. Not Started\"\n",
    "}\n",
    "df_filtros['Q27'].replace(Q27_replace, inplace=True)\n",
    "\n",
    "q29_i=['0-2,999', '3,000-9,999', '10,000-24,999', '25,000-49,999',         \n",
    "        '50,000-79,999', '80,000-124,999', '125,000-249,999', '250,000-999,999','>$1,000,000']   \n",
    "df_filtros.loc[:,\"Q29\"].replace({ '$0-999':'0-2,999',                    '1,000-1,999':'0-2,999',                 '2,000-2,999':'0-2,999',         \n",
    "                                '3,000-3,999':'3,000-9,999',             '4,000-4,999':'3,000-9,999',             '5,000-7,499':'3,000-9,999',     '7,500-9,999': '3,000-9,999',            \n",
    "                                '10,000-14,999':'10,000-24,999',         '15,000-19,999':'10,000-24,999',         '20,000-24,999':'10,000-24,999',          \n",
    "                                '25,000-29,999': '25,000-49,999',        '30,000-39,999':'25,000-49,999',         '40,000-49,999': '25,000-49,999',        \n",
    "                                '50,000-59,999': '50,000-79,999',        '60,000-69,999':'50,000-79,999',         '70,000-79,999': '50,000-79,999',       \n",
    "                                '80,000-89,999': '80,000-124,999',       '90,000-99,999': '80,000-124,999',       '100,000-124,999': '80,000-124,999',     \n",
    "                                '125,000-149,999': '125,000-249,999',    '150,000-199,999': '125,000-249,999',    '200,000-249,999': '125,000-249,999',\n",
    "                                '250,000-299,999': '250,000-999,999',    '300,000-499,999': '250,000-999,999',    '$500,000-999,999': '250,000-999,999'}, inplace=True)\n",
    "\n",
    "q30_i= ['0','$0', '$1-$99', '$100-$999','$1000-$9,999', '$10,000-$99,999', '>$100,000']\n",
    "df_filtros.loc[:,\"Q30\"].replace({'$0 ($USD)':'$0','$100,000 or more ($USD)':'>$100,000'}, inplace=True)\n",
    "df_filtros['Q30'].fillna('0', inplace=True)\n",
    "\n",
    "df_filtros.loc[:,\"Q37_12\"].replace({df_filtros.loc[:,\"Q37_12\"].unique()[0]:'None'}, inplace=True)\n",
    "\n",
    "df_filtros.loc[:,\"Q34_7\"].replace({df_filtros.loc[:,\"Q34_7\"].unique()[1]:'None'}, inplace=True)"
   ]
  },
  {
   "attachments": {},
   "cell_type": "markdown",
   "metadata": {},
   "source": [
    "#### Selecting demographics of data science experts, considering programming and machine learning experience. [4](https://www.kaggle.com/code/shivamb/data-science-in-2021-adaptation-or-adoption/notebook)\n",
    "\n",
    "The classification of users was done based on the answers to questions Q16 and Q11, which are based on time of programming experience and machine learning experience, respectively. The categories into which users were classified according to their experience are presented below:\n",
    "\n",
    "1. Newcomers: This group comprises those users who have ***no programming experience** or less than one year of experience in both programming and machine learning*.\n",
    "2. The Programmers: In this category are users with ***programming experience** from 1 to more than 20 years*, but who have **no machine learning experience**.\n",
    "3. The Apprentices: Users classified in this category have *at least one year and up to three years of **programming experience***, as well as *one year to three years of **machine learning experience***.\n",
    "4. Transients: This group includes users who are somewhere in between. On the one hand, they have *3 to 5 years of **machine learning experience*** and *1 to 3 years of **programming experience***. On the other hand, there are users with *three or more years of **programming experience*** and *1 to 3 years of **machine learning experience***.\n",
    "5. The Experts: In this category are users with extensive ***machine learning experience**, from 3 years to more than 20 years*, and ***extensive programming experience**, from 5 years to more than 20 years*.\n",
    "\n",
    "These categories allow users to be identified and classified according to their level of programming and machine learning experience, which will facilitate a more detailed and segmented analysis of the data obtained in the survey."
   ]
  },
  {
   "cell_type": "code",
   "execution_count": 22,
   "metadata": {},
   "outputs": [
    {
     "data": {
      "text/html": [
       "<div>\n",
       "<style scoped>\n",
       "    .dataframe tbody tr th:only-of-type {\n",
       "        vertical-align: middle;\n",
       "    }\n",
       "\n",
       "    .dataframe tbody tr th {\n",
       "        vertical-align: top;\n",
       "    }\n",
       "\n",
       "    .dataframe thead th {\n",
       "        text-align: right;\n",
       "    }\n",
       "</style>\n",
       "<table border=\"1\" class=\"dataframe\">\n",
       "  <thead>\n",
       "    <tr style=\"text-align: right;\">\n",
       "      <th>ML Experience</th>\n",
       "      <th>None</th>\n",
       "      <th>Beginner</th>\n",
       "      <th>Learner</th>\n",
       "      <th>Experienced</th>\n",
       "      <th>Veteran</th>\n",
       "    </tr>\n",
       "    <tr>\n",
       "      <th>Coding Experience</th>\n",
       "      <th></th>\n",
       "      <th></th>\n",
       "      <th></th>\n",
       "      <th></th>\n",
       "      <th></th>\n",
       "    </tr>\n",
       "  </thead>\n",
       "  <tbody>\n",
       "    <tr>\n",
       "      <th>None</th>\n",
       "      <td>45</td>\n",
       "      <td>0</td>\n",
       "      <td>0</td>\n",
       "      <td>0</td>\n",
       "      <td>0</td>\n",
       "    </tr>\n",
       "    <tr>\n",
       "      <th>Beginner</th>\n",
       "      <td>23</td>\n",
       "      <td>121</td>\n",
       "      <td>23</td>\n",
       "      <td>0</td>\n",
       "      <td>0</td>\n",
       "    </tr>\n",
       "    <tr>\n",
       "      <th>Learner</th>\n",
       "      <td>13</td>\n",
       "      <td>87</td>\n",
       "      <td>251</td>\n",
       "      <td>18</td>\n",
       "      <td>4</td>\n",
       "    </tr>\n",
       "    <tr>\n",
       "      <th>Experienced</th>\n",
       "      <td>11</td>\n",
       "      <td>45</td>\n",
       "      <td>266</td>\n",
       "      <td>355</td>\n",
       "      <td>169</td>\n",
       "    </tr>\n",
       "    <tr>\n",
       "      <th>Veteran</th>\n",
       "      <td>7</td>\n",
       "      <td>14</td>\n",
       "      <td>53</td>\n",
       "      <td>108</td>\n",
       "      <td>289</td>\n",
       "    </tr>\n",
       "  </tbody>\n",
       "</table>\n",
       "</div>"
      ],
      "text/plain": [
       "ML Experience      None  Beginner  Learner  Experienced  Veteran\n",
       "Coding Experience                                               \n",
       "None                 45         0        0            0        0\n",
       "Beginner             23       121       23            0        0\n",
       "Learner              13        87      251           18        4\n",
       "Experienced          11        45      266          355      169\n",
       "Veteran               7        14       53          108      289"
      ]
     },
     "execution_count": 22,
     "metadata": {},
     "output_type": "execute_result"
    }
   ],
   "source": [
    "df_filtros1 = df_filtros.copy()\n",
    "\n",
    "# Exp. ML \n",
    "Q16_di = {\"0 years\": \"None\", \"Under 1 year\": \"Beginner\", \"1-2 years\": \"Learner\", \"2-3 years\": \"Learner\", \"3-4 years\": \"Experienced\",\n",
    "          \"4-5 years\": \"Experienced\", \"5-10 years\": \"Veteran\", \"10-20 years\": \"Veteran\", \"20+\": \"Veteran\"}\n",
    "df_filtros1[\"Q16_new\"] = df_filtros[\"Q16\"].map(Q16_di).copy()\n",
    "\n",
    "# Exp. progra\n",
    "Q11_di = {\"0 years\": \"None\", \"Under 1 year\": \"Beginner\", \"1-3 years\": \"Learner\", \"3-5 years\": \"Experienced\",\n",
    "          \"5-10 years\": \"Experienced\", \"10-20 years\": \"Veteran\", \"20+ years\": \"Veteran\"}\n",
    "df_filtros1[\"Q11_new\"] = df_filtros[\"Q11\"].map(Q11_di)\n",
    "\n",
    "# Cross table of those results\n",
    "exp_ct = pd.crosstab(df_filtros1.Q11_new, df_filtros1.Q16_new, rownames=['Coding Experience'], colnames=['ML Experience'])\n",
    "ct_order = [\"None\", \"Beginner\", \"Learner\", \"Experienced\", \"Veteran\"]\n",
    "exp_ct = exp_ct.reindex(ct_order, axis=\"columns\")\n",
    "exp_ct = exp_ct.reindex(ct_order, axis=\"rows\")\n",
    "\n",
    "exp_ct"
   ]
  },
  {
   "cell_type": "code",
   "execution_count": 23,
   "metadata": {},
   "outputs": [
    {
     "name": "stdout",
     "output_type": "stream",
     "text": [
      "1.New Faces         68\n",
      "2.Coders            31\n",
      "3.Learners         482\n",
      "4.Transitioners    396\n",
      "5.Experts          921\n",
      "Name: classification, dtype: int64\n"
     ]
    }
   ],
   "source": [
    "conditions = [\n",
    "    (df_filtros1['Q16_new'] == \"None\") & ((df_filtros1['Q11_new'] == \"None\") | (df_filtros1['Q11_new'] == \"Beginner\")),\n",
    "    (df_filtros1['Q16_new'] == \"None\") & ((df_filtros1['Q11_new'] == \"Learner\") | (df_filtros1['Q11_new'] == \"Experienced\") | (df_filtros1['Q11_new'] == \"Veteran\")),\n",
    "    ((df_filtros1['Q16_new'] == \"Beginner\") | (df_filtros1['Q16_new'] == \"Learner\")) & ((df_filtros1['Q11_new'] == \"Beginner\") | (df_filtros1['Q11_new'] == \"Learner\")),\n",
    "    ((df_filtros1['Q16_new'] == \"Beginner\") | (df_filtros1['Q16_new'] == \"Learner\")) & ((df_filtros1['Q11_new'] == \"Experienced\") | (df_filtros1['Q11_new'] == \"Veteran\")),\n",
    "    (df_filtros1['Q16_new'] == \"Experienced\") & (df_filtros1['Q11_new'] == \"Learner\"),\n",
    "    ((df_filtros1['Q16_new'] == \"Experienced\") | (df_filtros1['Q16_new'] == \"Veteran\")) & ((df_filtros1['Q11_new'] == \"Experienced\") | (df_filtros1['Q11_new'] == \"Veteran\")),\n",
    "    ]\n",
    "\n",
    "classification_values = ['1.New Faces','2.Coders','3.Learners','4.Transitioners','4.Transitioners','5.Experts']\n",
    "df_filtros1['classification'] = np.select(conditions, classification_values)\n",
    "# 5 people are not classified as their experience with ML and coding does not match well\n",
    "df_filtros1 = df_filtros1[df_filtros1.classification != \"0\"]\n",
    "print(df_filtros1['classification'].value_counts().sort_index(ascending=True))"
   ]
  },
  {
   "attachments": {},
   "cell_type": "markdown",
   "metadata": {},
   "source": [
    "##### The top five countries with the highest representation in the Kaggle community, focusing on the data science role\n",
    "\n",
    "In the first part of this report, the classification of experts, which includes those with extensive experience in programming and using machine learning, and who work in the data science industry, will be used. These data will be used to determine two groups, the first the five countries most represented in Kaggle.\n",
    "\n",
    "According to their classification of expert experience, a descriptive analysis will be performed in three different categories, as follows:\n",
    "\n",
    "* Demographic aspects: country, gender, age, area of study.\n",
    "* Industry of participation: industry, company size, incorporation of machine learning methods, annual remuneration, on-the-job activities.\n",
    "* Technologies used: programming languages, IDE integrated development environments, data visualization packages, cloud computing platforms, databases, business intelligence tools, machine learning frameworks, machine learning algorithms, favorite media sources on data science topics."
   ]
  },
  {
   "cell_type": "code",
   "execution_count": 24,
   "metadata": {},
   "outputs": [
    {
     "name": "stdout",
     "output_type": "stream",
     "text": [
      "(921, 254)\n"
     ]
    },
    {
     "data": {
      "text/html": [
       "<div>\n",
       "<style scoped>\n",
       "    .dataframe tbody tr th:only-of-type {\n",
       "        vertical-align: middle;\n",
       "    }\n",
       "\n",
       "    .dataframe tbody tr th {\n",
       "        vertical-align: top;\n",
       "    }\n",
       "\n",
       "    .dataframe thead th {\n",
       "        text-align: right;\n",
       "    }\n",
       "</style>\n",
       "<table border=\"1\" class=\"dataframe\">\n",
       "  <thead>\n",
       "    <tr style=\"text-align: right;\">\n",
       "      <th></th>\n",
       "      <th></th>\n",
       "      <th></th>\n",
       "      <th>Q2</th>\n",
       "      <th>Q3</th>\n",
       "      <th>Q6_1</th>\n",
       "      <th>Q6_2</th>\n",
       "      <th>Q6_3</th>\n",
       "      <th>Q6_4</th>\n",
       "      <th>Q6_5</th>\n",
       "      <th>Q6_6</th>\n",
       "      <th>Q6_7</th>\n",
       "      <th>Q6_8</th>\n",
       "      <th>...</th>\n",
       "      <th>Q44_5</th>\n",
       "      <th>Q44_6</th>\n",
       "      <th>Q44_7</th>\n",
       "      <th>Q44_8</th>\n",
       "      <th>Q44_9</th>\n",
       "      <th>Q44_10</th>\n",
       "      <th>Q44_11</th>\n",
       "      <th>Q44_12</th>\n",
       "      <th>Q16_new</th>\n",
       "      <th>Q11_new</th>\n",
       "    </tr>\n",
       "    <tr>\n",
       "      <th>Q23</th>\n",
       "      <th>classification</th>\n",
       "      <th>Q4</th>\n",
       "      <th></th>\n",
       "      <th></th>\n",
       "      <th></th>\n",
       "      <th></th>\n",
       "      <th></th>\n",
       "      <th></th>\n",
       "      <th></th>\n",
       "      <th></th>\n",
       "      <th></th>\n",
       "      <th></th>\n",
       "      <th></th>\n",
       "      <th></th>\n",
       "      <th></th>\n",
       "      <th></th>\n",
       "      <th></th>\n",
       "      <th></th>\n",
       "      <th></th>\n",
       "      <th></th>\n",
       "      <th></th>\n",
       "      <th></th>\n",
       "      <th></th>\n",
       "    </tr>\n",
       "  </thead>\n",
       "  <tbody>\n",
       "    <tr>\n",
       "      <th rowspan=\"10\" valign=\"top\">Data Scientist</th>\n",
       "      <th rowspan=\"10\" valign=\"top\">5.Experts</th>\n",
       "      <th>USA</th>\n",
       "      <td>240</td>\n",
       "      <td>240</td>\n",
       "      <td>176</td>\n",
       "      <td>46</td>\n",
       "      <td>51</td>\n",
       "      <td>65</td>\n",
       "      <td>32</td>\n",
       "      <td>67</td>\n",
       "      <td>77</td>\n",
       "      <td>57</td>\n",
       "      <td>...</td>\n",
       "      <td>29</td>\n",
       "      <td>110</td>\n",
       "      <td>45</td>\n",
       "      <td>158</td>\n",
       "      <td>96</td>\n",
       "      <td>14</td>\n",
       "      <td>6</td>\n",
       "      <td>16</td>\n",
       "      <td>240</td>\n",
       "      <td>240</td>\n",
       "    </tr>\n",
       "    <tr>\n",
       "      <th>India</th>\n",
       "      <td>175</td>\n",
       "      <td>175</td>\n",
       "      <td>107</td>\n",
       "      <td>28</td>\n",
       "      <td>44</td>\n",
       "      <td>25</td>\n",
       "      <td>19</td>\n",
       "      <td>16</td>\n",
       "      <td>71</td>\n",
       "      <td>23</td>\n",
       "      <td>...</td>\n",
       "      <td>42</td>\n",
       "      <td>109</td>\n",
       "      <td>22</td>\n",
       "      <td>105</td>\n",
       "      <td>42</td>\n",
       "      <td>13</td>\n",
       "      <td>3</td>\n",
       "      <td>7</td>\n",
       "      <td>175</td>\n",
       "      <td>175</td>\n",
       "    </tr>\n",
       "    <tr>\n",
       "      <th>Other</th>\n",
       "      <td>62</td>\n",
       "      <td>62</td>\n",
       "      <td>42</td>\n",
       "      <td>21</td>\n",
       "      <td>20</td>\n",
       "      <td>19</td>\n",
       "      <td>9</td>\n",
       "      <td>15</td>\n",
       "      <td>25</td>\n",
       "      <td>5</td>\n",
       "      <td>...</td>\n",
       "      <td>8</td>\n",
       "      <td>28</td>\n",
       "      <td>8</td>\n",
       "      <td>33</td>\n",
       "      <td>26</td>\n",
       "      <td>7</td>\n",
       "      <td>2</td>\n",
       "      <td>2</td>\n",
       "      <td>62</td>\n",
       "      <td>62</td>\n",
       "    </tr>\n",
       "    <tr>\n",
       "      <th>Brazil</th>\n",
       "      <td>37</td>\n",
       "      <td>37</td>\n",
       "      <td>27</td>\n",
       "      <td>9</td>\n",
       "      <td>16</td>\n",
       "      <td>7</td>\n",
       "      <td>4</td>\n",
       "      <td>12</td>\n",
       "      <td>13</td>\n",
       "      <td>3</td>\n",
       "      <td>...</td>\n",
       "      <td>6</td>\n",
       "      <td>19</td>\n",
       "      <td>6</td>\n",
       "      <td>26</td>\n",
       "      <td>11</td>\n",
       "      <td>2</td>\n",
       "      <td>0</td>\n",
       "      <td>2</td>\n",
       "      <td>37</td>\n",
       "      <td>37</td>\n",
       "    </tr>\n",
       "    <tr>\n",
       "      <th>Japan</th>\n",
       "      <td>34</td>\n",
       "      <td>34</td>\n",
       "      <td>11</td>\n",
       "      <td>3</td>\n",
       "      <td>7</td>\n",
       "      <td>2</td>\n",
       "      <td>1</td>\n",
       "      <td>3</td>\n",
       "      <td>9</td>\n",
       "      <td>1</td>\n",
       "      <td>...</td>\n",
       "      <td>4</td>\n",
       "      <td>19</td>\n",
       "      <td>4</td>\n",
       "      <td>15</td>\n",
       "      <td>11</td>\n",
       "      <td>5</td>\n",
       "      <td>0</td>\n",
       "      <td>0</td>\n",
       "      <td>34</td>\n",
       "      <td>34</td>\n",
       "    </tr>\n",
       "    <tr>\n",
       "      <th>Spain</th>\n",
       "      <td>31</td>\n",
       "      <td>31</td>\n",
       "      <td>27</td>\n",
       "      <td>9</td>\n",
       "      <td>8</td>\n",
       "      <td>8</td>\n",
       "      <td>4</td>\n",
       "      <td>4</td>\n",
       "      <td>7</td>\n",
       "      <td>1</td>\n",
       "      <td>...</td>\n",
       "      <td>4</td>\n",
       "      <td>7</td>\n",
       "      <td>2</td>\n",
       "      <td>19</td>\n",
       "      <td>15</td>\n",
       "      <td>1</td>\n",
       "      <td>0</td>\n",
       "      <td>2</td>\n",
       "      <td>31</td>\n",
       "      <td>31</td>\n",
       "    </tr>\n",
       "    <tr>\n",
       "      <th>UK</th>\n",
       "      <td>31</td>\n",
       "      <td>31</td>\n",
       "      <td>20</td>\n",
       "      <td>5</td>\n",
       "      <td>8</td>\n",
       "      <td>9</td>\n",
       "      <td>2</td>\n",
       "      <td>6</td>\n",
       "      <td>10</td>\n",
       "      <td>8</td>\n",
       "      <td>...</td>\n",
       "      <td>3</td>\n",
       "      <td>12</td>\n",
       "      <td>7</td>\n",
       "      <td>22</td>\n",
       "      <td>20</td>\n",
       "      <td>2</td>\n",
       "      <td>1</td>\n",
       "      <td>1</td>\n",
       "      <td>31</td>\n",
       "      <td>31</td>\n",
       "    </tr>\n",
       "    <tr>\n",
       "      <th>France</th>\n",
       "      <td>28</td>\n",
       "      <td>28</td>\n",
       "      <td>15</td>\n",
       "      <td>4</td>\n",
       "      <td>6</td>\n",
       "      <td>5</td>\n",
       "      <td>2</td>\n",
       "      <td>5</td>\n",
       "      <td>2</td>\n",
       "      <td>2</td>\n",
       "      <td>...</td>\n",
       "      <td>6</td>\n",
       "      <td>12</td>\n",
       "      <td>2</td>\n",
       "      <td>17</td>\n",
       "      <td>7</td>\n",
       "      <td>3</td>\n",
       "      <td>0</td>\n",
       "      <td>1</td>\n",
       "      <td>28</td>\n",
       "      <td>28</td>\n",
       "    </tr>\n",
       "    <tr>\n",
       "      <th>Canada</th>\n",
       "      <td>24</td>\n",
       "      <td>24</td>\n",
       "      <td>18</td>\n",
       "      <td>3</td>\n",
       "      <td>7</td>\n",
       "      <td>8</td>\n",
       "      <td>3</td>\n",
       "      <td>5</td>\n",
       "      <td>10</td>\n",
       "      <td>3</td>\n",
       "      <td>...</td>\n",
       "      <td>3</td>\n",
       "      <td>15</td>\n",
       "      <td>3</td>\n",
       "      <td>17</td>\n",
       "      <td>4</td>\n",
       "      <td>4</td>\n",
       "      <td>1</td>\n",
       "      <td>1</td>\n",
       "      <td>24</td>\n",
       "      <td>24</td>\n",
       "    </tr>\n",
       "    <tr>\n",
       "      <th>Turkey</th>\n",
       "      <td>18</td>\n",
       "      <td>18</td>\n",
       "      <td>11</td>\n",
       "      <td>4</td>\n",
       "      <td>5</td>\n",
       "      <td>6</td>\n",
       "      <td>2</td>\n",
       "      <td>1</td>\n",
       "      <td>10</td>\n",
       "      <td>4</td>\n",
       "      <td>...</td>\n",
       "      <td>5</td>\n",
       "      <td>11</td>\n",
       "      <td>2</td>\n",
       "      <td>11</td>\n",
       "      <td>6</td>\n",
       "      <td>5</td>\n",
       "      <td>0</td>\n",
       "      <td>0</td>\n",
       "      <td>18</td>\n",
       "      <td>18</td>\n",
       "    </tr>\n",
       "  </tbody>\n",
       "</table>\n",
       "<p>10 rows × 251 columns</p>\n",
       "</div>"
      ],
      "text/plain": [
       "                                       Q2   Q3  Q6_1  Q6_2  Q6_3  Q6_4  Q6_5  \\\n",
       "Q23            classification Q4                                               \n",
       "Data Scientist 5.Experts      USA     240  240   176    46    51    65    32   \n",
       "                              India   175  175   107    28    44    25    19   \n",
       "                              Other    62   62    42    21    20    19     9   \n",
       "                              Brazil   37   37    27     9    16     7     4   \n",
       "                              Japan    34   34    11     3     7     2     1   \n",
       "                              Spain    31   31    27     9     8     8     4   \n",
       "                              UK       31   31    20     5     8     9     2   \n",
       "                              France   28   28    15     4     6     5     2   \n",
       "                              Canada   24   24    18     3     7     8     3   \n",
       "                              Turkey   18   18    11     4     5     6     2   \n",
       "\n",
       "                                      Q6_6  Q6_7  Q6_8  ...  Q44_5  Q44_6  \\\n",
       "Q23            classification Q4                        ...                 \n",
       "Data Scientist 5.Experts      USA       67    77    57  ...     29    110   \n",
       "                              India     16    71    23  ...     42    109   \n",
       "                              Other     15    25     5  ...      8     28   \n",
       "                              Brazil    12    13     3  ...      6     19   \n",
       "                              Japan      3     9     1  ...      4     19   \n",
       "                              Spain      4     7     1  ...      4      7   \n",
       "                              UK         6    10     8  ...      3     12   \n",
       "                              France     5     2     2  ...      6     12   \n",
       "                              Canada     5    10     3  ...      3     15   \n",
       "                              Turkey     1    10     4  ...      5     11   \n",
       "\n",
       "                                      Q44_7  Q44_8  Q44_9  Q44_10  Q44_11  \\\n",
       "Q23            classification Q4                                            \n",
       "Data Scientist 5.Experts      USA        45    158     96      14       6   \n",
       "                              India      22    105     42      13       3   \n",
       "                              Other       8     33     26       7       2   \n",
       "                              Brazil      6     26     11       2       0   \n",
       "                              Japan       4     15     11       5       0   \n",
       "                              Spain       2     19     15       1       0   \n",
       "                              UK          7     22     20       2       1   \n",
       "                              France      2     17      7       3       0   \n",
       "                              Canada      3     17      4       4       1   \n",
       "                              Turkey      2     11      6       5       0   \n",
       "\n",
       "                                      Q44_12  Q16_new  Q11_new  \n",
       "Q23            classification Q4                                \n",
       "Data Scientist 5.Experts      USA         16      240      240  \n",
       "                              India        7      175      175  \n",
       "                              Other        2       62       62  \n",
       "                              Brazil       2       37       37  \n",
       "                              Japan        0       34       34  \n",
       "                              Spain        2       31       31  \n",
       "                              UK           1       31       31  \n",
       "                              France       1       28       28  \n",
       "                              Canada       1       24       24  \n",
       "                              Turkey       0       18       18  \n",
       "\n",
       "[10 rows x 251 columns]"
      ]
     },
     "execution_count": 24,
     "metadata": {},
     "output_type": "execute_result"
    }
   ],
   "source": [
    "# df_DS contiene  solo a los experotos en DS con todos los paises\n",
    "conx1=df_filtros1.loc[:,\"classification\"] == '5.Experts'\n",
    "\n",
    "df_DS=df_filtros1.loc[(conx1 ),: ].reset_index(drop=True)\n",
    "print(df_DS.shape)\n",
    "df_DS.head(2)\n",
    "df_DS.groupby(['Q23','classification','Q4' ]).count().sort_values('Q2',ascending=False).head(10)"
   ]
  },
  {
   "cell_type": "code",
   "execution_count": 25,
   "metadata": {},
   "outputs": [
    {
     "name": "stdout",
     "output_type": "stream",
     "text": [
      "5.Experts    548\n",
      "Name: classification, dtype: int64\n",
      "Q4\n",
      "USA       240\n",
      "India     175\n",
      "Other      62\n",
      "Brazil     37\n",
      "Japan      34\n",
      "dtype: int64\n"
     ]
    }
   ],
   "source": [
    "q4_5top =  ['USA', 'India', 'Other', 'Brazil', 'Japan']\n",
    "df_prue=df_DS[df_DS[\"Q4\"].isin(q4_5top)]\n",
    "print(df_prue[\"classification\"].value_counts())\n",
    "print(df_prue.value_counts(\"Q4\"))\n"
   ]
  },
  {
   "attachments": {},
   "cell_type": "markdown",
   "metadata": {},
   "source": [
    "<a id='eda'></a>\n",
    "## Exploratory Data Analysis"
   ]
  },
  {
   "cell_type": "markdown",
   "metadata": {},
   "source": [
    "### > Identify the top five countries with the highest representation in the Kaggle community, focusing on the field of data science and considering levels of programming and machine learning expertise."
   ]
  },
  {
   "cell_type": "code",
   "execution_count": 26,
   "metadata": {},
   "outputs": [
    {
     "data": {
      "application/vnd.plotly.v1+json": {
       "config": {
        "plotlyServerURL": "https://plot.ly"
       },
       "data": [
        {
         "marker": {
          "color": "rgb(199,233,192)"
         },
         "name": "All classification<br>and countries",
         "text": [
          921,
          396,
          482,
          31,
          68
         ],
         "type": "bar",
         "x": [
          "5.Experts",
          "4.Transitioners",
          "3.Learners",
          "2.Coders",
          "1.New Faces"
         ],
         "y": [
          921,
          396,
          482,
          31,
          68
         ]
        },
        {
         "marker": {
          "color": "rgb(0,68,27)"
         },
         "name": "Expert classification<br>top 5 countries",
         "text": [
          548
         ],
         "type": "bar",
         "x": [
          "5.Experts"
         ],
         "y": [
          548
         ]
        }
       ],
       "layout": {
        "barmode": "overlay",
        "template": {
         "data": {
          "bar": [
           {
            "error_x": {
             "color": "#2a3f5f"
            },
            "error_y": {
             "color": "#2a3f5f"
            },
            "marker": {
             "line": {
              "color": "#E5ECF6",
              "width": 0.5
             },
             "pattern": {
              "fillmode": "overlay",
              "size": 10,
              "solidity": 0.2
             }
            },
            "type": "bar"
           }
          ],
          "barpolar": [
           {
            "marker": {
             "line": {
              "color": "#E5ECF6",
              "width": 0.5
             },
             "pattern": {
              "fillmode": "overlay",
              "size": 10,
              "solidity": 0.2
             }
            },
            "type": "barpolar"
           }
          ],
          "carpet": [
           {
            "aaxis": {
             "endlinecolor": "#2a3f5f",
             "gridcolor": "white",
             "linecolor": "white",
             "minorgridcolor": "white",
             "startlinecolor": "#2a3f5f"
            },
            "baxis": {
             "endlinecolor": "#2a3f5f",
             "gridcolor": "white",
             "linecolor": "white",
             "minorgridcolor": "white",
             "startlinecolor": "#2a3f5f"
            },
            "type": "carpet"
           }
          ],
          "choropleth": [
           {
            "colorbar": {
             "outlinewidth": 0,
             "ticks": ""
            },
            "type": "choropleth"
           }
          ],
          "contour": [
           {
            "colorbar": {
             "outlinewidth": 0,
             "ticks": ""
            },
            "colorscale": [
             [
              0,
              "#0d0887"
             ],
             [
              0.1111111111111111,
              "#46039f"
             ],
             [
              0.2222222222222222,
              "#7201a8"
             ],
             [
              0.3333333333333333,
              "#9c179e"
             ],
             [
              0.4444444444444444,
              "#bd3786"
             ],
             [
              0.5555555555555556,
              "#d8576b"
             ],
             [
              0.6666666666666666,
              "#ed7953"
             ],
             [
              0.7777777777777778,
              "#fb9f3a"
             ],
             [
              0.8888888888888888,
              "#fdca26"
             ],
             [
              1,
              "#f0f921"
             ]
            ],
            "type": "contour"
           }
          ],
          "contourcarpet": [
           {
            "colorbar": {
             "outlinewidth": 0,
             "ticks": ""
            },
            "type": "contourcarpet"
           }
          ],
          "heatmap": [
           {
            "colorbar": {
             "outlinewidth": 0,
             "ticks": ""
            },
            "colorscale": [
             [
              0,
              "#0d0887"
             ],
             [
              0.1111111111111111,
              "#46039f"
             ],
             [
              0.2222222222222222,
              "#7201a8"
             ],
             [
              0.3333333333333333,
              "#9c179e"
             ],
             [
              0.4444444444444444,
              "#bd3786"
             ],
             [
              0.5555555555555556,
              "#d8576b"
             ],
             [
              0.6666666666666666,
              "#ed7953"
             ],
             [
              0.7777777777777778,
              "#fb9f3a"
             ],
             [
              0.8888888888888888,
              "#fdca26"
             ],
             [
              1,
              "#f0f921"
             ]
            ],
            "type": "heatmap"
           }
          ],
          "heatmapgl": [
           {
            "colorbar": {
             "outlinewidth": 0,
             "ticks": ""
            },
            "colorscale": [
             [
              0,
              "#0d0887"
             ],
             [
              0.1111111111111111,
              "#46039f"
             ],
             [
              0.2222222222222222,
              "#7201a8"
             ],
             [
              0.3333333333333333,
              "#9c179e"
             ],
             [
              0.4444444444444444,
              "#bd3786"
             ],
             [
              0.5555555555555556,
              "#d8576b"
             ],
             [
              0.6666666666666666,
              "#ed7953"
             ],
             [
              0.7777777777777778,
              "#fb9f3a"
             ],
             [
              0.8888888888888888,
              "#fdca26"
             ],
             [
              1,
              "#f0f921"
             ]
            ],
            "type": "heatmapgl"
           }
          ],
          "histogram": [
           {
            "marker": {
             "pattern": {
              "fillmode": "overlay",
              "size": 10,
              "solidity": 0.2
             }
            },
            "type": "histogram"
           }
          ],
          "histogram2d": [
           {
            "colorbar": {
             "outlinewidth": 0,
             "ticks": ""
            },
            "colorscale": [
             [
              0,
              "#0d0887"
             ],
             [
              0.1111111111111111,
              "#46039f"
             ],
             [
              0.2222222222222222,
              "#7201a8"
             ],
             [
              0.3333333333333333,
              "#9c179e"
             ],
             [
              0.4444444444444444,
              "#bd3786"
             ],
             [
              0.5555555555555556,
              "#d8576b"
             ],
             [
              0.6666666666666666,
              "#ed7953"
             ],
             [
              0.7777777777777778,
              "#fb9f3a"
             ],
             [
              0.8888888888888888,
              "#fdca26"
             ],
             [
              1,
              "#f0f921"
             ]
            ],
            "type": "histogram2d"
           }
          ],
          "histogram2dcontour": [
           {
            "colorbar": {
             "outlinewidth": 0,
             "ticks": ""
            },
            "colorscale": [
             [
              0,
              "#0d0887"
             ],
             [
              0.1111111111111111,
              "#46039f"
             ],
             [
              0.2222222222222222,
              "#7201a8"
             ],
             [
              0.3333333333333333,
              "#9c179e"
             ],
             [
              0.4444444444444444,
              "#bd3786"
             ],
             [
              0.5555555555555556,
              "#d8576b"
             ],
             [
              0.6666666666666666,
              "#ed7953"
             ],
             [
              0.7777777777777778,
              "#fb9f3a"
             ],
             [
              0.8888888888888888,
              "#fdca26"
             ],
             [
              1,
              "#f0f921"
             ]
            ],
            "type": "histogram2dcontour"
           }
          ],
          "mesh3d": [
           {
            "colorbar": {
             "outlinewidth": 0,
             "ticks": ""
            },
            "type": "mesh3d"
           }
          ],
          "parcoords": [
           {
            "line": {
             "colorbar": {
              "outlinewidth": 0,
              "ticks": ""
             }
            },
            "type": "parcoords"
           }
          ],
          "pie": [
           {
            "automargin": true,
            "type": "pie"
           }
          ],
          "scatter": [
           {
            "fillpattern": {
             "fillmode": "overlay",
             "size": 10,
             "solidity": 0.2
            },
            "type": "scatter"
           }
          ],
          "scatter3d": [
           {
            "line": {
             "colorbar": {
              "outlinewidth": 0,
              "ticks": ""
             }
            },
            "marker": {
             "colorbar": {
              "outlinewidth": 0,
              "ticks": ""
             }
            },
            "type": "scatter3d"
           }
          ],
          "scattercarpet": [
           {
            "marker": {
             "colorbar": {
              "outlinewidth": 0,
              "ticks": ""
             }
            },
            "type": "scattercarpet"
           }
          ],
          "scattergeo": [
           {
            "marker": {
             "colorbar": {
              "outlinewidth": 0,
              "ticks": ""
             }
            },
            "type": "scattergeo"
           }
          ],
          "scattergl": [
           {
            "marker": {
             "colorbar": {
              "outlinewidth": 0,
              "ticks": ""
             }
            },
            "type": "scattergl"
           }
          ],
          "scattermapbox": [
           {
            "marker": {
             "colorbar": {
              "outlinewidth": 0,
              "ticks": ""
             }
            },
            "type": "scattermapbox"
           }
          ],
          "scatterpolar": [
           {
            "marker": {
             "colorbar": {
              "outlinewidth": 0,
              "ticks": ""
             }
            },
            "type": "scatterpolar"
           }
          ],
          "scatterpolargl": [
           {
            "marker": {
             "colorbar": {
              "outlinewidth": 0,
              "ticks": ""
             }
            },
            "type": "scatterpolargl"
           }
          ],
          "scatterternary": [
           {
            "marker": {
             "colorbar": {
              "outlinewidth": 0,
              "ticks": ""
             }
            },
            "type": "scatterternary"
           }
          ],
          "surface": [
           {
            "colorbar": {
             "outlinewidth": 0,
             "ticks": ""
            },
            "colorscale": [
             [
              0,
              "#0d0887"
             ],
             [
              0.1111111111111111,
              "#46039f"
             ],
             [
              0.2222222222222222,
              "#7201a8"
             ],
             [
              0.3333333333333333,
              "#9c179e"
             ],
             [
              0.4444444444444444,
              "#bd3786"
             ],
             [
              0.5555555555555556,
              "#d8576b"
             ],
             [
              0.6666666666666666,
              "#ed7953"
             ],
             [
              0.7777777777777778,
              "#fb9f3a"
             ],
             [
              0.8888888888888888,
              "#fdca26"
             ],
             [
              1,
              "#f0f921"
             ]
            ],
            "type": "surface"
           }
          ],
          "table": [
           {
            "cells": {
             "fill": {
              "color": "#EBF0F8"
             },
             "line": {
              "color": "white"
             }
            },
            "header": {
             "fill": {
              "color": "#C8D4E3"
             },
             "line": {
              "color": "white"
             }
            },
            "type": "table"
           }
          ]
         },
         "layout": {
          "annotationdefaults": {
           "arrowcolor": "#2a3f5f",
           "arrowhead": 0,
           "arrowwidth": 1
          },
          "autotypenumbers": "strict",
          "coloraxis": {
           "colorbar": {
            "outlinewidth": 0,
            "ticks": ""
           }
          },
          "colorscale": {
           "diverging": [
            [
             0,
             "#8e0152"
            ],
            [
             0.1,
             "#c51b7d"
            ],
            [
             0.2,
             "#de77ae"
            ],
            [
             0.3,
             "#f1b6da"
            ],
            [
             0.4,
             "#fde0ef"
            ],
            [
             0.5,
             "#f7f7f7"
            ],
            [
             0.6,
             "#e6f5d0"
            ],
            [
             0.7,
             "#b8e186"
            ],
            [
             0.8,
             "#7fbc41"
            ],
            [
             0.9,
             "#4d9221"
            ],
            [
             1,
             "#276419"
            ]
           ],
           "sequential": [
            [
             0,
             "#0d0887"
            ],
            [
             0.1111111111111111,
             "#46039f"
            ],
            [
             0.2222222222222222,
             "#7201a8"
            ],
            [
             0.3333333333333333,
             "#9c179e"
            ],
            [
             0.4444444444444444,
             "#bd3786"
            ],
            [
             0.5555555555555556,
             "#d8576b"
            ],
            [
             0.6666666666666666,
             "#ed7953"
            ],
            [
             0.7777777777777778,
             "#fb9f3a"
            ],
            [
             0.8888888888888888,
             "#fdca26"
            ],
            [
             1,
             "#f0f921"
            ]
           ],
           "sequentialminus": [
            [
             0,
             "#0d0887"
            ],
            [
             0.1111111111111111,
             "#46039f"
            ],
            [
             0.2222222222222222,
             "#7201a8"
            ],
            [
             0.3333333333333333,
             "#9c179e"
            ],
            [
             0.4444444444444444,
             "#bd3786"
            ],
            [
             0.5555555555555556,
             "#d8576b"
            ],
            [
             0.6666666666666666,
             "#ed7953"
            ],
            [
             0.7777777777777778,
             "#fb9f3a"
            ],
            [
             0.8888888888888888,
             "#fdca26"
            ],
            [
             1,
             "#f0f921"
            ]
           ]
          },
          "colorway": [
           "#636efa",
           "#EF553B",
           "#00cc96",
           "#ab63fa",
           "#FFA15A",
           "#19d3f3",
           "#FF6692",
           "#B6E880",
           "#FF97FF",
           "#FECB52"
          ],
          "font": {
           "color": "#2a3f5f"
          },
          "geo": {
           "bgcolor": "white",
           "lakecolor": "white",
           "landcolor": "#E5ECF6",
           "showlakes": true,
           "showland": true,
           "subunitcolor": "white"
          },
          "hoverlabel": {
           "align": "left"
          },
          "hovermode": "closest",
          "mapbox": {
           "style": "light"
          },
          "paper_bgcolor": "white",
          "plot_bgcolor": "#E5ECF6",
          "polar": {
           "angularaxis": {
            "gridcolor": "white",
            "linecolor": "white",
            "ticks": ""
           },
           "bgcolor": "#E5ECF6",
           "radialaxis": {
            "gridcolor": "white",
            "linecolor": "white",
            "ticks": ""
           }
          },
          "scene": {
           "xaxis": {
            "backgroundcolor": "#E5ECF6",
            "gridcolor": "white",
            "gridwidth": 2,
            "linecolor": "white",
            "showbackground": true,
            "ticks": "",
            "zerolinecolor": "white"
           },
           "yaxis": {
            "backgroundcolor": "#E5ECF6",
            "gridcolor": "white",
            "gridwidth": 2,
            "linecolor": "white",
            "showbackground": true,
            "ticks": "",
            "zerolinecolor": "white"
           },
           "zaxis": {
            "backgroundcolor": "#E5ECF6",
            "gridcolor": "white",
            "gridwidth": 2,
            "linecolor": "white",
            "showbackground": true,
            "ticks": "",
            "zerolinecolor": "white"
           }
          },
          "shapedefaults": {
           "line": {
            "color": "#2a3f5f"
           }
          },
          "ternary": {
           "aaxis": {
            "gridcolor": "white",
            "linecolor": "white",
            "ticks": ""
           },
           "baxis": {
            "gridcolor": "white",
            "linecolor": "white",
            "ticks": ""
           },
           "bgcolor": "#E5ECF6",
           "caxis": {
            "gridcolor": "white",
            "linecolor": "white",
            "ticks": ""
           }
          },
          "title": {
           "x": 0.05
          },
          "xaxis": {
           "automargin": true,
           "gridcolor": "white",
           "linecolor": "white",
           "ticks": "",
           "title": {
            "standoff": 15
           },
           "zerolinecolor": "white",
           "zerolinewidth": 2
          },
          "yaxis": {
           "automargin": true,
           "gridcolor": "white",
           "linecolor": "white",
           "ticks": "",
           "title": {
            "standoff": 15
           },
           "zerolinecolor": "white",
           "zerolinewidth": 2
          }
         }
        },
        "title": {
         "text": "All classification and countries."
        },
        "yaxis": {
         "title": {
          "text": "Number of responders"
         }
        }
       }
      }
     },
     "metadata": {},
     "output_type": "display_data"
    }
   ],
   "source": [
    "class_all=df_filtros1.value_counts(\"classification\").sort_index(ascending=False)\n",
    "class_exp=df_prue.value_counts(\"classification\")\n",
    "\n",
    "fig = go.Figure()\n",
    "fig.add_trace(go.Bar(x=class_all.index,   y=class_all.values,   marker_color='rgb(199,233,192)',name= 'All classification<br>and countries',text=class_all.values))\n",
    "fig.add_trace(go.Bar(x=class_exp.index,   y=class_exp.values,   marker_color='rgb(0,68,27)',name= 'Expert classification<br>top 5 countries',text=class_exp.values))\n",
    "\n",
    "fig.update_layout(barmode='overlay',title_text='All classification and countries.',yaxis_title=\"Number of responders\")\n",
    "fig.show()"
   ]
  },
  {
   "cell_type": "markdown",
   "metadata": {},
   "source": [
    "In addition to categorizing experts based on their data science role, a geographical classification was also conducted focusing on the top 5 countries with the highest representation in the Kaggle community. These countries are **the United States, India, Others, Brazil, and Japan**, with a total of 548 surveyed users, **representing approximately 28.87% of the total users**, as shown in Figure."
   ]
  },
  {
   "cell_type": "code",
   "execution_count": 27,
   "metadata": {},
   "outputs": [
    {
     "name": "stdout",
     "output_type": "stream",
     "text": [
      "28.87\n"
     ]
    },
    {
     "data": {
      "application/vnd.plotly.v1+json": {
       "config": {
        "plotlyServerURL": "https://plot.ly"
       },
       "data": [
        {
         "marker": {
          "color": "rgb(199,233,192)"
         },
         "name": "All countries",
         "text": [
          240,
          175,
          62,
          37,
          34,
          31,
          31,
          28,
          24,
          18,
          16,
          16,
          15,
          15,
          14,
          12,
          11,
          10,
          10,
          9,
          9,
          9
         ],
         "textposition": "inside",
         "type": "bar",
         "x": [
          "USA",
          "India",
          "Other",
          "Brazil",
          "Japan",
          "Spain",
          "UK",
          "France",
          "Canada",
          "Turkey",
          "Australia",
          "Israel",
          "Mexico",
          "Germany",
          "Netherlands",
          "Italy",
          "Poland",
          "South Korea",
          "Portugal",
          "Argentina",
          "Chile",
          "Colombia"
         ],
         "y": [
          240,
          175,
          62,
          37,
          34,
          31,
          31,
          28,
          24,
          18,
          16,
          16,
          15,
          15,
          14,
          12,
          11,
          10,
          10,
          9,
          9,
          9
         ]
        },
        {
         "marker": {
          "color": "rgb(0,68,27)"
         },
         "name": "Study countries",
         "text": [
          240,
          175,
          62,
          37,
          34
         ],
         "textposition": "inside",
         "type": "bar",
         "x": [
          "USA",
          "India",
          "Other",
          "Brazil",
          "Japan"
         ],
         "y": [
          240,
          175,
          62,
          37,
          34
         ]
        }
       ],
       "layout": {
        "barmode": "overlay",
        "template": {
         "data": {
          "bar": [
           {
            "error_x": {
             "color": "#2a3f5f"
            },
            "error_y": {
             "color": "#2a3f5f"
            },
            "marker": {
             "line": {
              "color": "#E5ECF6",
              "width": 0.5
             },
             "pattern": {
              "fillmode": "overlay",
              "size": 10,
              "solidity": 0.2
             }
            },
            "type": "bar"
           }
          ],
          "barpolar": [
           {
            "marker": {
             "line": {
              "color": "#E5ECF6",
              "width": 0.5
             },
             "pattern": {
              "fillmode": "overlay",
              "size": 10,
              "solidity": 0.2
             }
            },
            "type": "barpolar"
           }
          ],
          "carpet": [
           {
            "aaxis": {
             "endlinecolor": "#2a3f5f",
             "gridcolor": "white",
             "linecolor": "white",
             "minorgridcolor": "white",
             "startlinecolor": "#2a3f5f"
            },
            "baxis": {
             "endlinecolor": "#2a3f5f",
             "gridcolor": "white",
             "linecolor": "white",
             "minorgridcolor": "white",
             "startlinecolor": "#2a3f5f"
            },
            "type": "carpet"
           }
          ],
          "choropleth": [
           {
            "colorbar": {
             "outlinewidth": 0,
             "ticks": ""
            },
            "type": "choropleth"
           }
          ],
          "contour": [
           {
            "colorbar": {
             "outlinewidth": 0,
             "ticks": ""
            },
            "colorscale": [
             [
              0,
              "#0d0887"
             ],
             [
              0.1111111111111111,
              "#46039f"
             ],
             [
              0.2222222222222222,
              "#7201a8"
             ],
             [
              0.3333333333333333,
              "#9c179e"
             ],
             [
              0.4444444444444444,
              "#bd3786"
             ],
             [
              0.5555555555555556,
              "#d8576b"
             ],
             [
              0.6666666666666666,
              "#ed7953"
             ],
             [
              0.7777777777777778,
              "#fb9f3a"
             ],
             [
              0.8888888888888888,
              "#fdca26"
             ],
             [
              1,
              "#f0f921"
             ]
            ],
            "type": "contour"
           }
          ],
          "contourcarpet": [
           {
            "colorbar": {
             "outlinewidth": 0,
             "ticks": ""
            },
            "type": "contourcarpet"
           }
          ],
          "heatmap": [
           {
            "colorbar": {
             "outlinewidth": 0,
             "ticks": ""
            },
            "colorscale": [
             [
              0,
              "#0d0887"
             ],
             [
              0.1111111111111111,
              "#46039f"
             ],
             [
              0.2222222222222222,
              "#7201a8"
             ],
             [
              0.3333333333333333,
              "#9c179e"
             ],
             [
              0.4444444444444444,
              "#bd3786"
             ],
             [
              0.5555555555555556,
              "#d8576b"
             ],
             [
              0.6666666666666666,
              "#ed7953"
             ],
             [
              0.7777777777777778,
              "#fb9f3a"
             ],
             [
              0.8888888888888888,
              "#fdca26"
             ],
             [
              1,
              "#f0f921"
             ]
            ],
            "type": "heatmap"
           }
          ],
          "heatmapgl": [
           {
            "colorbar": {
             "outlinewidth": 0,
             "ticks": ""
            },
            "colorscale": [
             [
              0,
              "#0d0887"
             ],
             [
              0.1111111111111111,
              "#46039f"
             ],
             [
              0.2222222222222222,
              "#7201a8"
             ],
             [
              0.3333333333333333,
              "#9c179e"
             ],
             [
              0.4444444444444444,
              "#bd3786"
             ],
             [
              0.5555555555555556,
              "#d8576b"
             ],
             [
              0.6666666666666666,
              "#ed7953"
             ],
             [
              0.7777777777777778,
              "#fb9f3a"
             ],
             [
              0.8888888888888888,
              "#fdca26"
             ],
             [
              1,
              "#f0f921"
             ]
            ],
            "type": "heatmapgl"
           }
          ],
          "histogram": [
           {
            "marker": {
             "pattern": {
              "fillmode": "overlay",
              "size": 10,
              "solidity": 0.2
             }
            },
            "type": "histogram"
           }
          ],
          "histogram2d": [
           {
            "colorbar": {
             "outlinewidth": 0,
             "ticks": ""
            },
            "colorscale": [
             [
              0,
              "#0d0887"
             ],
             [
              0.1111111111111111,
              "#46039f"
             ],
             [
              0.2222222222222222,
              "#7201a8"
             ],
             [
              0.3333333333333333,
              "#9c179e"
             ],
             [
              0.4444444444444444,
              "#bd3786"
             ],
             [
              0.5555555555555556,
              "#d8576b"
             ],
             [
              0.6666666666666666,
              "#ed7953"
             ],
             [
              0.7777777777777778,
              "#fb9f3a"
             ],
             [
              0.8888888888888888,
              "#fdca26"
             ],
             [
              1,
              "#f0f921"
             ]
            ],
            "type": "histogram2d"
           }
          ],
          "histogram2dcontour": [
           {
            "colorbar": {
             "outlinewidth": 0,
             "ticks": ""
            },
            "colorscale": [
             [
              0,
              "#0d0887"
             ],
             [
              0.1111111111111111,
              "#46039f"
             ],
             [
              0.2222222222222222,
              "#7201a8"
             ],
             [
              0.3333333333333333,
              "#9c179e"
             ],
             [
              0.4444444444444444,
              "#bd3786"
             ],
             [
              0.5555555555555556,
              "#d8576b"
             ],
             [
              0.6666666666666666,
              "#ed7953"
             ],
             [
              0.7777777777777778,
              "#fb9f3a"
             ],
             [
              0.8888888888888888,
              "#fdca26"
             ],
             [
              1,
              "#f0f921"
             ]
            ],
            "type": "histogram2dcontour"
           }
          ],
          "mesh3d": [
           {
            "colorbar": {
             "outlinewidth": 0,
             "ticks": ""
            },
            "type": "mesh3d"
           }
          ],
          "parcoords": [
           {
            "line": {
             "colorbar": {
              "outlinewidth": 0,
              "ticks": ""
             }
            },
            "type": "parcoords"
           }
          ],
          "pie": [
           {
            "automargin": true,
            "type": "pie"
           }
          ],
          "scatter": [
           {
            "fillpattern": {
             "fillmode": "overlay",
             "size": 10,
             "solidity": 0.2
            },
            "type": "scatter"
           }
          ],
          "scatter3d": [
           {
            "line": {
             "colorbar": {
              "outlinewidth": 0,
              "ticks": ""
             }
            },
            "marker": {
             "colorbar": {
              "outlinewidth": 0,
              "ticks": ""
             }
            },
            "type": "scatter3d"
           }
          ],
          "scattercarpet": [
           {
            "marker": {
             "colorbar": {
              "outlinewidth": 0,
              "ticks": ""
             }
            },
            "type": "scattercarpet"
           }
          ],
          "scattergeo": [
           {
            "marker": {
             "colorbar": {
              "outlinewidth": 0,
              "ticks": ""
             }
            },
            "type": "scattergeo"
           }
          ],
          "scattergl": [
           {
            "marker": {
             "colorbar": {
              "outlinewidth": 0,
              "ticks": ""
             }
            },
            "type": "scattergl"
           }
          ],
          "scattermapbox": [
           {
            "marker": {
             "colorbar": {
              "outlinewidth": 0,
              "ticks": ""
             }
            },
            "type": "scattermapbox"
           }
          ],
          "scatterpolar": [
           {
            "marker": {
             "colorbar": {
              "outlinewidth": 0,
              "ticks": ""
             }
            },
            "type": "scatterpolar"
           }
          ],
          "scatterpolargl": [
           {
            "marker": {
             "colorbar": {
              "outlinewidth": 0,
              "ticks": ""
             }
            },
            "type": "scatterpolargl"
           }
          ],
          "scatterternary": [
           {
            "marker": {
             "colorbar": {
              "outlinewidth": 0,
              "ticks": ""
             }
            },
            "type": "scatterternary"
           }
          ],
          "surface": [
           {
            "colorbar": {
             "outlinewidth": 0,
             "ticks": ""
            },
            "colorscale": [
             [
              0,
              "#0d0887"
             ],
             [
              0.1111111111111111,
              "#46039f"
             ],
             [
              0.2222222222222222,
              "#7201a8"
             ],
             [
              0.3333333333333333,
              "#9c179e"
             ],
             [
              0.4444444444444444,
              "#bd3786"
             ],
             [
              0.5555555555555556,
              "#d8576b"
             ],
             [
              0.6666666666666666,
              "#ed7953"
             ],
             [
              0.7777777777777778,
              "#fb9f3a"
             ],
             [
              0.8888888888888888,
              "#fdca26"
             ],
             [
              1,
              "#f0f921"
             ]
            ],
            "type": "surface"
           }
          ],
          "table": [
           {
            "cells": {
             "fill": {
              "color": "#EBF0F8"
             },
             "line": {
              "color": "white"
             }
            },
            "header": {
             "fill": {
              "color": "#C8D4E3"
             },
             "line": {
              "color": "white"
             }
            },
            "type": "table"
           }
          ]
         },
         "layout": {
          "annotationdefaults": {
           "arrowcolor": "#2a3f5f",
           "arrowhead": 0,
           "arrowwidth": 1
          },
          "autotypenumbers": "strict",
          "coloraxis": {
           "colorbar": {
            "outlinewidth": 0,
            "ticks": ""
           }
          },
          "colorscale": {
           "diverging": [
            [
             0,
             "#8e0152"
            ],
            [
             0.1,
             "#c51b7d"
            ],
            [
             0.2,
             "#de77ae"
            ],
            [
             0.3,
             "#f1b6da"
            ],
            [
             0.4,
             "#fde0ef"
            ],
            [
             0.5,
             "#f7f7f7"
            ],
            [
             0.6,
             "#e6f5d0"
            ],
            [
             0.7,
             "#b8e186"
            ],
            [
             0.8,
             "#7fbc41"
            ],
            [
             0.9,
             "#4d9221"
            ],
            [
             1,
             "#276419"
            ]
           ],
           "sequential": [
            [
             0,
             "#0d0887"
            ],
            [
             0.1111111111111111,
             "#46039f"
            ],
            [
             0.2222222222222222,
             "#7201a8"
            ],
            [
             0.3333333333333333,
             "#9c179e"
            ],
            [
             0.4444444444444444,
             "#bd3786"
            ],
            [
             0.5555555555555556,
             "#d8576b"
            ],
            [
             0.6666666666666666,
             "#ed7953"
            ],
            [
             0.7777777777777778,
             "#fb9f3a"
            ],
            [
             0.8888888888888888,
             "#fdca26"
            ],
            [
             1,
             "#f0f921"
            ]
           ],
           "sequentialminus": [
            [
             0,
             "#0d0887"
            ],
            [
             0.1111111111111111,
             "#46039f"
            ],
            [
             0.2222222222222222,
             "#7201a8"
            ],
            [
             0.3333333333333333,
             "#9c179e"
            ],
            [
             0.4444444444444444,
             "#bd3786"
            ],
            [
             0.5555555555555556,
             "#d8576b"
            ],
            [
             0.6666666666666666,
             "#ed7953"
            ],
            [
             0.7777777777777778,
             "#fb9f3a"
            ],
            [
             0.8888888888888888,
             "#fdca26"
            ],
            [
             1,
             "#f0f921"
            ]
           ]
          },
          "colorway": [
           "#636efa",
           "#EF553B",
           "#00cc96",
           "#ab63fa",
           "#FFA15A",
           "#19d3f3",
           "#FF6692",
           "#B6E880",
           "#FF97FF",
           "#FECB52"
          ],
          "font": {
           "color": "#2a3f5f"
          },
          "geo": {
           "bgcolor": "white",
           "lakecolor": "white",
           "landcolor": "#E5ECF6",
           "showlakes": true,
           "showland": true,
           "subunitcolor": "white"
          },
          "hoverlabel": {
           "align": "left"
          },
          "hovermode": "closest",
          "mapbox": {
           "style": "light"
          },
          "paper_bgcolor": "white",
          "plot_bgcolor": "#E5ECF6",
          "polar": {
           "angularaxis": {
            "gridcolor": "white",
            "linecolor": "white",
            "ticks": ""
           },
           "bgcolor": "#E5ECF6",
           "radialaxis": {
            "gridcolor": "white",
            "linecolor": "white",
            "ticks": ""
           }
          },
          "scene": {
           "xaxis": {
            "backgroundcolor": "#E5ECF6",
            "gridcolor": "white",
            "gridwidth": 2,
            "linecolor": "white",
            "showbackground": true,
            "ticks": "",
            "zerolinecolor": "white"
           },
           "yaxis": {
            "backgroundcolor": "#E5ECF6",
            "gridcolor": "white",
            "gridwidth": 2,
            "linecolor": "white",
            "showbackground": true,
            "ticks": "",
            "zerolinecolor": "white"
           },
           "zaxis": {
            "backgroundcolor": "#E5ECF6",
            "gridcolor": "white",
            "gridwidth": 2,
            "linecolor": "white",
            "showbackground": true,
            "ticks": "",
            "zerolinecolor": "white"
           }
          },
          "shapedefaults": {
           "line": {
            "color": "#2a3f5f"
           }
          },
          "ternary": {
           "aaxis": {
            "gridcolor": "white",
            "linecolor": "white",
            "ticks": ""
           },
           "baxis": {
            "gridcolor": "white",
            "linecolor": "white",
            "ticks": ""
           },
           "bgcolor": "#E5ECF6",
           "caxis": {
            "gridcolor": "white",
            "linecolor": "white",
            "ticks": ""
           }
          },
          "title": {
           "x": 0.05
          },
          "xaxis": {
           "automargin": true,
           "gridcolor": "white",
           "linecolor": "white",
           "ticks": "",
           "title": {
            "standoff": 15
           },
           "zerolinecolor": "white",
           "zerolinewidth": 2
          },
          "yaxis": {
           "automargin": true,
           "gridcolor": "white",
           "linecolor": "white",
           "ticks": "",
           "title": {
            "standoff": 15
           },
           "zerolinecolor": "white",
           "zerolinewidth": 2
          }
         }
        },
        "title": {
         "text": "Expert classification, the darker green means the top 5 countries."
        },
        "yaxis": {
         "title": {
          "text": "Number of responders"
         }
        }
       }
      }
     },
     "metadata": {},
     "output_type": "display_data"
    }
   ],
   "source": [
    "# df_DS\n",
    "# df_prue\n",
    "\n",
    "country_all=df_DS.groupby([\"Q4\",'classification'],as_index=False).size().sort_values('size',ascending=False,ignore_index=True)[:22]\n",
    "country_study=df_prue.groupby([\"Q4\",'classification'],as_index=False).size().sort_values('size',ascending=False,ignore_index=True)[:22]\n",
    "# country_comp=df_prue2.groupby([\"Q4\",'classification'],as_index=False).size().sort_values('classification',ascending=False,ignore_index=True)[:22]\n",
    "fig = go.Figure()\n",
    "fig.add_trace(go.Bar(x=country_all['Q4'],   y=country_all[\"size\"],   marker_color='rgb(199,233,192)',name= 'All countries',\n",
    "                    text =country_all['size'],textposition = \"inside\"))\n",
    "fig.add_trace(go.Bar(x=country_study['Q4'],   y=country_study[\"size\"],   marker_color='rgb(0,68,27)',name= 'Study countries',\n",
    "                    text =country_study['size'],textposition = \"inside\"))\n",
    "\n",
    "print(round((class_exp.sum()/class_all.sum())*100,2))\n",
    "# anotations\n",
    "fig.update_layout(barmode='overlay',yaxis_title=\"Number of responders\",title_text='Expert classification, the darker green means the top 5 countries.')\n",
    "fig.show()"
   ]
  },
  {
   "cell_type": "markdown",
   "metadata": {},
   "source": [
    "This geographical classification provides an additional perspective on the distribution of expert data scientists in the Kaggle community, highlighting the relevance and participation of these countries on the platform. **Note**: \"Other\" is a special category that groups surveys from countries with fewer than 50 respondents, which may indicate that these are countries where the use of data science is in its early stages. This grouping helps identify those countries with lower representation in the Kaggle community, possibly due to lower development or adoption of data science compared to the more prominent countries on the platform."
   ]
  },
  {
   "cell_type": "markdown",
   "metadata": {},
   "source": [
    "### > Analysis of the demographics and industries to which data science experts are affiliated, exploring factors such as gender distribution, age, education, geographic location, and areas of industrial specialization."
   ]
  },
  {
   "attachments": {},
   "cell_type": "markdown",
   "metadata": {},
   "source": [
    "#### **Gender**\n",
    "\n",
    "The graph shows that men represent 86.32% of the total, while women and others make up 13.67%, the latter category being the minority. **Note:** The \"Others\" group includes non-binary people, those who described themselves uniquely and those who did not feel comfortable describing their gender.\n"
   ]
  },
  {
   "cell_type": "code",
   "execution_count": 28,
   "metadata": {},
   "outputs": [
    {
     "data": {
      "application/vnd.plotly.v1+json": {
       "config": {
        "plotlyServerURL": "https://plot.ly"
       },
       "data": [
        {
         "alignmentgroup": "True",
         "hovertemplate": "Q3=%{y}<br>Q4=USA<br>size=%{x}<br>avg=%{text}<extra></extra>",
         "legendgroup": "Man",
         "marker": {
          "color": "rgb(0,68,27)",
          "pattern": {
           "shape": ""
          }
         },
         "name": "Man",
         "offsetgroup": "Man",
         "orientation": "h",
         "showlegend": true,
         "text": [
          "35.77%"
         ],
         "textposition": "auto",
         "texttemplate": "%{x}",
         "type": "bar",
         "x": [
          196
         ],
         "xaxis": "x",
         "y": [
          "Man"
         ],
         "yaxis": "y"
        },
        {
         "alignmentgroup": "True",
         "hovertemplate": "Q3=%{y}<br>Q4=India<br>size=%{x}<br>avg=%{text}<extra></extra>",
         "legendgroup": "Man",
         "marker": {
          "color": "rgb(0,68,27)",
          "pattern": {
           "shape": ""
          }
         },
         "name": "Man",
         "offsetgroup": "Man",
         "orientation": "h",
         "showlegend": false,
         "text": [
          "28.65%"
         ],
         "textposition": "auto",
         "texttemplate": "%{x}",
         "type": "bar",
         "x": [
          157
         ],
         "xaxis": "x2",
         "y": [
          "Man"
         ],
         "yaxis": "y2"
        },
        {
         "alignmentgroup": "True",
         "hovertemplate": "Q3=%{y}<br>Q4=Other<br>size=%{x}<br>avg=%{text}<extra></extra>",
         "legendgroup": "Man",
         "marker": {
          "color": "rgb(0,68,27)",
          "pattern": {
           "shape": ""
          }
         },
         "name": "Man",
         "offsetgroup": "Man",
         "orientation": "h",
         "showlegend": false,
         "text": [
          "9.85%"
         ],
         "textposition": "auto",
         "texttemplate": "%{x}",
         "type": "bar",
         "x": [
          54
         ],
         "xaxis": "x3",
         "y": [
          "Man"
         ],
         "yaxis": "y3"
        },
        {
         "alignmentgroup": "True",
         "hovertemplate": "Q3=%{y}<br>Q4=Brazil<br>size=%{x}<br>avg=%{text}<extra></extra>",
         "legendgroup": "Man",
         "marker": {
          "color": "rgb(0,68,27)",
          "pattern": {
           "shape": ""
          }
         },
         "name": "Man",
         "offsetgroup": "Man",
         "orientation": "h",
         "showlegend": false,
         "text": [
          "6.39%"
         ],
         "textposition": "auto",
         "texttemplate": "%{x}",
         "type": "bar",
         "x": [
          35
         ],
         "xaxis": "x4",
         "y": [
          "Man"
         ],
         "yaxis": "y4"
        },
        {
         "alignmentgroup": "True",
         "hovertemplate": "Q3=%{y}<br>Q4=Japan<br>size=%{x}<br>avg=%{text}<extra></extra>",
         "legendgroup": "Man",
         "marker": {
          "color": "rgb(0,68,27)",
          "pattern": {
           "shape": ""
          }
         },
         "name": "Man",
         "offsetgroup": "Man",
         "orientation": "h",
         "showlegend": false,
         "text": [
          "5.66%"
         ],
         "textposition": "auto",
         "texttemplate": "%{x}",
         "type": "bar",
         "x": [
          31
         ],
         "xaxis": "x5",
         "y": [
          "Man"
         ],
         "yaxis": "y5"
        },
        {
         "alignmentgroup": "True",
         "hovertemplate": "Q3=%{y}<br>Q4=USA<br>size=%{x}<br>avg=%{text}<extra></extra>",
         "legendgroup": "Woman",
         "marker": {
          "color": "rgb(116,196,118)",
          "pattern": {
           "shape": ""
          }
         },
         "name": "Woman",
         "offsetgroup": "Woman",
         "orientation": "h",
         "showlegend": true,
         "text": [
          "6.93%"
         ],
         "textposition": "auto",
         "texttemplate": "%{x}",
         "type": "bar",
         "x": [
          38
         ],
         "xaxis": "x",
         "y": [
          "Woman"
         ],
         "yaxis": "y"
        },
        {
         "alignmentgroup": "True",
         "hovertemplate": "Q3=%{y}<br>Q4=India<br>size=%{x}<br>avg=%{text}<extra></extra>",
         "legendgroup": "Woman",
         "marker": {
          "color": "rgb(116,196,118)",
          "pattern": {
           "shape": ""
          }
         },
         "name": "Woman",
         "offsetgroup": "Woman",
         "orientation": "h",
         "showlegend": false,
         "text": [
          "2.92%"
         ],
         "textposition": "auto",
         "texttemplate": "%{x}",
         "type": "bar",
         "x": [
          16
         ],
         "xaxis": "x2",
         "y": [
          "Woman"
         ],
         "yaxis": "y2"
        },
        {
         "alignmentgroup": "True",
         "hovertemplate": "Q3=%{y}<br>Q4=Other<br>size=%{x}<br>avg=%{text}<extra></extra>",
         "legendgroup": "Woman",
         "marker": {
          "color": "rgb(116,196,118)",
          "pattern": {
           "shape": ""
          }
         },
         "name": "Woman",
         "offsetgroup": "Woman",
         "orientation": "h",
         "showlegend": false,
         "text": [
          "1.46%"
         ],
         "textposition": "auto",
         "texttemplate": "%{x}",
         "type": "bar",
         "x": [
          8
         ],
         "xaxis": "x3",
         "y": [
          "Woman"
         ],
         "yaxis": "y3"
        },
        {
         "alignmentgroup": "True",
         "hovertemplate": "Q3=%{y}<br>Q4=Brazil<br>size=%{x}<br>avg=%{text}<extra></extra>",
         "legendgroup": "Woman",
         "marker": {
          "color": "rgb(116,196,118)",
          "pattern": {
           "shape": ""
          }
         },
         "name": "Woman",
         "offsetgroup": "Woman",
         "orientation": "h",
         "showlegend": false,
         "text": [
          "0.36%"
         ],
         "textposition": "auto",
         "texttemplate": "%{x}",
         "type": "bar",
         "x": [
          2
         ],
         "xaxis": "x4",
         "y": [
          "Woman"
         ],
         "yaxis": "y4"
        },
        {
         "alignmentgroup": "True",
         "hovertemplate": "Q3=%{y}<br>Q4=Japan<br>size=%{x}<br>avg=%{text}<extra></extra>",
         "legendgroup": "Woman",
         "marker": {
          "color": "rgb(116,196,118)",
          "pattern": {
           "shape": ""
          }
         },
         "name": "Woman",
         "offsetgroup": "Woman",
         "orientation": "h",
         "showlegend": false,
         "text": [
          "0.55%"
         ],
         "textposition": "auto",
         "texttemplate": "%{x}",
         "type": "bar",
         "x": [
          3
         ],
         "xaxis": "x5",
         "y": [
          "Woman"
         ],
         "yaxis": "y5"
        },
        {
         "alignmentgroup": "True",
         "hovertemplate": "Q3=%{y}<br>Q4=USA<br>size=%{x}<br>avg=%{text}<extra></extra>",
         "legendgroup": "Others",
         "marker": {
          "color": "rgb(35,139,69)",
          "pattern": {
           "shape": ""
          }
         },
         "name": "Others",
         "offsetgroup": "Others",
         "orientation": "h",
         "showlegend": true,
         "text": [
          "1.09%"
         ],
         "textposition": "auto",
         "texttemplate": "%{x}",
         "type": "bar",
         "x": [
          6
         ],
         "xaxis": "x",
         "y": [
          "Others"
         ],
         "yaxis": "y"
        },
        {
         "alignmentgroup": "True",
         "hovertemplate": "Q3=%{y}<br>Q4=India<br>size=%{x}<br>avg=%{text}<extra></extra>",
         "legendgroup": "Others",
         "marker": {
          "color": "rgb(35,139,69)",
          "pattern": {
           "shape": ""
          }
         },
         "name": "Others",
         "offsetgroup": "Others",
         "orientation": "h",
         "showlegend": false,
         "text": [
          "0.36%"
         ],
         "textposition": "auto",
         "texttemplate": "%{x}",
         "type": "bar",
         "x": [
          2
         ],
         "xaxis": "x2",
         "y": [
          "Others"
         ],
         "yaxis": "y2"
        }
       ],
       "layout": {
        "annotations": [
         {
          "font": {},
          "showarrow": false,
          "text": "USA",
          "x": 0.09200000000000001,
          "xanchor": "center",
          "xref": "paper",
          "y": 1,
          "yanchor": "bottom",
          "yref": "paper"
         },
         {
          "font": {},
          "showarrow": false,
          "text": "India",
          "x": 0.29600000000000004,
          "xanchor": "center",
          "xref": "paper",
          "y": 1,
          "yanchor": "bottom",
          "yref": "paper"
         },
         {
          "font": {},
          "showarrow": false,
          "text": "Other",
          "x": 0.5,
          "xanchor": "center",
          "xref": "paper",
          "y": 1,
          "yanchor": "bottom",
          "yref": "paper"
         },
         {
          "font": {},
          "showarrow": false,
          "text": "Brazil",
          "x": 0.7040000000000002,
          "xanchor": "center",
          "xref": "paper",
          "y": 1,
          "yanchor": "bottom",
          "yref": "paper"
         },
         {
          "font": {},
          "showarrow": false,
          "text": "Japan",
          "x": 0.908,
          "xanchor": "center",
          "xref": "paper",
          "y": 1,
          "yanchor": "bottom",
          "yref": "paper"
         }
        ],
        "barmode": "relative",
        "legend": {
         "title": {
          "text": ""
         },
         "tracegroupgap": 0
        },
        "margin": {
         "t": 60
        },
        "template": {
         "data": {
          "bar": [
           {
            "error_x": {
             "color": "#2a3f5f"
            },
            "error_y": {
             "color": "#2a3f5f"
            },
            "marker": {
             "line": {
              "color": "#E5ECF6",
              "width": 0.5
             },
             "pattern": {
              "fillmode": "overlay",
              "size": 10,
              "solidity": 0.2
             }
            },
            "type": "bar"
           }
          ],
          "barpolar": [
           {
            "marker": {
             "line": {
              "color": "#E5ECF6",
              "width": 0.5
             },
             "pattern": {
              "fillmode": "overlay",
              "size": 10,
              "solidity": 0.2
             }
            },
            "type": "barpolar"
           }
          ],
          "carpet": [
           {
            "aaxis": {
             "endlinecolor": "#2a3f5f",
             "gridcolor": "white",
             "linecolor": "white",
             "minorgridcolor": "white",
             "startlinecolor": "#2a3f5f"
            },
            "baxis": {
             "endlinecolor": "#2a3f5f",
             "gridcolor": "white",
             "linecolor": "white",
             "minorgridcolor": "white",
             "startlinecolor": "#2a3f5f"
            },
            "type": "carpet"
           }
          ],
          "choropleth": [
           {
            "colorbar": {
             "outlinewidth": 0,
             "ticks": ""
            },
            "type": "choropleth"
           }
          ],
          "contour": [
           {
            "colorbar": {
             "outlinewidth": 0,
             "ticks": ""
            },
            "colorscale": [
             [
              0,
              "#0d0887"
             ],
             [
              0.1111111111111111,
              "#46039f"
             ],
             [
              0.2222222222222222,
              "#7201a8"
             ],
             [
              0.3333333333333333,
              "#9c179e"
             ],
             [
              0.4444444444444444,
              "#bd3786"
             ],
             [
              0.5555555555555556,
              "#d8576b"
             ],
             [
              0.6666666666666666,
              "#ed7953"
             ],
             [
              0.7777777777777778,
              "#fb9f3a"
             ],
             [
              0.8888888888888888,
              "#fdca26"
             ],
             [
              1,
              "#f0f921"
             ]
            ],
            "type": "contour"
           }
          ],
          "contourcarpet": [
           {
            "colorbar": {
             "outlinewidth": 0,
             "ticks": ""
            },
            "type": "contourcarpet"
           }
          ],
          "heatmap": [
           {
            "colorbar": {
             "outlinewidth": 0,
             "ticks": ""
            },
            "colorscale": [
             [
              0,
              "#0d0887"
             ],
             [
              0.1111111111111111,
              "#46039f"
             ],
             [
              0.2222222222222222,
              "#7201a8"
             ],
             [
              0.3333333333333333,
              "#9c179e"
             ],
             [
              0.4444444444444444,
              "#bd3786"
             ],
             [
              0.5555555555555556,
              "#d8576b"
             ],
             [
              0.6666666666666666,
              "#ed7953"
             ],
             [
              0.7777777777777778,
              "#fb9f3a"
             ],
             [
              0.8888888888888888,
              "#fdca26"
             ],
             [
              1,
              "#f0f921"
             ]
            ],
            "type": "heatmap"
           }
          ],
          "heatmapgl": [
           {
            "colorbar": {
             "outlinewidth": 0,
             "ticks": ""
            },
            "colorscale": [
             [
              0,
              "#0d0887"
             ],
             [
              0.1111111111111111,
              "#46039f"
             ],
             [
              0.2222222222222222,
              "#7201a8"
             ],
             [
              0.3333333333333333,
              "#9c179e"
             ],
             [
              0.4444444444444444,
              "#bd3786"
             ],
             [
              0.5555555555555556,
              "#d8576b"
             ],
             [
              0.6666666666666666,
              "#ed7953"
             ],
             [
              0.7777777777777778,
              "#fb9f3a"
             ],
             [
              0.8888888888888888,
              "#fdca26"
             ],
             [
              1,
              "#f0f921"
             ]
            ],
            "type": "heatmapgl"
           }
          ],
          "histogram": [
           {
            "marker": {
             "pattern": {
              "fillmode": "overlay",
              "size": 10,
              "solidity": 0.2
             }
            },
            "type": "histogram"
           }
          ],
          "histogram2d": [
           {
            "colorbar": {
             "outlinewidth": 0,
             "ticks": ""
            },
            "colorscale": [
             [
              0,
              "#0d0887"
             ],
             [
              0.1111111111111111,
              "#46039f"
             ],
             [
              0.2222222222222222,
              "#7201a8"
             ],
             [
              0.3333333333333333,
              "#9c179e"
             ],
             [
              0.4444444444444444,
              "#bd3786"
             ],
             [
              0.5555555555555556,
              "#d8576b"
             ],
             [
              0.6666666666666666,
              "#ed7953"
             ],
             [
              0.7777777777777778,
              "#fb9f3a"
             ],
             [
              0.8888888888888888,
              "#fdca26"
             ],
             [
              1,
              "#f0f921"
             ]
            ],
            "type": "histogram2d"
           }
          ],
          "histogram2dcontour": [
           {
            "colorbar": {
             "outlinewidth": 0,
             "ticks": ""
            },
            "colorscale": [
             [
              0,
              "#0d0887"
             ],
             [
              0.1111111111111111,
              "#46039f"
             ],
             [
              0.2222222222222222,
              "#7201a8"
             ],
             [
              0.3333333333333333,
              "#9c179e"
             ],
             [
              0.4444444444444444,
              "#bd3786"
             ],
             [
              0.5555555555555556,
              "#d8576b"
             ],
             [
              0.6666666666666666,
              "#ed7953"
             ],
             [
              0.7777777777777778,
              "#fb9f3a"
             ],
             [
              0.8888888888888888,
              "#fdca26"
             ],
             [
              1,
              "#f0f921"
             ]
            ],
            "type": "histogram2dcontour"
           }
          ],
          "mesh3d": [
           {
            "colorbar": {
             "outlinewidth": 0,
             "ticks": ""
            },
            "type": "mesh3d"
           }
          ],
          "parcoords": [
           {
            "line": {
             "colorbar": {
              "outlinewidth": 0,
              "ticks": ""
             }
            },
            "type": "parcoords"
           }
          ],
          "pie": [
           {
            "automargin": true,
            "type": "pie"
           }
          ],
          "scatter": [
           {
            "fillpattern": {
             "fillmode": "overlay",
             "size": 10,
             "solidity": 0.2
            },
            "type": "scatter"
           }
          ],
          "scatter3d": [
           {
            "line": {
             "colorbar": {
              "outlinewidth": 0,
              "ticks": ""
             }
            },
            "marker": {
             "colorbar": {
              "outlinewidth": 0,
              "ticks": ""
             }
            },
            "type": "scatter3d"
           }
          ],
          "scattercarpet": [
           {
            "marker": {
             "colorbar": {
              "outlinewidth": 0,
              "ticks": ""
             }
            },
            "type": "scattercarpet"
           }
          ],
          "scattergeo": [
           {
            "marker": {
             "colorbar": {
              "outlinewidth": 0,
              "ticks": ""
             }
            },
            "type": "scattergeo"
           }
          ],
          "scattergl": [
           {
            "marker": {
             "colorbar": {
              "outlinewidth": 0,
              "ticks": ""
             }
            },
            "type": "scattergl"
           }
          ],
          "scattermapbox": [
           {
            "marker": {
             "colorbar": {
              "outlinewidth": 0,
              "ticks": ""
             }
            },
            "type": "scattermapbox"
           }
          ],
          "scatterpolar": [
           {
            "marker": {
             "colorbar": {
              "outlinewidth": 0,
              "ticks": ""
             }
            },
            "type": "scatterpolar"
           }
          ],
          "scatterpolargl": [
           {
            "marker": {
             "colorbar": {
              "outlinewidth": 0,
              "ticks": ""
             }
            },
            "type": "scatterpolargl"
           }
          ],
          "scatterternary": [
           {
            "marker": {
             "colorbar": {
              "outlinewidth": 0,
              "ticks": ""
             }
            },
            "type": "scatterternary"
           }
          ],
          "surface": [
           {
            "colorbar": {
             "outlinewidth": 0,
             "ticks": ""
            },
            "colorscale": [
             [
              0,
              "#0d0887"
             ],
             [
              0.1111111111111111,
              "#46039f"
             ],
             [
              0.2222222222222222,
              "#7201a8"
             ],
             [
              0.3333333333333333,
              "#9c179e"
             ],
             [
              0.4444444444444444,
              "#bd3786"
             ],
             [
              0.5555555555555556,
              "#d8576b"
             ],
             [
              0.6666666666666666,
              "#ed7953"
             ],
             [
              0.7777777777777778,
              "#fb9f3a"
             ],
             [
              0.8888888888888888,
              "#fdca26"
             ],
             [
              1,
              "#f0f921"
             ]
            ],
            "type": "surface"
           }
          ],
          "table": [
           {
            "cells": {
             "fill": {
              "color": "#EBF0F8"
             },
             "line": {
              "color": "white"
             }
            },
            "header": {
             "fill": {
              "color": "#C8D4E3"
             },
             "line": {
              "color": "white"
             }
            },
            "type": "table"
           }
          ]
         },
         "layout": {
          "annotationdefaults": {
           "arrowcolor": "#2a3f5f",
           "arrowhead": 0,
           "arrowwidth": 1
          },
          "autotypenumbers": "strict",
          "coloraxis": {
           "colorbar": {
            "outlinewidth": 0,
            "ticks": ""
           }
          },
          "colorscale": {
           "diverging": [
            [
             0,
             "#8e0152"
            ],
            [
             0.1,
             "#c51b7d"
            ],
            [
             0.2,
             "#de77ae"
            ],
            [
             0.3,
             "#f1b6da"
            ],
            [
             0.4,
             "#fde0ef"
            ],
            [
             0.5,
             "#f7f7f7"
            ],
            [
             0.6,
             "#e6f5d0"
            ],
            [
             0.7,
             "#b8e186"
            ],
            [
             0.8,
             "#7fbc41"
            ],
            [
             0.9,
             "#4d9221"
            ],
            [
             1,
             "#276419"
            ]
           ],
           "sequential": [
            [
             0,
             "#0d0887"
            ],
            [
             0.1111111111111111,
             "#46039f"
            ],
            [
             0.2222222222222222,
             "#7201a8"
            ],
            [
             0.3333333333333333,
             "#9c179e"
            ],
            [
             0.4444444444444444,
             "#bd3786"
            ],
            [
             0.5555555555555556,
             "#d8576b"
            ],
            [
             0.6666666666666666,
             "#ed7953"
            ],
            [
             0.7777777777777778,
             "#fb9f3a"
            ],
            [
             0.8888888888888888,
             "#fdca26"
            ],
            [
             1,
             "#f0f921"
            ]
           ],
           "sequentialminus": [
            [
             0,
             "#0d0887"
            ],
            [
             0.1111111111111111,
             "#46039f"
            ],
            [
             0.2222222222222222,
             "#7201a8"
            ],
            [
             0.3333333333333333,
             "#9c179e"
            ],
            [
             0.4444444444444444,
             "#bd3786"
            ],
            [
             0.5555555555555556,
             "#d8576b"
            ],
            [
             0.6666666666666666,
             "#ed7953"
            ],
            [
             0.7777777777777778,
             "#fb9f3a"
            ],
            [
             0.8888888888888888,
             "#fdca26"
            ],
            [
             1,
             "#f0f921"
            ]
           ]
          },
          "colorway": [
           "#636efa",
           "#EF553B",
           "#00cc96",
           "#ab63fa",
           "#FFA15A",
           "#19d3f3",
           "#FF6692",
           "#B6E880",
           "#FF97FF",
           "#FECB52"
          ],
          "font": {
           "color": "#2a3f5f"
          },
          "geo": {
           "bgcolor": "white",
           "lakecolor": "white",
           "landcolor": "#E5ECF6",
           "showlakes": true,
           "showland": true,
           "subunitcolor": "white"
          },
          "hoverlabel": {
           "align": "left"
          },
          "hovermode": "closest",
          "mapbox": {
           "style": "light"
          },
          "paper_bgcolor": "white",
          "plot_bgcolor": "#E5ECF6",
          "polar": {
           "angularaxis": {
            "gridcolor": "white",
            "linecolor": "white",
            "ticks": ""
           },
           "bgcolor": "#E5ECF6",
           "radialaxis": {
            "gridcolor": "white",
            "linecolor": "white",
            "ticks": ""
           }
          },
          "scene": {
           "xaxis": {
            "backgroundcolor": "#E5ECF6",
            "gridcolor": "white",
            "gridwidth": 2,
            "linecolor": "white",
            "showbackground": true,
            "ticks": "",
            "zerolinecolor": "white"
           },
           "yaxis": {
            "backgroundcolor": "#E5ECF6",
            "gridcolor": "white",
            "gridwidth": 2,
            "linecolor": "white",
            "showbackground": true,
            "ticks": "",
            "zerolinecolor": "white"
           },
           "zaxis": {
            "backgroundcolor": "#E5ECF6",
            "gridcolor": "white",
            "gridwidth": 2,
            "linecolor": "white",
            "showbackground": true,
            "ticks": "",
            "zerolinecolor": "white"
           }
          },
          "shapedefaults": {
           "line": {
            "color": "#2a3f5f"
           }
          },
          "ternary": {
           "aaxis": {
            "gridcolor": "white",
            "linecolor": "white",
            "ticks": ""
           },
           "baxis": {
            "gridcolor": "white",
            "linecolor": "white",
            "ticks": ""
           },
           "bgcolor": "#E5ECF6",
           "caxis": {
            "gridcolor": "white",
            "linecolor": "white",
            "ticks": ""
           }
          },
          "title": {
           "x": 0.05
          },
          "xaxis": {
           "automargin": true,
           "gridcolor": "white",
           "linecolor": "white",
           "ticks": "",
           "title": {
            "standoff": 15
           },
           "zerolinecolor": "white",
           "zerolinewidth": 2
          },
          "yaxis": {
           "automargin": true,
           "gridcolor": "white",
           "linecolor": "white",
           "ticks": "",
           "title": {
            "standoff": 15
           },
           "zerolinecolor": "white",
           "zerolinewidth": 2
          }
         }
        },
        "xaxis": {
         "anchor": "y",
         "domain": [
          0,
          0.18400000000000002
         ],
         "title": {
          "text": "Number<br>of<br>responders"
         }
        },
        "xaxis2": {
         "anchor": "y2",
         "domain": [
          0.20400000000000001,
          0.388
         ],
         "matches": "x",
         "title": {
          "text": "Number<br>of<br>responders"
         }
        },
        "xaxis3": {
         "anchor": "y3",
         "domain": [
          0.40800000000000003,
          0.5920000000000001
         ],
         "matches": "x",
         "title": {
          "text": "Number<br>of<br>responders"
         }
        },
        "xaxis4": {
         "anchor": "y4",
         "domain": [
          0.6120000000000001,
          0.7960000000000002
         ],
         "matches": "x",
         "title": {
          "text": "Number<br>of<br>responders"
         }
        },
        "xaxis5": {
         "anchor": "y5",
         "domain": [
          0.8160000000000001,
          1
         ],
         "matches": "x",
         "title": {
          "text": "Number<br>of<br>responders"
         }
        },
        "yaxis": {
         "anchor": "x",
         "categoryarray": [
          "Others",
          "Woman",
          "Man"
         ],
         "categoryorder": "array",
         "domain": [
          0,
          1
         ],
         "title": {
          "text": "Gender"
         }
        },
        "yaxis2": {
         "anchor": "x2",
         "domain": [
          0,
          1
         ],
         "matches": "y",
         "showticklabels": false
        },
        "yaxis3": {
         "anchor": "x3",
         "domain": [
          0,
          1
         ],
         "matches": "y",
         "showticklabels": false
        },
        "yaxis4": {
         "anchor": "x4",
         "domain": [
          0,
          1
         ],
         "matches": "y",
         "showticklabels": false
        },
        "yaxis5": {
         "anchor": "x5",
         "domain": [
          0,
          1
         ],
         "matches": "y",
         "showticklabels": false
        }
       }
      }
     },
     "metadata": {},
     "output_type": "display_data"
    },
    {
     "name": "stderr",
     "output_type": "stream",
     "text": [
      "/var/folders/g1/0ny7sby95zb23kk6rhmjh6nr0000gn/T/ipykernel_3319/3896853700.py:15: FutureWarning:\n",
      "\n",
      "The default value of numeric_only in DataFrameGroupBy.sum is deprecated. In a future version, numeric_only will default to False. Either specify numeric_only or select only columns which should be valid for the function.\n",
      "\n"
     ]
    },
    {
     "data": {
      "text/html": [
       "<div>\n",
       "<style scoped>\n",
       "    .dataframe tbody tr th:only-of-type {\n",
       "        vertical-align: middle;\n",
       "    }\n",
       "\n",
       "    .dataframe tbody tr th {\n",
       "        vertical-align: top;\n",
       "    }\n",
       "\n",
       "    .dataframe thead th {\n",
       "        text-align: right;\n",
       "    }\n",
       "</style>\n",
       "<table border=\"1\" class=\"dataframe\">\n",
       "  <thead>\n",
       "    <tr style=\"text-align: right;\">\n",
       "      <th></th>\n",
       "      <th>size</th>\n",
       "      <th>avg_num</th>\n",
       "    </tr>\n",
       "    <tr>\n",
       "      <th>Q3</th>\n",
       "      <th></th>\n",
       "      <th></th>\n",
       "    </tr>\n",
       "  </thead>\n",
       "  <tbody>\n",
       "    <tr>\n",
       "      <th>Man</th>\n",
       "      <td>473</td>\n",
       "      <td>86.32</td>\n",
       "    </tr>\n",
       "    <tr>\n",
       "      <th>Others</th>\n",
       "      <td>8</td>\n",
       "      <td>1.45</td>\n",
       "    </tr>\n",
       "    <tr>\n",
       "      <th>Woman</th>\n",
       "      <td>67</td>\n",
       "      <td>12.22</td>\n",
       "    </tr>\n",
       "  </tbody>\n",
       "</table>\n",
       "</div>"
      ],
      "text/plain": [
       "        size  avg_num\n",
       "Q3                   \n",
       "Man      473    86.32\n",
       "Others     8     1.45\n",
       "Woman     67    12.22"
      ]
     },
     "execution_count": 28,
     "metadata": {},
     "output_type": "execute_result"
    }
   ],
   "source": [
    "\n",
    "age_exp=df_prue.groupby(['Q4',\"Q3\"],as_index=False).size()\n",
    "\n",
    "age_exp['avg_num'] = round((age_exp['size'] / age_exp['size'].sum())*100,2)\n",
    "age_exp['avg']=age_exp['avg_num'].apply(lambda a: str(a)+ '%')\n",
    "\n",
    "fig = px.bar(age_exp, x=\"size\", y='Q3', color='Q3', facet_col=\"Q4\",  text_auto=True,orientation='h', text='avg',#'texttemplate': '%{x}'\n",
    "                   category_orders={\"Q4\": q4_5top,\"Q3\":['Man','Woman','Others']},\n",
    "                   color_discrete_sequence=['rgb(0,68,27)','rgb(116,196,118)','rgb(35,139,69)'])\n",
    "fig.for_each_annotation(lambda a: a.update(text=a.text.replace(\"Q4=\", \"\")))\n",
    "fig.update_layout(yaxis_title=\"Gender\")\n",
    "fig.update_xaxes(title_text=\"Number<br>of<br>responders\")\n",
    "fig.layout.legend.title.text = ''\n",
    "fig.show()\n",
    "\n",
    "age_exp.groupby(['Q3']).sum()"
   ]
  },
  {
   "cell_type": "markdown",
   "metadata": {},
   "source": [
    "#### **Age** \n",
    "\n",
    "In the 30-34 age range, the highest participation is observed, comprising 23.9% of the respondents. **Approximately 75% of the participants are in the 25-44 age range, which shows a wide representation in this age group**. However, it is relevant to mention that the remaining 25% are distributed from 45 years of age to over 70 years of age. This diversity in age ranges highlights the presence of professionals from different generations in the data science community, enriching the variety of perspectives and experiences within the field."
   ]
  },
  {
   "cell_type": "code",
   "execution_count": 29,
   "metadata": {},
   "outputs": [
    {
     "data": {
      "application/vnd.plotly.v1+json": {
       "config": {
        "plotlyServerURL": "https://plot.ly"
       },
       "data": [
        {
         "alignmentgroup": "True",
         "hovertemplate": "color=<75%<br>size=%{x}<br>Q2=%{y}<br>avg=%{text}<extra></extra>",
         "legendgroup": "<75%",
         "marker": {
          "color": "rgb(0,68,27)",
          "pattern": {
           "shape": ""
          }
         },
         "name": "<75%",
         "offsetgroup": "<75%",
         "orientation": "h",
         "showlegend": true,
         "text": [
          "2.0%",
          "8.6%",
          "5.8%",
          "3.6%",
          "3.8%",
          "1.3%"
         ],
         "textposition": "auto",
         "texttemplate": "%{x}",
         "type": "bar",
         "x": [
          11,
          47,
          32,
          20,
          21,
          7
         ],
         "xaxis": "x",
         "y": [
          "22-24",
          "45-49",
          "50-54",
          "55-59",
          "60-69",
          "70+"
         ],
         "yaxis": "y"
        },
        {
         "alignmentgroup": "True",
         "hovertemplate": "color=>75%<br>size=%{x}<br>Q2=%{y}<br>avg=%{text}<extra></extra>",
         "legendgroup": ">75%",
         "marker": {
          "color": "rgb(116,196,118)",
          "pattern": {
           "shape": ""
          }
         },
         "name": ">75%",
         "offsetgroup": ">75%",
         "orientation": "h",
         "showlegend": true,
         "text": [
          "17.5%",
          "23.9%",
          "21.0%",
          "12.4%"
         ],
         "textposition": "auto",
         "texttemplate": "%{x}",
         "type": "bar",
         "x": [
          96,
          131,
          115,
          68
         ],
         "xaxis": "x",
         "y": [
          "25-29",
          "30-34",
          "35-39",
          "40-44"
         ],
         "yaxis": "y"
        }
       ],
       "layout": {
        "barmode": "relative",
        "legend": {
         "title": {
          "text": ""
         },
         "tracegroupgap": 0
        },
        "margin": {
         "t": 60
        },
        "template": {
         "data": {
          "bar": [
           {
            "error_x": {
             "color": "#2a3f5f"
            },
            "error_y": {
             "color": "#2a3f5f"
            },
            "marker": {
             "line": {
              "color": "#E5ECF6",
              "width": 0.5
             },
             "pattern": {
              "fillmode": "overlay",
              "size": 10,
              "solidity": 0.2
             }
            },
            "type": "bar"
           }
          ],
          "barpolar": [
           {
            "marker": {
             "line": {
              "color": "#E5ECF6",
              "width": 0.5
             },
             "pattern": {
              "fillmode": "overlay",
              "size": 10,
              "solidity": 0.2
             }
            },
            "type": "barpolar"
           }
          ],
          "carpet": [
           {
            "aaxis": {
             "endlinecolor": "#2a3f5f",
             "gridcolor": "white",
             "linecolor": "white",
             "minorgridcolor": "white",
             "startlinecolor": "#2a3f5f"
            },
            "baxis": {
             "endlinecolor": "#2a3f5f",
             "gridcolor": "white",
             "linecolor": "white",
             "minorgridcolor": "white",
             "startlinecolor": "#2a3f5f"
            },
            "type": "carpet"
           }
          ],
          "choropleth": [
           {
            "colorbar": {
             "outlinewidth": 0,
             "ticks": ""
            },
            "type": "choropleth"
           }
          ],
          "contour": [
           {
            "colorbar": {
             "outlinewidth": 0,
             "ticks": ""
            },
            "colorscale": [
             [
              0,
              "#0d0887"
             ],
             [
              0.1111111111111111,
              "#46039f"
             ],
             [
              0.2222222222222222,
              "#7201a8"
             ],
             [
              0.3333333333333333,
              "#9c179e"
             ],
             [
              0.4444444444444444,
              "#bd3786"
             ],
             [
              0.5555555555555556,
              "#d8576b"
             ],
             [
              0.6666666666666666,
              "#ed7953"
             ],
             [
              0.7777777777777778,
              "#fb9f3a"
             ],
             [
              0.8888888888888888,
              "#fdca26"
             ],
             [
              1,
              "#f0f921"
             ]
            ],
            "type": "contour"
           }
          ],
          "contourcarpet": [
           {
            "colorbar": {
             "outlinewidth": 0,
             "ticks": ""
            },
            "type": "contourcarpet"
           }
          ],
          "heatmap": [
           {
            "colorbar": {
             "outlinewidth": 0,
             "ticks": ""
            },
            "colorscale": [
             [
              0,
              "#0d0887"
             ],
             [
              0.1111111111111111,
              "#46039f"
             ],
             [
              0.2222222222222222,
              "#7201a8"
             ],
             [
              0.3333333333333333,
              "#9c179e"
             ],
             [
              0.4444444444444444,
              "#bd3786"
             ],
             [
              0.5555555555555556,
              "#d8576b"
             ],
             [
              0.6666666666666666,
              "#ed7953"
             ],
             [
              0.7777777777777778,
              "#fb9f3a"
             ],
             [
              0.8888888888888888,
              "#fdca26"
             ],
             [
              1,
              "#f0f921"
             ]
            ],
            "type": "heatmap"
           }
          ],
          "heatmapgl": [
           {
            "colorbar": {
             "outlinewidth": 0,
             "ticks": ""
            },
            "colorscale": [
             [
              0,
              "#0d0887"
             ],
             [
              0.1111111111111111,
              "#46039f"
             ],
             [
              0.2222222222222222,
              "#7201a8"
             ],
             [
              0.3333333333333333,
              "#9c179e"
             ],
             [
              0.4444444444444444,
              "#bd3786"
             ],
             [
              0.5555555555555556,
              "#d8576b"
             ],
             [
              0.6666666666666666,
              "#ed7953"
             ],
             [
              0.7777777777777778,
              "#fb9f3a"
             ],
             [
              0.8888888888888888,
              "#fdca26"
             ],
             [
              1,
              "#f0f921"
             ]
            ],
            "type": "heatmapgl"
           }
          ],
          "histogram": [
           {
            "marker": {
             "pattern": {
              "fillmode": "overlay",
              "size": 10,
              "solidity": 0.2
             }
            },
            "type": "histogram"
           }
          ],
          "histogram2d": [
           {
            "colorbar": {
             "outlinewidth": 0,
             "ticks": ""
            },
            "colorscale": [
             [
              0,
              "#0d0887"
             ],
             [
              0.1111111111111111,
              "#46039f"
             ],
             [
              0.2222222222222222,
              "#7201a8"
             ],
             [
              0.3333333333333333,
              "#9c179e"
             ],
             [
              0.4444444444444444,
              "#bd3786"
             ],
             [
              0.5555555555555556,
              "#d8576b"
             ],
             [
              0.6666666666666666,
              "#ed7953"
             ],
             [
              0.7777777777777778,
              "#fb9f3a"
             ],
             [
              0.8888888888888888,
              "#fdca26"
             ],
             [
              1,
              "#f0f921"
             ]
            ],
            "type": "histogram2d"
           }
          ],
          "histogram2dcontour": [
           {
            "colorbar": {
             "outlinewidth": 0,
             "ticks": ""
            },
            "colorscale": [
             [
              0,
              "#0d0887"
             ],
             [
              0.1111111111111111,
              "#46039f"
             ],
             [
              0.2222222222222222,
              "#7201a8"
             ],
             [
              0.3333333333333333,
              "#9c179e"
             ],
             [
              0.4444444444444444,
              "#bd3786"
             ],
             [
              0.5555555555555556,
              "#d8576b"
             ],
             [
              0.6666666666666666,
              "#ed7953"
             ],
             [
              0.7777777777777778,
              "#fb9f3a"
             ],
             [
              0.8888888888888888,
              "#fdca26"
             ],
             [
              1,
              "#f0f921"
             ]
            ],
            "type": "histogram2dcontour"
           }
          ],
          "mesh3d": [
           {
            "colorbar": {
             "outlinewidth": 0,
             "ticks": ""
            },
            "type": "mesh3d"
           }
          ],
          "parcoords": [
           {
            "line": {
             "colorbar": {
              "outlinewidth": 0,
              "ticks": ""
             }
            },
            "type": "parcoords"
           }
          ],
          "pie": [
           {
            "automargin": true,
            "type": "pie"
           }
          ],
          "scatter": [
           {
            "fillpattern": {
             "fillmode": "overlay",
             "size": 10,
             "solidity": 0.2
            },
            "type": "scatter"
           }
          ],
          "scatter3d": [
           {
            "line": {
             "colorbar": {
              "outlinewidth": 0,
              "ticks": ""
             }
            },
            "marker": {
             "colorbar": {
              "outlinewidth": 0,
              "ticks": ""
             }
            },
            "type": "scatter3d"
           }
          ],
          "scattercarpet": [
           {
            "marker": {
             "colorbar": {
              "outlinewidth": 0,
              "ticks": ""
             }
            },
            "type": "scattercarpet"
           }
          ],
          "scattergeo": [
           {
            "marker": {
             "colorbar": {
              "outlinewidth": 0,
              "ticks": ""
             }
            },
            "type": "scattergeo"
           }
          ],
          "scattergl": [
           {
            "marker": {
             "colorbar": {
              "outlinewidth": 0,
              "ticks": ""
             }
            },
            "type": "scattergl"
           }
          ],
          "scattermapbox": [
           {
            "marker": {
             "colorbar": {
              "outlinewidth": 0,
              "ticks": ""
             }
            },
            "type": "scattermapbox"
           }
          ],
          "scatterpolar": [
           {
            "marker": {
             "colorbar": {
              "outlinewidth": 0,
              "ticks": ""
             }
            },
            "type": "scatterpolar"
           }
          ],
          "scatterpolargl": [
           {
            "marker": {
             "colorbar": {
              "outlinewidth": 0,
              "ticks": ""
             }
            },
            "type": "scatterpolargl"
           }
          ],
          "scatterternary": [
           {
            "marker": {
             "colorbar": {
              "outlinewidth": 0,
              "ticks": ""
             }
            },
            "type": "scatterternary"
           }
          ],
          "surface": [
           {
            "colorbar": {
             "outlinewidth": 0,
             "ticks": ""
            },
            "colorscale": [
             [
              0,
              "#0d0887"
             ],
             [
              0.1111111111111111,
              "#46039f"
             ],
             [
              0.2222222222222222,
              "#7201a8"
             ],
             [
              0.3333333333333333,
              "#9c179e"
             ],
             [
              0.4444444444444444,
              "#bd3786"
             ],
             [
              0.5555555555555556,
              "#d8576b"
             ],
             [
              0.6666666666666666,
              "#ed7953"
             ],
             [
              0.7777777777777778,
              "#fb9f3a"
             ],
             [
              0.8888888888888888,
              "#fdca26"
             ],
             [
              1,
              "#f0f921"
             ]
            ],
            "type": "surface"
           }
          ],
          "table": [
           {
            "cells": {
             "fill": {
              "color": "#EBF0F8"
             },
             "line": {
              "color": "white"
             }
            },
            "header": {
             "fill": {
              "color": "#C8D4E3"
             },
             "line": {
              "color": "white"
             }
            },
            "type": "table"
           }
          ]
         },
         "layout": {
          "annotationdefaults": {
           "arrowcolor": "#2a3f5f",
           "arrowhead": 0,
           "arrowwidth": 1
          },
          "autotypenumbers": "strict",
          "coloraxis": {
           "colorbar": {
            "outlinewidth": 0,
            "ticks": ""
           }
          },
          "colorscale": {
           "diverging": [
            [
             0,
             "#8e0152"
            ],
            [
             0.1,
             "#c51b7d"
            ],
            [
             0.2,
             "#de77ae"
            ],
            [
             0.3,
             "#f1b6da"
            ],
            [
             0.4,
             "#fde0ef"
            ],
            [
             0.5,
             "#f7f7f7"
            ],
            [
             0.6,
             "#e6f5d0"
            ],
            [
             0.7,
             "#b8e186"
            ],
            [
             0.8,
             "#7fbc41"
            ],
            [
             0.9,
             "#4d9221"
            ],
            [
             1,
             "#276419"
            ]
           ],
           "sequential": [
            [
             0,
             "#0d0887"
            ],
            [
             0.1111111111111111,
             "#46039f"
            ],
            [
             0.2222222222222222,
             "#7201a8"
            ],
            [
             0.3333333333333333,
             "#9c179e"
            ],
            [
             0.4444444444444444,
             "#bd3786"
            ],
            [
             0.5555555555555556,
             "#d8576b"
            ],
            [
             0.6666666666666666,
             "#ed7953"
            ],
            [
             0.7777777777777778,
             "#fb9f3a"
            ],
            [
             0.8888888888888888,
             "#fdca26"
            ],
            [
             1,
             "#f0f921"
            ]
           ],
           "sequentialminus": [
            [
             0,
             "#0d0887"
            ],
            [
             0.1111111111111111,
             "#46039f"
            ],
            [
             0.2222222222222222,
             "#7201a8"
            ],
            [
             0.3333333333333333,
             "#9c179e"
            ],
            [
             0.4444444444444444,
             "#bd3786"
            ],
            [
             0.5555555555555556,
             "#d8576b"
            ],
            [
             0.6666666666666666,
             "#ed7953"
            ],
            [
             0.7777777777777778,
             "#fb9f3a"
            ],
            [
             0.8888888888888888,
             "#fdca26"
            ],
            [
             1,
             "#f0f921"
            ]
           ]
          },
          "colorway": [
           "#636efa",
           "#EF553B",
           "#00cc96",
           "#ab63fa",
           "#FFA15A",
           "#19d3f3",
           "#FF6692",
           "#B6E880",
           "#FF97FF",
           "#FECB52"
          ],
          "font": {
           "color": "#2a3f5f"
          },
          "geo": {
           "bgcolor": "white",
           "lakecolor": "white",
           "landcolor": "#E5ECF6",
           "showlakes": true,
           "showland": true,
           "subunitcolor": "white"
          },
          "hoverlabel": {
           "align": "left"
          },
          "hovermode": "closest",
          "mapbox": {
           "style": "light"
          },
          "paper_bgcolor": "white",
          "plot_bgcolor": "#E5ECF6",
          "polar": {
           "angularaxis": {
            "gridcolor": "white",
            "linecolor": "white",
            "ticks": ""
           },
           "bgcolor": "#E5ECF6",
           "radialaxis": {
            "gridcolor": "white",
            "linecolor": "white",
            "ticks": ""
           }
          },
          "scene": {
           "xaxis": {
            "backgroundcolor": "#E5ECF6",
            "gridcolor": "white",
            "gridwidth": 2,
            "linecolor": "white",
            "showbackground": true,
            "ticks": "",
            "zerolinecolor": "white"
           },
           "yaxis": {
            "backgroundcolor": "#E5ECF6",
            "gridcolor": "white",
            "gridwidth": 2,
            "linecolor": "white",
            "showbackground": true,
            "ticks": "",
            "zerolinecolor": "white"
           },
           "zaxis": {
            "backgroundcolor": "#E5ECF6",
            "gridcolor": "white",
            "gridwidth": 2,
            "linecolor": "white",
            "showbackground": true,
            "ticks": "",
            "zerolinecolor": "white"
           }
          },
          "shapedefaults": {
           "line": {
            "color": "#2a3f5f"
           }
          },
          "ternary": {
           "aaxis": {
            "gridcolor": "white",
            "linecolor": "white",
            "ticks": ""
           },
           "baxis": {
            "gridcolor": "white",
            "linecolor": "white",
            "ticks": ""
           },
           "bgcolor": "#E5ECF6",
           "caxis": {
            "gridcolor": "white",
            "linecolor": "white",
            "ticks": ""
           }
          },
          "title": {
           "x": 0.05
          },
          "xaxis": {
           "automargin": true,
           "gridcolor": "white",
           "linecolor": "white",
           "ticks": "",
           "title": {
            "standoff": 15
           },
           "zerolinecolor": "white",
           "zerolinewidth": 2
          },
          "yaxis": {
           "automargin": true,
           "gridcolor": "white",
           "linecolor": "white",
           "ticks": "",
           "title": {
            "standoff": 15
           },
           "zerolinecolor": "white",
           "zerolinewidth": 2
          }
         }
        },
        "xaxis": {
         "anchor": "y",
         "domain": [
          0,
          1
         ],
         "title": {
          "text": "Number of responders"
         }
        },
        "yaxis": {
         "anchor": "x",
         "categoryarray": [
          "70+",
          "60-69",
          "55-59",
          "50-54",
          "45-49",
          "40-44",
          "35-39",
          "30-34",
          "25-29",
          "22-24",
          "18-21"
         ],
         "categoryorder": "array",
         "domain": [
          0,
          1
         ],
         "title": {
          "text": "Age"
         }
        }
       }
      }
     },
     "metadata": {},
     "output_type": "display_data"
    }
   ],
   "source": [
    "gen_exp = df_prue.groupby([\"Q2\"],as_index=False).size()\n",
    "gen_exp['avg_num'] = round((gen_exp['size'] / gen_exp['size'].sum())*100,1)\n",
    "gen_exp['avg']=gen_exp['avg_num'].apply(lambda a: str(a)+ '%')\n",
    "color=['<75%']*1 +  ['>75%']*4  +['<75%']*5\n",
    "fig = px.bar(gen_exp, x=\"size\", y='Q2', color=color,  text_auto=True,orientation='h', text='avg',\n",
    "                   category_orders={\"Q2\":q2_i},\n",
    "                   color_discrete_sequence=['rgb(0,68,27)','rgb(116,196,118)','rgb(35,139,69)'])\n",
    "fig.layout.legend.title.text = ''\n",
    "fig.update_layout(yaxis_title=\"Age\")\n",
    "fig.update_xaxes(title_text=\"Number of responders\")\n",
    "fig.show()"
   ]
  },
  {
   "cell_type": "code",
   "execution_count": 30,
   "metadata": {},
   "outputs": [
    {
     "data": {
      "application/vnd.plotly.v1+json": {
       "config": {
        "plotlyServerURL": "https://plot.ly"
       },
       "data": [
        {
         "alignmentgroup": "True",
         "hovertemplate": "Q3=Man<br>Q4=USA<br>size=%{x}<br>Q2=%{y}<br>avg=%{text}<extra></extra>",
         "legendgroup": "Man",
         "marker": {
          "color": "rgb(0,68,27)",
          "pattern": {
           "shape": ""
          }
         },
         "name": "Man",
         "offsetgroup": "Man",
         "orientation": "h",
         "showlegend": true,
         "text": [
          "0.36%",
          "2.74%",
          "8.21%",
          "8.21%",
          "4.2%",
          "4.01%",
          "2.74%",
          "2.37%",
          "2.37%",
          "0.55%"
         ],
         "textposition": "auto",
         "texttemplate": "%{x}",
         "type": "bar",
         "x": [
          2,
          15,
          45,
          45,
          23,
          22,
          15,
          13,
          13,
          3
         ],
         "xaxis": "x",
         "y": [
          "22-24",
          "25-29",
          "30-34",
          "35-39",
          "40-44",
          "45-49",
          "50-54",
          "55-59",
          "60-69",
          "70+"
         ],
         "yaxis": "y"
        },
        {
         "alignmentgroup": "True",
         "hovertemplate": "Q3=Man<br>Q4=India<br>size=%{x}<br>Q2=%{y}<br>avg=%{text}<extra></extra>",
         "legendgroup": "Man",
         "marker": {
          "color": "rgb(0,68,27)",
          "pattern": {
           "shape": ""
          }
         },
         "name": "Man",
         "offsetgroup": "Man",
         "orientation": "h",
         "showlegend": false,
         "text": [
          "0.91%",
          "7.48%",
          "7.3%",
          "6.75%",
          "3.65%",
          "1.46%",
          "0.55%",
          "0.18%",
          "0.18%",
          "0.18%"
         ],
         "textposition": "auto",
         "texttemplate": "%{x}",
         "type": "bar",
         "x": [
          5,
          41,
          40,
          37,
          20,
          8,
          3,
          1,
          1,
          1
         ],
         "xaxis": "x2",
         "y": [
          "22-24",
          "25-29",
          "30-34",
          "35-39",
          "40-44",
          "45-49",
          "50-54",
          "55-59",
          "60-69",
          "70+"
         ],
         "yaxis": "y2"
        },
        {
         "alignmentgroup": "True",
         "hovertemplate": "Q3=Man<br>Q4=Other<br>size=%{x}<br>Q2=%{y}<br>avg=%{text}<extra></extra>",
         "legendgroup": "Man",
         "marker": {
          "color": "rgb(0,68,27)",
          "pattern": {
           "shape": ""
          }
         },
         "name": "Man",
         "offsetgroup": "Man",
         "orientation": "h",
         "showlegend": false,
         "text": [
          "1.46%",
          "2.19%",
          "2.19%",
          "0.55%",
          "1.46%",
          "0.91%",
          "0.36%",
          "0.36%",
          "0.36%"
         ],
         "textposition": "auto",
         "texttemplate": "%{x}",
         "type": "bar",
         "x": [
          8,
          12,
          12,
          3,
          8,
          5,
          2,
          2,
          2
         ],
         "xaxis": "x3",
         "y": [
          "25-29",
          "30-34",
          "35-39",
          "40-44",
          "45-49",
          "50-54",
          "55-59",
          "60-69",
          "70+"
         ],
         "yaxis": "y3"
        },
        {
         "alignmentgroup": "True",
         "hovertemplate": "Q3=Man<br>Q4=Brazil<br>size=%{x}<br>Q2=%{y}<br>avg=%{text}<extra></extra>",
         "legendgroup": "Man",
         "marker": {
          "color": "rgb(0,68,27)",
          "pattern": {
           "shape": ""
          }
         },
         "name": "Man",
         "offsetgroup": "Man",
         "orientation": "h",
         "showlegend": false,
         "text": [
          "0.18%",
          "1.09%",
          "1.28%",
          "1.09%",
          "0.73%",
          "0.36%",
          "0.73%",
          "0.36%",
          "0.36%",
          "0.18%"
         ],
         "textposition": "auto",
         "texttemplate": "%{x}",
         "type": "bar",
         "x": [
          1,
          6,
          7,
          6,
          4,
          2,
          4,
          2,
          2,
          1
         ],
         "xaxis": "x4",
         "y": [
          "22-24",
          "25-29",
          "30-34",
          "35-39",
          "40-44",
          "45-49",
          "50-54",
          "55-59",
          "60-69",
          "70+"
         ],
         "yaxis": "y4"
        },
        {
         "alignmentgroup": "True",
         "hovertemplate": "Q3=Man<br>Q4=Japan<br>size=%{x}<br>Q2=%{y}<br>avg=%{text}<extra></extra>",
         "legendgroup": "Man",
         "marker": {
          "color": "rgb(0,68,27)",
          "pattern": {
           "shape": ""
          }
         },
         "name": "Man",
         "offsetgroup": "Man",
         "orientation": "h",
         "showlegend": false,
         "text": [
          "0.18%",
          "1.64%",
          "1.46%",
          "0.55%",
          "0.55%",
          "0.36%",
          "0.18%",
          "0.18%",
          "0.55%"
         ],
         "textposition": "auto",
         "texttemplate": "%{x}",
         "type": "bar",
         "x": [
          1,
          9,
          8,
          3,
          3,
          2,
          1,
          1,
          3
         ],
         "xaxis": "x5",
         "y": [
          "22-24",
          "25-29",
          "30-34",
          "35-39",
          "40-44",
          "45-49",
          "50-54",
          "55-59",
          "60-69"
         ],
         "yaxis": "y5"
        },
        {
         "alignmentgroup": "True",
         "hovertemplate": "Q3=Woman<br>Q4=USA<br>size=%{x}<br>Q2=%{y}<br>avg=%{text}<extra></extra>",
         "legendgroup": "Woman",
         "marker": {
          "color": "rgb(116,196,118)",
          "pattern": {
           "shape": ""
          }
         },
         "name": "Woman",
         "offsetgroup": "Woman",
         "orientation": "h",
         "showlegend": true,
         "text": [
          "1.46%",
          "1.82%",
          "0.91%",
          "1.28%",
          "0.73%",
          "0.55%",
          "0.18%"
         ],
         "textposition": "auto",
         "texttemplate": "%{x}",
         "type": "bar",
         "x": [
          8,
          10,
          5,
          7,
          4,
          3,
          1
         ],
         "xaxis": "x",
         "y": [
          "25-29",
          "30-34",
          "35-39",
          "40-44",
          "45-49",
          "50-54",
          "55-59"
         ],
         "yaxis": "y"
        },
        {
         "alignmentgroup": "True",
         "hovertemplate": "Q3=Woman<br>Q4=India<br>size=%{x}<br>Q2=%{y}<br>avg=%{text}<extra></extra>",
         "legendgroup": "Woman",
         "marker": {
          "color": "rgb(116,196,118)",
          "pattern": {
           "shape": ""
          }
         },
         "name": "Woman",
         "offsetgroup": "Woman",
         "orientation": "h",
         "showlegend": false,
         "text": [
          "1.09%",
          "0.73%",
          "0.18%",
          "0.73%",
          "0.18%"
         ],
         "textposition": "auto",
         "texttemplate": "%{x}",
         "type": "bar",
         "x": [
          6,
          4,
          1,
          4,
          1
         ],
         "xaxis": "x2",
         "y": [
          "25-29",
          "30-34",
          "35-39",
          "40-44",
          "45-49"
         ],
         "yaxis": "y2"
        },
        {
         "alignmentgroup": "True",
         "hovertemplate": "Q3=Woman<br>Q4=Other<br>size=%{x}<br>Q2=%{y}<br>avg=%{text}<extra></extra>",
         "legendgroup": "Woman",
         "marker": {
          "color": "rgb(116,196,118)",
          "pattern": {
           "shape": ""
          }
         },
         "name": "Woman",
         "offsetgroup": "Woman",
         "orientation": "h",
         "showlegend": false,
         "text": [
          "0.18%",
          "0.36%",
          "0.91%"
         ],
         "textposition": "auto",
         "texttemplate": "%{x}",
         "type": "bar",
         "x": [
          1,
          2,
          5
         ],
         "xaxis": "x3",
         "y": [
          "22-24",
          "30-34",
          "35-39"
         ],
         "yaxis": "y3"
        },
        {
         "alignmentgroup": "True",
         "hovertemplate": "Q3=Woman<br>Q4=Brazil<br>size=%{x}<br>Q2=%{y}<br>avg=%{text}<extra></extra>",
         "legendgroup": "Woman",
         "marker": {
          "color": "rgb(116,196,118)",
          "pattern": {
           "shape": ""
          }
         },
         "name": "Woman",
         "offsetgroup": "Woman",
         "orientation": "h",
         "showlegend": false,
         "text": [
          "0.18%",
          "0.18%"
         ],
         "textposition": "auto",
         "texttemplate": "%{x}",
         "type": "bar",
         "x": [
          1,
          1
         ],
         "xaxis": "x4",
         "y": [
          "25-29",
          "35-39"
         ],
         "yaxis": "y4"
        },
        {
         "alignmentgroup": "True",
         "hovertemplate": "Q3=Woman<br>Q4=Japan<br>size=%{x}<br>Q2=%{y}<br>avg=%{text}<extra></extra>",
         "legendgroup": "Woman",
         "marker": {
          "color": "rgb(116,196,118)",
          "pattern": {
           "shape": ""
          }
         },
         "name": "Woman",
         "offsetgroup": "Woman",
         "orientation": "h",
         "showlegend": false,
         "text": [
          "0.18%",
          "0.36%"
         ],
         "textposition": "auto",
         "texttemplate": "%{x}",
         "type": "bar",
         "x": [
          1,
          2
         ],
         "xaxis": "x5",
         "y": [
          "25-29",
          "30-34"
         ],
         "yaxis": "y5"
        },
        {
         "alignmentgroup": "True",
         "hovertemplate": "Q3=Others<br>Q4=USA<br>size=%{x}<br>Q2=%{y}<br>avg=%{text}<extra></extra>",
         "legendgroup": "Others",
         "marker": {
          "color": "rgb(35,139,69)",
          "pattern": {
           "shape": ""
          }
         },
         "name": "Others",
         "offsetgroup": "Others",
         "orientation": "h",
         "showlegend": true,
         "text": [
          "0.18%",
          "0.18%",
          "0.55%",
          "0.18%"
         ],
         "textposition": "auto",
         "texttemplate": "%{x}",
         "type": "bar",
         "x": [
          1,
          1,
          3,
          1
         ],
         "xaxis": "x",
         "y": [
          "25-29",
          "30-34",
          "40-44",
          "50-54"
         ],
         "yaxis": "y"
        },
        {
         "alignmentgroup": "True",
         "hovertemplate": "Q3=Others<br>Q4=India<br>size=%{x}<br>Q2=%{y}<br>avg=%{text}<extra></extra>",
         "legendgroup": "Others",
         "marker": {
          "color": "rgb(35,139,69)",
          "pattern": {
           "shape": ""
          }
         },
         "name": "Others",
         "offsetgroup": "Others",
         "orientation": "h",
         "showlegend": false,
         "text": [
          "0.18%",
          "0.18%"
         ],
         "textposition": "auto",
         "texttemplate": "%{x}",
         "type": "bar",
         "x": [
          1,
          1
         ],
         "xaxis": "x2",
         "y": [
          "22-24",
          "40-44"
         ],
         "yaxis": "y2"
        }
       ],
       "layout": {
        "annotations": [
         {
          "font": {},
          "showarrow": false,
          "text": "USA",
          "x": 0.09200000000000001,
          "xanchor": "center",
          "xref": "paper",
          "y": 1,
          "yanchor": "bottom",
          "yref": "paper"
         },
         {
          "font": {},
          "showarrow": false,
          "text": "India",
          "x": 0.29600000000000004,
          "xanchor": "center",
          "xref": "paper",
          "y": 1,
          "yanchor": "bottom",
          "yref": "paper"
         },
         {
          "font": {},
          "showarrow": false,
          "text": "Other",
          "x": 0.5,
          "xanchor": "center",
          "xref": "paper",
          "y": 1,
          "yanchor": "bottom",
          "yref": "paper"
         },
         {
          "font": {},
          "showarrow": false,
          "text": "Brazil",
          "x": 0.7040000000000002,
          "xanchor": "center",
          "xref": "paper",
          "y": 1,
          "yanchor": "bottom",
          "yref": "paper"
         },
         {
          "font": {},
          "showarrow": false,
          "text": "Japan",
          "x": 0.908,
          "xanchor": "center",
          "xref": "paper",
          "y": 1,
          "yanchor": "bottom",
          "yref": "paper"
         }
        ],
        "barmode": "relative",
        "legend": {
         "title": {
          "text": ""
         },
         "tracegroupgap": 0
        },
        "margin": {
         "t": 60
        },
        "template": {
         "data": {
          "bar": [
           {
            "error_x": {
             "color": "#2a3f5f"
            },
            "error_y": {
             "color": "#2a3f5f"
            },
            "marker": {
             "line": {
              "color": "#E5ECF6",
              "width": 0.5
             },
             "pattern": {
              "fillmode": "overlay",
              "size": 10,
              "solidity": 0.2
             }
            },
            "type": "bar"
           }
          ],
          "barpolar": [
           {
            "marker": {
             "line": {
              "color": "#E5ECF6",
              "width": 0.5
             },
             "pattern": {
              "fillmode": "overlay",
              "size": 10,
              "solidity": 0.2
             }
            },
            "type": "barpolar"
           }
          ],
          "carpet": [
           {
            "aaxis": {
             "endlinecolor": "#2a3f5f",
             "gridcolor": "white",
             "linecolor": "white",
             "minorgridcolor": "white",
             "startlinecolor": "#2a3f5f"
            },
            "baxis": {
             "endlinecolor": "#2a3f5f",
             "gridcolor": "white",
             "linecolor": "white",
             "minorgridcolor": "white",
             "startlinecolor": "#2a3f5f"
            },
            "type": "carpet"
           }
          ],
          "choropleth": [
           {
            "colorbar": {
             "outlinewidth": 0,
             "ticks": ""
            },
            "type": "choropleth"
           }
          ],
          "contour": [
           {
            "colorbar": {
             "outlinewidth": 0,
             "ticks": ""
            },
            "colorscale": [
             [
              0,
              "#0d0887"
             ],
             [
              0.1111111111111111,
              "#46039f"
             ],
             [
              0.2222222222222222,
              "#7201a8"
             ],
             [
              0.3333333333333333,
              "#9c179e"
             ],
             [
              0.4444444444444444,
              "#bd3786"
             ],
             [
              0.5555555555555556,
              "#d8576b"
             ],
             [
              0.6666666666666666,
              "#ed7953"
             ],
             [
              0.7777777777777778,
              "#fb9f3a"
             ],
             [
              0.8888888888888888,
              "#fdca26"
             ],
             [
              1,
              "#f0f921"
             ]
            ],
            "type": "contour"
           }
          ],
          "contourcarpet": [
           {
            "colorbar": {
             "outlinewidth": 0,
             "ticks": ""
            },
            "type": "contourcarpet"
           }
          ],
          "heatmap": [
           {
            "colorbar": {
             "outlinewidth": 0,
             "ticks": ""
            },
            "colorscale": [
             [
              0,
              "#0d0887"
             ],
             [
              0.1111111111111111,
              "#46039f"
             ],
             [
              0.2222222222222222,
              "#7201a8"
             ],
             [
              0.3333333333333333,
              "#9c179e"
             ],
             [
              0.4444444444444444,
              "#bd3786"
             ],
             [
              0.5555555555555556,
              "#d8576b"
             ],
             [
              0.6666666666666666,
              "#ed7953"
             ],
             [
              0.7777777777777778,
              "#fb9f3a"
             ],
             [
              0.8888888888888888,
              "#fdca26"
             ],
             [
              1,
              "#f0f921"
             ]
            ],
            "type": "heatmap"
           }
          ],
          "heatmapgl": [
           {
            "colorbar": {
             "outlinewidth": 0,
             "ticks": ""
            },
            "colorscale": [
             [
              0,
              "#0d0887"
             ],
             [
              0.1111111111111111,
              "#46039f"
             ],
             [
              0.2222222222222222,
              "#7201a8"
             ],
             [
              0.3333333333333333,
              "#9c179e"
             ],
             [
              0.4444444444444444,
              "#bd3786"
             ],
             [
              0.5555555555555556,
              "#d8576b"
             ],
             [
              0.6666666666666666,
              "#ed7953"
             ],
             [
              0.7777777777777778,
              "#fb9f3a"
             ],
             [
              0.8888888888888888,
              "#fdca26"
             ],
             [
              1,
              "#f0f921"
             ]
            ],
            "type": "heatmapgl"
           }
          ],
          "histogram": [
           {
            "marker": {
             "pattern": {
              "fillmode": "overlay",
              "size": 10,
              "solidity": 0.2
             }
            },
            "type": "histogram"
           }
          ],
          "histogram2d": [
           {
            "colorbar": {
             "outlinewidth": 0,
             "ticks": ""
            },
            "colorscale": [
             [
              0,
              "#0d0887"
             ],
             [
              0.1111111111111111,
              "#46039f"
             ],
             [
              0.2222222222222222,
              "#7201a8"
             ],
             [
              0.3333333333333333,
              "#9c179e"
             ],
             [
              0.4444444444444444,
              "#bd3786"
             ],
             [
              0.5555555555555556,
              "#d8576b"
             ],
             [
              0.6666666666666666,
              "#ed7953"
             ],
             [
              0.7777777777777778,
              "#fb9f3a"
             ],
             [
              0.8888888888888888,
              "#fdca26"
             ],
             [
              1,
              "#f0f921"
             ]
            ],
            "type": "histogram2d"
           }
          ],
          "histogram2dcontour": [
           {
            "colorbar": {
             "outlinewidth": 0,
             "ticks": ""
            },
            "colorscale": [
             [
              0,
              "#0d0887"
             ],
             [
              0.1111111111111111,
              "#46039f"
             ],
             [
              0.2222222222222222,
              "#7201a8"
             ],
             [
              0.3333333333333333,
              "#9c179e"
             ],
             [
              0.4444444444444444,
              "#bd3786"
             ],
             [
              0.5555555555555556,
              "#d8576b"
             ],
             [
              0.6666666666666666,
              "#ed7953"
             ],
             [
              0.7777777777777778,
              "#fb9f3a"
             ],
             [
              0.8888888888888888,
              "#fdca26"
             ],
             [
              1,
              "#f0f921"
             ]
            ],
            "type": "histogram2dcontour"
           }
          ],
          "mesh3d": [
           {
            "colorbar": {
             "outlinewidth": 0,
             "ticks": ""
            },
            "type": "mesh3d"
           }
          ],
          "parcoords": [
           {
            "line": {
             "colorbar": {
              "outlinewidth": 0,
              "ticks": ""
             }
            },
            "type": "parcoords"
           }
          ],
          "pie": [
           {
            "automargin": true,
            "type": "pie"
           }
          ],
          "scatter": [
           {
            "fillpattern": {
             "fillmode": "overlay",
             "size": 10,
             "solidity": 0.2
            },
            "type": "scatter"
           }
          ],
          "scatter3d": [
           {
            "line": {
             "colorbar": {
              "outlinewidth": 0,
              "ticks": ""
             }
            },
            "marker": {
             "colorbar": {
              "outlinewidth": 0,
              "ticks": ""
             }
            },
            "type": "scatter3d"
           }
          ],
          "scattercarpet": [
           {
            "marker": {
             "colorbar": {
              "outlinewidth": 0,
              "ticks": ""
             }
            },
            "type": "scattercarpet"
           }
          ],
          "scattergeo": [
           {
            "marker": {
             "colorbar": {
              "outlinewidth": 0,
              "ticks": ""
             }
            },
            "type": "scattergeo"
           }
          ],
          "scattergl": [
           {
            "marker": {
             "colorbar": {
              "outlinewidth": 0,
              "ticks": ""
             }
            },
            "type": "scattergl"
           }
          ],
          "scattermapbox": [
           {
            "marker": {
             "colorbar": {
              "outlinewidth": 0,
              "ticks": ""
             }
            },
            "type": "scattermapbox"
           }
          ],
          "scatterpolar": [
           {
            "marker": {
             "colorbar": {
              "outlinewidth": 0,
              "ticks": ""
             }
            },
            "type": "scatterpolar"
           }
          ],
          "scatterpolargl": [
           {
            "marker": {
             "colorbar": {
              "outlinewidth": 0,
              "ticks": ""
             }
            },
            "type": "scatterpolargl"
           }
          ],
          "scatterternary": [
           {
            "marker": {
             "colorbar": {
              "outlinewidth": 0,
              "ticks": ""
             }
            },
            "type": "scatterternary"
           }
          ],
          "surface": [
           {
            "colorbar": {
             "outlinewidth": 0,
             "ticks": ""
            },
            "colorscale": [
             [
              0,
              "#0d0887"
             ],
             [
              0.1111111111111111,
              "#46039f"
             ],
             [
              0.2222222222222222,
              "#7201a8"
             ],
             [
              0.3333333333333333,
              "#9c179e"
             ],
             [
              0.4444444444444444,
              "#bd3786"
             ],
             [
              0.5555555555555556,
              "#d8576b"
             ],
             [
              0.6666666666666666,
              "#ed7953"
             ],
             [
              0.7777777777777778,
              "#fb9f3a"
             ],
             [
              0.8888888888888888,
              "#fdca26"
             ],
             [
              1,
              "#f0f921"
             ]
            ],
            "type": "surface"
           }
          ],
          "table": [
           {
            "cells": {
             "fill": {
              "color": "#EBF0F8"
             },
             "line": {
              "color": "white"
             }
            },
            "header": {
             "fill": {
              "color": "#C8D4E3"
             },
             "line": {
              "color": "white"
             }
            },
            "type": "table"
           }
          ]
         },
         "layout": {
          "annotationdefaults": {
           "arrowcolor": "#2a3f5f",
           "arrowhead": 0,
           "arrowwidth": 1
          },
          "autotypenumbers": "strict",
          "coloraxis": {
           "colorbar": {
            "outlinewidth": 0,
            "ticks": ""
           }
          },
          "colorscale": {
           "diverging": [
            [
             0,
             "#8e0152"
            ],
            [
             0.1,
             "#c51b7d"
            ],
            [
             0.2,
             "#de77ae"
            ],
            [
             0.3,
             "#f1b6da"
            ],
            [
             0.4,
             "#fde0ef"
            ],
            [
             0.5,
             "#f7f7f7"
            ],
            [
             0.6,
             "#e6f5d0"
            ],
            [
             0.7,
             "#b8e186"
            ],
            [
             0.8,
             "#7fbc41"
            ],
            [
             0.9,
             "#4d9221"
            ],
            [
             1,
             "#276419"
            ]
           ],
           "sequential": [
            [
             0,
             "#0d0887"
            ],
            [
             0.1111111111111111,
             "#46039f"
            ],
            [
             0.2222222222222222,
             "#7201a8"
            ],
            [
             0.3333333333333333,
             "#9c179e"
            ],
            [
             0.4444444444444444,
             "#bd3786"
            ],
            [
             0.5555555555555556,
             "#d8576b"
            ],
            [
             0.6666666666666666,
             "#ed7953"
            ],
            [
             0.7777777777777778,
             "#fb9f3a"
            ],
            [
             0.8888888888888888,
             "#fdca26"
            ],
            [
             1,
             "#f0f921"
            ]
           ],
           "sequentialminus": [
            [
             0,
             "#0d0887"
            ],
            [
             0.1111111111111111,
             "#46039f"
            ],
            [
             0.2222222222222222,
             "#7201a8"
            ],
            [
             0.3333333333333333,
             "#9c179e"
            ],
            [
             0.4444444444444444,
             "#bd3786"
            ],
            [
             0.5555555555555556,
             "#d8576b"
            ],
            [
             0.6666666666666666,
             "#ed7953"
            ],
            [
             0.7777777777777778,
             "#fb9f3a"
            ],
            [
             0.8888888888888888,
             "#fdca26"
            ],
            [
             1,
             "#f0f921"
            ]
           ]
          },
          "colorway": [
           "#636efa",
           "#EF553B",
           "#00cc96",
           "#ab63fa",
           "#FFA15A",
           "#19d3f3",
           "#FF6692",
           "#B6E880",
           "#FF97FF",
           "#FECB52"
          ],
          "font": {
           "color": "#2a3f5f"
          },
          "geo": {
           "bgcolor": "white",
           "lakecolor": "white",
           "landcolor": "#E5ECF6",
           "showlakes": true,
           "showland": true,
           "subunitcolor": "white"
          },
          "hoverlabel": {
           "align": "left"
          },
          "hovermode": "closest",
          "mapbox": {
           "style": "light"
          },
          "paper_bgcolor": "white",
          "plot_bgcolor": "#E5ECF6",
          "polar": {
           "angularaxis": {
            "gridcolor": "white",
            "linecolor": "white",
            "ticks": ""
           },
           "bgcolor": "#E5ECF6",
           "radialaxis": {
            "gridcolor": "white",
            "linecolor": "white",
            "ticks": ""
           }
          },
          "scene": {
           "xaxis": {
            "backgroundcolor": "#E5ECF6",
            "gridcolor": "white",
            "gridwidth": 2,
            "linecolor": "white",
            "showbackground": true,
            "ticks": "",
            "zerolinecolor": "white"
           },
           "yaxis": {
            "backgroundcolor": "#E5ECF6",
            "gridcolor": "white",
            "gridwidth": 2,
            "linecolor": "white",
            "showbackground": true,
            "ticks": "",
            "zerolinecolor": "white"
           },
           "zaxis": {
            "backgroundcolor": "#E5ECF6",
            "gridcolor": "white",
            "gridwidth": 2,
            "linecolor": "white",
            "showbackground": true,
            "ticks": "",
            "zerolinecolor": "white"
           }
          },
          "shapedefaults": {
           "line": {
            "color": "#2a3f5f"
           }
          },
          "ternary": {
           "aaxis": {
            "gridcolor": "white",
            "linecolor": "white",
            "ticks": ""
           },
           "baxis": {
            "gridcolor": "white",
            "linecolor": "white",
            "ticks": ""
           },
           "bgcolor": "#E5ECF6",
           "caxis": {
            "gridcolor": "white",
            "linecolor": "white",
            "ticks": ""
           }
          },
          "title": {
           "x": 0.05
          },
          "xaxis": {
           "automargin": true,
           "gridcolor": "white",
           "linecolor": "white",
           "ticks": "",
           "title": {
            "standoff": 15
           },
           "zerolinecolor": "white",
           "zerolinewidth": 2
          },
          "yaxis": {
           "automargin": true,
           "gridcolor": "white",
           "linecolor": "white",
           "ticks": "",
           "title": {
            "standoff": 15
           },
           "zerolinecolor": "white",
           "zerolinewidth": 2
          }
         }
        },
        "xaxis": {
         "anchor": "y",
         "domain": [
          0,
          0.18400000000000002
         ],
         "title": {
          "text": "Number<br>of<br>responders"
         }
        },
        "xaxis2": {
         "anchor": "y2",
         "domain": [
          0.20400000000000001,
          0.388
         ],
         "matches": "x",
         "title": {
          "text": "Number<br>of<br>responders"
         }
        },
        "xaxis3": {
         "anchor": "y3",
         "domain": [
          0.40800000000000003,
          0.5920000000000001
         ],
         "matches": "x",
         "title": {
          "text": "Number<br>of<br>responders"
         }
        },
        "xaxis4": {
         "anchor": "y4",
         "domain": [
          0.6120000000000001,
          0.7960000000000002
         ],
         "matches": "x",
         "title": {
          "text": "Number<br>of<br>responders"
         }
        },
        "xaxis5": {
         "anchor": "y5",
         "domain": [
          0.8160000000000001,
          1
         ],
         "matches": "x",
         "title": {
          "text": "Number<br>of<br>responders"
         }
        },
        "yaxis": {
         "anchor": "x",
         "categoryarray": [
          "70+",
          "60-69",
          "55-59",
          "50-54",
          "45-49",
          "40-44",
          "35-39",
          "30-34",
          "25-29",
          "22-24",
          "18-21"
         ],
         "categoryorder": "array",
         "domain": [
          0,
          1
         ],
         "title": {
          "text": "Age"
         }
        },
        "yaxis2": {
         "anchor": "x2",
         "domain": [
          0,
          1
         ],
         "matches": "y",
         "showticklabels": false
        },
        "yaxis3": {
         "anchor": "x3",
         "domain": [
          0,
          1
         ],
         "matches": "y",
         "showticklabels": false
        },
        "yaxis4": {
         "anchor": "x4",
         "domain": [
          0,
          1
         ],
         "matches": "y",
         "showticklabels": false
        },
        "yaxis5": {
         "anchor": "x5",
         "domain": [
          0,
          1
         ],
         "matches": "y",
         "showticklabels": false
        }
       }
      }
     },
     "metadata": {},
     "output_type": "display_data"
    }
   ],
   "source": [
    "age_gen_exp=df_prue.groupby([\"Q2\",'Q4','Q3'],as_index=False).size()\n",
    "\n",
    "age_gen_exp['avg_num'] = round((age_gen_exp['size'] / age_gen_exp['size'].sum())*100,2)\n",
    "age_gen_exp['avg']=age_gen_exp['avg_num'].apply(lambda a: str(a)+ '%')\n",
    "\n",
    "fig = px.bar(age_gen_exp, x=\"size\", y='Q2', color='Q3', facet_col=\"Q4\",  text_auto=True,orientation='h', text='avg',\n",
    "                   category_orders={\"Q4\": q4_5top,\"Q3\":['Man','Woman','Others'],\"Q2\":q2_i},\n",
    "                   color_discrete_sequence=['rgb(0,68,27)','rgb(116,196,118)','rgb(35,139,69)'])\n",
    "fig.for_each_annotation(lambda a: a.update(text=a.text.replace(\"Q4=\", \"\")))\n",
    "fig.update_layout(yaxis_title=\"Age\")\n",
    "fig.update_xaxes(title_text=\"Number<br>of<br>responders\")\n",
    "fig.layout.legend.title.text = ''\n",
    "fig.show()\n"
   ]
  },
  {
   "cell_type": "code",
   "execution_count": 31,
   "metadata": {},
   "outputs": [
    {
     "name": "stderr",
     "output_type": "stream",
     "text": [
      "/var/folders/g1/0ny7sby95zb23kk6rhmjh6nr0000gn/T/ipykernel_3319/1930435802.py:1: FutureWarning:\n",
      "\n",
      "The default value of numeric_only in DataFrameGroupBy.sum is deprecated. In a future version, numeric_only will default to False. Either specify numeric_only or select only columns which should be valid for the function.\n",
      "\n"
     ]
    },
    {
     "data": {
      "text/html": [
       "<div>\n",
       "<style scoped>\n",
       "    .dataframe tbody tr th:only-of-type {\n",
       "        vertical-align: middle;\n",
       "    }\n",
       "\n",
       "    .dataframe tbody tr th {\n",
       "        vertical-align: top;\n",
       "    }\n",
       "\n",
       "    .dataframe thead th {\n",
       "        text-align: right;\n",
       "    }\n",
       "</style>\n",
       "<table border=\"1\" class=\"dataframe\">\n",
       "  <thead>\n",
       "    <tr style=\"text-align: right;\">\n",
       "      <th></th>\n",
       "      <th></th>\n",
       "      <th>size</th>\n",
       "      <th>avg_num</th>\n",
       "    </tr>\n",
       "    <tr>\n",
       "      <th>Q4</th>\n",
       "      <th>Q3</th>\n",
       "      <th></th>\n",
       "      <th></th>\n",
       "    </tr>\n",
       "  </thead>\n",
       "  <tbody>\n",
       "    <tr>\n",
       "      <th>USA</th>\n",
       "      <th>Woman</th>\n",
       "      <td>38</td>\n",
       "      <td>6.93</td>\n",
       "    </tr>\n",
       "    <tr>\n",
       "      <th>India</th>\n",
       "      <th>Woman</th>\n",
       "      <td>16</td>\n",
       "      <td>2.91</td>\n",
       "    </tr>\n",
       "    <tr>\n",
       "      <th>Other</th>\n",
       "      <th>Woman</th>\n",
       "      <td>8</td>\n",
       "      <td>1.45</td>\n",
       "    </tr>\n",
       "    <tr>\n",
       "      <th>Japan</th>\n",
       "      <th>Woman</th>\n",
       "      <td>3</td>\n",
       "      <td>0.54</td>\n",
       "    </tr>\n",
       "    <tr>\n",
       "      <th>Brazil</th>\n",
       "      <th>Woman</th>\n",
       "      <td>2</td>\n",
       "      <td>0.36</td>\n",
       "    </tr>\n",
       "  </tbody>\n",
       "</table>\n",
       "</div>"
      ],
      "text/plain": [
       "              size  avg_num\n",
       "Q4     Q3                  \n",
       "USA    Woman    38     6.93\n",
       "India  Woman    16     2.91\n",
       "Other  Woman     8     1.45\n",
       "Japan  Woman     3     0.54\n",
       "Brazil Woman     2     0.36"
      ]
     },
     "execution_count": 31,
     "metadata": {},
     "output_type": "execute_result"
    }
   ],
   "source": [
    "age_gen_exp[age_gen_exp['Q3'].isin(['Woman'])].groupby(['Q4','Q3']).sum().sort_values('avg_num',ascending=False)"
   ]
  },
  {
   "cell_type": "code",
   "execution_count": 32,
   "metadata": {},
   "outputs": [
    {
     "name": "stderr",
     "output_type": "stream",
     "text": [
      "/var/folders/g1/0ny7sby95zb23kk6rhmjh6nr0000gn/T/ipykernel_3319/319303774.py:1: FutureWarning:\n",
      "\n",
      "The default value of numeric_only in DataFrameGroupBy.sum is deprecated. In a future version, numeric_only will default to False. Either specify numeric_only or select only columns which should be valid for the function.\n",
      "\n"
     ]
    },
    {
     "data": {
      "text/html": [
       "<div>\n",
       "<style scoped>\n",
       "    .dataframe tbody tr th:only-of-type {\n",
       "        vertical-align: middle;\n",
       "    }\n",
       "\n",
       "    .dataframe tbody tr th {\n",
       "        vertical-align: top;\n",
       "    }\n",
       "\n",
       "    .dataframe thead th {\n",
       "        text-align: right;\n",
       "    }\n",
       "</style>\n",
       "<table border=\"1\" class=\"dataframe\">\n",
       "  <thead>\n",
       "    <tr style=\"text-align: right;\">\n",
       "      <th></th>\n",
       "      <th></th>\n",
       "      <th>size</th>\n",
       "      <th>avg_num</th>\n",
       "    </tr>\n",
       "    <tr>\n",
       "      <th>Q4</th>\n",
       "      <th>Q3</th>\n",
       "      <th></th>\n",
       "      <th></th>\n",
       "    </tr>\n",
       "  </thead>\n",
       "  <tbody>\n",
       "    <tr>\n",
       "      <th>USA</th>\n",
       "      <th>Others</th>\n",
       "      <td>6</td>\n",
       "      <td>1.09</td>\n",
       "    </tr>\n",
       "    <tr>\n",
       "      <th>India</th>\n",
       "      <th>Others</th>\n",
       "      <td>2</td>\n",
       "      <td>0.36</td>\n",
       "    </tr>\n",
       "  </tbody>\n",
       "</table>\n",
       "</div>"
      ],
      "text/plain": [
       "              size  avg_num\n",
       "Q4    Q3                   \n",
       "USA   Others     6     1.09\n",
       "India Others     2     0.36"
      ]
     },
     "execution_count": 32,
     "metadata": {},
     "output_type": "execute_result"
    }
   ],
   "source": [
    "age_gen_exp[age_gen_exp['Q3'].isin(['Others'])].groupby(['Q4','Q3']).sum().sort_values('avg_num',ascending=False)"
   ]
  },
  {
   "cell_type": "markdown",
   "metadata": {},
   "source": [
    "The following graph shows the age and gender distribution for each country. As expected, the participation of men is evident in all the countries that are part of the top 5. On the other hand, **the highest representation of women is found in the USA, with 6.93% of the total population of surveyed users, followed by India with 2.91%, other countries with 1.45%, Japan with 0.54% and Brazil with 0.36%**.\n",
    "As for the inclusion of other genders, it is only observed in the USA and India, representing 1.09% and 0.36% respectively. These results reflect the differences in gender distribution in the data science community in each country and highlight the importance of promoting gender diversity in this professional area."
   ]
  },
  {
   "attachments": {},
   "cell_type": "markdown",
   "metadata": {},
   "source": [
    "#### **Study**\n",
    "\n",
    "The most representative level of study is the Master's degree, with 54.4% of respondents already holding or expecting to obtain this degree in the next 2 years. **Doctoral and professional degrees follow in order of frequency**. This indicates that the vast majority of respondents have at least one higher education study, reaching 92.3% of the total number of participants. These results highlight the high educational level of the data science community in Kaggle."
   ]
  },
  {
   "cell_type": "code",
   "execution_count": 33,
   "metadata": {},
   "outputs": [
    {
     "data": {
      "application/vnd.plotly.v1+json": {
       "config": {
        "plotlyServerURL": "https://plot.ly"
       },
       "data": [
        {
         "labels": [
          "Master’s degree",
          "Doctoral degree",
          "Bachelor’s degree",
          "Other studies"
         ],
         "marker": {
          "colors": [
           "rgb(0,68,27)",
           "rgb(0,109,44)",
           "rgb(35,139,69)",
           "rgb(65,171,93)"
          ]
         },
         "type": "pie",
         "values": [
          298,
          124,
          84,
          42
         ]
        }
       ],
       "layout": {
        "template": {
         "data": {
          "bar": [
           {
            "error_x": {
             "color": "#2a3f5f"
            },
            "error_y": {
             "color": "#2a3f5f"
            },
            "marker": {
             "line": {
              "color": "#E5ECF6",
              "width": 0.5
             },
             "pattern": {
              "fillmode": "overlay",
              "size": 10,
              "solidity": 0.2
             }
            },
            "type": "bar"
           }
          ],
          "barpolar": [
           {
            "marker": {
             "line": {
              "color": "#E5ECF6",
              "width": 0.5
             },
             "pattern": {
              "fillmode": "overlay",
              "size": 10,
              "solidity": 0.2
             }
            },
            "type": "barpolar"
           }
          ],
          "carpet": [
           {
            "aaxis": {
             "endlinecolor": "#2a3f5f",
             "gridcolor": "white",
             "linecolor": "white",
             "minorgridcolor": "white",
             "startlinecolor": "#2a3f5f"
            },
            "baxis": {
             "endlinecolor": "#2a3f5f",
             "gridcolor": "white",
             "linecolor": "white",
             "minorgridcolor": "white",
             "startlinecolor": "#2a3f5f"
            },
            "type": "carpet"
           }
          ],
          "choropleth": [
           {
            "colorbar": {
             "outlinewidth": 0,
             "ticks": ""
            },
            "type": "choropleth"
           }
          ],
          "contour": [
           {
            "colorbar": {
             "outlinewidth": 0,
             "ticks": ""
            },
            "colorscale": [
             [
              0,
              "#0d0887"
             ],
             [
              0.1111111111111111,
              "#46039f"
             ],
             [
              0.2222222222222222,
              "#7201a8"
             ],
             [
              0.3333333333333333,
              "#9c179e"
             ],
             [
              0.4444444444444444,
              "#bd3786"
             ],
             [
              0.5555555555555556,
              "#d8576b"
             ],
             [
              0.6666666666666666,
              "#ed7953"
             ],
             [
              0.7777777777777778,
              "#fb9f3a"
             ],
             [
              0.8888888888888888,
              "#fdca26"
             ],
             [
              1,
              "#f0f921"
             ]
            ],
            "type": "contour"
           }
          ],
          "contourcarpet": [
           {
            "colorbar": {
             "outlinewidth": 0,
             "ticks": ""
            },
            "type": "contourcarpet"
           }
          ],
          "heatmap": [
           {
            "colorbar": {
             "outlinewidth": 0,
             "ticks": ""
            },
            "colorscale": [
             [
              0,
              "#0d0887"
             ],
             [
              0.1111111111111111,
              "#46039f"
             ],
             [
              0.2222222222222222,
              "#7201a8"
             ],
             [
              0.3333333333333333,
              "#9c179e"
             ],
             [
              0.4444444444444444,
              "#bd3786"
             ],
             [
              0.5555555555555556,
              "#d8576b"
             ],
             [
              0.6666666666666666,
              "#ed7953"
             ],
             [
              0.7777777777777778,
              "#fb9f3a"
             ],
             [
              0.8888888888888888,
              "#fdca26"
             ],
             [
              1,
              "#f0f921"
             ]
            ],
            "type": "heatmap"
           }
          ],
          "heatmapgl": [
           {
            "colorbar": {
             "outlinewidth": 0,
             "ticks": ""
            },
            "colorscale": [
             [
              0,
              "#0d0887"
             ],
             [
              0.1111111111111111,
              "#46039f"
             ],
             [
              0.2222222222222222,
              "#7201a8"
             ],
             [
              0.3333333333333333,
              "#9c179e"
             ],
             [
              0.4444444444444444,
              "#bd3786"
             ],
             [
              0.5555555555555556,
              "#d8576b"
             ],
             [
              0.6666666666666666,
              "#ed7953"
             ],
             [
              0.7777777777777778,
              "#fb9f3a"
             ],
             [
              0.8888888888888888,
              "#fdca26"
             ],
             [
              1,
              "#f0f921"
             ]
            ],
            "type": "heatmapgl"
           }
          ],
          "histogram": [
           {
            "marker": {
             "pattern": {
              "fillmode": "overlay",
              "size": 10,
              "solidity": 0.2
             }
            },
            "type": "histogram"
           }
          ],
          "histogram2d": [
           {
            "colorbar": {
             "outlinewidth": 0,
             "ticks": ""
            },
            "colorscale": [
             [
              0,
              "#0d0887"
             ],
             [
              0.1111111111111111,
              "#46039f"
             ],
             [
              0.2222222222222222,
              "#7201a8"
             ],
             [
              0.3333333333333333,
              "#9c179e"
             ],
             [
              0.4444444444444444,
              "#bd3786"
             ],
             [
              0.5555555555555556,
              "#d8576b"
             ],
             [
              0.6666666666666666,
              "#ed7953"
             ],
             [
              0.7777777777777778,
              "#fb9f3a"
             ],
             [
              0.8888888888888888,
              "#fdca26"
             ],
             [
              1,
              "#f0f921"
             ]
            ],
            "type": "histogram2d"
           }
          ],
          "histogram2dcontour": [
           {
            "colorbar": {
             "outlinewidth": 0,
             "ticks": ""
            },
            "colorscale": [
             [
              0,
              "#0d0887"
             ],
             [
              0.1111111111111111,
              "#46039f"
             ],
             [
              0.2222222222222222,
              "#7201a8"
             ],
             [
              0.3333333333333333,
              "#9c179e"
             ],
             [
              0.4444444444444444,
              "#bd3786"
             ],
             [
              0.5555555555555556,
              "#d8576b"
             ],
             [
              0.6666666666666666,
              "#ed7953"
             ],
             [
              0.7777777777777778,
              "#fb9f3a"
             ],
             [
              0.8888888888888888,
              "#fdca26"
             ],
             [
              1,
              "#f0f921"
             ]
            ],
            "type": "histogram2dcontour"
           }
          ],
          "mesh3d": [
           {
            "colorbar": {
             "outlinewidth": 0,
             "ticks": ""
            },
            "type": "mesh3d"
           }
          ],
          "parcoords": [
           {
            "line": {
             "colorbar": {
              "outlinewidth": 0,
              "ticks": ""
             }
            },
            "type": "parcoords"
           }
          ],
          "pie": [
           {
            "automargin": true,
            "type": "pie"
           }
          ],
          "scatter": [
           {
            "fillpattern": {
             "fillmode": "overlay",
             "size": 10,
             "solidity": 0.2
            },
            "type": "scatter"
           }
          ],
          "scatter3d": [
           {
            "line": {
             "colorbar": {
              "outlinewidth": 0,
              "ticks": ""
             }
            },
            "marker": {
             "colorbar": {
              "outlinewidth": 0,
              "ticks": ""
             }
            },
            "type": "scatter3d"
           }
          ],
          "scattercarpet": [
           {
            "marker": {
             "colorbar": {
              "outlinewidth": 0,
              "ticks": ""
             }
            },
            "type": "scattercarpet"
           }
          ],
          "scattergeo": [
           {
            "marker": {
             "colorbar": {
              "outlinewidth": 0,
              "ticks": ""
             }
            },
            "type": "scattergeo"
           }
          ],
          "scattergl": [
           {
            "marker": {
             "colorbar": {
              "outlinewidth": 0,
              "ticks": ""
             }
            },
            "type": "scattergl"
           }
          ],
          "scattermapbox": [
           {
            "marker": {
             "colorbar": {
              "outlinewidth": 0,
              "ticks": ""
             }
            },
            "type": "scattermapbox"
           }
          ],
          "scatterpolar": [
           {
            "marker": {
             "colorbar": {
              "outlinewidth": 0,
              "ticks": ""
             }
            },
            "type": "scatterpolar"
           }
          ],
          "scatterpolargl": [
           {
            "marker": {
             "colorbar": {
              "outlinewidth": 0,
              "ticks": ""
             }
            },
            "type": "scatterpolargl"
           }
          ],
          "scatterternary": [
           {
            "marker": {
             "colorbar": {
              "outlinewidth": 0,
              "ticks": ""
             }
            },
            "type": "scatterternary"
           }
          ],
          "surface": [
           {
            "colorbar": {
             "outlinewidth": 0,
             "ticks": ""
            },
            "colorscale": [
             [
              0,
              "#0d0887"
             ],
             [
              0.1111111111111111,
              "#46039f"
             ],
             [
              0.2222222222222222,
              "#7201a8"
             ],
             [
              0.3333333333333333,
              "#9c179e"
             ],
             [
              0.4444444444444444,
              "#bd3786"
             ],
             [
              0.5555555555555556,
              "#d8576b"
             ],
             [
              0.6666666666666666,
              "#ed7953"
             ],
             [
              0.7777777777777778,
              "#fb9f3a"
             ],
             [
              0.8888888888888888,
              "#fdca26"
             ],
             [
              1,
              "#f0f921"
             ]
            ],
            "type": "surface"
           }
          ],
          "table": [
           {
            "cells": {
             "fill": {
              "color": "#EBF0F8"
             },
             "line": {
              "color": "white"
             }
            },
            "header": {
             "fill": {
              "color": "#C8D4E3"
             },
             "line": {
              "color": "white"
             }
            },
            "type": "table"
           }
          ]
         },
         "layout": {
          "annotationdefaults": {
           "arrowcolor": "#2a3f5f",
           "arrowhead": 0,
           "arrowwidth": 1
          },
          "autotypenumbers": "strict",
          "coloraxis": {
           "colorbar": {
            "outlinewidth": 0,
            "ticks": ""
           }
          },
          "colorscale": {
           "diverging": [
            [
             0,
             "#8e0152"
            ],
            [
             0.1,
             "#c51b7d"
            ],
            [
             0.2,
             "#de77ae"
            ],
            [
             0.3,
             "#f1b6da"
            ],
            [
             0.4,
             "#fde0ef"
            ],
            [
             0.5,
             "#f7f7f7"
            ],
            [
             0.6,
             "#e6f5d0"
            ],
            [
             0.7,
             "#b8e186"
            ],
            [
             0.8,
             "#7fbc41"
            ],
            [
             0.9,
             "#4d9221"
            ],
            [
             1,
             "#276419"
            ]
           ],
           "sequential": [
            [
             0,
             "#0d0887"
            ],
            [
             0.1111111111111111,
             "#46039f"
            ],
            [
             0.2222222222222222,
             "#7201a8"
            ],
            [
             0.3333333333333333,
             "#9c179e"
            ],
            [
             0.4444444444444444,
             "#bd3786"
            ],
            [
             0.5555555555555556,
             "#d8576b"
            ],
            [
             0.6666666666666666,
             "#ed7953"
            ],
            [
             0.7777777777777778,
             "#fb9f3a"
            ],
            [
             0.8888888888888888,
             "#fdca26"
            ],
            [
             1,
             "#f0f921"
            ]
           ],
           "sequentialminus": [
            [
             0,
             "#0d0887"
            ],
            [
             0.1111111111111111,
             "#46039f"
            ],
            [
             0.2222222222222222,
             "#7201a8"
            ],
            [
             0.3333333333333333,
             "#9c179e"
            ],
            [
             0.4444444444444444,
             "#bd3786"
            ],
            [
             0.5555555555555556,
             "#d8576b"
            ],
            [
             0.6666666666666666,
             "#ed7953"
            ],
            [
             0.7777777777777778,
             "#fb9f3a"
            ],
            [
             0.8888888888888888,
             "#fdca26"
            ],
            [
             1,
             "#f0f921"
            ]
           ]
          },
          "colorway": [
           "#636efa",
           "#EF553B",
           "#00cc96",
           "#ab63fa",
           "#FFA15A",
           "#19d3f3",
           "#FF6692",
           "#B6E880",
           "#FF97FF",
           "#FECB52"
          ],
          "font": {
           "color": "#2a3f5f"
          },
          "geo": {
           "bgcolor": "white",
           "lakecolor": "white",
           "landcolor": "#E5ECF6",
           "showlakes": true,
           "showland": true,
           "subunitcolor": "white"
          },
          "hoverlabel": {
           "align": "left"
          },
          "hovermode": "closest",
          "mapbox": {
           "style": "light"
          },
          "paper_bgcolor": "white",
          "plot_bgcolor": "#E5ECF6",
          "polar": {
           "angularaxis": {
            "gridcolor": "white",
            "linecolor": "white",
            "ticks": ""
           },
           "bgcolor": "#E5ECF6",
           "radialaxis": {
            "gridcolor": "white",
            "linecolor": "white",
            "ticks": ""
           }
          },
          "scene": {
           "xaxis": {
            "backgroundcolor": "#E5ECF6",
            "gridcolor": "white",
            "gridwidth": 2,
            "linecolor": "white",
            "showbackground": true,
            "ticks": "",
            "zerolinecolor": "white"
           },
           "yaxis": {
            "backgroundcolor": "#E5ECF6",
            "gridcolor": "white",
            "gridwidth": 2,
            "linecolor": "white",
            "showbackground": true,
            "ticks": "",
            "zerolinecolor": "white"
           },
           "zaxis": {
            "backgroundcolor": "#E5ECF6",
            "gridcolor": "white",
            "gridwidth": 2,
            "linecolor": "white",
            "showbackground": true,
            "ticks": "",
            "zerolinecolor": "white"
           }
          },
          "shapedefaults": {
           "line": {
            "color": "#2a3f5f"
           }
          },
          "ternary": {
           "aaxis": {
            "gridcolor": "white",
            "linecolor": "white",
            "ticks": ""
           },
           "baxis": {
            "gridcolor": "white",
            "linecolor": "white",
            "ticks": ""
           },
           "bgcolor": "#E5ECF6",
           "caxis": {
            "gridcolor": "white",
            "linecolor": "white",
            "ticks": ""
           }
          },
          "title": {
           "x": 0.05
          },
          "xaxis": {
           "automargin": true,
           "gridcolor": "white",
           "linecolor": "white",
           "ticks": "",
           "title": {
            "standoff": 15
           },
           "zerolinecolor": "white",
           "zerolinewidth": 2
          },
          "yaxis": {
           "automargin": true,
           "gridcolor": "white",
           "linecolor": "white",
           "ticks": "",
           "title": {
            "standoff": 15
           },
           "zerolinecolor": "white",
           "zerolinewidth": 2
          }
         }
        }
       }
      }
     },
     "metadata": {},
     "output_type": "display_data"
    }
   ],
   "source": [
    "study_=df_prue.groupby([\"Q8\"],as_index=False).size().sort_values('size',ascending=False)\n",
    "\n",
    "d_ ={'Q8':'Other studies','size':study_[3:]['size'].sum()}\n",
    "study_=pd.concat([study_[:3],pd.DataFrame(d_,index=[0])],axis=0)\n",
    "fig = go.Figure(data=[go.Pie(labels=study_[\"Q8\"], values=study_[\"size\"],marker=dict(colors=['rgb(0,68,27)',  'rgb(0,109,44)','rgb(35,139,69)', 'rgb(65,171,93)']))])\n",
    "fig.show()\n"
   ]
  },
  {
   "cell_type": "code",
   "execution_count": 34,
   "metadata": {},
   "outputs": [
    {
     "data": {
      "application/vnd.plotly.v1+json": {
       "config": {
        "plotlyServerURL": "https://plot.ly"
       },
       "data": [
        {
         "colorscale": [
          [
           0,
           "rgb(0,68,27)"
          ],
          [
           0.5,
           "rgb(247,252,245)"
          ],
          [
           1,
           "rgb(247,252,245)"
          ]
         ],
         "hoverinfo": "none",
         "opacity": 0.75,
         "showscale": false,
         "type": "heatmap",
         "z": [
          [
           0,
           0
          ],
          [
           0.5,
           0.5
          ],
          [
           1,
           1
          ],
          [
           0.5,
           0.5
          ],
          [
           1,
           1
          ]
         ]
        }
       ],
       "layout": {
        "annotations": [
         {
          "align": "left",
          "font": {
           "color": "#ffffff"
          },
          "showarrow": false,
          "text": "<b>Q8</b>",
          "x": -0.45,
          "xanchor": "left",
          "xref": "x",
          "y": 0,
          "yref": "y"
         },
         {
          "align": "left",
          "font": {
           "color": "#ffffff"
          },
          "showarrow": false,
          "text": "<b>size</b>",
          "x": 0.55,
          "xanchor": "left",
          "xref": "x",
          "y": 0,
          "yref": "y"
         },
         {
          "align": "left",
          "font": {
           "color": "#000000"
          },
          "showarrow": false,
          "text": "Master’s degree",
          "x": -0.45,
          "xanchor": "left",
          "xref": "x",
          "y": 1,
          "yref": "y"
         },
         {
          "align": "left",
          "font": {
           "color": "#000000"
          },
          "showarrow": false,
          "text": "298",
          "x": 0.55,
          "xanchor": "left",
          "xref": "x",
          "y": 1,
          "yref": "y"
         },
         {
          "align": "left",
          "font": {
           "color": "#000000"
          },
          "showarrow": false,
          "text": "Doctoral degree",
          "x": -0.45,
          "xanchor": "left",
          "xref": "x",
          "y": 2,
          "yref": "y"
         },
         {
          "align": "left",
          "font": {
           "color": "#000000"
          },
          "showarrow": false,
          "text": "124",
          "x": 0.55,
          "xanchor": "left",
          "xref": "x",
          "y": 2,
          "yref": "y"
         },
         {
          "align": "left",
          "font": {
           "color": "#000000"
          },
          "showarrow": false,
          "text": "Bachelor’s degree",
          "x": -0.45,
          "xanchor": "left",
          "xref": "x",
          "y": 3,
          "yref": "y"
         },
         {
          "align": "left",
          "font": {
           "color": "#000000"
          },
          "showarrow": false,
          "text": "84",
          "x": 0.55,
          "xanchor": "left",
          "xref": "x",
          "y": 3,
          "yref": "y"
         },
         {
          "align": "left",
          "font": {
           "color": "#000000"
          },
          "showarrow": false,
          "text": "Other studies",
          "x": -0.45,
          "xanchor": "left",
          "xref": "x",
          "y": 4,
          "yref": "y"
         },
         {
          "align": "left",
          "font": {
           "color": "#000000"
          },
          "showarrow": false,
          "text": "42",
          "x": 0.55,
          "xanchor": "left",
          "xref": "x",
          "y": 4,
          "yref": "y"
         }
        ],
        "height": 200,
        "margin": {
         "b": 0,
         "l": 0,
         "r": 0,
         "t": 0
        },
        "template": {
         "data": {
          "bar": [
           {
            "error_x": {
             "color": "#2a3f5f"
            },
            "error_y": {
             "color": "#2a3f5f"
            },
            "marker": {
             "line": {
              "color": "#E5ECF6",
              "width": 0.5
             },
             "pattern": {
              "fillmode": "overlay",
              "size": 10,
              "solidity": 0.2
             }
            },
            "type": "bar"
           }
          ],
          "barpolar": [
           {
            "marker": {
             "line": {
              "color": "#E5ECF6",
              "width": 0.5
             },
             "pattern": {
              "fillmode": "overlay",
              "size": 10,
              "solidity": 0.2
             }
            },
            "type": "barpolar"
           }
          ],
          "carpet": [
           {
            "aaxis": {
             "endlinecolor": "#2a3f5f",
             "gridcolor": "white",
             "linecolor": "white",
             "minorgridcolor": "white",
             "startlinecolor": "#2a3f5f"
            },
            "baxis": {
             "endlinecolor": "#2a3f5f",
             "gridcolor": "white",
             "linecolor": "white",
             "minorgridcolor": "white",
             "startlinecolor": "#2a3f5f"
            },
            "type": "carpet"
           }
          ],
          "choropleth": [
           {
            "colorbar": {
             "outlinewidth": 0,
             "ticks": ""
            },
            "type": "choropleth"
           }
          ],
          "contour": [
           {
            "colorbar": {
             "outlinewidth": 0,
             "ticks": ""
            },
            "colorscale": [
             [
              0,
              "#0d0887"
             ],
             [
              0.1111111111111111,
              "#46039f"
             ],
             [
              0.2222222222222222,
              "#7201a8"
             ],
             [
              0.3333333333333333,
              "#9c179e"
             ],
             [
              0.4444444444444444,
              "#bd3786"
             ],
             [
              0.5555555555555556,
              "#d8576b"
             ],
             [
              0.6666666666666666,
              "#ed7953"
             ],
             [
              0.7777777777777778,
              "#fb9f3a"
             ],
             [
              0.8888888888888888,
              "#fdca26"
             ],
             [
              1,
              "#f0f921"
             ]
            ],
            "type": "contour"
           }
          ],
          "contourcarpet": [
           {
            "colorbar": {
             "outlinewidth": 0,
             "ticks": ""
            },
            "type": "contourcarpet"
           }
          ],
          "heatmap": [
           {
            "colorbar": {
             "outlinewidth": 0,
             "ticks": ""
            },
            "colorscale": [
             [
              0,
              "#0d0887"
             ],
             [
              0.1111111111111111,
              "#46039f"
             ],
             [
              0.2222222222222222,
              "#7201a8"
             ],
             [
              0.3333333333333333,
              "#9c179e"
             ],
             [
              0.4444444444444444,
              "#bd3786"
             ],
             [
              0.5555555555555556,
              "#d8576b"
             ],
             [
              0.6666666666666666,
              "#ed7953"
             ],
             [
              0.7777777777777778,
              "#fb9f3a"
             ],
             [
              0.8888888888888888,
              "#fdca26"
             ],
             [
              1,
              "#f0f921"
             ]
            ],
            "type": "heatmap"
           }
          ],
          "heatmapgl": [
           {
            "colorbar": {
             "outlinewidth": 0,
             "ticks": ""
            },
            "colorscale": [
             [
              0,
              "#0d0887"
             ],
             [
              0.1111111111111111,
              "#46039f"
             ],
             [
              0.2222222222222222,
              "#7201a8"
             ],
             [
              0.3333333333333333,
              "#9c179e"
             ],
             [
              0.4444444444444444,
              "#bd3786"
             ],
             [
              0.5555555555555556,
              "#d8576b"
             ],
             [
              0.6666666666666666,
              "#ed7953"
             ],
             [
              0.7777777777777778,
              "#fb9f3a"
             ],
             [
              0.8888888888888888,
              "#fdca26"
             ],
             [
              1,
              "#f0f921"
             ]
            ],
            "type": "heatmapgl"
           }
          ],
          "histogram": [
           {
            "marker": {
             "pattern": {
              "fillmode": "overlay",
              "size": 10,
              "solidity": 0.2
             }
            },
            "type": "histogram"
           }
          ],
          "histogram2d": [
           {
            "colorbar": {
             "outlinewidth": 0,
             "ticks": ""
            },
            "colorscale": [
             [
              0,
              "#0d0887"
             ],
             [
              0.1111111111111111,
              "#46039f"
             ],
             [
              0.2222222222222222,
              "#7201a8"
             ],
             [
              0.3333333333333333,
              "#9c179e"
             ],
             [
              0.4444444444444444,
              "#bd3786"
             ],
             [
              0.5555555555555556,
              "#d8576b"
             ],
             [
              0.6666666666666666,
              "#ed7953"
             ],
             [
              0.7777777777777778,
              "#fb9f3a"
             ],
             [
              0.8888888888888888,
              "#fdca26"
             ],
             [
              1,
              "#f0f921"
             ]
            ],
            "type": "histogram2d"
           }
          ],
          "histogram2dcontour": [
           {
            "colorbar": {
             "outlinewidth": 0,
             "ticks": ""
            },
            "colorscale": [
             [
              0,
              "#0d0887"
             ],
             [
              0.1111111111111111,
              "#46039f"
             ],
             [
              0.2222222222222222,
              "#7201a8"
             ],
             [
              0.3333333333333333,
              "#9c179e"
             ],
             [
              0.4444444444444444,
              "#bd3786"
             ],
             [
              0.5555555555555556,
              "#d8576b"
             ],
             [
              0.6666666666666666,
              "#ed7953"
             ],
             [
              0.7777777777777778,
              "#fb9f3a"
             ],
             [
              0.8888888888888888,
              "#fdca26"
             ],
             [
              1,
              "#f0f921"
             ]
            ],
            "type": "histogram2dcontour"
           }
          ],
          "mesh3d": [
           {
            "colorbar": {
             "outlinewidth": 0,
             "ticks": ""
            },
            "type": "mesh3d"
           }
          ],
          "parcoords": [
           {
            "line": {
             "colorbar": {
              "outlinewidth": 0,
              "ticks": ""
             }
            },
            "type": "parcoords"
           }
          ],
          "pie": [
           {
            "automargin": true,
            "type": "pie"
           }
          ],
          "scatter": [
           {
            "fillpattern": {
             "fillmode": "overlay",
             "size": 10,
             "solidity": 0.2
            },
            "type": "scatter"
           }
          ],
          "scatter3d": [
           {
            "line": {
             "colorbar": {
              "outlinewidth": 0,
              "ticks": ""
             }
            },
            "marker": {
             "colorbar": {
              "outlinewidth": 0,
              "ticks": ""
             }
            },
            "type": "scatter3d"
           }
          ],
          "scattercarpet": [
           {
            "marker": {
             "colorbar": {
              "outlinewidth": 0,
              "ticks": ""
             }
            },
            "type": "scattercarpet"
           }
          ],
          "scattergeo": [
           {
            "marker": {
             "colorbar": {
              "outlinewidth": 0,
              "ticks": ""
             }
            },
            "type": "scattergeo"
           }
          ],
          "scattergl": [
           {
            "marker": {
             "colorbar": {
              "outlinewidth": 0,
              "ticks": ""
             }
            },
            "type": "scattergl"
           }
          ],
          "scattermapbox": [
           {
            "marker": {
             "colorbar": {
              "outlinewidth": 0,
              "ticks": ""
             }
            },
            "type": "scattermapbox"
           }
          ],
          "scatterpolar": [
           {
            "marker": {
             "colorbar": {
              "outlinewidth": 0,
              "ticks": ""
             }
            },
            "type": "scatterpolar"
           }
          ],
          "scatterpolargl": [
           {
            "marker": {
             "colorbar": {
              "outlinewidth": 0,
              "ticks": ""
             }
            },
            "type": "scatterpolargl"
           }
          ],
          "scatterternary": [
           {
            "marker": {
             "colorbar": {
              "outlinewidth": 0,
              "ticks": ""
             }
            },
            "type": "scatterternary"
           }
          ],
          "surface": [
           {
            "colorbar": {
             "outlinewidth": 0,
             "ticks": ""
            },
            "colorscale": [
             [
              0,
              "#0d0887"
             ],
             [
              0.1111111111111111,
              "#46039f"
             ],
             [
              0.2222222222222222,
              "#7201a8"
             ],
             [
              0.3333333333333333,
              "#9c179e"
             ],
             [
              0.4444444444444444,
              "#bd3786"
             ],
             [
              0.5555555555555556,
              "#d8576b"
             ],
             [
              0.6666666666666666,
              "#ed7953"
             ],
             [
              0.7777777777777778,
              "#fb9f3a"
             ],
             [
              0.8888888888888888,
              "#fdca26"
             ],
             [
              1,
              "#f0f921"
             ]
            ],
            "type": "surface"
           }
          ],
          "table": [
           {
            "cells": {
             "fill": {
              "color": "#EBF0F8"
             },
             "line": {
              "color": "white"
             }
            },
            "header": {
             "fill": {
              "color": "#C8D4E3"
             },
             "line": {
              "color": "white"
             }
            },
            "type": "table"
           }
          ]
         },
         "layout": {
          "annotationdefaults": {
           "arrowcolor": "#2a3f5f",
           "arrowhead": 0,
           "arrowwidth": 1
          },
          "autotypenumbers": "strict",
          "coloraxis": {
           "colorbar": {
            "outlinewidth": 0,
            "ticks": ""
           }
          },
          "colorscale": {
           "diverging": [
            [
             0,
             "#8e0152"
            ],
            [
             0.1,
             "#c51b7d"
            ],
            [
             0.2,
             "#de77ae"
            ],
            [
             0.3,
             "#f1b6da"
            ],
            [
             0.4,
             "#fde0ef"
            ],
            [
             0.5,
             "#f7f7f7"
            ],
            [
             0.6,
             "#e6f5d0"
            ],
            [
             0.7,
             "#b8e186"
            ],
            [
             0.8,
             "#7fbc41"
            ],
            [
             0.9,
             "#4d9221"
            ],
            [
             1,
             "#276419"
            ]
           ],
           "sequential": [
            [
             0,
             "#0d0887"
            ],
            [
             0.1111111111111111,
             "#46039f"
            ],
            [
             0.2222222222222222,
             "#7201a8"
            ],
            [
             0.3333333333333333,
             "#9c179e"
            ],
            [
             0.4444444444444444,
             "#bd3786"
            ],
            [
             0.5555555555555556,
             "#d8576b"
            ],
            [
             0.6666666666666666,
             "#ed7953"
            ],
            [
             0.7777777777777778,
             "#fb9f3a"
            ],
            [
             0.8888888888888888,
             "#fdca26"
            ],
            [
             1,
             "#f0f921"
            ]
           ],
           "sequentialminus": [
            [
             0,
             "#0d0887"
            ],
            [
             0.1111111111111111,
             "#46039f"
            ],
            [
             0.2222222222222222,
             "#7201a8"
            ],
            [
             0.3333333333333333,
             "#9c179e"
            ],
            [
             0.4444444444444444,
             "#bd3786"
            ],
            [
             0.5555555555555556,
             "#d8576b"
            ],
            [
             0.6666666666666666,
             "#ed7953"
            ],
            [
             0.7777777777777778,
             "#fb9f3a"
            ],
            [
             0.8888888888888888,
             "#fdca26"
            ],
            [
             1,
             "#f0f921"
            ]
           ]
          },
          "colorway": [
           "#636efa",
           "#EF553B",
           "#00cc96",
           "#ab63fa",
           "#FFA15A",
           "#19d3f3",
           "#FF6692",
           "#B6E880",
           "#FF97FF",
           "#FECB52"
          ],
          "font": {
           "color": "#2a3f5f"
          },
          "geo": {
           "bgcolor": "white",
           "lakecolor": "white",
           "landcolor": "#E5ECF6",
           "showlakes": true,
           "showland": true,
           "subunitcolor": "white"
          },
          "hoverlabel": {
           "align": "left"
          },
          "hovermode": "closest",
          "mapbox": {
           "style": "light"
          },
          "paper_bgcolor": "white",
          "plot_bgcolor": "#E5ECF6",
          "polar": {
           "angularaxis": {
            "gridcolor": "white",
            "linecolor": "white",
            "ticks": ""
           },
           "bgcolor": "#E5ECF6",
           "radialaxis": {
            "gridcolor": "white",
            "linecolor": "white",
            "ticks": ""
           }
          },
          "scene": {
           "xaxis": {
            "backgroundcolor": "#E5ECF6",
            "gridcolor": "white",
            "gridwidth": 2,
            "linecolor": "white",
            "showbackground": true,
            "ticks": "",
            "zerolinecolor": "white"
           },
           "yaxis": {
            "backgroundcolor": "#E5ECF6",
            "gridcolor": "white",
            "gridwidth": 2,
            "linecolor": "white",
            "showbackground": true,
            "ticks": "",
            "zerolinecolor": "white"
           },
           "zaxis": {
            "backgroundcolor": "#E5ECF6",
            "gridcolor": "white",
            "gridwidth": 2,
            "linecolor": "white",
            "showbackground": true,
            "ticks": "",
            "zerolinecolor": "white"
           }
          },
          "shapedefaults": {
           "line": {
            "color": "#2a3f5f"
           }
          },
          "ternary": {
           "aaxis": {
            "gridcolor": "white",
            "linecolor": "white",
            "ticks": ""
           },
           "baxis": {
            "gridcolor": "white",
            "linecolor": "white",
            "ticks": ""
           },
           "bgcolor": "#E5ECF6",
           "caxis": {
            "gridcolor": "white",
            "linecolor": "white",
            "ticks": ""
           }
          },
          "title": {
           "x": 0.05
          },
          "xaxis": {
           "automargin": true,
           "gridcolor": "white",
           "linecolor": "white",
           "ticks": "",
           "title": {
            "standoff": 15
           },
           "zerolinecolor": "white",
           "zerolinewidth": 2
          },
          "yaxis": {
           "automargin": true,
           "gridcolor": "white",
           "linecolor": "white",
           "ticks": "",
           "title": {
            "standoff": 15
           },
           "zerolinecolor": "white",
           "zerolinewidth": 2
          }
         }
        },
        "xaxis": {
         "dtick": 1,
         "gridwidth": 2,
         "showticklabels": false,
         "tick0": -0.5,
         "ticks": "",
         "zeroline": false
        },
        "yaxis": {
         "autorange": "reversed",
         "dtick": 1,
         "gridwidth": 2,
         "showticklabels": false,
         "tick0": 0.5,
         "ticks": "",
         "zeroline": false
        }
       }
      }
     },
     "metadata": {},
     "output_type": "display_data"
    }
   ],
   "source": [
    "\n",
    "fig = ff.create_table(study_,colorscale=[[0,'rgb(0,68,27)'],[.5, 'rgb(247,252,245)'],[1, 'rgb(247,252,245)']])\n",
    "## falta organizar colores y minimizar categorias para no tener tantas\n",
    "fig.show()"
   ]
  },
  {
   "cell_type": "markdown",
   "metadata": {},
   "source": [
    "#### **Industry**\n",
    "\n",
    "The industry with the most data science representatives is Computers/Technology, with 176 respondents, corresponding to 32.12% of the population. It is followed by the Accounts/Finance industry with 55 representatives, equivalent to 10.04% of the total. The higher participation of data scientists in certain industries can be attributed to several factors:\n",
    "\n",
    "##### Computers/Technology:\n",
    "    \n",
    "> **Abundant Data:** The technology industry generates a large amount of data, providing fertile ground for the application of data science techniques.\n",
    "\n",
    "> **Constant innovation:** Technology companies are constantly innovating and looking for ways to improve products and services. Data science is essential to analyze and take advantage of these opportunities.\n",
    "    \n",
    "> **Intense competition:** Competition in the technology industry is high, which motivates companies to use data analytics to make strategic decisions.\n",
    "\n",
    "##### Accounts/Finance:\n",
    "\n",
    "> **Risk Management:** In the financial sector, risk management is crucial. Data science is used to assess and predict financial risks, which is critical to the stability of financial institutions.\n",
    "\n",
    "> **Fraud Detection:** Fraud detection is essential in the financial industry, and data science techniques help identify suspicious patterns and anomalies.\n",
    "\n",
    "> **Investment Optimization:** Financial firms use data science models to make more informed investment decisions."
   ]
  },
  {
   "cell_type": "code",
   "execution_count": 35,
   "metadata": {},
   "outputs": [
    {
     "data": {
      "application/vnd.plotly.v1+json": {
       "config": {
        "plotlyServerURL": "https://plot.ly"
       },
       "data": [
        {
         "alignmentgroup": "True",
         "hovertemplate": "color=<br>Q24=%{x}<br>size=%{y}<br>avg=%{text}<extra></extra>",
         "legendgroup": "",
         "marker": {
          "color": "rgb(0,68,27)",
          "pattern": {
           "shape": ""
          }
         },
         "name": "",
         "offsetgroup": "",
         "orientation": "v",
         "showlegend": false,
         "text": [
          "32.12%",
          "10.04%"
         ],
         "textposition": "inside",
         "texttemplate": "%{y}",
         "type": "bar",
         "x": [
          "Computers/Technology",
          "Accounting/Finance"
         ],
         "xaxis": "x",
         "y": [
          176,
          55
         ],
         "yaxis": "y"
        },
        {
         "alignmentgroup": "True",
         "hovertemplate": "color= <br>Q24=%{x}<br>size=%{y}<br>avg=%{text}<extra></extra>",
         "legendgroup": " ",
         "marker": {
          "color": "rgb(199,233,192)",
          "pattern": {
           "shape": ""
          }
         },
         "name": " ",
         "offsetgroup": " ",
         "orientation": "v",
         "showlegend": true,
         "text": [
          "7.12%",
          "6.75%",
          "5.84%",
          "5.84%",
          "5.66%",
          "5.66%",
          "5.11%",
          "5.11%",
          "3.47%",
          "2.92%",
          "1.64%",
          "1.46%",
          "1.28%"
         ],
         "textposition": "inside",
         "texttemplate": "%{y}",
         "type": "bar",
         "x": [
          "Medical/Pharmaceutical",
          "Other",
          "Insurance/Risk Assessment",
          "Online Service/Internet-based Services",
          "Manufacturing/Fabrication",
          "Retail/Sales",
          "Academics/Education",
          "Government/Public Service",
          "Marketing/CRM",
          "Energy/Mining",
          "Shipping/Transportation",
          "Broadcasting/Communications",
          "Non-profit/Service"
         ],
         "xaxis": "x",
         "y": [
          39,
          37,
          32,
          32,
          31,
          31,
          28,
          28,
          19,
          16,
          9,
          8,
          7
         ],
         "yaxis": "y"
        }
       ],
       "layout": {
        "barmode": "relative",
        "legend": {
         "title": {
          "text": ""
         },
         "tracegroupgap": 0
        },
        "margin": {
         "t": 60
        },
        "template": {
         "data": {
          "bar": [
           {
            "error_x": {
             "color": "#2a3f5f"
            },
            "error_y": {
             "color": "#2a3f5f"
            },
            "marker": {
             "line": {
              "color": "#E5ECF6",
              "width": 0.5
             },
             "pattern": {
              "fillmode": "overlay",
              "size": 10,
              "solidity": 0.2
             }
            },
            "type": "bar"
           }
          ],
          "barpolar": [
           {
            "marker": {
             "line": {
              "color": "#E5ECF6",
              "width": 0.5
             },
             "pattern": {
              "fillmode": "overlay",
              "size": 10,
              "solidity": 0.2
             }
            },
            "type": "barpolar"
           }
          ],
          "carpet": [
           {
            "aaxis": {
             "endlinecolor": "#2a3f5f",
             "gridcolor": "white",
             "linecolor": "white",
             "minorgridcolor": "white",
             "startlinecolor": "#2a3f5f"
            },
            "baxis": {
             "endlinecolor": "#2a3f5f",
             "gridcolor": "white",
             "linecolor": "white",
             "minorgridcolor": "white",
             "startlinecolor": "#2a3f5f"
            },
            "type": "carpet"
           }
          ],
          "choropleth": [
           {
            "colorbar": {
             "outlinewidth": 0,
             "ticks": ""
            },
            "type": "choropleth"
           }
          ],
          "contour": [
           {
            "colorbar": {
             "outlinewidth": 0,
             "ticks": ""
            },
            "colorscale": [
             [
              0,
              "#0d0887"
             ],
             [
              0.1111111111111111,
              "#46039f"
             ],
             [
              0.2222222222222222,
              "#7201a8"
             ],
             [
              0.3333333333333333,
              "#9c179e"
             ],
             [
              0.4444444444444444,
              "#bd3786"
             ],
             [
              0.5555555555555556,
              "#d8576b"
             ],
             [
              0.6666666666666666,
              "#ed7953"
             ],
             [
              0.7777777777777778,
              "#fb9f3a"
             ],
             [
              0.8888888888888888,
              "#fdca26"
             ],
             [
              1,
              "#f0f921"
             ]
            ],
            "type": "contour"
           }
          ],
          "contourcarpet": [
           {
            "colorbar": {
             "outlinewidth": 0,
             "ticks": ""
            },
            "type": "contourcarpet"
           }
          ],
          "heatmap": [
           {
            "colorbar": {
             "outlinewidth": 0,
             "ticks": ""
            },
            "colorscale": [
             [
              0,
              "#0d0887"
             ],
             [
              0.1111111111111111,
              "#46039f"
             ],
             [
              0.2222222222222222,
              "#7201a8"
             ],
             [
              0.3333333333333333,
              "#9c179e"
             ],
             [
              0.4444444444444444,
              "#bd3786"
             ],
             [
              0.5555555555555556,
              "#d8576b"
             ],
             [
              0.6666666666666666,
              "#ed7953"
             ],
             [
              0.7777777777777778,
              "#fb9f3a"
             ],
             [
              0.8888888888888888,
              "#fdca26"
             ],
             [
              1,
              "#f0f921"
             ]
            ],
            "type": "heatmap"
           }
          ],
          "heatmapgl": [
           {
            "colorbar": {
             "outlinewidth": 0,
             "ticks": ""
            },
            "colorscale": [
             [
              0,
              "#0d0887"
             ],
             [
              0.1111111111111111,
              "#46039f"
             ],
             [
              0.2222222222222222,
              "#7201a8"
             ],
             [
              0.3333333333333333,
              "#9c179e"
             ],
             [
              0.4444444444444444,
              "#bd3786"
             ],
             [
              0.5555555555555556,
              "#d8576b"
             ],
             [
              0.6666666666666666,
              "#ed7953"
             ],
             [
              0.7777777777777778,
              "#fb9f3a"
             ],
             [
              0.8888888888888888,
              "#fdca26"
             ],
             [
              1,
              "#f0f921"
             ]
            ],
            "type": "heatmapgl"
           }
          ],
          "histogram": [
           {
            "marker": {
             "pattern": {
              "fillmode": "overlay",
              "size": 10,
              "solidity": 0.2
             }
            },
            "type": "histogram"
           }
          ],
          "histogram2d": [
           {
            "colorbar": {
             "outlinewidth": 0,
             "ticks": ""
            },
            "colorscale": [
             [
              0,
              "#0d0887"
             ],
             [
              0.1111111111111111,
              "#46039f"
             ],
             [
              0.2222222222222222,
              "#7201a8"
             ],
             [
              0.3333333333333333,
              "#9c179e"
             ],
             [
              0.4444444444444444,
              "#bd3786"
             ],
             [
              0.5555555555555556,
              "#d8576b"
             ],
             [
              0.6666666666666666,
              "#ed7953"
             ],
             [
              0.7777777777777778,
              "#fb9f3a"
             ],
             [
              0.8888888888888888,
              "#fdca26"
             ],
             [
              1,
              "#f0f921"
             ]
            ],
            "type": "histogram2d"
           }
          ],
          "histogram2dcontour": [
           {
            "colorbar": {
             "outlinewidth": 0,
             "ticks": ""
            },
            "colorscale": [
             [
              0,
              "#0d0887"
             ],
             [
              0.1111111111111111,
              "#46039f"
             ],
             [
              0.2222222222222222,
              "#7201a8"
             ],
             [
              0.3333333333333333,
              "#9c179e"
             ],
             [
              0.4444444444444444,
              "#bd3786"
             ],
             [
              0.5555555555555556,
              "#d8576b"
             ],
             [
              0.6666666666666666,
              "#ed7953"
             ],
             [
              0.7777777777777778,
              "#fb9f3a"
             ],
             [
              0.8888888888888888,
              "#fdca26"
             ],
             [
              1,
              "#f0f921"
             ]
            ],
            "type": "histogram2dcontour"
           }
          ],
          "mesh3d": [
           {
            "colorbar": {
             "outlinewidth": 0,
             "ticks": ""
            },
            "type": "mesh3d"
           }
          ],
          "parcoords": [
           {
            "line": {
             "colorbar": {
              "outlinewidth": 0,
              "ticks": ""
             }
            },
            "type": "parcoords"
           }
          ],
          "pie": [
           {
            "automargin": true,
            "type": "pie"
           }
          ],
          "scatter": [
           {
            "fillpattern": {
             "fillmode": "overlay",
             "size": 10,
             "solidity": 0.2
            },
            "type": "scatter"
           }
          ],
          "scatter3d": [
           {
            "line": {
             "colorbar": {
              "outlinewidth": 0,
              "ticks": ""
             }
            },
            "marker": {
             "colorbar": {
              "outlinewidth": 0,
              "ticks": ""
             }
            },
            "type": "scatter3d"
           }
          ],
          "scattercarpet": [
           {
            "marker": {
             "colorbar": {
              "outlinewidth": 0,
              "ticks": ""
             }
            },
            "type": "scattercarpet"
           }
          ],
          "scattergeo": [
           {
            "marker": {
             "colorbar": {
              "outlinewidth": 0,
              "ticks": ""
             }
            },
            "type": "scattergeo"
           }
          ],
          "scattergl": [
           {
            "marker": {
             "colorbar": {
              "outlinewidth": 0,
              "ticks": ""
             }
            },
            "type": "scattergl"
           }
          ],
          "scattermapbox": [
           {
            "marker": {
             "colorbar": {
              "outlinewidth": 0,
              "ticks": ""
             }
            },
            "type": "scattermapbox"
           }
          ],
          "scatterpolar": [
           {
            "marker": {
             "colorbar": {
              "outlinewidth": 0,
              "ticks": ""
             }
            },
            "type": "scatterpolar"
           }
          ],
          "scatterpolargl": [
           {
            "marker": {
             "colorbar": {
              "outlinewidth": 0,
              "ticks": ""
             }
            },
            "type": "scatterpolargl"
           }
          ],
          "scatterternary": [
           {
            "marker": {
             "colorbar": {
              "outlinewidth": 0,
              "ticks": ""
             }
            },
            "type": "scatterternary"
           }
          ],
          "surface": [
           {
            "colorbar": {
             "outlinewidth": 0,
             "ticks": ""
            },
            "colorscale": [
             [
              0,
              "#0d0887"
             ],
             [
              0.1111111111111111,
              "#46039f"
             ],
             [
              0.2222222222222222,
              "#7201a8"
             ],
             [
              0.3333333333333333,
              "#9c179e"
             ],
             [
              0.4444444444444444,
              "#bd3786"
             ],
             [
              0.5555555555555556,
              "#d8576b"
             ],
             [
              0.6666666666666666,
              "#ed7953"
             ],
             [
              0.7777777777777778,
              "#fb9f3a"
             ],
             [
              0.8888888888888888,
              "#fdca26"
             ],
             [
              1,
              "#f0f921"
             ]
            ],
            "type": "surface"
           }
          ],
          "table": [
           {
            "cells": {
             "fill": {
              "color": "#EBF0F8"
             },
             "line": {
              "color": "white"
             }
            },
            "header": {
             "fill": {
              "color": "#C8D4E3"
             },
             "line": {
              "color": "white"
             }
            },
            "type": "table"
           }
          ]
         },
         "layout": {
          "annotationdefaults": {
           "arrowcolor": "#2a3f5f",
           "arrowhead": 0,
           "arrowwidth": 1
          },
          "autotypenumbers": "strict",
          "coloraxis": {
           "colorbar": {
            "outlinewidth": 0,
            "ticks": ""
           }
          },
          "colorscale": {
           "diverging": [
            [
             0,
             "#8e0152"
            ],
            [
             0.1,
             "#c51b7d"
            ],
            [
             0.2,
             "#de77ae"
            ],
            [
             0.3,
             "#f1b6da"
            ],
            [
             0.4,
             "#fde0ef"
            ],
            [
             0.5,
             "#f7f7f7"
            ],
            [
             0.6,
             "#e6f5d0"
            ],
            [
             0.7,
             "#b8e186"
            ],
            [
             0.8,
             "#7fbc41"
            ],
            [
             0.9,
             "#4d9221"
            ],
            [
             1,
             "#276419"
            ]
           ],
           "sequential": [
            [
             0,
             "#0d0887"
            ],
            [
             0.1111111111111111,
             "#46039f"
            ],
            [
             0.2222222222222222,
             "#7201a8"
            ],
            [
             0.3333333333333333,
             "#9c179e"
            ],
            [
             0.4444444444444444,
             "#bd3786"
            ],
            [
             0.5555555555555556,
             "#d8576b"
            ],
            [
             0.6666666666666666,
             "#ed7953"
            ],
            [
             0.7777777777777778,
             "#fb9f3a"
            ],
            [
             0.8888888888888888,
             "#fdca26"
            ],
            [
             1,
             "#f0f921"
            ]
           ],
           "sequentialminus": [
            [
             0,
             "#0d0887"
            ],
            [
             0.1111111111111111,
             "#46039f"
            ],
            [
             0.2222222222222222,
             "#7201a8"
            ],
            [
             0.3333333333333333,
             "#9c179e"
            ],
            [
             0.4444444444444444,
             "#bd3786"
            ],
            [
             0.5555555555555556,
             "#d8576b"
            ],
            [
             0.6666666666666666,
             "#ed7953"
            ],
            [
             0.7777777777777778,
             "#fb9f3a"
            ],
            [
             0.8888888888888888,
             "#fdca26"
            ],
            [
             1,
             "#f0f921"
            ]
           ]
          },
          "colorway": [
           "#636efa",
           "#EF553B",
           "#00cc96",
           "#ab63fa",
           "#FFA15A",
           "#19d3f3",
           "#FF6692",
           "#B6E880",
           "#FF97FF",
           "#FECB52"
          ],
          "font": {
           "color": "#2a3f5f"
          },
          "geo": {
           "bgcolor": "white",
           "lakecolor": "white",
           "landcolor": "#E5ECF6",
           "showlakes": true,
           "showland": true,
           "subunitcolor": "white"
          },
          "hoverlabel": {
           "align": "left"
          },
          "hovermode": "closest",
          "mapbox": {
           "style": "light"
          },
          "paper_bgcolor": "white",
          "plot_bgcolor": "#E5ECF6",
          "polar": {
           "angularaxis": {
            "gridcolor": "white",
            "linecolor": "white",
            "ticks": ""
           },
           "bgcolor": "#E5ECF6",
           "radialaxis": {
            "gridcolor": "white",
            "linecolor": "white",
            "ticks": ""
           }
          },
          "scene": {
           "xaxis": {
            "backgroundcolor": "#E5ECF6",
            "gridcolor": "white",
            "gridwidth": 2,
            "linecolor": "white",
            "showbackground": true,
            "ticks": "",
            "zerolinecolor": "white"
           },
           "yaxis": {
            "backgroundcolor": "#E5ECF6",
            "gridcolor": "white",
            "gridwidth": 2,
            "linecolor": "white",
            "showbackground": true,
            "ticks": "",
            "zerolinecolor": "white"
           },
           "zaxis": {
            "backgroundcolor": "#E5ECF6",
            "gridcolor": "white",
            "gridwidth": 2,
            "linecolor": "white",
            "showbackground": true,
            "ticks": "",
            "zerolinecolor": "white"
           }
          },
          "shapedefaults": {
           "line": {
            "color": "#2a3f5f"
           }
          },
          "ternary": {
           "aaxis": {
            "gridcolor": "white",
            "linecolor": "white",
            "ticks": ""
           },
           "baxis": {
            "gridcolor": "white",
            "linecolor": "white",
            "ticks": ""
           },
           "bgcolor": "#E5ECF6",
           "caxis": {
            "gridcolor": "white",
            "linecolor": "white",
            "ticks": ""
           }
          },
          "title": {
           "x": 0.05
          },
          "xaxis": {
           "automargin": true,
           "gridcolor": "white",
           "linecolor": "white",
           "ticks": "",
           "title": {
            "standoff": 15
           },
           "zerolinecolor": "white",
           "zerolinewidth": 2
          },
          "yaxis": {
           "automargin": true,
           "gridcolor": "white",
           "linecolor": "white",
           "ticks": "",
           "title": {
            "standoff": 15
           },
           "zerolinecolor": "white",
           "zerolinewidth": 2
          }
         }
        },
        "title": {
         "text": "Industry"
        },
        "xaxis": {
         "anchor": "y",
         "domain": [
          0,
          1
         ],
         "title": {
          "text": ""
         }
        },
        "yaxis": {
         "anchor": "x",
         "domain": [
          0,
          1
         ],
         "title": {
          "text": "Number of responders"
         }
        }
       }
      }
     },
     "metadata": {},
     "output_type": "display_data"
    }
   ],
   "source": [
    "\n",
    "i='Q24'\n",
    "title='Industry'\n",
    "c1=df_prue.groupby([i],as_index=False).size().sort_values('size',ascending=False)\n",
    "num=2\n",
    "color=['']*num + [' ']*(c1.shape[0]-num)\n",
    "c1['avg_num'] = round((c1['size'] / c1['size'].sum())*100,2)\n",
    "c1['avg']=c1['avg_num'].apply(lambda a: str(a)+ '%')\n",
    "fig = px.bar(c1, x=i,y='size' , text='avg', text_auto=True,color=color,\n",
    "                color_discrete_sequence=['rgb(0,68,27)','rgb(199,233,192)'])\n",
    "fig.update_traces(textposition='inside')\n",
    "fig.update_layout(title=title,yaxis_title=\"Number of responders\")\n",
    "fig.layout.legend.title.text = ''\n",
    "fig.layout.xaxis.title.text=''\n",
    "fig.show()\n"
   ]
  },
  {
   "cell_type": "code",
   "execution_count": 36,
   "metadata": {},
   "outputs": [
    {
     "data": {
      "application/vnd.plotly.v1+json": {
       "config": {
        "plotlyServerURL": "https://plot.ly"
       },
       "data": [
        {
         "alignmentgroup": "True",
         "hovertemplate": "Q4=USA<br>Q24=%{x}<br>size=%{y}<br>avg=%{text}<extra></extra>",
         "legendgroup": "USA",
         "marker": {
          "color": "rgb(0,109,44)",
          "pattern": {
           "shape": ""
          }
         },
         "name": "USA",
         "offsetgroup": "USA",
         "orientation": "v",
         "showlegend": true,
         "text": [
          "1.82%",
          "4.38%",
          "0.36%",
          "12.04%",
          "1.46%",
          "2.55%",
          "3.28%",
          "1.46%",
          "1.09%",
          "4.38%",
          "1.09%",
          "2.37%",
          "4.01%",
          "2.92%",
          "0.55%"
         ],
         "textangle": 0,
         "textposition": "auto",
         "type": "bar",
         "x": [
          "Academics/Education",
          "Accounting/Finance",
          "Broadcasting/Communications",
          "Computers/Technology",
          "Energy/Mining",
          "Government/Public Service",
          "Insurance/Risk Assessment",
          "Manufacturing/Fabrication",
          "Marketing/CRM",
          "Medical/Pharmaceutical",
          "Non-profit/Service",
          "Online Service/Internet-based Services",
          "Other",
          "Retail/Sales",
          "Shipping/Transportation"
         ],
         "xaxis": "x5",
         "y": [
          10,
          24,
          2,
          66,
          8,
          14,
          18,
          8,
          6,
          24,
          6,
          13,
          22,
          16,
          3
         ],
         "yaxis": "y5"
        },
        {
         "alignmentgroup": "True",
         "hovertemplate": "Q4=India<br>Q24=%{x}<br>size=%{y}<br>avg=%{text}<extra></extra>",
         "legendgroup": "India",
         "marker": {
          "color": "rgb(161,217,155)",
          "pattern": {
           "shape": ""
          }
         },
         "name": "India",
         "offsetgroup": "India",
         "orientation": "v",
         "showlegend": true,
         "text": [
          "1.82%",
          "2.92%",
          "0.91%",
          "13.32%",
          "0.36%",
          "2.01%",
          "1.64%",
          "1.82%",
          "1.46%",
          "1.82%",
          "1.82%",
          "1.64%",
          "0.36%"
         ],
         "textangle": 0,
         "textposition": "auto",
         "type": "bar",
         "x": [
          "Academics/Education",
          "Accounting/Finance",
          "Broadcasting/Communications",
          "Computers/Technology",
          "Government/Public Service",
          "Insurance/Risk Assessment",
          "Manufacturing/Fabrication",
          "Marketing/CRM",
          "Medical/Pharmaceutical",
          "Online Service/Internet-based Services",
          "Other",
          "Retail/Sales",
          "Shipping/Transportation"
         ],
         "xaxis": "x4",
         "y": [
          10,
          16,
          5,
          73,
          2,
          11,
          9,
          10,
          8,
          10,
          10,
          9,
          2
         ],
         "yaxis": "y4"
        },
        {
         "alignmentgroup": "True",
         "hovertemplate": "Q4=Other<br>Q24=%{x}<br>size=%{y}<br>avg=%{text}<extra></extra>",
         "legendgroup": "Other",
         "marker": {
          "color": "rgb(35,139,6)",
          "pattern": {
           "shape": ""
          }
         },
         "name": "Other",
         "offsetgroup": "Other",
         "orientation": "v",
         "showlegend": true,
         "text": [
          "0.91%",
          "1.09%",
          "0.18%",
          "3.28%",
          "0.55%",
          "0.91%",
          "0.18%",
          "0.55%",
          "0.36%",
          "0.55%",
          "1.09%",
          "0.55%",
          "0.36%",
          "0.73%"
         ],
         "textangle": 0,
         "textposition": "auto",
         "type": "bar",
         "x": [
          "Academics/Education",
          "Accounting/Finance",
          "Broadcasting/Communications",
          "Computers/Technology",
          "Energy/Mining",
          "Government/Public Service",
          "Insurance/Risk Assessment",
          "Manufacturing/Fabrication",
          "Marketing/CRM",
          "Medical/Pharmaceutical",
          "Online Service/Internet-based Services",
          "Other",
          "Retail/Sales",
          "Shipping/Transportation"
         ],
         "xaxis": "x3",
         "y": [
          5,
          6,
          1,
          18,
          3,
          5,
          1,
          3,
          2,
          3,
          6,
          3,
          2,
          4
         ],
         "yaxis": "y3"
        },
        {
         "alignmentgroup": "True",
         "hovertemplate": "Q4=Brazil<br>Q24=%{x}<br>size=%{y}<br>avg=%{text}<extra></extra>",
         "legendgroup": "Brazil",
         "marker": {
          "color": "rgb(116,196,118)",
          "pattern": {
           "shape": ""
          }
         },
         "name": "Brazil",
         "offsetgroup": "Brazil",
         "orientation": "v",
         "showlegend": true,
         "text": [
          "0.18%",
          "0.73%",
          "1.64%",
          "0.55%",
          "1.28%",
          "0.18%",
          "0.73%",
          "0.18%",
          "0.18%",
          "0.36%",
          "0.73%"
         ],
         "textangle": 0,
         "textposition": "auto",
         "type": "bar",
         "x": [
          "Academics/Education",
          "Accounting/Finance",
          "Computers/Technology",
          "Energy/Mining",
          "Government/Public Service",
          "Marketing/CRM",
          "Medical/Pharmaceutical",
          "Non-profit/Service",
          "Online Service/Internet-based Services",
          "Other",
          "Retail/Sales"
         ],
         "xaxis": "x2",
         "y": [
          1,
          4,
          9,
          3,
          7,
          1,
          4,
          1,
          1,
          2,
          4
         ],
         "yaxis": "y2"
        },
        {
         "alignmentgroup": "True",
         "hovertemplate": "Q4=Japan<br>Q24=%{x}<br>size=%{y}<br>avg=%{text}<extra></extra>",
         "legendgroup": "Japan",
         "marker": {
          "color": "rgb(65,171,93)",
          "pattern": {
           "shape": ""
          }
         },
         "name": "Japan",
         "offsetgroup": "Japan",
         "orientation": "v",
         "showlegend": true,
         "text": [
          "0.36%",
          "0.91%",
          "1.82%",
          "0.36%",
          "0.36%",
          "2.01%",
          "0.36%"
         ],
         "textangle": 0,
         "textposition": "auto",
         "type": "bar",
         "x": [
          "Academics/Education",
          "Accounting/Finance",
          "Computers/Technology",
          "Energy/Mining",
          "Insurance/Risk Assessment",
          "Manufacturing/Fabrication",
          "Online Service/Internet-based Services"
         ],
         "xaxis": "x",
         "y": [
          2,
          5,
          10,
          2,
          2,
          11,
          2
         ],
         "yaxis": "y"
        }
       ],
       "layout": {
        "annotations": [
         {
          "font": {},
          "showarrow": false,
          "text": "Japan",
          "x": 0.5,
          "xanchor": "center",
          "xref": "paper",
          "y": 0.144,
          "yanchor": "bottom",
          "yref": "paper"
         },
         {
          "font": {},
          "showarrow": false,
          "text": "Brazil",
          "x": 0.5,
          "xanchor": "center",
          "xref": "paper",
          "y": 0.358,
          "yanchor": "bottom",
          "yref": "paper"
         },
         {
          "font": {},
          "showarrow": false,
          "text": "Other",
          "x": 0.5,
          "xanchor": "center",
          "xref": "paper",
          "y": 0.572,
          "yanchor": "bottom",
          "yref": "paper"
         },
         {
          "font": {},
          "showarrow": false,
          "text": "India",
          "x": 0.5,
          "xanchor": "center",
          "xref": "paper",
          "y": 0.7859999999999999,
          "yanchor": "bottom",
          "yref": "paper"
         },
         {
          "font": {},
          "showarrow": false,
          "text": "USA",
          "x": 0.5,
          "xanchor": "center",
          "xref": "paper",
          "y": 1,
          "yanchor": "bottom",
          "yref": "paper"
         }
        ],
        "barmode": "relative",
        "height": 800,
        "legend": {
         "title": {
          "text": ""
         },
         "tracegroupgap": 0
        },
        "margin": {
         "t": 60
        },
        "template": {
         "data": {
          "bar": [
           {
            "error_x": {
             "color": "#2a3f5f"
            },
            "error_y": {
             "color": "#2a3f5f"
            },
            "marker": {
             "line": {
              "color": "#E5ECF6",
              "width": 0.5
             },
             "pattern": {
              "fillmode": "overlay",
              "size": 10,
              "solidity": 0.2
             }
            },
            "type": "bar"
           }
          ],
          "barpolar": [
           {
            "marker": {
             "line": {
              "color": "#E5ECF6",
              "width": 0.5
             },
             "pattern": {
              "fillmode": "overlay",
              "size": 10,
              "solidity": 0.2
             }
            },
            "type": "barpolar"
           }
          ],
          "carpet": [
           {
            "aaxis": {
             "endlinecolor": "#2a3f5f",
             "gridcolor": "white",
             "linecolor": "white",
             "minorgridcolor": "white",
             "startlinecolor": "#2a3f5f"
            },
            "baxis": {
             "endlinecolor": "#2a3f5f",
             "gridcolor": "white",
             "linecolor": "white",
             "minorgridcolor": "white",
             "startlinecolor": "#2a3f5f"
            },
            "type": "carpet"
           }
          ],
          "choropleth": [
           {
            "colorbar": {
             "outlinewidth": 0,
             "ticks": ""
            },
            "type": "choropleth"
           }
          ],
          "contour": [
           {
            "colorbar": {
             "outlinewidth": 0,
             "ticks": ""
            },
            "colorscale": [
             [
              0,
              "#0d0887"
             ],
             [
              0.1111111111111111,
              "#46039f"
             ],
             [
              0.2222222222222222,
              "#7201a8"
             ],
             [
              0.3333333333333333,
              "#9c179e"
             ],
             [
              0.4444444444444444,
              "#bd3786"
             ],
             [
              0.5555555555555556,
              "#d8576b"
             ],
             [
              0.6666666666666666,
              "#ed7953"
             ],
             [
              0.7777777777777778,
              "#fb9f3a"
             ],
             [
              0.8888888888888888,
              "#fdca26"
             ],
             [
              1,
              "#f0f921"
             ]
            ],
            "type": "contour"
           }
          ],
          "contourcarpet": [
           {
            "colorbar": {
             "outlinewidth": 0,
             "ticks": ""
            },
            "type": "contourcarpet"
           }
          ],
          "heatmap": [
           {
            "colorbar": {
             "outlinewidth": 0,
             "ticks": ""
            },
            "colorscale": [
             [
              0,
              "#0d0887"
             ],
             [
              0.1111111111111111,
              "#46039f"
             ],
             [
              0.2222222222222222,
              "#7201a8"
             ],
             [
              0.3333333333333333,
              "#9c179e"
             ],
             [
              0.4444444444444444,
              "#bd3786"
             ],
             [
              0.5555555555555556,
              "#d8576b"
             ],
             [
              0.6666666666666666,
              "#ed7953"
             ],
             [
              0.7777777777777778,
              "#fb9f3a"
             ],
             [
              0.8888888888888888,
              "#fdca26"
             ],
             [
              1,
              "#f0f921"
             ]
            ],
            "type": "heatmap"
           }
          ],
          "heatmapgl": [
           {
            "colorbar": {
             "outlinewidth": 0,
             "ticks": ""
            },
            "colorscale": [
             [
              0,
              "#0d0887"
             ],
             [
              0.1111111111111111,
              "#46039f"
             ],
             [
              0.2222222222222222,
              "#7201a8"
             ],
             [
              0.3333333333333333,
              "#9c179e"
             ],
             [
              0.4444444444444444,
              "#bd3786"
             ],
             [
              0.5555555555555556,
              "#d8576b"
             ],
             [
              0.6666666666666666,
              "#ed7953"
             ],
             [
              0.7777777777777778,
              "#fb9f3a"
             ],
             [
              0.8888888888888888,
              "#fdca26"
             ],
             [
              1,
              "#f0f921"
             ]
            ],
            "type": "heatmapgl"
           }
          ],
          "histogram": [
           {
            "marker": {
             "pattern": {
              "fillmode": "overlay",
              "size": 10,
              "solidity": 0.2
             }
            },
            "type": "histogram"
           }
          ],
          "histogram2d": [
           {
            "colorbar": {
             "outlinewidth": 0,
             "ticks": ""
            },
            "colorscale": [
             [
              0,
              "#0d0887"
             ],
             [
              0.1111111111111111,
              "#46039f"
             ],
             [
              0.2222222222222222,
              "#7201a8"
             ],
             [
              0.3333333333333333,
              "#9c179e"
             ],
             [
              0.4444444444444444,
              "#bd3786"
             ],
             [
              0.5555555555555556,
              "#d8576b"
             ],
             [
              0.6666666666666666,
              "#ed7953"
             ],
             [
              0.7777777777777778,
              "#fb9f3a"
             ],
             [
              0.8888888888888888,
              "#fdca26"
             ],
             [
              1,
              "#f0f921"
             ]
            ],
            "type": "histogram2d"
           }
          ],
          "histogram2dcontour": [
           {
            "colorbar": {
             "outlinewidth": 0,
             "ticks": ""
            },
            "colorscale": [
             [
              0,
              "#0d0887"
             ],
             [
              0.1111111111111111,
              "#46039f"
             ],
             [
              0.2222222222222222,
              "#7201a8"
             ],
             [
              0.3333333333333333,
              "#9c179e"
             ],
             [
              0.4444444444444444,
              "#bd3786"
             ],
             [
              0.5555555555555556,
              "#d8576b"
             ],
             [
              0.6666666666666666,
              "#ed7953"
             ],
             [
              0.7777777777777778,
              "#fb9f3a"
             ],
             [
              0.8888888888888888,
              "#fdca26"
             ],
             [
              1,
              "#f0f921"
             ]
            ],
            "type": "histogram2dcontour"
           }
          ],
          "mesh3d": [
           {
            "colorbar": {
             "outlinewidth": 0,
             "ticks": ""
            },
            "type": "mesh3d"
           }
          ],
          "parcoords": [
           {
            "line": {
             "colorbar": {
              "outlinewidth": 0,
              "ticks": ""
             }
            },
            "type": "parcoords"
           }
          ],
          "pie": [
           {
            "automargin": true,
            "type": "pie"
           }
          ],
          "scatter": [
           {
            "fillpattern": {
             "fillmode": "overlay",
             "size": 10,
             "solidity": 0.2
            },
            "type": "scatter"
           }
          ],
          "scatter3d": [
           {
            "line": {
             "colorbar": {
              "outlinewidth": 0,
              "ticks": ""
             }
            },
            "marker": {
             "colorbar": {
              "outlinewidth": 0,
              "ticks": ""
             }
            },
            "type": "scatter3d"
           }
          ],
          "scattercarpet": [
           {
            "marker": {
             "colorbar": {
              "outlinewidth": 0,
              "ticks": ""
             }
            },
            "type": "scattercarpet"
           }
          ],
          "scattergeo": [
           {
            "marker": {
             "colorbar": {
              "outlinewidth": 0,
              "ticks": ""
             }
            },
            "type": "scattergeo"
           }
          ],
          "scattergl": [
           {
            "marker": {
             "colorbar": {
              "outlinewidth": 0,
              "ticks": ""
             }
            },
            "type": "scattergl"
           }
          ],
          "scattermapbox": [
           {
            "marker": {
             "colorbar": {
              "outlinewidth": 0,
              "ticks": ""
             }
            },
            "type": "scattermapbox"
           }
          ],
          "scatterpolar": [
           {
            "marker": {
             "colorbar": {
              "outlinewidth": 0,
              "ticks": ""
             }
            },
            "type": "scatterpolar"
           }
          ],
          "scatterpolargl": [
           {
            "marker": {
             "colorbar": {
              "outlinewidth": 0,
              "ticks": ""
             }
            },
            "type": "scatterpolargl"
           }
          ],
          "scatterternary": [
           {
            "marker": {
             "colorbar": {
              "outlinewidth": 0,
              "ticks": ""
             }
            },
            "type": "scatterternary"
           }
          ],
          "surface": [
           {
            "colorbar": {
             "outlinewidth": 0,
             "ticks": ""
            },
            "colorscale": [
             [
              0,
              "#0d0887"
             ],
             [
              0.1111111111111111,
              "#46039f"
             ],
             [
              0.2222222222222222,
              "#7201a8"
             ],
             [
              0.3333333333333333,
              "#9c179e"
             ],
             [
              0.4444444444444444,
              "#bd3786"
             ],
             [
              0.5555555555555556,
              "#d8576b"
             ],
             [
              0.6666666666666666,
              "#ed7953"
             ],
             [
              0.7777777777777778,
              "#fb9f3a"
             ],
             [
              0.8888888888888888,
              "#fdca26"
             ],
             [
              1,
              "#f0f921"
             ]
            ],
            "type": "surface"
           }
          ],
          "table": [
           {
            "cells": {
             "fill": {
              "color": "#EBF0F8"
             },
             "line": {
              "color": "white"
             }
            },
            "header": {
             "fill": {
              "color": "#C8D4E3"
             },
             "line": {
              "color": "white"
             }
            },
            "type": "table"
           }
          ]
         },
         "layout": {
          "annotationdefaults": {
           "arrowcolor": "#2a3f5f",
           "arrowhead": 0,
           "arrowwidth": 1
          },
          "autotypenumbers": "strict",
          "coloraxis": {
           "colorbar": {
            "outlinewidth": 0,
            "ticks": ""
           }
          },
          "colorscale": {
           "diverging": [
            [
             0,
             "#8e0152"
            ],
            [
             0.1,
             "#c51b7d"
            ],
            [
             0.2,
             "#de77ae"
            ],
            [
             0.3,
             "#f1b6da"
            ],
            [
             0.4,
             "#fde0ef"
            ],
            [
             0.5,
             "#f7f7f7"
            ],
            [
             0.6,
             "#e6f5d0"
            ],
            [
             0.7,
             "#b8e186"
            ],
            [
             0.8,
             "#7fbc41"
            ],
            [
             0.9,
             "#4d9221"
            ],
            [
             1,
             "#276419"
            ]
           ],
           "sequential": [
            [
             0,
             "#0d0887"
            ],
            [
             0.1111111111111111,
             "#46039f"
            ],
            [
             0.2222222222222222,
             "#7201a8"
            ],
            [
             0.3333333333333333,
             "#9c179e"
            ],
            [
             0.4444444444444444,
             "#bd3786"
            ],
            [
             0.5555555555555556,
             "#d8576b"
            ],
            [
             0.6666666666666666,
             "#ed7953"
            ],
            [
             0.7777777777777778,
             "#fb9f3a"
            ],
            [
             0.8888888888888888,
             "#fdca26"
            ],
            [
             1,
             "#f0f921"
            ]
           ],
           "sequentialminus": [
            [
             0,
             "#0d0887"
            ],
            [
             0.1111111111111111,
             "#46039f"
            ],
            [
             0.2222222222222222,
             "#7201a8"
            ],
            [
             0.3333333333333333,
             "#9c179e"
            ],
            [
             0.4444444444444444,
             "#bd3786"
            ],
            [
             0.5555555555555556,
             "#d8576b"
            ],
            [
             0.6666666666666666,
             "#ed7953"
            ],
            [
             0.7777777777777778,
             "#fb9f3a"
            ],
            [
             0.8888888888888888,
             "#fdca26"
            ],
            [
             1,
             "#f0f921"
            ]
           ]
          },
          "colorway": [
           "#636efa",
           "#EF553B",
           "#00cc96",
           "#ab63fa",
           "#FFA15A",
           "#19d3f3",
           "#FF6692",
           "#B6E880",
           "#FF97FF",
           "#FECB52"
          ],
          "font": {
           "color": "#2a3f5f"
          },
          "geo": {
           "bgcolor": "white",
           "lakecolor": "white",
           "landcolor": "#E5ECF6",
           "showlakes": true,
           "showland": true,
           "subunitcolor": "white"
          },
          "hoverlabel": {
           "align": "left"
          },
          "hovermode": "closest",
          "mapbox": {
           "style": "light"
          },
          "paper_bgcolor": "white",
          "plot_bgcolor": "#E5ECF6",
          "polar": {
           "angularaxis": {
            "gridcolor": "white",
            "linecolor": "white",
            "ticks": ""
           },
           "bgcolor": "#E5ECF6",
           "radialaxis": {
            "gridcolor": "white",
            "linecolor": "white",
            "ticks": ""
           }
          },
          "scene": {
           "xaxis": {
            "backgroundcolor": "#E5ECF6",
            "gridcolor": "white",
            "gridwidth": 2,
            "linecolor": "white",
            "showbackground": true,
            "ticks": "",
            "zerolinecolor": "white"
           },
           "yaxis": {
            "backgroundcolor": "#E5ECF6",
            "gridcolor": "white",
            "gridwidth": 2,
            "linecolor": "white",
            "showbackground": true,
            "ticks": "",
            "zerolinecolor": "white"
           },
           "zaxis": {
            "backgroundcolor": "#E5ECF6",
            "gridcolor": "white",
            "gridwidth": 2,
            "linecolor": "white",
            "showbackground": true,
            "ticks": "",
            "zerolinecolor": "white"
           }
          },
          "shapedefaults": {
           "line": {
            "color": "#2a3f5f"
           }
          },
          "ternary": {
           "aaxis": {
            "gridcolor": "white",
            "linecolor": "white",
            "ticks": ""
           },
           "baxis": {
            "gridcolor": "white",
            "linecolor": "white",
            "ticks": ""
           },
           "bgcolor": "#E5ECF6",
           "caxis": {
            "gridcolor": "white",
            "linecolor": "white",
            "ticks": ""
           }
          },
          "title": {
           "x": 0.05
          },
          "xaxis": {
           "automargin": true,
           "gridcolor": "white",
           "linecolor": "white",
           "ticks": "",
           "title": {
            "standoff": 15
           },
           "zerolinecolor": "white",
           "zerolinewidth": 2
          },
          "yaxis": {
           "automargin": true,
           "gridcolor": "white",
           "linecolor": "white",
           "ticks": "",
           "title": {
            "standoff": 15
           },
           "zerolinecolor": "white",
           "zerolinewidth": 2
          }
         }
        },
        "title": {
         "text": "Industry split by top 5 countries."
        },
        "xaxis": {
         "anchor": "y",
         "domain": [
          0,
          1
         ],
         "title": {
          "text": "Industries"
         }
        },
        "xaxis2": {
         "anchor": "y2",
         "domain": [
          0,
          1
         ],
         "matches": "x",
         "showticklabels": false
        },
        "xaxis3": {
         "anchor": "y3",
         "domain": [
          0,
          1
         ],
         "matches": "x",
         "showticklabels": false
        },
        "xaxis4": {
         "anchor": "y4",
         "domain": [
          0,
          1
         ],
         "matches": "x",
         "showticklabels": false
        },
        "xaxis5": {
         "anchor": "y5",
         "domain": [
          0,
          1
         ],
         "matches": "x",
         "showticklabels": false
        },
        "yaxis": {
         "anchor": "x",
         "domain": [
          0,
          0.144
         ],
         "title": {
          "text": "Number of<br>responders"
         }
        },
        "yaxis2": {
         "anchor": "x2",
         "domain": [
          0.214,
          0.358
         ],
         "matches": "y",
         "title": {
          "text": "Number of<br>responders"
         }
        },
        "yaxis3": {
         "anchor": "x3",
         "domain": [
          0.428,
          0.572
         ],
         "matches": "y",
         "title": {
          "text": "Number of<br>responders"
         }
        },
        "yaxis4": {
         "anchor": "x4",
         "domain": [
          0.6419999999999999,
          0.7859999999999999
         ],
         "matches": "y",
         "title": {
          "text": "Number of<br>responders"
         }
        },
        "yaxis5": {
         "anchor": "x5",
         "domain": [
          0.856,
          1
         ],
         "matches": "y",
         "title": {
          "text": "Number of<br>responders"
         }
        }
       }
      }
     },
     "metadata": {},
     "output_type": "display_data"
    }
   ],
   "source": [
    "color=['rgb(0,109,44)','rgb(161,217,155)','rgb(35,139,6)', 'rgb(116,196,118)', 'rgb(65,171,93)' ]\n",
    "i='Q24'\n",
    "title='Industry split by top 5 countries.'\n",
    "c1=df_prue.groupby(['Q4',i],as_index=False).size()\n",
    "c1['avg_num'] = round((c1['size'] / c1['size'].sum())*100,2)\n",
    "c1['avg']=c1['avg_num'].apply(lambda a: str(a)+ '%')\n",
    "fig = px.bar(c1, x=i,y='size' , facet_col=\"Q4\", color=\"Q4\", text='avg',\n",
    "                category_orders={\"Q4\":q4_5top},color_discrete_sequence=color,facet_col_wrap=1,\n",
    "                height=800)\n",
    "fig.for_each_annotation(lambda a: a.update(text=a.text.replace(\"Q4=\", \"\")))\n",
    "fig.update_traces(textangle=0)\n",
    "fig.update_layout(title=title)\n",
    "\n",
    "fig.layout.legend.title.text = ''\n",
    "fig.layout.xaxis.title.text = 'Industries'\n",
    "fig.layout.yaxis1.title.text = 'Number of<br>responders'\n",
    "fig.layout.yaxis2.title.text = 'Number of<br>responders'\n",
    "fig.layout.yaxis3.title.text = 'Number of<br>responders'\n",
    "fig.layout.yaxis4.title.text = 'Number of<br>responders'\n",
    "fig.layout.yaxis5.title.text = 'Number of<br>responders'\n",
    "fig.show()"
   ]
  },
  {
   "cell_type": "markdown",
   "metadata": {},
   "source": [
    "#### **size of the company **\n",
    "\n",
    "The distribution of highly experienced data scientists in programming and machine learning working in companies with more than 10,000 employees compared to those working in smaller companies may be due to Financial resources and capacity, Abundant data, Technology infrastructure, Larger scope projects require the expertise of highly skilled data scientists, Diversity of Sectors.\n",
    "\n",
    "On the other hand, smaller companies may offer a more agile environment and the opportunity to work on a variety of tasks due to smaller teams. Some data scientists prefer this more dynamic environment and the ability to have a direct impact on company strategy."
   ]
  },
  {
   "cell_type": "code",
   "execution_count": 37,
   "metadata": {},
   "outputs": [
    {
     "data": {
      "application/vnd.plotly.v1+json": {
       "config": {
        "plotlyServerURL": "https://plot.ly"
       },
       "data": [
        {
         "alignmentgroup": "True",
         "hovertemplate": "color= <br>Q25=%{x}<br>size=%{y}<br>avg=%{text}<extra></extra>",
         "legendgroup": " ",
         "marker": {
          "color": "rgb(161,217,155)",
          "pattern": {
           "shape": ""
          }
         },
         "name": " ",
         "offsetgroup": " ",
         "orientation": "v",
         "showlegend": true,
         "text": [
          "16.06%",
          "22.26%",
          "14.6%",
          "11.68%"
         ],
         "textposition": "auto",
         "texttemplate": "%{y}",
         "type": "bar",
         "x": [
          "0-49 employees",
          "1000-9,999 employees",
          "250-999 employees",
          "50-249 employees"
         ],
         "xaxis": "x",
         "y": [
          88,
          122,
          80,
          64
         ],
         "yaxis": "y"
        },
        {
         "alignmentgroup": "True",
         "hovertemplate": "color=<br>Q25=%{x}<br>size=%{y}<br>avg=%{text}<extra></extra>",
         "legendgroup": "",
         "marker": {
          "color": "rgb(35,139,69)",
          "pattern": {
           "shape": ""
          }
         },
         "name": "",
         "offsetgroup": "",
         "orientation": "v",
         "showlegend": false,
         "text": [
          "35.4%"
         ],
         "textposition": "auto",
         "texttemplate": "%{y}",
         "type": "bar",
         "x": [
          "10,000 or more employees"
         ],
         "xaxis": "x",
         "y": [
          194
         ],
         "yaxis": "y"
        }
       ],
       "layout": {
        "barmode": "relative",
        "legend": {
         "title": {
          "text": ""
         },
         "tracegroupgap": 0
        },
        "margin": {
         "t": 60
        },
        "template": {
         "data": {
          "bar": [
           {
            "error_x": {
             "color": "#2a3f5f"
            },
            "error_y": {
             "color": "#2a3f5f"
            },
            "marker": {
             "line": {
              "color": "#E5ECF6",
              "width": 0.5
             },
             "pattern": {
              "fillmode": "overlay",
              "size": 10,
              "solidity": 0.2
             }
            },
            "type": "bar"
           }
          ],
          "barpolar": [
           {
            "marker": {
             "line": {
              "color": "#E5ECF6",
              "width": 0.5
             },
             "pattern": {
              "fillmode": "overlay",
              "size": 10,
              "solidity": 0.2
             }
            },
            "type": "barpolar"
           }
          ],
          "carpet": [
           {
            "aaxis": {
             "endlinecolor": "#2a3f5f",
             "gridcolor": "white",
             "linecolor": "white",
             "minorgridcolor": "white",
             "startlinecolor": "#2a3f5f"
            },
            "baxis": {
             "endlinecolor": "#2a3f5f",
             "gridcolor": "white",
             "linecolor": "white",
             "minorgridcolor": "white",
             "startlinecolor": "#2a3f5f"
            },
            "type": "carpet"
           }
          ],
          "choropleth": [
           {
            "colorbar": {
             "outlinewidth": 0,
             "ticks": ""
            },
            "type": "choropleth"
           }
          ],
          "contour": [
           {
            "colorbar": {
             "outlinewidth": 0,
             "ticks": ""
            },
            "colorscale": [
             [
              0,
              "#0d0887"
             ],
             [
              0.1111111111111111,
              "#46039f"
             ],
             [
              0.2222222222222222,
              "#7201a8"
             ],
             [
              0.3333333333333333,
              "#9c179e"
             ],
             [
              0.4444444444444444,
              "#bd3786"
             ],
             [
              0.5555555555555556,
              "#d8576b"
             ],
             [
              0.6666666666666666,
              "#ed7953"
             ],
             [
              0.7777777777777778,
              "#fb9f3a"
             ],
             [
              0.8888888888888888,
              "#fdca26"
             ],
             [
              1,
              "#f0f921"
             ]
            ],
            "type": "contour"
           }
          ],
          "contourcarpet": [
           {
            "colorbar": {
             "outlinewidth": 0,
             "ticks": ""
            },
            "type": "contourcarpet"
           }
          ],
          "heatmap": [
           {
            "colorbar": {
             "outlinewidth": 0,
             "ticks": ""
            },
            "colorscale": [
             [
              0,
              "#0d0887"
             ],
             [
              0.1111111111111111,
              "#46039f"
             ],
             [
              0.2222222222222222,
              "#7201a8"
             ],
             [
              0.3333333333333333,
              "#9c179e"
             ],
             [
              0.4444444444444444,
              "#bd3786"
             ],
             [
              0.5555555555555556,
              "#d8576b"
             ],
             [
              0.6666666666666666,
              "#ed7953"
             ],
             [
              0.7777777777777778,
              "#fb9f3a"
             ],
             [
              0.8888888888888888,
              "#fdca26"
             ],
             [
              1,
              "#f0f921"
             ]
            ],
            "type": "heatmap"
           }
          ],
          "heatmapgl": [
           {
            "colorbar": {
             "outlinewidth": 0,
             "ticks": ""
            },
            "colorscale": [
             [
              0,
              "#0d0887"
             ],
             [
              0.1111111111111111,
              "#46039f"
             ],
             [
              0.2222222222222222,
              "#7201a8"
             ],
             [
              0.3333333333333333,
              "#9c179e"
             ],
             [
              0.4444444444444444,
              "#bd3786"
             ],
             [
              0.5555555555555556,
              "#d8576b"
             ],
             [
              0.6666666666666666,
              "#ed7953"
             ],
             [
              0.7777777777777778,
              "#fb9f3a"
             ],
             [
              0.8888888888888888,
              "#fdca26"
             ],
             [
              1,
              "#f0f921"
             ]
            ],
            "type": "heatmapgl"
           }
          ],
          "histogram": [
           {
            "marker": {
             "pattern": {
              "fillmode": "overlay",
              "size": 10,
              "solidity": 0.2
             }
            },
            "type": "histogram"
           }
          ],
          "histogram2d": [
           {
            "colorbar": {
             "outlinewidth": 0,
             "ticks": ""
            },
            "colorscale": [
             [
              0,
              "#0d0887"
             ],
             [
              0.1111111111111111,
              "#46039f"
             ],
             [
              0.2222222222222222,
              "#7201a8"
             ],
             [
              0.3333333333333333,
              "#9c179e"
             ],
             [
              0.4444444444444444,
              "#bd3786"
             ],
             [
              0.5555555555555556,
              "#d8576b"
             ],
             [
              0.6666666666666666,
              "#ed7953"
             ],
             [
              0.7777777777777778,
              "#fb9f3a"
             ],
             [
              0.8888888888888888,
              "#fdca26"
             ],
             [
              1,
              "#f0f921"
             ]
            ],
            "type": "histogram2d"
           }
          ],
          "histogram2dcontour": [
           {
            "colorbar": {
             "outlinewidth": 0,
             "ticks": ""
            },
            "colorscale": [
             [
              0,
              "#0d0887"
             ],
             [
              0.1111111111111111,
              "#46039f"
             ],
             [
              0.2222222222222222,
              "#7201a8"
             ],
             [
              0.3333333333333333,
              "#9c179e"
             ],
             [
              0.4444444444444444,
              "#bd3786"
             ],
             [
              0.5555555555555556,
              "#d8576b"
             ],
             [
              0.6666666666666666,
              "#ed7953"
             ],
             [
              0.7777777777777778,
              "#fb9f3a"
             ],
             [
              0.8888888888888888,
              "#fdca26"
             ],
             [
              1,
              "#f0f921"
             ]
            ],
            "type": "histogram2dcontour"
           }
          ],
          "mesh3d": [
           {
            "colorbar": {
             "outlinewidth": 0,
             "ticks": ""
            },
            "type": "mesh3d"
           }
          ],
          "parcoords": [
           {
            "line": {
             "colorbar": {
              "outlinewidth": 0,
              "ticks": ""
             }
            },
            "type": "parcoords"
           }
          ],
          "pie": [
           {
            "automargin": true,
            "type": "pie"
           }
          ],
          "scatter": [
           {
            "fillpattern": {
             "fillmode": "overlay",
             "size": 10,
             "solidity": 0.2
            },
            "type": "scatter"
           }
          ],
          "scatter3d": [
           {
            "line": {
             "colorbar": {
              "outlinewidth": 0,
              "ticks": ""
             }
            },
            "marker": {
             "colorbar": {
              "outlinewidth": 0,
              "ticks": ""
             }
            },
            "type": "scatter3d"
           }
          ],
          "scattercarpet": [
           {
            "marker": {
             "colorbar": {
              "outlinewidth": 0,
              "ticks": ""
             }
            },
            "type": "scattercarpet"
           }
          ],
          "scattergeo": [
           {
            "marker": {
             "colorbar": {
              "outlinewidth": 0,
              "ticks": ""
             }
            },
            "type": "scattergeo"
           }
          ],
          "scattergl": [
           {
            "marker": {
             "colorbar": {
              "outlinewidth": 0,
              "ticks": ""
             }
            },
            "type": "scattergl"
           }
          ],
          "scattermapbox": [
           {
            "marker": {
             "colorbar": {
              "outlinewidth": 0,
              "ticks": ""
             }
            },
            "type": "scattermapbox"
           }
          ],
          "scatterpolar": [
           {
            "marker": {
             "colorbar": {
              "outlinewidth": 0,
              "ticks": ""
             }
            },
            "type": "scatterpolar"
           }
          ],
          "scatterpolargl": [
           {
            "marker": {
             "colorbar": {
              "outlinewidth": 0,
              "ticks": ""
             }
            },
            "type": "scatterpolargl"
           }
          ],
          "scatterternary": [
           {
            "marker": {
             "colorbar": {
              "outlinewidth": 0,
              "ticks": ""
             }
            },
            "type": "scatterternary"
           }
          ],
          "surface": [
           {
            "colorbar": {
             "outlinewidth": 0,
             "ticks": ""
            },
            "colorscale": [
             [
              0,
              "#0d0887"
             ],
             [
              0.1111111111111111,
              "#46039f"
             ],
             [
              0.2222222222222222,
              "#7201a8"
             ],
             [
              0.3333333333333333,
              "#9c179e"
             ],
             [
              0.4444444444444444,
              "#bd3786"
             ],
             [
              0.5555555555555556,
              "#d8576b"
             ],
             [
              0.6666666666666666,
              "#ed7953"
             ],
             [
              0.7777777777777778,
              "#fb9f3a"
             ],
             [
              0.8888888888888888,
              "#fdca26"
             ],
             [
              1,
              "#f0f921"
             ]
            ],
            "type": "surface"
           }
          ],
          "table": [
           {
            "cells": {
             "fill": {
              "color": "#EBF0F8"
             },
             "line": {
              "color": "white"
             }
            },
            "header": {
             "fill": {
              "color": "#C8D4E3"
             },
             "line": {
              "color": "white"
             }
            },
            "type": "table"
           }
          ]
         },
         "layout": {
          "annotationdefaults": {
           "arrowcolor": "#2a3f5f",
           "arrowhead": 0,
           "arrowwidth": 1
          },
          "autotypenumbers": "strict",
          "coloraxis": {
           "colorbar": {
            "outlinewidth": 0,
            "ticks": ""
           }
          },
          "colorscale": {
           "diverging": [
            [
             0,
             "#8e0152"
            ],
            [
             0.1,
             "#c51b7d"
            ],
            [
             0.2,
             "#de77ae"
            ],
            [
             0.3,
             "#f1b6da"
            ],
            [
             0.4,
             "#fde0ef"
            ],
            [
             0.5,
             "#f7f7f7"
            ],
            [
             0.6,
             "#e6f5d0"
            ],
            [
             0.7,
             "#b8e186"
            ],
            [
             0.8,
             "#7fbc41"
            ],
            [
             0.9,
             "#4d9221"
            ],
            [
             1,
             "#276419"
            ]
           ],
           "sequential": [
            [
             0,
             "#0d0887"
            ],
            [
             0.1111111111111111,
             "#46039f"
            ],
            [
             0.2222222222222222,
             "#7201a8"
            ],
            [
             0.3333333333333333,
             "#9c179e"
            ],
            [
             0.4444444444444444,
             "#bd3786"
            ],
            [
             0.5555555555555556,
             "#d8576b"
            ],
            [
             0.6666666666666666,
             "#ed7953"
            ],
            [
             0.7777777777777778,
             "#fb9f3a"
            ],
            [
             0.8888888888888888,
             "#fdca26"
            ],
            [
             1,
             "#f0f921"
            ]
           ],
           "sequentialminus": [
            [
             0,
             "#0d0887"
            ],
            [
             0.1111111111111111,
             "#46039f"
            ],
            [
             0.2222222222222222,
             "#7201a8"
            ],
            [
             0.3333333333333333,
             "#9c179e"
            ],
            [
             0.4444444444444444,
             "#bd3786"
            ],
            [
             0.5555555555555556,
             "#d8576b"
            ],
            [
             0.6666666666666666,
             "#ed7953"
            ],
            [
             0.7777777777777778,
             "#fb9f3a"
            ],
            [
             0.8888888888888888,
             "#fdca26"
            ],
            [
             1,
             "#f0f921"
            ]
           ]
          },
          "colorway": [
           "#636efa",
           "#EF553B",
           "#00cc96",
           "#ab63fa",
           "#FFA15A",
           "#19d3f3",
           "#FF6692",
           "#B6E880",
           "#FF97FF",
           "#FECB52"
          ],
          "font": {
           "color": "#2a3f5f"
          },
          "geo": {
           "bgcolor": "white",
           "lakecolor": "white",
           "landcolor": "#E5ECF6",
           "showlakes": true,
           "showland": true,
           "subunitcolor": "white"
          },
          "hoverlabel": {
           "align": "left"
          },
          "hovermode": "closest",
          "mapbox": {
           "style": "light"
          },
          "paper_bgcolor": "white",
          "plot_bgcolor": "#E5ECF6",
          "polar": {
           "angularaxis": {
            "gridcolor": "white",
            "linecolor": "white",
            "ticks": ""
           },
           "bgcolor": "#E5ECF6",
           "radialaxis": {
            "gridcolor": "white",
            "linecolor": "white",
            "ticks": ""
           }
          },
          "scene": {
           "xaxis": {
            "backgroundcolor": "#E5ECF6",
            "gridcolor": "white",
            "gridwidth": 2,
            "linecolor": "white",
            "showbackground": true,
            "ticks": "",
            "zerolinecolor": "white"
           },
           "yaxis": {
            "backgroundcolor": "#E5ECF6",
            "gridcolor": "white",
            "gridwidth": 2,
            "linecolor": "white",
            "showbackground": true,
            "ticks": "",
            "zerolinecolor": "white"
           },
           "zaxis": {
            "backgroundcolor": "#E5ECF6",
            "gridcolor": "white",
            "gridwidth": 2,
            "linecolor": "white",
            "showbackground": true,
            "ticks": "",
            "zerolinecolor": "white"
           }
          },
          "shapedefaults": {
           "line": {
            "color": "#2a3f5f"
           }
          },
          "ternary": {
           "aaxis": {
            "gridcolor": "white",
            "linecolor": "white",
            "ticks": ""
           },
           "baxis": {
            "gridcolor": "white",
            "linecolor": "white",
            "ticks": ""
           },
           "bgcolor": "#E5ECF6",
           "caxis": {
            "gridcolor": "white",
            "linecolor": "white",
            "ticks": ""
           }
          },
          "title": {
           "x": 0.05
          },
          "xaxis": {
           "automargin": true,
           "gridcolor": "white",
           "linecolor": "white",
           "ticks": "",
           "title": {
            "standoff": 15
           },
           "zerolinecolor": "white",
           "zerolinewidth": 2
          },
          "yaxis": {
           "automargin": true,
           "gridcolor": "white",
           "linecolor": "white",
           "ticks": "",
           "title": {
            "standoff": 15
           },
           "zerolinecolor": "white",
           "zerolinewidth": 2
          }
         }
        },
        "title": {
         "text": "Size of the company"
        },
        "xaxis": {
         "anchor": "y",
         "categoryarray": [
          "0-49 employees",
          "50-249 employees",
          "250-999 employees",
          "1000-9,999 employees",
          "10,000 or more employees",
          "No answer"
         ],
         "categoryorder": "array",
         "domain": [
          0,
          1
         ],
         "title": {
          "text": ""
         }
        },
        "yaxis": {
         "anchor": "x",
         "domain": [
          0,
          1
         ],
         "title": {
          "text": "Number of responders"
         }
        }
       }
      }
     },
     "metadata": {},
     "output_type": "display_data"
    }
   ],
   "source": [
    "color=[' ']+ ['']+[' ']*3\n",
    "i='Q25'\n",
    "title='Higher size of the company split by top 5 countries.'\n",
    "i_i=q25_i\n",
    "c1=df_prue.groupby([i],as_index=False).size()\n",
    "c1['avg_num'] = round((c1['size'] / c1['size'].sum())*100,2)\n",
    "c1['avg']=c1['avg_num'].apply(lambda a: str(a)+ '%')\n",
    "fig = px.bar(c1, x=i,y='size' ,  text_auto=True,  color=color,text='avg',\n",
    "                category_orders={i:i_i},color_discrete_sequence=['rgb(161,217,155)','rgb(35,139,69)' ])\n",
    "\n",
    "fig.update_layout(title='Size of the company',yaxis_title='Number of responders')\n",
    "fig.layout.legend.title.text = ''\n",
    "fig.layout.xaxis.title.text=''\n",
    "fig.show()\n"
   ]
  },
  {
   "cell_type": "code",
   "execution_count": 38,
   "metadata": {},
   "outputs": [
    {
     "data": {
      "application/vnd.plotly.v1+json": {
       "config": {
        "plotlyServerURL": "https://plot.ly"
       },
       "data": [
        {
         "alignmentgroup": "True",
         "bingroup": "x",
         "histfunc": "sum",
         "hovertemplate": "color= <br>Q4=USA<br>Q25=%{x}<br>sum of size=%{y}<extra></extra>",
         "legendgroup": " ",
         "marker": {
          "color": "rgb(161,217,155)",
          "pattern": {
           "shape": ""
          }
         },
         "name": " ",
         "offsetgroup": " ",
         "orientation": "v",
         "showlegend": true,
         "texttemplate": "%{value}",
         "type": "histogram",
         "x": [
          "0-49 employees",
          "1000-9,999 employees",
          "250-999 employees",
          "50-249 employees"
         ],
         "xaxis": "x",
         "y": [
          37,
          52,
          40,
          30
         ],
         "yaxis": "y"
        },
        {
         "alignmentgroup": "True",
         "bingroup": "x",
         "histfunc": "sum",
         "hovertemplate": "color= <br>Q4=India<br>Q25=%{x}<br>sum of size=%{y}<extra></extra>",
         "legendgroup": " ",
         "marker": {
          "color": "rgb(161,217,155)",
          "pattern": {
           "shape": ""
          }
         },
         "name": " ",
         "offsetgroup": " ",
         "orientation": "v",
         "showlegend": false,
         "texttemplate": "%{value}",
         "type": "histogram",
         "x": [
          "0-49 employees",
          "1000-9,999 employees",
          "250-999 employees",
          "50-249 employees"
         ],
         "xaxis": "x2",
         "y": [
          22,
          33,
          17,
          17
         ],
         "yaxis": "y2"
        },
        {
         "alignmentgroup": "True",
         "bingroup": "x",
         "histfunc": "sum",
         "hovertemplate": "color= <br>Q4=Other<br>Q25=%{x}<br>sum of size=%{y}<extra></extra>",
         "legendgroup": " ",
         "marker": {
          "color": "rgb(161,217,155)",
          "pattern": {
           "shape": ""
          }
         },
         "name": " ",
         "offsetgroup": " ",
         "orientation": "v",
         "showlegend": false,
         "texttemplate": "%{value}",
         "type": "histogram",
         "x": [
          "10,000 or more employees",
          "1000-9,999 employees",
          "250-999 employees",
          "50-249 employees"
         ],
         "xaxis": "x3",
         "y": [
          8,
          9,
          11,
          13
         ],
         "yaxis": "y3"
        },
        {
         "alignmentgroup": "True",
         "bingroup": "x",
         "histfunc": "sum",
         "hovertemplate": "color= <br>Q4=Brazil<br>Q25=%{x}<br>sum of size=%{y}<extra></extra>",
         "legendgroup": " ",
         "marker": {
          "color": "rgb(161,217,155)",
          "pattern": {
           "shape": ""
          }
         },
         "name": " ",
         "offsetgroup": " ",
         "orientation": "v",
         "showlegend": false,
         "texttemplate": "%{value}",
         "type": "histogram",
         "x": [
          "0-49 employees",
          "10,000 or more employees",
          "250-999 employees",
          "50-249 employees"
         ],
         "xaxis": "x4",
         "y": [
          5,
          6,
          6,
          3
         ],
         "yaxis": "y4"
        },
        {
         "alignmentgroup": "True",
         "bingroup": "x",
         "histfunc": "sum",
         "hovertemplate": "color= <br>Q4=Japan<br>Q25=%{x}<br>sum of size=%{y}<extra></extra>",
         "legendgroup": " ",
         "marker": {
          "color": "rgb(161,217,155)",
          "pattern": {
           "shape": ""
          }
         },
         "name": " ",
         "offsetgroup": " ",
         "orientation": "v",
         "showlegend": false,
         "texttemplate": "%{value}",
         "type": "histogram",
         "x": [
          "0-49 employees",
          "1000-9,999 employees",
          "250-999 employees",
          "50-249 employees"
         ],
         "xaxis": "x5",
         "y": [
          3,
          11,
          6,
          1
         ],
         "yaxis": "y5"
        },
        {
         "alignmentgroup": "True",
         "bingroup": "x",
         "histfunc": "sum",
         "hovertemplate": "color=<br>Q4=USA<br>Q25=%{x}<br>sum of size=%{y}<extra></extra>",
         "legendgroup": "",
         "marker": {
          "color": "rgb(35,139,69)",
          "pattern": {
           "shape": ""
          }
         },
         "name": "",
         "offsetgroup": "",
         "orientation": "v",
         "showlegend": false,
         "texttemplate": "%{value}",
         "type": "histogram",
         "x": [
          "10,000 or more employees"
         ],
         "xaxis": "x",
         "y": [
          81
         ],
         "yaxis": "y"
        },
        {
         "alignmentgroup": "True",
         "bingroup": "x",
         "histfunc": "sum",
         "hovertemplate": "color=<br>Q4=India<br>Q25=%{x}<br>sum of size=%{y}<extra></extra>",
         "legendgroup": "",
         "marker": {
          "color": "rgb(35,139,69)",
          "pattern": {
           "shape": ""
          }
         },
         "name": "",
         "offsetgroup": "",
         "orientation": "v",
         "showlegend": false,
         "texttemplate": "%{value}",
         "type": "histogram",
         "x": [
          "10,000 or more employees"
         ],
         "xaxis": "x2",
         "y": [
          86
         ],
         "yaxis": "y2"
        },
        {
         "alignmentgroup": "True",
         "bingroup": "x",
         "histfunc": "sum",
         "hovertemplate": "color=<br>Q4=Other<br>Q25=%{x}<br>sum of size=%{y}<extra></extra>",
         "legendgroup": "",
         "marker": {
          "color": "rgb(35,139,69)",
          "pattern": {
           "shape": ""
          }
         },
         "name": "",
         "offsetgroup": "",
         "orientation": "v",
         "showlegend": false,
         "texttemplate": "%{value}",
         "type": "histogram",
         "x": [
          "0-49 employees"
         ],
         "xaxis": "x3",
         "y": [
          21
         ],
         "yaxis": "y3"
        },
        {
         "alignmentgroup": "True",
         "bingroup": "x",
         "histfunc": "sum",
         "hovertemplate": "color=<br>Q4=Brazil<br>Q25=%{x}<br>sum of size=%{y}<extra></extra>",
         "legendgroup": "",
         "marker": {
          "color": "rgb(35,139,69)",
          "pattern": {
           "shape": ""
          }
         },
         "name": "",
         "offsetgroup": "",
         "orientation": "v",
         "showlegend": false,
         "texttemplate": "%{value}",
         "type": "histogram",
         "x": [
          "1000-9,999 employees"
         ],
         "xaxis": "x4",
         "y": [
          17
         ],
         "yaxis": "y4"
        },
        {
         "alignmentgroup": "True",
         "bingroup": "x",
         "histfunc": "sum",
         "hovertemplate": "color=<br>Q4=Japan<br>Q25=%{x}<br>sum of size=%{y}<extra></extra>",
         "legendgroup": "",
         "marker": {
          "color": "rgb(35,139,69)",
          "pattern": {
           "shape": ""
          }
         },
         "name": "",
         "offsetgroup": "",
         "orientation": "v",
         "showlegend": false,
         "texttemplate": "%{value}",
         "type": "histogram",
         "x": [
          "10,000 or more employees"
         ],
         "xaxis": "x5",
         "y": [
          13
         ],
         "yaxis": "y5"
        }
       ],
       "layout": {
        "annotations": [
         {
          "font": {},
          "showarrow": false,
          "text": "USA",
          "x": 0.09200000000000001,
          "xanchor": "center",
          "xref": "paper",
          "y": 1,
          "yanchor": "bottom",
          "yref": "paper"
         },
         {
          "font": {},
          "showarrow": false,
          "text": "India",
          "x": 0.29600000000000004,
          "xanchor": "center",
          "xref": "paper",
          "y": 1,
          "yanchor": "bottom",
          "yref": "paper"
         },
         {
          "font": {},
          "showarrow": false,
          "text": "Other",
          "x": 0.5,
          "xanchor": "center",
          "xref": "paper",
          "y": 1,
          "yanchor": "bottom",
          "yref": "paper"
         },
         {
          "font": {},
          "showarrow": false,
          "text": "Brazil",
          "x": 0.7040000000000002,
          "xanchor": "center",
          "xref": "paper",
          "y": 1,
          "yanchor": "bottom",
          "yref": "paper"
         },
         {
          "font": {},
          "showarrow": false,
          "text": "Japan",
          "x": 0.908,
          "xanchor": "center",
          "xref": "paper",
          "y": 1,
          "yanchor": "bottom",
          "yref": "paper"
         }
        ],
        "barmode": "relative",
        "legend": {
         "title": {
          "text": ""
         },
         "tracegroupgap": 0
        },
        "margin": {
         "t": 60
        },
        "template": {
         "data": {
          "bar": [
           {
            "error_x": {
             "color": "#2a3f5f"
            },
            "error_y": {
             "color": "#2a3f5f"
            },
            "marker": {
             "line": {
              "color": "#E5ECF6",
              "width": 0.5
             },
             "pattern": {
              "fillmode": "overlay",
              "size": 10,
              "solidity": 0.2
             }
            },
            "type": "bar"
           }
          ],
          "barpolar": [
           {
            "marker": {
             "line": {
              "color": "#E5ECF6",
              "width": 0.5
             },
             "pattern": {
              "fillmode": "overlay",
              "size": 10,
              "solidity": 0.2
             }
            },
            "type": "barpolar"
           }
          ],
          "carpet": [
           {
            "aaxis": {
             "endlinecolor": "#2a3f5f",
             "gridcolor": "white",
             "linecolor": "white",
             "minorgridcolor": "white",
             "startlinecolor": "#2a3f5f"
            },
            "baxis": {
             "endlinecolor": "#2a3f5f",
             "gridcolor": "white",
             "linecolor": "white",
             "minorgridcolor": "white",
             "startlinecolor": "#2a3f5f"
            },
            "type": "carpet"
           }
          ],
          "choropleth": [
           {
            "colorbar": {
             "outlinewidth": 0,
             "ticks": ""
            },
            "type": "choropleth"
           }
          ],
          "contour": [
           {
            "colorbar": {
             "outlinewidth": 0,
             "ticks": ""
            },
            "colorscale": [
             [
              0,
              "#0d0887"
             ],
             [
              0.1111111111111111,
              "#46039f"
             ],
             [
              0.2222222222222222,
              "#7201a8"
             ],
             [
              0.3333333333333333,
              "#9c179e"
             ],
             [
              0.4444444444444444,
              "#bd3786"
             ],
             [
              0.5555555555555556,
              "#d8576b"
             ],
             [
              0.6666666666666666,
              "#ed7953"
             ],
             [
              0.7777777777777778,
              "#fb9f3a"
             ],
             [
              0.8888888888888888,
              "#fdca26"
             ],
             [
              1,
              "#f0f921"
             ]
            ],
            "type": "contour"
           }
          ],
          "contourcarpet": [
           {
            "colorbar": {
             "outlinewidth": 0,
             "ticks": ""
            },
            "type": "contourcarpet"
           }
          ],
          "heatmap": [
           {
            "colorbar": {
             "outlinewidth": 0,
             "ticks": ""
            },
            "colorscale": [
             [
              0,
              "#0d0887"
             ],
             [
              0.1111111111111111,
              "#46039f"
             ],
             [
              0.2222222222222222,
              "#7201a8"
             ],
             [
              0.3333333333333333,
              "#9c179e"
             ],
             [
              0.4444444444444444,
              "#bd3786"
             ],
             [
              0.5555555555555556,
              "#d8576b"
             ],
             [
              0.6666666666666666,
              "#ed7953"
             ],
             [
              0.7777777777777778,
              "#fb9f3a"
             ],
             [
              0.8888888888888888,
              "#fdca26"
             ],
             [
              1,
              "#f0f921"
             ]
            ],
            "type": "heatmap"
           }
          ],
          "heatmapgl": [
           {
            "colorbar": {
             "outlinewidth": 0,
             "ticks": ""
            },
            "colorscale": [
             [
              0,
              "#0d0887"
             ],
             [
              0.1111111111111111,
              "#46039f"
             ],
             [
              0.2222222222222222,
              "#7201a8"
             ],
             [
              0.3333333333333333,
              "#9c179e"
             ],
             [
              0.4444444444444444,
              "#bd3786"
             ],
             [
              0.5555555555555556,
              "#d8576b"
             ],
             [
              0.6666666666666666,
              "#ed7953"
             ],
             [
              0.7777777777777778,
              "#fb9f3a"
             ],
             [
              0.8888888888888888,
              "#fdca26"
             ],
             [
              1,
              "#f0f921"
             ]
            ],
            "type": "heatmapgl"
           }
          ],
          "histogram": [
           {
            "marker": {
             "pattern": {
              "fillmode": "overlay",
              "size": 10,
              "solidity": 0.2
             }
            },
            "type": "histogram"
           }
          ],
          "histogram2d": [
           {
            "colorbar": {
             "outlinewidth": 0,
             "ticks": ""
            },
            "colorscale": [
             [
              0,
              "#0d0887"
             ],
             [
              0.1111111111111111,
              "#46039f"
             ],
             [
              0.2222222222222222,
              "#7201a8"
             ],
             [
              0.3333333333333333,
              "#9c179e"
             ],
             [
              0.4444444444444444,
              "#bd3786"
             ],
             [
              0.5555555555555556,
              "#d8576b"
             ],
             [
              0.6666666666666666,
              "#ed7953"
             ],
             [
              0.7777777777777778,
              "#fb9f3a"
             ],
             [
              0.8888888888888888,
              "#fdca26"
             ],
             [
              1,
              "#f0f921"
             ]
            ],
            "type": "histogram2d"
           }
          ],
          "histogram2dcontour": [
           {
            "colorbar": {
             "outlinewidth": 0,
             "ticks": ""
            },
            "colorscale": [
             [
              0,
              "#0d0887"
             ],
             [
              0.1111111111111111,
              "#46039f"
             ],
             [
              0.2222222222222222,
              "#7201a8"
             ],
             [
              0.3333333333333333,
              "#9c179e"
             ],
             [
              0.4444444444444444,
              "#bd3786"
             ],
             [
              0.5555555555555556,
              "#d8576b"
             ],
             [
              0.6666666666666666,
              "#ed7953"
             ],
             [
              0.7777777777777778,
              "#fb9f3a"
             ],
             [
              0.8888888888888888,
              "#fdca26"
             ],
             [
              1,
              "#f0f921"
             ]
            ],
            "type": "histogram2dcontour"
           }
          ],
          "mesh3d": [
           {
            "colorbar": {
             "outlinewidth": 0,
             "ticks": ""
            },
            "type": "mesh3d"
           }
          ],
          "parcoords": [
           {
            "line": {
             "colorbar": {
              "outlinewidth": 0,
              "ticks": ""
             }
            },
            "type": "parcoords"
           }
          ],
          "pie": [
           {
            "automargin": true,
            "type": "pie"
           }
          ],
          "scatter": [
           {
            "fillpattern": {
             "fillmode": "overlay",
             "size": 10,
             "solidity": 0.2
            },
            "type": "scatter"
           }
          ],
          "scatter3d": [
           {
            "line": {
             "colorbar": {
              "outlinewidth": 0,
              "ticks": ""
             }
            },
            "marker": {
             "colorbar": {
              "outlinewidth": 0,
              "ticks": ""
             }
            },
            "type": "scatter3d"
           }
          ],
          "scattercarpet": [
           {
            "marker": {
             "colorbar": {
              "outlinewidth": 0,
              "ticks": ""
             }
            },
            "type": "scattercarpet"
           }
          ],
          "scattergeo": [
           {
            "marker": {
             "colorbar": {
              "outlinewidth": 0,
              "ticks": ""
             }
            },
            "type": "scattergeo"
           }
          ],
          "scattergl": [
           {
            "marker": {
             "colorbar": {
              "outlinewidth": 0,
              "ticks": ""
             }
            },
            "type": "scattergl"
           }
          ],
          "scattermapbox": [
           {
            "marker": {
             "colorbar": {
              "outlinewidth": 0,
              "ticks": ""
             }
            },
            "type": "scattermapbox"
           }
          ],
          "scatterpolar": [
           {
            "marker": {
             "colorbar": {
              "outlinewidth": 0,
              "ticks": ""
             }
            },
            "type": "scatterpolar"
           }
          ],
          "scatterpolargl": [
           {
            "marker": {
             "colorbar": {
              "outlinewidth": 0,
              "ticks": ""
             }
            },
            "type": "scatterpolargl"
           }
          ],
          "scatterternary": [
           {
            "marker": {
             "colorbar": {
              "outlinewidth": 0,
              "ticks": ""
             }
            },
            "type": "scatterternary"
           }
          ],
          "surface": [
           {
            "colorbar": {
             "outlinewidth": 0,
             "ticks": ""
            },
            "colorscale": [
             [
              0,
              "#0d0887"
             ],
             [
              0.1111111111111111,
              "#46039f"
             ],
             [
              0.2222222222222222,
              "#7201a8"
             ],
             [
              0.3333333333333333,
              "#9c179e"
             ],
             [
              0.4444444444444444,
              "#bd3786"
             ],
             [
              0.5555555555555556,
              "#d8576b"
             ],
             [
              0.6666666666666666,
              "#ed7953"
             ],
             [
              0.7777777777777778,
              "#fb9f3a"
             ],
             [
              0.8888888888888888,
              "#fdca26"
             ],
             [
              1,
              "#f0f921"
             ]
            ],
            "type": "surface"
           }
          ],
          "table": [
           {
            "cells": {
             "fill": {
              "color": "#EBF0F8"
             },
             "line": {
              "color": "white"
             }
            },
            "header": {
             "fill": {
              "color": "#C8D4E3"
             },
             "line": {
              "color": "white"
             }
            },
            "type": "table"
           }
          ]
         },
         "layout": {
          "annotationdefaults": {
           "arrowcolor": "#2a3f5f",
           "arrowhead": 0,
           "arrowwidth": 1
          },
          "autotypenumbers": "strict",
          "coloraxis": {
           "colorbar": {
            "outlinewidth": 0,
            "ticks": ""
           }
          },
          "colorscale": {
           "diverging": [
            [
             0,
             "#8e0152"
            ],
            [
             0.1,
             "#c51b7d"
            ],
            [
             0.2,
             "#de77ae"
            ],
            [
             0.3,
             "#f1b6da"
            ],
            [
             0.4,
             "#fde0ef"
            ],
            [
             0.5,
             "#f7f7f7"
            ],
            [
             0.6,
             "#e6f5d0"
            ],
            [
             0.7,
             "#b8e186"
            ],
            [
             0.8,
             "#7fbc41"
            ],
            [
             0.9,
             "#4d9221"
            ],
            [
             1,
             "#276419"
            ]
           ],
           "sequential": [
            [
             0,
             "#0d0887"
            ],
            [
             0.1111111111111111,
             "#46039f"
            ],
            [
             0.2222222222222222,
             "#7201a8"
            ],
            [
             0.3333333333333333,
             "#9c179e"
            ],
            [
             0.4444444444444444,
             "#bd3786"
            ],
            [
             0.5555555555555556,
             "#d8576b"
            ],
            [
             0.6666666666666666,
             "#ed7953"
            ],
            [
             0.7777777777777778,
             "#fb9f3a"
            ],
            [
             0.8888888888888888,
             "#fdca26"
            ],
            [
             1,
             "#f0f921"
            ]
           ],
           "sequentialminus": [
            [
             0,
             "#0d0887"
            ],
            [
             0.1111111111111111,
             "#46039f"
            ],
            [
             0.2222222222222222,
             "#7201a8"
            ],
            [
             0.3333333333333333,
             "#9c179e"
            ],
            [
             0.4444444444444444,
             "#bd3786"
            ],
            [
             0.5555555555555556,
             "#d8576b"
            ],
            [
             0.6666666666666666,
             "#ed7953"
            ],
            [
             0.7777777777777778,
             "#fb9f3a"
            ],
            [
             0.8888888888888888,
             "#fdca26"
            ],
            [
             1,
             "#f0f921"
            ]
           ]
          },
          "colorway": [
           "#636efa",
           "#EF553B",
           "#00cc96",
           "#ab63fa",
           "#FFA15A",
           "#19d3f3",
           "#FF6692",
           "#B6E880",
           "#FF97FF",
           "#FECB52"
          ],
          "font": {
           "color": "#2a3f5f"
          },
          "geo": {
           "bgcolor": "white",
           "lakecolor": "white",
           "landcolor": "#E5ECF6",
           "showlakes": true,
           "showland": true,
           "subunitcolor": "white"
          },
          "hoverlabel": {
           "align": "left"
          },
          "hovermode": "closest",
          "mapbox": {
           "style": "light"
          },
          "paper_bgcolor": "white",
          "plot_bgcolor": "#E5ECF6",
          "polar": {
           "angularaxis": {
            "gridcolor": "white",
            "linecolor": "white",
            "ticks": ""
           },
           "bgcolor": "#E5ECF6",
           "radialaxis": {
            "gridcolor": "white",
            "linecolor": "white",
            "ticks": ""
           }
          },
          "scene": {
           "xaxis": {
            "backgroundcolor": "#E5ECF6",
            "gridcolor": "white",
            "gridwidth": 2,
            "linecolor": "white",
            "showbackground": true,
            "ticks": "",
            "zerolinecolor": "white"
           },
           "yaxis": {
            "backgroundcolor": "#E5ECF6",
            "gridcolor": "white",
            "gridwidth": 2,
            "linecolor": "white",
            "showbackground": true,
            "ticks": "",
            "zerolinecolor": "white"
           },
           "zaxis": {
            "backgroundcolor": "#E5ECF6",
            "gridcolor": "white",
            "gridwidth": 2,
            "linecolor": "white",
            "showbackground": true,
            "ticks": "",
            "zerolinecolor": "white"
           }
          },
          "shapedefaults": {
           "line": {
            "color": "#2a3f5f"
           }
          },
          "ternary": {
           "aaxis": {
            "gridcolor": "white",
            "linecolor": "white",
            "ticks": ""
           },
           "baxis": {
            "gridcolor": "white",
            "linecolor": "white",
            "ticks": ""
           },
           "bgcolor": "#E5ECF6",
           "caxis": {
            "gridcolor": "white",
            "linecolor": "white",
            "ticks": ""
           }
          },
          "title": {
           "x": 0.05
          },
          "xaxis": {
           "automargin": true,
           "gridcolor": "white",
           "linecolor": "white",
           "ticks": "",
           "title": {
            "standoff": 15
           },
           "zerolinecolor": "white",
           "zerolinewidth": 2
          },
          "yaxis": {
           "automargin": true,
           "gridcolor": "white",
           "linecolor": "white",
           "ticks": "",
           "title": {
            "standoff": 15
           },
           "zerolinecolor": "white",
           "zerolinewidth": 2
          }
         }
        },
        "title": {
         "text": "Higher size of the company split by top 5 countries."
        },
        "xaxis": {
         "anchor": "y",
         "categoryarray": [
          "0-49 employees",
          "50-249 employees",
          "250-999 employees",
          "1000-9,999 employees",
          "10,000 or more employees",
          "No answer"
         ],
         "categoryorder": "array",
         "domain": [
          0,
          0.18400000000000002
         ],
         "title": {
          "text": ""
         }
        },
        "xaxis2": {
         "anchor": "y2",
         "categoryarray": [
          "0-49 employees",
          "50-249 employees",
          "250-999 employees",
          "1000-9,999 employees",
          "10,000 or more employees",
          "No answer"
         ],
         "categoryorder": "array",
         "domain": [
          0.20400000000000001,
          0.388
         ],
         "matches": "x",
         "title": {
          "text": ""
         }
        },
        "xaxis3": {
         "anchor": "y3",
         "categoryarray": [
          "0-49 employees",
          "50-249 employees",
          "250-999 employees",
          "1000-9,999 employees",
          "10,000 or more employees",
          "No answer"
         ],
         "categoryorder": "array",
         "domain": [
          0.40800000000000003,
          0.5920000000000001
         ],
         "matches": "x",
         "title": {
          "text": ""
         }
        },
        "xaxis4": {
         "anchor": "y4",
         "categoryarray": [
          "0-49 employees",
          "50-249 employees",
          "250-999 employees",
          "1000-9,999 employees",
          "10,000 or more employees",
          "No answer"
         ],
         "categoryorder": "array",
         "domain": [
          0.6120000000000001,
          0.7960000000000002
         ],
         "matches": "x",
         "title": {
          "text": ""
         }
        },
        "xaxis5": {
         "anchor": "y5",
         "categoryarray": [
          "0-49 employees",
          "50-249 employees",
          "250-999 employees",
          "1000-9,999 employees",
          "10,000 or more employees",
          "No answer"
         ],
         "categoryorder": "array",
         "domain": [
          0.8160000000000001,
          1
         ],
         "matches": "x",
         "title": {
          "text": ""
         }
        },
        "yaxis": {
         "anchor": "x",
         "domain": [
          0,
          1
         ],
         "title": {
          "text": "Number of responders"
         }
        },
        "yaxis2": {
         "anchor": "x2",
         "domain": [
          0,
          1
         ],
         "matches": "y",
         "showticklabels": false
        },
        "yaxis3": {
         "anchor": "x3",
         "domain": [
          0,
          1
         ],
         "matches": "y",
         "showticklabels": false
        },
        "yaxis4": {
         "anchor": "x4",
         "domain": [
          0,
          1
         ],
         "matches": "y",
         "showticklabels": false
        },
        "yaxis5": {
         "anchor": "x5",
         "domain": [
          0,
          1
         ],
         "matches": "y",
         "showticklabels": false
        }
       }
      }
     },
     "metadata": {},
     "output_type": "display_data"
    }
   ],
   "source": [
    "color=[' ']*2 + ['']*1 + [' ']*3 +['']*1 + [' ']*4 +['']*1 + [' ']*3 +['']*1 + [' ']*5 +['']*1+ [' ']*3\n",
    "i='Q25'\n",
    "title='Higher size of the company split by top 5 countries.'\n",
    "i_i=q25_i\n",
    "c1=df_prue.groupby(['Q4',i],as_index=False).size()\n",
    "fig = px.histogram(c1, x=i,y='size' ,  text_auto=True, facet_col=\"Q4\", color=color,\n",
    "                category_orders={\"Q4\":q4_5top,i:i_i},color_discrete_sequence=['rgb(161,217,155)','rgb(35,139,69)' ])\n",
    "fig.for_each_annotation(lambda a: a.update(text=a.text.replace(\"Q4=\", \"\")))\n",
    "fig.update_layout(title=title,yaxis_title=\"Number of responders\")\n",
    "\n",
    "fig.layout.legend.title.text = ''\n",
    "fig.layout.xaxis.title.text = ''\n",
    "fig.layout.xaxis1.title.text = ''\n",
    "fig.layout.xaxis2.title.text = ''\n",
    "fig.layout.xaxis3.title.text = ''\n",
    "fig.layout.xaxis4.title.text = ''\n",
    "fig.layout.xaxis5.title.text = ''\n",
    "\n",
    "fig.show()\n"
   ]
  },
  {
   "cell_type": "markdown",
   "metadata": {},
   "source": [
    "#### **incorporate machine learning methods**\n",
    "\n",
    "92.71% of Kaggle users who are data scientists classified as experts, indicated from the companies in which they work to have some kind of contact with machine learning methods. In addition, it was noted that 49.09% of these companies and industries already have an established model in production. These data reflect a high adoption and application of machine learning techniques in the business environment by highly experienced professionals in the field, which evidences the importance and relevance that the application of these methods is acquiring in various sectors."
   ]
  },
  {
   "cell_type": "code",
   "execution_count": 39,
   "metadata": {},
   "outputs": [
    {
     "data": {
      "application/vnd.plotly.v1+json": {
       "config": {
        "plotlyServerURL": "https://plot.ly"
       },
       "data": [
        {
         "alignmentgroup": "True",
         "hovertemplate": "color= <br>Q27=%{x}<br>size=%{y}<br>avg=%{text}<extra></extra>",
         "legendgroup": " ",
         "marker": {
          "color": "rgb(161,217,155)",
          "pattern": {
           "shape": ""
          }
         },
         "name": " ",
         "offsetgroup": " ",
         "orientation": "v",
         "showlegend": true,
         "text": [
          "7.3%",
          "10.04%",
          "12.23%",
          "21.35%"
         ],
         "textposition": "auto",
         "texttemplate": "%{y}",
         "type": "bar",
         "x": [
          "1. Not Started",
          "2. Exploration Stage",
          "3. Generating Insights",
          "4. Started Models in Production"
         ],
         "xaxis": "x",
         "y": [
          40,
          55,
          67,
          117
         ],
         "yaxis": "y"
        },
        {
         "alignmentgroup": "True",
         "hovertemplate": "color=<br>Q27=%{x}<br>size=%{y}<br>avg=%{text}<extra></extra>",
         "legendgroup": "",
         "marker": {
          "color": "rgb(35,139,69)",
          "pattern": {
           "shape": ""
          }
         },
         "name": "",
         "offsetgroup": "",
         "orientation": "v",
         "showlegend": false,
         "text": [
          "49.09%"
         ],
         "textposition": "auto",
         "texttemplate": "%{y}",
         "type": "bar",
         "x": [
          "5. Established Models in Production"
         ],
         "xaxis": "x",
         "y": [
          269
         ],
         "yaxis": "y"
        }
       ],
       "layout": {
        "barmode": "relative",
        "legend": {
         "title": {
          "text": ""
         },
         "tracegroupgap": 0
        },
        "margin": {
         "t": 60
        },
        "template": {
         "data": {
          "bar": [
           {
            "error_x": {
             "color": "#2a3f5f"
            },
            "error_y": {
             "color": "#2a3f5f"
            },
            "marker": {
             "line": {
              "color": "#E5ECF6",
              "width": 0.5
             },
             "pattern": {
              "fillmode": "overlay",
              "size": 10,
              "solidity": 0.2
             }
            },
            "type": "bar"
           }
          ],
          "barpolar": [
           {
            "marker": {
             "line": {
              "color": "#E5ECF6",
              "width": 0.5
             },
             "pattern": {
              "fillmode": "overlay",
              "size": 10,
              "solidity": 0.2
             }
            },
            "type": "barpolar"
           }
          ],
          "carpet": [
           {
            "aaxis": {
             "endlinecolor": "#2a3f5f",
             "gridcolor": "white",
             "linecolor": "white",
             "minorgridcolor": "white",
             "startlinecolor": "#2a3f5f"
            },
            "baxis": {
             "endlinecolor": "#2a3f5f",
             "gridcolor": "white",
             "linecolor": "white",
             "minorgridcolor": "white",
             "startlinecolor": "#2a3f5f"
            },
            "type": "carpet"
           }
          ],
          "choropleth": [
           {
            "colorbar": {
             "outlinewidth": 0,
             "ticks": ""
            },
            "type": "choropleth"
           }
          ],
          "contour": [
           {
            "colorbar": {
             "outlinewidth": 0,
             "ticks": ""
            },
            "colorscale": [
             [
              0,
              "#0d0887"
             ],
             [
              0.1111111111111111,
              "#46039f"
             ],
             [
              0.2222222222222222,
              "#7201a8"
             ],
             [
              0.3333333333333333,
              "#9c179e"
             ],
             [
              0.4444444444444444,
              "#bd3786"
             ],
             [
              0.5555555555555556,
              "#d8576b"
             ],
             [
              0.6666666666666666,
              "#ed7953"
             ],
             [
              0.7777777777777778,
              "#fb9f3a"
             ],
             [
              0.8888888888888888,
              "#fdca26"
             ],
             [
              1,
              "#f0f921"
             ]
            ],
            "type": "contour"
           }
          ],
          "contourcarpet": [
           {
            "colorbar": {
             "outlinewidth": 0,
             "ticks": ""
            },
            "type": "contourcarpet"
           }
          ],
          "heatmap": [
           {
            "colorbar": {
             "outlinewidth": 0,
             "ticks": ""
            },
            "colorscale": [
             [
              0,
              "#0d0887"
             ],
             [
              0.1111111111111111,
              "#46039f"
             ],
             [
              0.2222222222222222,
              "#7201a8"
             ],
             [
              0.3333333333333333,
              "#9c179e"
             ],
             [
              0.4444444444444444,
              "#bd3786"
             ],
             [
              0.5555555555555556,
              "#d8576b"
             ],
             [
              0.6666666666666666,
              "#ed7953"
             ],
             [
              0.7777777777777778,
              "#fb9f3a"
             ],
             [
              0.8888888888888888,
              "#fdca26"
             ],
             [
              1,
              "#f0f921"
             ]
            ],
            "type": "heatmap"
           }
          ],
          "heatmapgl": [
           {
            "colorbar": {
             "outlinewidth": 0,
             "ticks": ""
            },
            "colorscale": [
             [
              0,
              "#0d0887"
             ],
             [
              0.1111111111111111,
              "#46039f"
             ],
             [
              0.2222222222222222,
              "#7201a8"
             ],
             [
              0.3333333333333333,
              "#9c179e"
             ],
             [
              0.4444444444444444,
              "#bd3786"
             ],
             [
              0.5555555555555556,
              "#d8576b"
             ],
             [
              0.6666666666666666,
              "#ed7953"
             ],
             [
              0.7777777777777778,
              "#fb9f3a"
             ],
             [
              0.8888888888888888,
              "#fdca26"
             ],
             [
              1,
              "#f0f921"
             ]
            ],
            "type": "heatmapgl"
           }
          ],
          "histogram": [
           {
            "marker": {
             "pattern": {
              "fillmode": "overlay",
              "size": 10,
              "solidity": 0.2
             }
            },
            "type": "histogram"
           }
          ],
          "histogram2d": [
           {
            "colorbar": {
             "outlinewidth": 0,
             "ticks": ""
            },
            "colorscale": [
             [
              0,
              "#0d0887"
             ],
             [
              0.1111111111111111,
              "#46039f"
             ],
             [
              0.2222222222222222,
              "#7201a8"
             ],
             [
              0.3333333333333333,
              "#9c179e"
             ],
             [
              0.4444444444444444,
              "#bd3786"
             ],
             [
              0.5555555555555556,
              "#d8576b"
             ],
             [
              0.6666666666666666,
              "#ed7953"
             ],
             [
              0.7777777777777778,
              "#fb9f3a"
             ],
             [
              0.8888888888888888,
              "#fdca26"
             ],
             [
              1,
              "#f0f921"
             ]
            ],
            "type": "histogram2d"
           }
          ],
          "histogram2dcontour": [
           {
            "colorbar": {
             "outlinewidth": 0,
             "ticks": ""
            },
            "colorscale": [
             [
              0,
              "#0d0887"
             ],
             [
              0.1111111111111111,
              "#46039f"
             ],
             [
              0.2222222222222222,
              "#7201a8"
             ],
             [
              0.3333333333333333,
              "#9c179e"
             ],
             [
              0.4444444444444444,
              "#bd3786"
             ],
             [
              0.5555555555555556,
              "#d8576b"
             ],
             [
              0.6666666666666666,
              "#ed7953"
             ],
             [
              0.7777777777777778,
              "#fb9f3a"
             ],
             [
              0.8888888888888888,
              "#fdca26"
             ],
             [
              1,
              "#f0f921"
             ]
            ],
            "type": "histogram2dcontour"
           }
          ],
          "mesh3d": [
           {
            "colorbar": {
             "outlinewidth": 0,
             "ticks": ""
            },
            "type": "mesh3d"
           }
          ],
          "parcoords": [
           {
            "line": {
             "colorbar": {
              "outlinewidth": 0,
              "ticks": ""
             }
            },
            "type": "parcoords"
           }
          ],
          "pie": [
           {
            "automargin": true,
            "type": "pie"
           }
          ],
          "scatter": [
           {
            "fillpattern": {
             "fillmode": "overlay",
             "size": 10,
             "solidity": 0.2
            },
            "type": "scatter"
           }
          ],
          "scatter3d": [
           {
            "line": {
             "colorbar": {
              "outlinewidth": 0,
              "ticks": ""
             }
            },
            "marker": {
             "colorbar": {
              "outlinewidth": 0,
              "ticks": ""
             }
            },
            "type": "scatter3d"
           }
          ],
          "scattercarpet": [
           {
            "marker": {
             "colorbar": {
              "outlinewidth": 0,
              "ticks": ""
             }
            },
            "type": "scattercarpet"
           }
          ],
          "scattergeo": [
           {
            "marker": {
             "colorbar": {
              "outlinewidth": 0,
              "ticks": ""
             }
            },
            "type": "scattergeo"
           }
          ],
          "scattergl": [
           {
            "marker": {
             "colorbar": {
              "outlinewidth": 0,
              "ticks": ""
             }
            },
            "type": "scattergl"
           }
          ],
          "scattermapbox": [
           {
            "marker": {
             "colorbar": {
              "outlinewidth": 0,
              "ticks": ""
             }
            },
            "type": "scattermapbox"
           }
          ],
          "scatterpolar": [
           {
            "marker": {
             "colorbar": {
              "outlinewidth": 0,
              "ticks": ""
             }
            },
            "type": "scatterpolar"
           }
          ],
          "scatterpolargl": [
           {
            "marker": {
             "colorbar": {
              "outlinewidth": 0,
              "ticks": ""
             }
            },
            "type": "scatterpolargl"
           }
          ],
          "scatterternary": [
           {
            "marker": {
             "colorbar": {
              "outlinewidth": 0,
              "ticks": ""
             }
            },
            "type": "scatterternary"
           }
          ],
          "surface": [
           {
            "colorbar": {
             "outlinewidth": 0,
             "ticks": ""
            },
            "colorscale": [
             [
              0,
              "#0d0887"
             ],
             [
              0.1111111111111111,
              "#46039f"
             ],
             [
              0.2222222222222222,
              "#7201a8"
             ],
             [
              0.3333333333333333,
              "#9c179e"
             ],
             [
              0.4444444444444444,
              "#bd3786"
             ],
             [
              0.5555555555555556,
              "#d8576b"
             ],
             [
              0.6666666666666666,
              "#ed7953"
             ],
             [
              0.7777777777777778,
              "#fb9f3a"
             ],
             [
              0.8888888888888888,
              "#fdca26"
             ],
             [
              1,
              "#f0f921"
             ]
            ],
            "type": "surface"
           }
          ],
          "table": [
           {
            "cells": {
             "fill": {
              "color": "#EBF0F8"
             },
             "line": {
              "color": "white"
             }
            },
            "header": {
             "fill": {
              "color": "#C8D4E3"
             },
             "line": {
              "color": "white"
             }
            },
            "type": "table"
           }
          ]
         },
         "layout": {
          "annotationdefaults": {
           "arrowcolor": "#2a3f5f",
           "arrowhead": 0,
           "arrowwidth": 1
          },
          "autotypenumbers": "strict",
          "coloraxis": {
           "colorbar": {
            "outlinewidth": 0,
            "ticks": ""
           }
          },
          "colorscale": {
           "diverging": [
            [
             0,
             "#8e0152"
            ],
            [
             0.1,
             "#c51b7d"
            ],
            [
             0.2,
             "#de77ae"
            ],
            [
             0.3,
             "#f1b6da"
            ],
            [
             0.4,
             "#fde0ef"
            ],
            [
             0.5,
             "#f7f7f7"
            ],
            [
             0.6,
             "#e6f5d0"
            ],
            [
             0.7,
             "#b8e186"
            ],
            [
             0.8,
             "#7fbc41"
            ],
            [
             0.9,
             "#4d9221"
            ],
            [
             1,
             "#276419"
            ]
           ],
           "sequential": [
            [
             0,
             "#0d0887"
            ],
            [
             0.1111111111111111,
             "#46039f"
            ],
            [
             0.2222222222222222,
             "#7201a8"
            ],
            [
             0.3333333333333333,
             "#9c179e"
            ],
            [
             0.4444444444444444,
             "#bd3786"
            ],
            [
             0.5555555555555556,
             "#d8576b"
            ],
            [
             0.6666666666666666,
             "#ed7953"
            ],
            [
             0.7777777777777778,
             "#fb9f3a"
            ],
            [
             0.8888888888888888,
             "#fdca26"
            ],
            [
             1,
             "#f0f921"
            ]
           ],
           "sequentialminus": [
            [
             0,
             "#0d0887"
            ],
            [
             0.1111111111111111,
             "#46039f"
            ],
            [
             0.2222222222222222,
             "#7201a8"
            ],
            [
             0.3333333333333333,
             "#9c179e"
            ],
            [
             0.4444444444444444,
             "#bd3786"
            ],
            [
             0.5555555555555556,
             "#d8576b"
            ],
            [
             0.6666666666666666,
             "#ed7953"
            ],
            [
             0.7777777777777778,
             "#fb9f3a"
            ],
            [
             0.8888888888888888,
             "#fdca26"
            ],
            [
             1,
             "#f0f921"
            ]
           ]
          },
          "colorway": [
           "#636efa",
           "#EF553B",
           "#00cc96",
           "#ab63fa",
           "#FFA15A",
           "#19d3f3",
           "#FF6692",
           "#B6E880",
           "#FF97FF",
           "#FECB52"
          ],
          "font": {
           "color": "#2a3f5f"
          },
          "geo": {
           "bgcolor": "white",
           "lakecolor": "white",
           "landcolor": "#E5ECF6",
           "showlakes": true,
           "showland": true,
           "subunitcolor": "white"
          },
          "hoverlabel": {
           "align": "left"
          },
          "hovermode": "closest",
          "mapbox": {
           "style": "light"
          },
          "paper_bgcolor": "white",
          "plot_bgcolor": "#E5ECF6",
          "polar": {
           "angularaxis": {
            "gridcolor": "white",
            "linecolor": "white",
            "ticks": ""
           },
           "bgcolor": "#E5ECF6",
           "radialaxis": {
            "gridcolor": "white",
            "linecolor": "white",
            "ticks": ""
           }
          },
          "scene": {
           "xaxis": {
            "backgroundcolor": "#E5ECF6",
            "gridcolor": "white",
            "gridwidth": 2,
            "linecolor": "white",
            "showbackground": true,
            "ticks": "",
            "zerolinecolor": "white"
           },
           "yaxis": {
            "backgroundcolor": "#E5ECF6",
            "gridcolor": "white",
            "gridwidth": 2,
            "linecolor": "white",
            "showbackground": true,
            "ticks": "",
            "zerolinecolor": "white"
           },
           "zaxis": {
            "backgroundcolor": "#E5ECF6",
            "gridcolor": "white",
            "gridwidth": 2,
            "linecolor": "white",
            "showbackground": true,
            "ticks": "",
            "zerolinecolor": "white"
           }
          },
          "shapedefaults": {
           "line": {
            "color": "#2a3f5f"
           }
          },
          "ternary": {
           "aaxis": {
            "gridcolor": "white",
            "linecolor": "white",
            "ticks": ""
           },
           "baxis": {
            "gridcolor": "white",
            "linecolor": "white",
            "ticks": ""
           },
           "bgcolor": "#E5ECF6",
           "caxis": {
            "gridcolor": "white",
            "linecolor": "white",
            "ticks": ""
           }
          },
          "title": {
           "x": 0.05
          },
          "xaxis": {
           "automargin": true,
           "gridcolor": "white",
           "linecolor": "white",
           "ticks": "",
           "title": {
            "standoff": 15
           },
           "zerolinecolor": "white",
           "zerolinewidth": 2
          },
          "yaxis": {
           "automargin": true,
           "gridcolor": "white",
           "linecolor": "white",
           "ticks": "",
           "title": {
            "standoff": 15
           },
           "zerolinecolor": "white",
           "zerolinewidth": 2
          }
         }
        },
        "title": {
         "text": "Higher status of machine learning methods into their business<br>by top 5 countries."
        },
        "xaxis": {
         "anchor": "y",
         "categoryarray": [
          "1. Not Started",
          "2. Exploration Stage",
          "3. Generating Insights",
          "4. Started Models in Production",
          "5. Established Models in Production",
          "6. Not Known"
         ],
         "categoryorder": "array",
         "domain": [
          0,
          1
         ],
         "title": {
          "text": ""
         }
        },
        "yaxis": {
         "anchor": "x",
         "domain": [
          0,
          1
         ],
         "title": {
          "text": "Number of responders"
         }
        }
       }
      }
     },
     "metadata": {},
     "output_type": "display_data"
    },
    {
     "data": {
      "text/html": [
       "<div>\n",
       "<style scoped>\n",
       "    .dataframe tbody tr th:only-of-type {\n",
       "        vertical-align: middle;\n",
       "    }\n",
       "\n",
       "    .dataframe tbody tr th {\n",
       "        vertical-align: top;\n",
       "    }\n",
       "\n",
       "    .dataframe thead th {\n",
       "        text-align: right;\n",
       "    }\n",
       "</style>\n",
       "<table border=\"1\" class=\"dataframe\">\n",
       "  <thead>\n",
       "    <tr style=\"text-align: right;\">\n",
       "      <th></th>\n",
       "      <th>Q27</th>\n",
       "      <th>size</th>\n",
       "      <th>avg_num</th>\n",
       "      <th>avg</th>\n",
       "    </tr>\n",
       "  </thead>\n",
       "  <tbody>\n",
       "    <tr>\n",
       "      <th>0</th>\n",
       "      <td>1. Not Started</td>\n",
       "      <td>40</td>\n",
       "      <td>7.30</td>\n",
       "      <td>7.3%</td>\n",
       "    </tr>\n",
       "    <tr>\n",
       "      <th>1</th>\n",
       "      <td>2. Exploration Stage</td>\n",
       "      <td>55</td>\n",
       "      <td>10.04</td>\n",
       "      <td>10.04%</td>\n",
       "    </tr>\n",
       "    <tr>\n",
       "      <th>2</th>\n",
       "      <td>3. Generating Insights</td>\n",
       "      <td>67</td>\n",
       "      <td>12.23</td>\n",
       "      <td>12.23%</td>\n",
       "    </tr>\n",
       "    <tr>\n",
       "      <th>3</th>\n",
       "      <td>4. Started Models in Production</td>\n",
       "      <td>117</td>\n",
       "      <td>21.35</td>\n",
       "      <td>21.35%</td>\n",
       "    </tr>\n",
       "    <tr>\n",
       "      <th>4</th>\n",
       "      <td>5. Established Models in Production</td>\n",
       "      <td>269</td>\n",
       "      <td>49.09</td>\n",
       "      <td>49.09%</td>\n",
       "    </tr>\n",
       "  </tbody>\n",
       "</table>\n",
       "</div>"
      ],
      "text/plain": [
       "                                   Q27  size  avg_num     avg\n",
       "0                       1. Not Started    40     7.30    7.3%\n",
       "1                 2. Exploration Stage    55    10.04  10.04%\n",
       "2               3. Generating Insights    67    12.23  12.23%\n",
       "3      4. Started Models in Production   117    21.35  21.35%\n",
       "4  5. Established Models in Production   269    49.09  49.09%"
      ]
     },
     "execution_count": 39,
     "metadata": {},
     "output_type": "execute_result"
    }
   ],
   "source": [
    "color=[' ']*4 + ['']*1 \n",
    "i='Q27'\n",
    "title='Higher status of machine learning methods into their business<br>by top 5 countries.'\n",
    "c1=df_prue.groupby([i],as_index=False).size()\n",
    "c1['avg_num'] = round((c1['size'] / c1['size'].sum())*100,2)\n",
    "c1['avg']=c1['avg_num'].apply(lambda a: str(a)+ '%')\n",
    "\n",
    "fig = px.bar(c1, x=i,y='size' ,  text_auto=True, color=color, text='avg',\n",
    "                category_orders={i:q27_i},color_discrete_sequence=['rgb(161,217,155)','rgb(35,139,69)' ])\n",
    "\n",
    "fig.update_layout(title=title,yaxis_title=\"Number of responders\")\n",
    "fig.layout.legend.title.text = ''\n",
    "fig.layout.xaxis.title.text=''\n",
    "fig.show()\n",
    "c1"
   ]
  },
  {
   "cell_type": "code",
   "execution_count": 40,
   "metadata": {},
   "outputs": [
    {
     "data": {
      "application/vnd.plotly.v1+json": {
       "config": {
        "plotlyServerURL": "https://plot.ly"
       },
       "data": [
        {
         "alignmentgroup": "True",
         "bingroup": "x",
         "histfunc": "sum",
         "hovertemplate": "Q4=USA<br>Q27=%{x}<br>sum of size=%{y}<extra></extra>",
         "legendgroup": "",
         "marker": {
          "color": "rgb(161,217,155)",
          "pattern": {
           "shape": ""
          }
         },
         "name": "",
         "offsetgroup": "",
         "orientation": "v",
         "showlegend": false,
         "texttemplate": "%{value}",
         "type": "histogram",
         "x": [
          "1. Not Started",
          "2. Exploration Stage",
          "3. Generating Insights",
          "4. Started Models in Production",
          "5. Established Models in Production"
         ],
         "xaxis": "x",
         "y": [
          11,
          19,
          29,
          47,
          134
         ],
         "yaxis": "y"
        },
        {
         "alignmentgroup": "True",
         "bingroup": "x",
         "histfunc": "sum",
         "hovertemplate": "Q4=India<br>Q27=%{x}<br>sum of size=%{y}<extra></extra>",
         "legendgroup": "",
         "marker": {
          "color": "rgb(161,217,155)",
          "pattern": {
           "shape": ""
          }
         },
         "name": "",
         "offsetgroup": "",
         "orientation": "v",
         "showlegend": false,
         "texttemplate": "%{value}",
         "type": "histogram",
         "x": [
          "1. Not Started",
          "2. Exploration Stage",
          "3. Generating Insights",
          "4. Started Models in Production",
          "5. Established Models in Production"
         ],
         "xaxis": "x2",
         "y": [
          12,
          15,
          17,
          39,
          92
         ],
         "yaxis": "y2"
        },
        {
         "alignmentgroup": "True",
         "bingroup": "x",
         "histfunc": "sum",
         "hovertemplate": "Q4=Other<br>Q27=%{x}<br>sum of size=%{y}<extra></extra>",
         "legendgroup": "",
         "marker": {
          "color": "rgb(161,217,155)",
          "pattern": {
           "shape": ""
          }
         },
         "name": "",
         "offsetgroup": "",
         "orientation": "v",
         "showlegend": false,
         "texttemplate": "%{value}",
         "type": "histogram",
         "x": [
          "1. Not Started",
          "2. Exploration Stage",
          "3. Generating Insights",
          "4. Started Models in Production",
          "5. Established Models in Production"
         ],
         "xaxis": "x3",
         "y": [
          8,
          9,
          11,
          13,
          21
         ],
         "yaxis": "y3"
        },
        {
         "alignmentgroup": "True",
         "bingroup": "x",
         "histfunc": "sum",
         "hovertemplate": "Q4=Brazil<br>Q27=%{x}<br>sum of size=%{y}<extra></extra>",
         "legendgroup": "",
         "marker": {
          "color": "rgb(161,217,155)",
          "pattern": {
           "shape": ""
          }
         },
         "name": "",
         "offsetgroup": "",
         "orientation": "v",
         "showlegend": false,
         "texttemplate": "%{value}",
         "type": "histogram",
         "x": [
          "1. Not Started",
          "2. Exploration Stage",
          "3. Generating Insights",
          "4. Started Models in Production",
          "5. Established Models in Production"
         ],
         "xaxis": "x4",
         "y": [
          3,
          3,
          3,
          14,
          14
         ],
         "yaxis": "y4"
        },
        {
         "alignmentgroup": "True",
         "bingroup": "x",
         "histfunc": "sum",
         "hovertemplate": "Q4=Japan<br>Q27=%{x}<br>sum of size=%{y}<extra></extra>",
         "legendgroup": "",
         "marker": {
          "color": "rgb(161,217,155)",
          "pattern": {
           "shape": ""
          }
         },
         "name": "",
         "offsetgroup": "",
         "orientation": "v",
         "showlegend": false,
         "texttemplate": "%{value}",
         "type": "histogram",
         "x": [
          "1. Not Started",
          "2. Exploration Stage",
          "3. Generating Insights",
          "4. Started Models in Production",
          "5. Established Models in Production"
         ],
         "xaxis": "x5",
         "y": [
          6,
          9,
          7,
          4,
          8
         ],
         "yaxis": "y5"
        }
       ],
       "layout": {
        "annotations": [
         {
          "font": {},
          "showarrow": false,
          "text": "USA",
          "x": 0.09200000000000001,
          "xanchor": "center",
          "xref": "paper",
          "y": 1,
          "yanchor": "bottom",
          "yref": "paper"
         },
         {
          "font": {},
          "showarrow": false,
          "text": "India",
          "x": 0.29600000000000004,
          "xanchor": "center",
          "xref": "paper",
          "y": 1,
          "yanchor": "bottom",
          "yref": "paper"
         },
         {
          "font": {},
          "showarrow": false,
          "text": "Other",
          "x": 0.5,
          "xanchor": "center",
          "xref": "paper",
          "y": 1,
          "yanchor": "bottom",
          "yref": "paper"
         },
         {
          "font": {},
          "showarrow": false,
          "text": "Brazil",
          "x": 0.7040000000000002,
          "xanchor": "center",
          "xref": "paper",
          "y": 1,
          "yanchor": "bottom",
          "yref": "paper"
         },
         {
          "font": {},
          "showarrow": false,
          "text": "Japan",
          "x": 0.908,
          "xanchor": "center",
          "xref": "paper",
          "y": 1,
          "yanchor": "bottom",
          "yref": "paper"
         }
        ],
        "barmode": "relative",
        "legend": {
         "title": {
          "text": ""
         },
         "tracegroupgap": 0
        },
        "margin": {
         "t": 60
        },
        "template": {
         "data": {
          "bar": [
           {
            "error_x": {
             "color": "#2a3f5f"
            },
            "error_y": {
             "color": "#2a3f5f"
            },
            "marker": {
             "line": {
              "color": "#E5ECF6",
              "width": 0.5
             },
             "pattern": {
              "fillmode": "overlay",
              "size": 10,
              "solidity": 0.2
             }
            },
            "type": "bar"
           }
          ],
          "barpolar": [
           {
            "marker": {
             "line": {
              "color": "#E5ECF6",
              "width": 0.5
             },
             "pattern": {
              "fillmode": "overlay",
              "size": 10,
              "solidity": 0.2
             }
            },
            "type": "barpolar"
           }
          ],
          "carpet": [
           {
            "aaxis": {
             "endlinecolor": "#2a3f5f",
             "gridcolor": "white",
             "linecolor": "white",
             "minorgridcolor": "white",
             "startlinecolor": "#2a3f5f"
            },
            "baxis": {
             "endlinecolor": "#2a3f5f",
             "gridcolor": "white",
             "linecolor": "white",
             "minorgridcolor": "white",
             "startlinecolor": "#2a3f5f"
            },
            "type": "carpet"
           }
          ],
          "choropleth": [
           {
            "colorbar": {
             "outlinewidth": 0,
             "ticks": ""
            },
            "type": "choropleth"
           }
          ],
          "contour": [
           {
            "colorbar": {
             "outlinewidth": 0,
             "ticks": ""
            },
            "colorscale": [
             [
              0,
              "#0d0887"
             ],
             [
              0.1111111111111111,
              "#46039f"
             ],
             [
              0.2222222222222222,
              "#7201a8"
             ],
             [
              0.3333333333333333,
              "#9c179e"
             ],
             [
              0.4444444444444444,
              "#bd3786"
             ],
             [
              0.5555555555555556,
              "#d8576b"
             ],
             [
              0.6666666666666666,
              "#ed7953"
             ],
             [
              0.7777777777777778,
              "#fb9f3a"
             ],
             [
              0.8888888888888888,
              "#fdca26"
             ],
             [
              1,
              "#f0f921"
             ]
            ],
            "type": "contour"
           }
          ],
          "contourcarpet": [
           {
            "colorbar": {
             "outlinewidth": 0,
             "ticks": ""
            },
            "type": "contourcarpet"
           }
          ],
          "heatmap": [
           {
            "colorbar": {
             "outlinewidth": 0,
             "ticks": ""
            },
            "colorscale": [
             [
              0,
              "#0d0887"
             ],
             [
              0.1111111111111111,
              "#46039f"
             ],
             [
              0.2222222222222222,
              "#7201a8"
             ],
             [
              0.3333333333333333,
              "#9c179e"
             ],
             [
              0.4444444444444444,
              "#bd3786"
             ],
             [
              0.5555555555555556,
              "#d8576b"
             ],
             [
              0.6666666666666666,
              "#ed7953"
             ],
             [
              0.7777777777777778,
              "#fb9f3a"
             ],
             [
              0.8888888888888888,
              "#fdca26"
             ],
             [
              1,
              "#f0f921"
             ]
            ],
            "type": "heatmap"
           }
          ],
          "heatmapgl": [
           {
            "colorbar": {
             "outlinewidth": 0,
             "ticks": ""
            },
            "colorscale": [
             [
              0,
              "#0d0887"
             ],
             [
              0.1111111111111111,
              "#46039f"
             ],
             [
              0.2222222222222222,
              "#7201a8"
             ],
             [
              0.3333333333333333,
              "#9c179e"
             ],
             [
              0.4444444444444444,
              "#bd3786"
             ],
             [
              0.5555555555555556,
              "#d8576b"
             ],
             [
              0.6666666666666666,
              "#ed7953"
             ],
             [
              0.7777777777777778,
              "#fb9f3a"
             ],
             [
              0.8888888888888888,
              "#fdca26"
             ],
             [
              1,
              "#f0f921"
             ]
            ],
            "type": "heatmapgl"
           }
          ],
          "histogram": [
           {
            "marker": {
             "pattern": {
              "fillmode": "overlay",
              "size": 10,
              "solidity": 0.2
             }
            },
            "type": "histogram"
           }
          ],
          "histogram2d": [
           {
            "colorbar": {
             "outlinewidth": 0,
             "ticks": ""
            },
            "colorscale": [
             [
              0,
              "#0d0887"
             ],
             [
              0.1111111111111111,
              "#46039f"
             ],
             [
              0.2222222222222222,
              "#7201a8"
             ],
             [
              0.3333333333333333,
              "#9c179e"
             ],
             [
              0.4444444444444444,
              "#bd3786"
             ],
             [
              0.5555555555555556,
              "#d8576b"
             ],
             [
              0.6666666666666666,
              "#ed7953"
             ],
             [
              0.7777777777777778,
              "#fb9f3a"
             ],
             [
              0.8888888888888888,
              "#fdca26"
             ],
             [
              1,
              "#f0f921"
             ]
            ],
            "type": "histogram2d"
           }
          ],
          "histogram2dcontour": [
           {
            "colorbar": {
             "outlinewidth": 0,
             "ticks": ""
            },
            "colorscale": [
             [
              0,
              "#0d0887"
             ],
             [
              0.1111111111111111,
              "#46039f"
             ],
             [
              0.2222222222222222,
              "#7201a8"
             ],
             [
              0.3333333333333333,
              "#9c179e"
             ],
             [
              0.4444444444444444,
              "#bd3786"
             ],
             [
              0.5555555555555556,
              "#d8576b"
             ],
             [
              0.6666666666666666,
              "#ed7953"
             ],
             [
              0.7777777777777778,
              "#fb9f3a"
             ],
             [
              0.8888888888888888,
              "#fdca26"
             ],
             [
              1,
              "#f0f921"
             ]
            ],
            "type": "histogram2dcontour"
           }
          ],
          "mesh3d": [
           {
            "colorbar": {
             "outlinewidth": 0,
             "ticks": ""
            },
            "type": "mesh3d"
           }
          ],
          "parcoords": [
           {
            "line": {
             "colorbar": {
              "outlinewidth": 0,
              "ticks": ""
             }
            },
            "type": "parcoords"
           }
          ],
          "pie": [
           {
            "automargin": true,
            "type": "pie"
           }
          ],
          "scatter": [
           {
            "fillpattern": {
             "fillmode": "overlay",
             "size": 10,
             "solidity": 0.2
            },
            "type": "scatter"
           }
          ],
          "scatter3d": [
           {
            "line": {
             "colorbar": {
              "outlinewidth": 0,
              "ticks": ""
             }
            },
            "marker": {
             "colorbar": {
              "outlinewidth": 0,
              "ticks": ""
             }
            },
            "type": "scatter3d"
           }
          ],
          "scattercarpet": [
           {
            "marker": {
             "colorbar": {
              "outlinewidth": 0,
              "ticks": ""
             }
            },
            "type": "scattercarpet"
           }
          ],
          "scattergeo": [
           {
            "marker": {
             "colorbar": {
              "outlinewidth": 0,
              "ticks": ""
             }
            },
            "type": "scattergeo"
           }
          ],
          "scattergl": [
           {
            "marker": {
             "colorbar": {
              "outlinewidth": 0,
              "ticks": ""
             }
            },
            "type": "scattergl"
           }
          ],
          "scattermapbox": [
           {
            "marker": {
             "colorbar": {
              "outlinewidth": 0,
              "ticks": ""
             }
            },
            "type": "scattermapbox"
           }
          ],
          "scatterpolar": [
           {
            "marker": {
             "colorbar": {
              "outlinewidth": 0,
              "ticks": ""
             }
            },
            "type": "scatterpolar"
           }
          ],
          "scatterpolargl": [
           {
            "marker": {
             "colorbar": {
              "outlinewidth": 0,
              "ticks": ""
             }
            },
            "type": "scatterpolargl"
           }
          ],
          "scatterternary": [
           {
            "marker": {
             "colorbar": {
              "outlinewidth": 0,
              "ticks": ""
             }
            },
            "type": "scatterternary"
           }
          ],
          "surface": [
           {
            "colorbar": {
             "outlinewidth": 0,
             "ticks": ""
            },
            "colorscale": [
             [
              0,
              "#0d0887"
             ],
             [
              0.1111111111111111,
              "#46039f"
             ],
             [
              0.2222222222222222,
              "#7201a8"
             ],
             [
              0.3333333333333333,
              "#9c179e"
             ],
             [
              0.4444444444444444,
              "#bd3786"
             ],
             [
              0.5555555555555556,
              "#d8576b"
             ],
             [
              0.6666666666666666,
              "#ed7953"
             ],
             [
              0.7777777777777778,
              "#fb9f3a"
             ],
             [
              0.8888888888888888,
              "#fdca26"
             ],
             [
              1,
              "#f0f921"
             ]
            ],
            "type": "surface"
           }
          ],
          "table": [
           {
            "cells": {
             "fill": {
              "color": "#EBF0F8"
             },
             "line": {
              "color": "white"
             }
            },
            "header": {
             "fill": {
              "color": "#C8D4E3"
             },
             "line": {
              "color": "white"
             }
            },
            "type": "table"
           }
          ]
         },
         "layout": {
          "annotationdefaults": {
           "arrowcolor": "#2a3f5f",
           "arrowhead": 0,
           "arrowwidth": 1
          },
          "autotypenumbers": "strict",
          "coloraxis": {
           "colorbar": {
            "outlinewidth": 0,
            "ticks": ""
           }
          },
          "colorscale": {
           "diverging": [
            [
             0,
             "#8e0152"
            ],
            [
             0.1,
             "#c51b7d"
            ],
            [
             0.2,
             "#de77ae"
            ],
            [
             0.3,
             "#f1b6da"
            ],
            [
             0.4,
             "#fde0ef"
            ],
            [
             0.5,
             "#f7f7f7"
            ],
            [
             0.6,
             "#e6f5d0"
            ],
            [
             0.7,
             "#b8e186"
            ],
            [
             0.8,
             "#7fbc41"
            ],
            [
             0.9,
             "#4d9221"
            ],
            [
             1,
             "#276419"
            ]
           ],
           "sequential": [
            [
             0,
             "#0d0887"
            ],
            [
             0.1111111111111111,
             "#46039f"
            ],
            [
             0.2222222222222222,
             "#7201a8"
            ],
            [
             0.3333333333333333,
             "#9c179e"
            ],
            [
             0.4444444444444444,
             "#bd3786"
            ],
            [
             0.5555555555555556,
             "#d8576b"
            ],
            [
             0.6666666666666666,
             "#ed7953"
            ],
            [
             0.7777777777777778,
             "#fb9f3a"
            ],
            [
             0.8888888888888888,
             "#fdca26"
            ],
            [
             1,
             "#f0f921"
            ]
           ],
           "sequentialminus": [
            [
             0,
             "#0d0887"
            ],
            [
             0.1111111111111111,
             "#46039f"
            ],
            [
             0.2222222222222222,
             "#7201a8"
            ],
            [
             0.3333333333333333,
             "#9c179e"
            ],
            [
             0.4444444444444444,
             "#bd3786"
            ],
            [
             0.5555555555555556,
             "#d8576b"
            ],
            [
             0.6666666666666666,
             "#ed7953"
            ],
            [
             0.7777777777777778,
             "#fb9f3a"
            ],
            [
             0.8888888888888888,
             "#fdca26"
            ],
            [
             1,
             "#f0f921"
            ]
           ]
          },
          "colorway": [
           "#636efa",
           "#EF553B",
           "#00cc96",
           "#ab63fa",
           "#FFA15A",
           "#19d3f3",
           "#FF6692",
           "#B6E880",
           "#FF97FF",
           "#FECB52"
          ],
          "font": {
           "color": "#2a3f5f"
          },
          "geo": {
           "bgcolor": "white",
           "lakecolor": "white",
           "landcolor": "#E5ECF6",
           "showlakes": true,
           "showland": true,
           "subunitcolor": "white"
          },
          "hoverlabel": {
           "align": "left"
          },
          "hovermode": "closest",
          "mapbox": {
           "style": "light"
          },
          "paper_bgcolor": "white",
          "plot_bgcolor": "#E5ECF6",
          "polar": {
           "angularaxis": {
            "gridcolor": "white",
            "linecolor": "white",
            "ticks": ""
           },
           "bgcolor": "#E5ECF6",
           "radialaxis": {
            "gridcolor": "white",
            "linecolor": "white",
            "ticks": ""
           }
          },
          "scene": {
           "xaxis": {
            "backgroundcolor": "#E5ECF6",
            "gridcolor": "white",
            "gridwidth": 2,
            "linecolor": "white",
            "showbackground": true,
            "ticks": "",
            "zerolinecolor": "white"
           },
           "yaxis": {
            "backgroundcolor": "#E5ECF6",
            "gridcolor": "white",
            "gridwidth": 2,
            "linecolor": "white",
            "showbackground": true,
            "ticks": "",
            "zerolinecolor": "white"
           },
           "zaxis": {
            "backgroundcolor": "#E5ECF6",
            "gridcolor": "white",
            "gridwidth": 2,
            "linecolor": "white",
            "showbackground": true,
            "ticks": "",
            "zerolinecolor": "white"
           }
          },
          "shapedefaults": {
           "line": {
            "color": "#2a3f5f"
           }
          },
          "ternary": {
           "aaxis": {
            "gridcolor": "white",
            "linecolor": "white",
            "ticks": ""
           },
           "baxis": {
            "gridcolor": "white",
            "linecolor": "white",
            "ticks": ""
           },
           "bgcolor": "#E5ECF6",
           "caxis": {
            "gridcolor": "white",
            "linecolor": "white",
            "ticks": ""
           }
          },
          "title": {
           "x": 0.05
          },
          "xaxis": {
           "automargin": true,
           "gridcolor": "white",
           "linecolor": "white",
           "ticks": "",
           "title": {
            "standoff": 15
           },
           "zerolinecolor": "white",
           "zerolinewidth": 2
          },
          "yaxis": {
           "automargin": true,
           "gridcolor": "white",
           "linecolor": "white",
           "ticks": "",
           "title": {
            "standoff": 15
           },
           "zerolinecolor": "white",
           "zerolinewidth": 2
          }
         }
        },
        "title": {
         "text": "Higher status of machine learning methods into their business split by countries"
        },
        "xaxis": {
         "anchor": "y",
         "categoryarray": [
          "1. Not Started",
          "2. Exploration Stage",
          "3. Generating Insights",
          "4. Started Models in Production",
          "5. Established Models in Production",
          "6. Not Known"
         ],
         "categoryorder": "array",
         "domain": [
          0,
          0.18400000000000002
         ],
         "title": {
          "text": ""
         }
        },
        "xaxis2": {
         "anchor": "y2",
         "categoryarray": [
          "1. Not Started",
          "2. Exploration Stage",
          "3. Generating Insights",
          "4. Started Models in Production",
          "5. Established Models in Production",
          "6. Not Known"
         ],
         "categoryorder": "array",
         "domain": [
          0.20400000000000001,
          0.388
         ],
         "matches": "x",
         "title": {
          "text": ""
         }
        },
        "xaxis3": {
         "anchor": "y3",
         "categoryarray": [
          "1. Not Started",
          "2. Exploration Stage",
          "3. Generating Insights",
          "4. Started Models in Production",
          "5. Established Models in Production",
          "6. Not Known"
         ],
         "categoryorder": "array",
         "domain": [
          0.40800000000000003,
          0.5920000000000001
         ],
         "matches": "x",
         "title": {
          "text": ""
         }
        },
        "xaxis4": {
         "anchor": "y4",
         "categoryarray": [
          "1. Not Started",
          "2. Exploration Stage",
          "3. Generating Insights",
          "4. Started Models in Production",
          "5. Established Models in Production",
          "6. Not Known"
         ],
         "categoryorder": "array",
         "domain": [
          0.6120000000000001,
          0.7960000000000002
         ],
         "matches": "x",
         "title": {
          "text": ""
         }
        },
        "xaxis5": {
         "anchor": "y5",
         "categoryarray": [
          "1. Not Started",
          "2. Exploration Stage",
          "3. Generating Insights",
          "4. Started Models in Production",
          "5. Established Models in Production",
          "6. Not Known"
         ],
         "categoryorder": "array",
         "domain": [
          0.8160000000000001,
          1
         ],
         "matches": "x",
         "title": {
          "text": ""
         }
        },
        "yaxis": {
         "anchor": "x",
         "domain": [
          0,
          1
         ],
         "title": {
          "text": "Number of responders"
         }
        },
        "yaxis2": {
         "anchor": "x2",
         "domain": [
          0,
          1
         ],
         "matches": "y",
         "showticklabels": false
        },
        "yaxis3": {
         "anchor": "x3",
         "domain": [
          0,
          1
         ],
         "matches": "y",
         "showticklabels": false
        },
        "yaxis4": {
         "anchor": "x4",
         "domain": [
          0,
          1
         ],
         "matches": "y",
         "showticklabels": false
        },
        "yaxis5": {
         "anchor": "x5",
         "domain": [
          0,
          1
         ],
         "matches": "y",
         "showticklabels": false
        }
       }
      }
     },
     "metadata": {},
     "output_type": "display_data"
    }
   ],
   "source": [
    "# color=[' ']*2 + ['']*1 + [' ']*3 +['']*1 + [' ']*4 +['']*1 + [' ']*3 +['']*1 + [' ']*5 +['']*1+ [' ']*3\n",
    "i='Q27'\n",
    "title='Higher status of machine learning methods into their business split by countries'\n",
    "i_i=q27_i\n",
    "c1=df_prue.groupby(['Q4',i],as_index=False).size()\n",
    "fig = px.histogram(c1, x=i,y='size' ,  text_auto=True, facet_col=\"Q4\", \n",
    "                category_orders={\"Q4\":q4_5top,i:i_i},color_discrete_sequence=['rgb(161,217,155)','rgb(35,139,69)' ])\n",
    "fig.for_each_annotation(lambda a: a.update(text=a.text.replace(\"Q4=\", \"\")))\n",
    "fig.update_layout(title=title,yaxis_title=\"Number of responders\")\n",
    "\n",
    "fig.layout.legend.title.text = ''\n",
    "fig.layout.xaxis.title.text = ''\n",
    "fig.layout.xaxis1.title.text = ''\n",
    "fig.layout.xaxis2.title.text = ''\n",
    "fig.layout.xaxis3.title.text = ''\n",
    "fig.layout.xaxis4.title.text = ''\n",
    "fig.layout.xaxis5.title.text = ''\n",
    "\n",
    "fig.show()"
   ]
  },
  {
   "cell_type": "markdown",
   "metadata": {},
   "source": [
    "#### **current yearly compensation (approximate $USD)**\n",
    "\n",
    "Two significant peaks in the annual salaries of expert data scientists can be seen in the diagram. The first is in the $125,000 to $249,999 USD range, representing 30.11% of respondents, while the second peak is in the $25,000 to $49,999 USD range, comprising 25.55% of professionals surveyed. This data demonstrates that most data science experts receive competitive salaries, with a particular focus on the $125,000 to $249,999 USD or $25,000 to $49,999 USD ranges.\n",
    "\n",
    "One issue that raises questions is the presence of salary ranges from $0 to $2,999 for experts in the role of data scientist. This may be discriminatory depending on the country. For example, in the United States, the salary range varies from $10,000 to $24,999 to an impressive range of $250,000 to $999,999. The highest peak is in the range of $125,000 to $249,999, with 151 users in the role of data scientist.\n",
    "\n",
    "On the other hand, India and other countries that are part of Kaggle's top 5 have annual payout values in the $0 to $2,999 and $10,000 to $24,999 ranges, even though these users are classified as experts. In addition, it can be noted that, in some countries, even for experts with many years of experience the pay value stagnates in certain ranges, around $25,000 to $49,999.\n",
    "\n",
    "**These variations in salaries may be related to the economic situation and hiring policies of each country, which could generate differences in the remuneration of expert data scientists. for examplo Average salary ranges USA: $ 59.860 , India: $ 7.000 , Brasil: $ 15.000 , Japón: $ 45.000 **\n"
   ]
  },
  {
   "cell_type": "code",
   "execution_count": 41,
   "metadata": {},
   "outputs": [
    {
     "data": {
      "application/vnd.plotly.v1+json": {
       "config": {
        "plotlyServerURL": "https://plot.ly"
       },
       "data": [
        {
         "alignmentgroup": "True",
         "hovertemplate": "color= <br>Q29=%{x}<br>size=%{y}<br>avg=%{text}<extra></extra>",
         "legendgroup": " ",
         "marker": {
          "color": "rgb(161,217,155)",
          "pattern": {
           "shape": ""
          }
         },
         "name": " ",
         "offsetgroup": " ",
         "orientation": "v",
         "showlegend": true,
         "text": [
          "4.42%",
          "11.45%",
          "6.43%",
          "5.02%",
          "8.03%",
          "12.85%",
          "0.6%"
         ],
         "textposition": "auto",
         "texttemplate": "%{y}",
         "type": "bar",
         "x": [
          "0-2,999",
          "10,000-24,999",
          "250,000-999,999",
          "3,000-9,999",
          "50,000-79,999",
          "80,000-124,999",
          ">$1,000,000"
         ],
         "xaxis": "x",
         "y": [
          22,
          57,
          32,
          25,
          40,
          64,
          3
         ],
         "yaxis": "y"
        },
        {
         "alignmentgroup": "True",
         "hovertemplate": "color=<br>Q29=%{x}<br>size=%{y}<br>avg=%{text}<extra></extra>",
         "legendgroup": "",
         "marker": {
          "color": "rgb(35,139,69)",
          "pattern": {
           "shape": ""
          }
         },
         "name": "",
         "offsetgroup": "",
         "orientation": "v",
         "showlegend": false,
         "text": [
          "33.13%",
          "18.07%"
         ],
         "textposition": "auto",
         "texttemplate": "%{y}",
         "type": "bar",
         "x": [
          "125,000-249,999",
          "25,000-49,999"
         ],
         "xaxis": "x",
         "y": [
          165,
          90
         ],
         "yaxis": "y"
        }
       ],
       "layout": {
        "barmode": "relative",
        "legend": {
         "title": {
          "text": ""
         },
         "tracegroupgap": 0
        },
        "margin": {
         "t": 60
        },
        "template": {
         "data": {
          "bar": [
           {
            "error_x": {
             "color": "#2a3f5f"
            },
            "error_y": {
             "color": "#2a3f5f"
            },
            "marker": {
             "line": {
              "color": "#E5ECF6",
              "width": 0.5
             },
             "pattern": {
              "fillmode": "overlay",
              "size": 10,
              "solidity": 0.2
             }
            },
            "type": "bar"
           }
          ],
          "barpolar": [
           {
            "marker": {
             "line": {
              "color": "#E5ECF6",
              "width": 0.5
             },
             "pattern": {
              "fillmode": "overlay",
              "size": 10,
              "solidity": 0.2
             }
            },
            "type": "barpolar"
           }
          ],
          "carpet": [
           {
            "aaxis": {
             "endlinecolor": "#2a3f5f",
             "gridcolor": "white",
             "linecolor": "white",
             "minorgridcolor": "white",
             "startlinecolor": "#2a3f5f"
            },
            "baxis": {
             "endlinecolor": "#2a3f5f",
             "gridcolor": "white",
             "linecolor": "white",
             "minorgridcolor": "white",
             "startlinecolor": "#2a3f5f"
            },
            "type": "carpet"
           }
          ],
          "choropleth": [
           {
            "colorbar": {
             "outlinewidth": 0,
             "ticks": ""
            },
            "type": "choropleth"
           }
          ],
          "contour": [
           {
            "colorbar": {
             "outlinewidth": 0,
             "ticks": ""
            },
            "colorscale": [
             [
              0,
              "#0d0887"
             ],
             [
              0.1111111111111111,
              "#46039f"
             ],
             [
              0.2222222222222222,
              "#7201a8"
             ],
             [
              0.3333333333333333,
              "#9c179e"
             ],
             [
              0.4444444444444444,
              "#bd3786"
             ],
             [
              0.5555555555555556,
              "#d8576b"
             ],
             [
              0.6666666666666666,
              "#ed7953"
             ],
             [
              0.7777777777777778,
              "#fb9f3a"
             ],
             [
              0.8888888888888888,
              "#fdca26"
             ],
             [
              1,
              "#f0f921"
             ]
            ],
            "type": "contour"
           }
          ],
          "contourcarpet": [
           {
            "colorbar": {
             "outlinewidth": 0,
             "ticks": ""
            },
            "type": "contourcarpet"
           }
          ],
          "heatmap": [
           {
            "colorbar": {
             "outlinewidth": 0,
             "ticks": ""
            },
            "colorscale": [
             [
              0,
              "#0d0887"
             ],
             [
              0.1111111111111111,
              "#46039f"
             ],
             [
              0.2222222222222222,
              "#7201a8"
             ],
             [
              0.3333333333333333,
              "#9c179e"
             ],
             [
              0.4444444444444444,
              "#bd3786"
             ],
             [
              0.5555555555555556,
              "#d8576b"
             ],
             [
              0.6666666666666666,
              "#ed7953"
             ],
             [
              0.7777777777777778,
              "#fb9f3a"
             ],
             [
              0.8888888888888888,
              "#fdca26"
             ],
             [
              1,
              "#f0f921"
             ]
            ],
            "type": "heatmap"
           }
          ],
          "heatmapgl": [
           {
            "colorbar": {
             "outlinewidth": 0,
             "ticks": ""
            },
            "colorscale": [
             [
              0,
              "#0d0887"
             ],
             [
              0.1111111111111111,
              "#46039f"
             ],
             [
              0.2222222222222222,
              "#7201a8"
             ],
             [
              0.3333333333333333,
              "#9c179e"
             ],
             [
              0.4444444444444444,
              "#bd3786"
             ],
             [
              0.5555555555555556,
              "#d8576b"
             ],
             [
              0.6666666666666666,
              "#ed7953"
             ],
             [
              0.7777777777777778,
              "#fb9f3a"
             ],
             [
              0.8888888888888888,
              "#fdca26"
             ],
             [
              1,
              "#f0f921"
             ]
            ],
            "type": "heatmapgl"
           }
          ],
          "histogram": [
           {
            "marker": {
             "pattern": {
              "fillmode": "overlay",
              "size": 10,
              "solidity": 0.2
             }
            },
            "type": "histogram"
           }
          ],
          "histogram2d": [
           {
            "colorbar": {
             "outlinewidth": 0,
             "ticks": ""
            },
            "colorscale": [
             [
              0,
              "#0d0887"
             ],
             [
              0.1111111111111111,
              "#46039f"
             ],
             [
              0.2222222222222222,
              "#7201a8"
             ],
             [
              0.3333333333333333,
              "#9c179e"
             ],
             [
              0.4444444444444444,
              "#bd3786"
             ],
             [
              0.5555555555555556,
              "#d8576b"
             ],
             [
              0.6666666666666666,
              "#ed7953"
             ],
             [
              0.7777777777777778,
              "#fb9f3a"
             ],
             [
              0.8888888888888888,
              "#fdca26"
             ],
             [
              1,
              "#f0f921"
             ]
            ],
            "type": "histogram2d"
           }
          ],
          "histogram2dcontour": [
           {
            "colorbar": {
             "outlinewidth": 0,
             "ticks": ""
            },
            "colorscale": [
             [
              0,
              "#0d0887"
             ],
             [
              0.1111111111111111,
              "#46039f"
             ],
             [
              0.2222222222222222,
              "#7201a8"
             ],
             [
              0.3333333333333333,
              "#9c179e"
             ],
             [
              0.4444444444444444,
              "#bd3786"
             ],
             [
              0.5555555555555556,
              "#d8576b"
             ],
             [
              0.6666666666666666,
              "#ed7953"
             ],
             [
              0.7777777777777778,
              "#fb9f3a"
             ],
             [
              0.8888888888888888,
              "#fdca26"
             ],
             [
              1,
              "#f0f921"
             ]
            ],
            "type": "histogram2dcontour"
           }
          ],
          "mesh3d": [
           {
            "colorbar": {
             "outlinewidth": 0,
             "ticks": ""
            },
            "type": "mesh3d"
           }
          ],
          "parcoords": [
           {
            "line": {
             "colorbar": {
              "outlinewidth": 0,
              "ticks": ""
             }
            },
            "type": "parcoords"
           }
          ],
          "pie": [
           {
            "automargin": true,
            "type": "pie"
           }
          ],
          "scatter": [
           {
            "fillpattern": {
             "fillmode": "overlay",
             "size": 10,
             "solidity": 0.2
            },
            "type": "scatter"
           }
          ],
          "scatter3d": [
           {
            "line": {
             "colorbar": {
              "outlinewidth": 0,
              "ticks": ""
             }
            },
            "marker": {
             "colorbar": {
              "outlinewidth": 0,
              "ticks": ""
             }
            },
            "type": "scatter3d"
           }
          ],
          "scattercarpet": [
           {
            "marker": {
             "colorbar": {
              "outlinewidth": 0,
              "ticks": ""
             }
            },
            "type": "scattercarpet"
           }
          ],
          "scattergeo": [
           {
            "marker": {
             "colorbar": {
              "outlinewidth": 0,
              "ticks": ""
             }
            },
            "type": "scattergeo"
           }
          ],
          "scattergl": [
           {
            "marker": {
             "colorbar": {
              "outlinewidth": 0,
              "ticks": ""
             }
            },
            "type": "scattergl"
           }
          ],
          "scattermapbox": [
           {
            "marker": {
             "colorbar": {
              "outlinewidth": 0,
              "ticks": ""
             }
            },
            "type": "scattermapbox"
           }
          ],
          "scatterpolar": [
           {
            "marker": {
             "colorbar": {
              "outlinewidth": 0,
              "ticks": ""
             }
            },
            "type": "scatterpolar"
           }
          ],
          "scatterpolargl": [
           {
            "marker": {
             "colorbar": {
              "outlinewidth": 0,
              "ticks": ""
             }
            },
            "type": "scatterpolargl"
           }
          ],
          "scatterternary": [
           {
            "marker": {
             "colorbar": {
              "outlinewidth": 0,
              "ticks": ""
             }
            },
            "type": "scatterternary"
           }
          ],
          "surface": [
           {
            "colorbar": {
             "outlinewidth": 0,
             "ticks": ""
            },
            "colorscale": [
             [
              0,
              "#0d0887"
             ],
             [
              0.1111111111111111,
              "#46039f"
             ],
             [
              0.2222222222222222,
              "#7201a8"
             ],
             [
              0.3333333333333333,
              "#9c179e"
             ],
             [
              0.4444444444444444,
              "#bd3786"
             ],
             [
              0.5555555555555556,
              "#d8576b"
             ],
             [
              0.6666666666666666,
              "#ed7953"
             ],
             [
              0.7777777777777778,
              "#fb9f3a"
             ],
             [
              0.8888888888888888,
              "#fdca26"
             ],
             [
              1,
              "#f0f921"
             ]
            ],
            "type": "surface"
           }
          ],
          "table": [
           {
            "cells": {
             "fill": {
              "color": "#EBF0F8"
             },
             "line": {
              "color": "white"
             }
            },
            "header": {
             "fill": {
              "color": "#C8D4E3"
             },
             "line": {
              "color": "white"
             }
            },
            "type": "table"
           }
          ]
         },
         "layout": {
          "annotationdefaults": {
           "arrowcolor": "#2a3f5f",
           "arrowhead": 0,
           "arrowwidth": 1
          },
          "autotypenumbers": "strict",
          "coloraxis": {
           "colorbar": {
            "outlinewidth": 0,
            "ticks": ""
           }
          },
          "colorscale": {
           "diverging": [
            [
             0,
             "#8e0152"
            ],
            [
             0.1,
             "#c51b7d"
            ],
            [
             0.2,
             "#de77ae"
            ],
            [
             0.3,
             "#f1b6da"
            ],
            [
             0.4,
             "#fde0ef"
            ],
            [
             0.5,
             "#f7f7f7"
            ],
            [
             0.6,
             "#e6f5d0"
            ],
            [
             0.7,
             "#b8e186"
            ],
            [
             0.8,
             "#7fbc41"
            ],
            [
             0.9,
             "#4d9221"
            ],
            [
             1,
             "#276419"
            ]
           ],
           "sequential": [
            [
             0,
             "#0d0887"
            ],
            [
             0.1111111111111111,
             "#46039f"
            ],
            [
             0.2222222222222222,
             "#7201a8"
            ],
            [
             0.3333333333333333,
             "#9c179e"
            ],
            [
             0.4444444444444444,
             "#bd3786"
            ],
            [
             0.5555555555555556,
             "#d8576b"
            ],
            [
             0.6666666666666666,
             "#ed7953"
            ],
            [
             0.7777777777777778,
             "#fb9f3a"
            ],
            [
             0.8888888888888888,
             "#fdca26"
            ],
            [
             1,
             "#f0f921"
            ]
           ],
           "sequentialminus": [
            [
             0,
             "#0d0887"
            ],
            [
             0.1111111111111111,
             "#46039f"
            ],
            [
             0.2222222222222222,
             "#7201a8"
            ],
            [
             0.3333333333333333,
             "#9c179e"
            ],
            [
             0.4444444444444444,
             "#bd3786"
            ],
            [
             0.5555555555555556,
             "#d8576b"
            ],
            [
             0.6666666666666666,
             "#ed7953"
            ],
            [
             0.7777777777777778,
             "#fb9f3a"
            ],
            [
             0.8888888888888888,
             "#fdca26"
            ],
            [
             1,
             "#f0f921"
            ]
           ]
          },
          "colorway": [
           "#636efa",
           "#EF553B",
           "#00cc96",
           "#ab63fa",
           "#FFA15A",
           "#19d3f3",
           "#FF6692",
           "#B6E880",
           "#FF97FF",
           "#FECB52"
          ],
          "font": {
           "color": "#2a3f5f"
          },
          "geo": {
           "bgcolor": "white",
           "lakecolor": "white",
           "landcolor": "#E5ECF6",
           "showlakes": true,
           "showland": true,
           "subunitcolor": "white"
          },
          "hoverlabel": {
           "align": "left"
          },
          "hovermode": "closest",
          "mapbox": {
           "style": "light"
          },
          "paper_bgcolor": "white",
          "plot_bgcolor": "#E5ECF6",
          "polar": {
           "angularaxis": {
            "gridcolor": "white",
            "linecolor": "white",
            "ticks": ""
           },
           "bgcolor": "#E5ECF6",
           "radialaxis": {
            "gridcolor": "white",
            "linecolor": "white",
            "ticks": ""
           }
          },
          "scene": {
           "xaxis": {
            "backgroundcolor": "#E5ECF6",
            "gridcolor": "white",
            "gridwidth": 2,
            "linecolor": "white",
            "showbackground": true,
            "ticks": "",
            "zerolinecolor": "white"
           },
           "yaxis": {
            "backgroundcolor": "#E5ECF6",
            "gridcolor": "white",
            "gridwidth": 2,
            "linecolor": "white",
            "showbackground": true,
            "ticks": "",
            "zerolinecolor": "white"
           },
           "zaxis": {
            "backgroundcolor": "#E5ECF6",
            "gridcolor": "white",
            "gridwidth": 2,
            "linecolor": "white",
            "showbackground": true,
            "ticks": "",
            "zerolinecolor": "white"
           }
          },
          "shapedefaults": {
           "line": {
            "color": "#2a3f5f"
           }
          },
          "ternary": {
           "aaxis": {
            "gridcolor": "white",
            "linecolor": "white",
            "ticks": ""
           },
           "baxis": {
            "gridcolor": "white",
            "linecolor": "white",
            "ticks": ""
           },
           "bgcolor": "#E5ECF6",
           "caxis": {
            "gridcolor": "white",
            "linecolor": "white",
            "ticks": ""
           }
          },
          "title": {
           "x": 0.05
          },
          "xaxis": {
           "automargin": true,
           "gridcolor": "white",
           "linecolor": "white",
           "ticks": "",
           "title": {
            "standoff": 15
           },
           "zerolinecolor": "white",
           "zerolinewidth": 2
          },
          "yaxis": {
           "automargin": true,
           "gridcolor": "white",
           "linecolor": "white",
           "ticks": "",
           "title": {
            "standoff": 15
           },
           "zerolinecolor": "white",
           "zerolinewidth": 2
          }
         }
        },
        "xaxis": {
         "anchor": "y",
         "categoryarray": [
          "0-2,999",
          "3,000-9,999",
          "10,000-24,999",
          "25,000-49,999",
          "50,000-79,999",
          "80,000-124,999",
          "125,000-249,999",
          "250,000-999,999",
          ">$1,000,000"
         ],
         "categoryorder": "array",
         "domain": [
          0,
          1
         ],
         "title": {
          "text": "Yearly compensation (approximate $USD)"
         }
        },
        "yaxis": {
         "anchor": "x",
         "domain": [
          0,
          1
         ],
         "title": {
          "text": "Number of responders"
         }
        }
       }
      }
     },
     "metadata": {},
     "output_type": "display_data"
    }
   ],
   "source": [
    "color=[' ']*2 + ['']*2 + [' ']*5\n",
    "i='Q29'\n",
    "title=\"Yearly compensation (approximate $USD)\"\n",
    "\n",
    "c1=df_prue.groupby([i],as_index=False).size()\n",
    "c1['avg_num'] = round((c1['size'] / c1['size'].sum())*100,2)\n",
    "c1['avg']=c1['avg_num'].apply(lambda a: str(a)+ '%')\n",
    "\n",
    "# brazil, india,japan, other usa\n",
    "\n",
    "fig = px.bar(c1, x=i,y='size' ,  text_auto=True,  text='avg', color=color,\n",
    "                category_orders={i:q29_i},color_discrete_sequence=['rgb(161,217,155)','rgb(35,139,69)'])\n",
    "fig.update_xaxes(title_text=title)\n",
    "fig.update_layout(yaxis_title=\"Number of responders\")\n",
    "fig.layout.legend.title.text = ''\n",
    "fig.show()"
   ]
  },
  {
   "cell_type": "code",
   "execution_count": 42,
   "metadata": {},
   "outputs": [
    {
     "data": {
      "application/vnd.plotly.v1+json": {
       "config": {
        "plotlyServerURL": "https://plot.ly"
       },
       "data": [
        {
         "alignmentgroup": "True",
         "hovertemplate": "Q4=USA<br>Q29=%{x}<br>size=%{text}<extra></extra>",
         "legendgroup": "USA",
         "marker": {
          "color": "rgb(0,109,44)",
          "pattern": {
           "shape": ""
          }
         },
         "name": "USA",
         "offsetgroup": "USA",
         "orientation": "v",
         "showlegend": true,
         "text": [
          3,
          151,
          1,
          30,
          4,
          39
         ],
         "textangle": 0,
         "textposition": "auto",
         "type": "bar",
         "x": [
          "10,000-24,999",
          "125,000-249,999",
          "25,000-49,999",
          "250,000-999,999",
          "50,000-79,999",
          "80,000-124,999"
         ],
         "xaxis": "x5",
         "y": [
          3,
          151,
          1,
          30,
          4,
          39
         ],
         "yaxis": "y5"
        },
        {
         "alignmentgroup": "True",
         "hovertemplate": "Q4=India<br>Q29=%{x}<br>size=%{text}<extra></extra>",
         "legendgroup": "India",
         "marker": {
          "color": "rgb(161,217,155)",
          "pattern": {
           "shape": ""
          }
         },
         "name": "India",
         "offsetgroup": "India",
         "orientation": "v",
         "showlegend": true,
         "text": [
          12,
          45,
          4,
          58,
          12,
          12,
          9,
          2
         ],
         "textangle": 0,
         "textposition": "auto",
         "type": "bar",
         "x": [
          "0-2,999",
          "10,000-24,999",
          "125,000-249,999",
          "25,000-49,999",
          "3,000-9,999",
          "50,000-79,999",
          "80,000-124,999",
          ">$1,000,000"
         ],
         "xaxis": "x4",
         "y": [
          12,
          45,
          4,
          58,
          12,
          12,
          9,
          2
         ],
         "yaxis": "y4"
        },
        {
         "alignmentgroup": "True",
         "hovertemplate": "Q4=Other<br>Q29=%{x}<br>size=%{text}<extra></extra>",
         "legendgroup": "Other",
         "marker": {
          "color": "rgb(35,139,6)",
          "pattern": {
           "shape": ""
          }
         },
         "name": "Other",
         "offsetgroup": "Other",
         "orientation": "v",
         "showlegend": true,
         "text": [
          3,
          4,
          8,
          9,
          4,
          12,
          10,
          1
         ],
         "textangle": 0,
         "textposition": "auto",
         "type": "bar",
         "x": [
          "0-2,999",
          "10,000-24,999",
          "125,000-249,999",
          "25,000-49,999",
          "3,000-9,999",
          "50,000-79,999",
          "80,000-124,999",
          ">$1,000,000"
         ],
         "xaxis": "x3",
         "y": [
          3,
          4,
          8,
          9,
          4,
          12,
          10,
          1
         ],
         "yaxis": "y3"
        },
        {
         "alignmentgroup": "True",
         "hovertemplate": "Q4=Brazil<br>Q29=%{x}<br>size=%{text}<extra></extra>",
         "legendgroup": "Brazil",
         "marker": {
          "color": "rgb(116,196,118)",
          "pattern": {
           "shape": ""
          }
         },
         "name": "Brazil",
         "offsetgroup": "Brazil",
         "orientation": "v",
         "showlegend": true,
         "text": [
          4,
          4,
          1,
          15,
          2,
          2,
          6,
          1
         ],
         "textangle": 0,
         "textposition": "auto",
         "type": "bar",
         "x": [
          "0-2,999",
          "10,000-24,999",
          "125,000-249,999",
          "25,000-49,999",
          "250,000-999,999",
          "3,000-9,999",
          "50,000-79,999",
          "80,000-124,999"
         ],
         "xaxis": "x2",
         "y": [
          4,
          4,
          1,
          15,
          2,
          2,
          6,
          1
         ],
         "yaxis": "y2"
        },
        {
         "alignmentgroup": "True",
         "hovertemplate": "Q4=Japan<br>Q29=%{x}<br>size=%{text}<extra></extra>",
         "legendgroup": "Japan",
         "marker": {
          "color": "rgb(65,171,93)",
          "pattern": {
           "shape": ""
          }
         },
         "name": "Japan",
         "offsetgroup": "Japan",
         "orientation": "v",
         "showlegend": true,
         "text": [
          3,
          1,
          1,
          7,
          7,
          6,
          5
         ],
         "textangle": 0,
         "textposition": "auto",
         "type": "bar",
         "x": [
          "0-2,999",
          "10,000-24,999",
          "125,000-249,999",
          "25,000-49,999",
          "3,000-9,999",
          "50,000-79,999",
          "80,000-124,999"
         ],
         "xaxis": "x",
         "y": [
          3,
          1,
          1,
          7,
          7,
          6,
          5
         ],
         "yaxis": "y"
        }
       ],
       "layout": {
        "annotations": [
         {
          "font": {},
          "showarrow": false,
          "text": "Japan",
          "x": 0.5,
          "xanchor": "center",
          "xref": "paper",
          "y": 0.144,
          "yanchor": "bottom",
          "yref": "paper"
         },
         {
          "font": {},
          "showarrow": false,
          "text": "Brazil",
          "x": 0.5,
          "xanchor": "center",
          "xref": "paper",
          "y": 0.358,
          "yanchor": "bottom",
          "yref": "paper"
         },
         {
          "font": {},
          "showarrow": false,
          "text": "Other",
          "x": 0.5,
          "xanchor": "center",
          "xref": "paper",
          "y": 0.572,
          "yanchor": "bottom",
          "yref": "paper"
         },
         {
          "font": {},
          "showarrow": false,
          "text": "India",
          "x": 0.5,
          "xanchor": "center",
          "xref": "paper",
          "y": 0.7859999999999999,
          "yanchor": "bottom",
          "yref": "paper"
         },
         {
          "font": {},
          "showarrow": false,
          "text": "USA",
          "x": 0.5,
          "xanchor": "center",
          "xref": "paper",
          "y": 1,
          "yanchor": "bottom",
          "yref": "paper"
         }
        ],
        "barmode": "relative",
        "height": 800,
        "legend": {
         "title": {
          "text": ""
         },
         "tracegroupgap": 0
        },
        "margin": {
         "t": 60
        },
        "template": {
         "data": {
          "bar": [
           {
            "error_x": {
             "color": "#2a3f5f"
            },
            "error_y": {
             "color": "#2a3f5f"
            },
            "marker": {
             "line": {
              "color": "#E5ECF6",
              "width": 0.5
             },
             "pattern": {
              "fillmode": "overlay",
              "size": 10,
              "solidity": 0.2
             }
            },
            "type": "bar"
           }
          ],
          "barpolar": [
           {
            "marker": {
             "line": {
              "color": "#E5ECF6",
              "width": 0.5
             },
             "pattern": {
              "fillmode": "overlay",
              "size": 10,
              "solidity": 0.2
             }
            },
            "type": "barpolar"
           }
          ],
          "carpet": [
           {
            "aaxis": {
             "endlinecolor": "#2a3f5f",
             "gridcolor": "white",
             "linecolor": "white",
             "minorgridcolor": "white",
             "startlinecolor": "#2a3f5f"
            },
            "baxis": {
             "endlinecolor": "#2a3f5f",
             "gridcolor": "white",
             "linecolor": "white",
             "minorgridcolor": "white",
             "startlinecolor": "#2a3f5f"
            },
            "type": "carpet"
           }
          ],
          "choropleth": [
           {
            "colorbar": {
             "outlinewidth": 0,
             "ticks": ""
            },
            "type": "choropleth"
           }
          ],
          "contour": [
           {
            "colorbar": {
             "outlinewidth": 0,
             "ticks": ""
            },
            "colorscale": [
             [
              0,
              "#0d0887"
             ],
             [
              0.1111111111111111,
              "#46039f"
             ],
             [
              0.2222222222222222,
              "#7201a8"
             ],
             [
              0.3333333333333333,
              "#9c179e"
             ],
             [
              0.4444444444444444,
              "#bd3786"
             ],
             [
              0.5555555555555556,
              "#d8576b"
             ],
             [
              0.6666666666666666,
              "#ed7953"
             ],
             [
              0.7777777777777778,
              "#fb9f3a"
             ],
             [
              0.8888888888888888,
              "#fdca26"
             ],
             [
              1,
              "#f0f921"
             ]
            ],
            "type": "contour"
           }
          ],
          "contourcarpet": [
           {
            "colorbar": {
             "outlinewidth": 0,
             "ticks": ""
            },
            "type": "contourcarpet"
           }
          ],
          "heatmap": [
           {
            "colorbar": {
             "outlinewidth": 0,
             "ticks": ""
            },
            "colorscale": [
             [
              0,
              "#0d0887"
             ],
             [
              0.1111111111111111,
              "#46039f"
             ],
             [
              0.2222222222222222,
              "#7201a8"
             ],
             [
              0.3333333333333333,
              "#9c179e"
             ],
             [
              0.4444444444444444,
              "#bd3786"
             ],
             [
              0.5555555555555556,
              "#d8576b"
             ],
             [
              0.6666666666666666,
              "#ed7953"
             ],
             [
              0.7777777777777778,
              "#fb9f3a"
             ],
             [
              0.8888888888888888,
              "#fdca26"
             ],
             [
              1,
              "#f0f921"
             ]
            ],
            "type": "heatmap"
           }
          ],
          "heatmapgl": [
           {
            "colorbar": {
             "outlinewidth": 0,
             "ticks": ""
            },
            "colorscale": [
             [
              0,
              "#0d0887"
             ],
             [
              0.1111111111111111,
              "#46039f"
             ],
             [
              0.2222222222222222,
              "#7201a8"
             ],
             [
              0.3333333333333333,
              "#9c179e"
             ],
             [
              0.4444444444444444,
              "#bd3786"
             ],
             [
              0.5555555555555556,
              "#d8576b"
             ],
             [
              0.6666666666666666,
              "#ed7953"
             ],
             [
              0.7777777777777778,
              "#fb9f3a"
             ],
             [
              0.8888888888888888,
              "#fdca26"
             ],
             [
              1,
              "#f0f921"
             ]
            ],
            "type": "heatmapgl"
           }
          ],
          "histogram": [
           {
            "marker": {
             "pattern": {
              "fillmode": "overlay",
              "size": 10,
              "solidity": 0.2
             }
            },
            "type": "histogram"
           }
          ],
          "histogram2d": [
           {
            "colorbar": {
             "outlinewidth": 0,
             "ticks": ""
            },
            "colorscale": [
             [
              0,
              "#0d0887"
             ],
             [
              0.1111111111111111,
              "#46039f"
             ],
             [
              0.2222222222222222,
              "#7201a8"
             ],
             [
              0.3333333333333333,
              "#9c179e"
             ],
             [
              0.4444444444444444,
              "#bd3786"
             ],
             [
              0.5555555555555556,
              "#d8576b"
             ],
             [
              0.6666666666666666,
              "#ed7953"
             ],
             [
              0.7777777777777778,
              "#fb9f3a"
             ],
             [
              0.8888888888888888,
              "#fdca26"
             ],
             [
              1,
              "#f0f921"
             ]
            ],
            "type": "histogram2d"
           }
          ],
          "histogram2dcontour": [
           {
            "colorbar": {
             "outlinewidth": 0,
             "ticks": ""
            },
            "colorscale": [
             [
              0,
              "#0d0887"
             ],
             [
              0.1111111111111111,
              "#46039f"
             ],
             [
              0.2222222222222222,
              "#7201a8"
             ],
             [
              0.3333333333333333,
              "#9c179e"
             ],
             [
              0.4444444444444444,
              "#bd3786"
             ],
             [
              0.5555555555555556,
              "#d8576b"
             ],
             [
              0.6666666666666666,
              "#ed7953"
             ],
             [
              0.7777777777777778,
              "#fb9f3a"
             ],
             [
              0.8888888888888888,
              "#fdca26"
             ],
             [
              1,
              "#f0f921"
             ]
            ],
            "type": "histogram2dcontour"
           }
          ],
          "mesh3d": [
           {
            "colorbar": {
             "outlinewidth": 0,
             "ticks": ""
            },
            "type": "mesh3d"
           }
          ],
          "parcoords": [
           {
            "line": {
             "colorbar": {
              "outlinewidth": 0,
              "ticks": ""
             }
            },
            "type": "parcoords"
           }
          ],
          "pie": [
           {
            "automargin": true,
            "type": "pie"
           }
          ],
          "scatter": [
           {
            "fillpattern": {
             "fillmode": "overlay",
             "size": 10,
             "solidity": 0.2
            },
            "type": "scatter"
           }
          ],
          "scatter3d": [
           {
            "line": {
             "colorbar": {
              "outlinewidth": 0,
              "ticks": ""
             }
            },
            "marker": {
             "colorbar": {
              "outlinewidth": 0,
              "ticks": ""
             }
            },
            "type": "scatter3d"
           }
          ],
          "scattercarpet": [
           {
            "marker": {
             "colorbar": {
              "outlinewidth": 0,
              "ticks": ""
             }
            },
            "type": "scattercarpet"
           }
          ],
          "scattergeo": [
           {
            "marker": {
             "colorbar": {
              "outlinewidth": 0,
              "ticks": ""
             }
            },
            "type": "scattergeo"
           }
          ],
          "scattergl": [
           {
            "marker": {
             "colorbar": {
              "outlinewidth": 0,
              "ticks": ""
             }
            },
            "type": "scattergl"
           }
          ],
          "scattermapbox": [
           {
            "marker": {
             "colorbar": {
              "outlinewidth": 0,
              "ticks": ""
             }
            },
            "type": "scattermapbox"
           }
          ],
          "scatterpolar": [
           {
            "marker": {
             "colorbar": {
              "outlinewidth": 0,
              "ticks": ""
             }
            },
            "type": "scatterpolar"
           }
          ],
          "scatterpolargl": [
           {
            "marker": {
             "colorbar": {
              "outlinewidth": 0,
              "ticks": ""
             }
            },
            "type": "scatterpolargl"
           }
          ],
          "scatterternary": [
           {
            "marker": {
             "colorbar": {
              "outlinewidth": 0,
              "ticks": ""
             }
            },
            "type": "scatterternary"
           }
          ],
          "surface": [
           {
            "colorbar": {
             "outlinewidth": 0,
             "ticks": ""
            },
            "colorscale": [
             [
              0,
              "#0d0887"
             ],
             [
              0.1111111111111111,
              "#46039f"
             ],
             [
              0.2222222222222222,
              "#7201a8"
             ],
             [
              0.3333333333333333,
              "#9c179e"
             ],
             [
              0.4444444444444444,
              "#bd3786"
             ],
             [
              0.5555555555555556,
              "#d8576b"
             ],
             [
              0.6666666666666666,
              "#ed7953"
             ],
             [
              0.7777777777777778,
              "#fb9f3a"
             ],
             [
              0.8888888888888888,
              "#fdca26"
             ],
             [
              1,
              "#f0f921"
             ]
            ],
            "type": "surface"
           }
          ],
          "table": [
           {
            "cells": {
             "fill": {
              "color": "#EBF0F8"
             },
             "line": {
              "color": "white"
             }
            },
            "header": {
             "fill": {
              "color": "#C8D4E3"
             },
             "line": {
              "color": "white"
             }
            },
            "type": "table"
           }
          ]
         },
         "layout": {
          "annotationdefaults": {
           "arrowcolor": "#2a3f5f",
           "arrowhead": 0,
           "arrowwidth": 1
          },
          "autotypenumbers": "strict",
          "coloraxis": {
           "colorbar": {
            "outlinewidth": 0,
            "ticks": ""
           }
          },
          "colorscale": {
           "diverging": [
            [
             0,
             "#8e0152"
            ],
            [
             0.1,
             "#c51b7d"
            ],
            [
             0.2,
             "#de77ae"
            ],
            [
             0.3,
             "#f1b6da"
            ],
            [
             0.4,
             "#fde0ef"
            ],
            [
             0.5,
             "#f7f7f7"
            ],
            [
             0.6,
             "#e6f5d0"
            ],
            [
             0.7,
             "#b8e186"
            ],
            [
             0.8,
             "#7fbc41"
            ],
            [
             0.9,
             "#4d9221"
            ],
            [
             1,
             "#276419"
            ]
           ],
           "sequential": [
            [
             0,
             "#0d0887"
            ],
            [
             0.1111111111111111,
             "#46039f"
            ],
            [
             0.2222222222222222,
             "#7201a8"
            ],
            [
             0.3333333333333333,
             "#9c179e"
            ],
            [
             0.4444444444444444,
             "#bd3786"
            ],
            [
             0.5555555555555556,
             "#d8576b"
            ],
            [
             0.6666666666666666,
             "#ed7953"
            ],
            [
             0.7777777777777778,
             "#fb9f3a"
            ],
            [
             0.8888888888888888,
             "#fdca26"
            ],
            [
             1,
             "#f0f921"
            ]
           ],
           "sequentialminus": [
            [
             0,
             "#0d0887"
            ],
            [
             0.1111111111111111,
             "#46039f"
            ],
            [
             0.2222222222222222,
             "#7201a8"
            ],
            [
             0.3333333333333333,
             "#9c179e"
            ],
            [
             0.4444444444444444,
             "#bd3786"
            ],
            [
             0.5555555555555556,
             "#d8576b"
            ],
            [
             0.6666666666666666,
             "#ed7953"
            ],
            [
             0.7777777777777778,
             "#fb9f3a"
            ],
            [
             0.8888888888888888,
             "#fdca26"
            ],
            [
             1,
             "#f0f921"
            ]
           ]
          },
          "colorway": [
           "#636efa",
           "#EF553B",
           "#00cc96",
           "#ab63fa",
           "#FFA15A",
           "#19d3f3",
           "#FF6692",
           "#B6E880",
           "#FF97FF",
           "#FECB52"
          ],
          "font": {
           "color": "#2a3f5f"
          },
          "geo": {
           "bgcolor": "white",
           "lakecolor": "white",
           "landcolor": "#E5ECF6",
           "showlakes": true,
           "showland": true,
           "subunitcolor": "white"
          },
          "hoverlabel": {
           "align": "left"
          },
          "hovermode": "closest",
          "mapbox": {
           "style": "light"
          },
          "paper_bgcolor": "white",
          "plot_bgcolor": "#E5ECF6",
          "polar": {
           "angularaxis": {
            "gridcolor": "white",
            "linecolor": "white",
            "ticks": ""
           },
           "bgcolor": "#E5ECF6",
           "radialaxis": {
            "gridcolor": "white",
            "linecolor": "white",
            "ticks": ""
           }
          },
          "scene": {
           "xaxis": {
            "backgroundcolor": "#E5ECF6",
            "gridcolor": "white",
            "gridwidth": 2,
            "linecolor": "white",
            "showbackground": true,
            "ticks": "",
            "zerolinecolor": "white"
           },
           "yaxis": {
            "backgroundcolor": "#E5ECF6",
            "gridcolor": "white",
            "gridwidth": 2,
            "linecolor": "white",
            "showbackground": true,
            "ticks": "",
            "zerolinecolor": "white"
           },
           "zaxis": {
            "backgroundcolor": "#E5ECF6",
            "gridcolor": "white",
            "gridwidth": 2,
            "linecolor": "white",
            "showbackground": true,
            "ticks": "",
            "zerolinecolor": "white"
           }
          },
          "shapedefaults": {
           "line": {
            "color": "#2a3f5f"
           }
          },
          "ternary": {
           "aaxis": {
            "gridcolor": "white",
            "linecolor": "white",
            "ticks": ""
           },
           "baxis": {
            "gridcolor": "white",
            "linecolor": "white",
            "ticks": ""
           },
           "bgcolor": "#E5ECF6",
           "caxis": {
            "gridcolor": "white",
            "linecolor": "white",
            "ticks": ""
           }
          },
          "title": {
           "x": 0.05
          },
          "xaxis": {
           "automargin": true,
           "gridcolor": "white",
           "linecolor": "white",
           "ticks": "",
           "title": {
            "standoff": 15
           },
           "zerolinecolor": "white",
           "zerolinewidth": 2
          },
          "yaxis": {
           "automargin": true,
           "gridcolor": "white",
           "linecolor": "white",
           "ticks": "",
           "title": {
            "standoff": 15
           },
           "zerolinecolor": "white",
           "zerolinewidth": 2
          }
         }
        },
        "xaxis": {
         "anchor": "y",
         "categoryarray": [
          "0-2,999",
          "3,000-9,999",
          "10,000-24,999",
          "25,000-49,999",
          "50,000-79,999",
          "80,000-124,999",
          "125,000-249,999",
          "250,000-999,999",
          ">$1,000,000"
         ],
         "categoryorder": "array",
         "domain": [
          0,
          1
         ],
         "title": {
          "text": "Yearly compensation (approximate $USD)"
         }
        },
        "xaxis2": {
         "anchor": "y2",
         "domain": [
          0,
          1
         ],
         "matches": "x",
         "showticklabels": false
        },
        "xaxis3": {
         "anchor": "y3",
         "domain": [
          0,
          1
         ],
         "matches": "x",
         "showticklabels": false
        },
        "xaxis4": {
         "anchor": "y4",
         "domain": [
          0,
          1
         ],
         "matches": "x",
         "showticklabels": false
        },
        "xaxis5": {
         "anchor": "y5",
         "domain": [
          0,
          1
         ],
         "matches": "x",
         "showticklabels": false
        },
        "yaxis": {
         "anchor": "x",
         "domain": [
          0,
          0.144
         ],
         "title": {
          "text": "Number of<br>responders"
         }
        },
        "yaxis2": {
         "anchor": "x2",
         "domain": [
          0.214,
          0.358
         ],
         "matches": "y",
         "title": {
          "text": "Number of<br>responders"
         }
        },
        "yaxis3": {
         "anchor": "x3",
         "domain": [
          0.428,
          0.572
         ],
         "matches": "y",
         "title": {
          "text": "Number of<br>responders"
         }
        },
        "yaxis4": {
         "anchor": "x4",
         "domain": [
          0.6419999999999999,
          0.7859999999999999
         ],
         "matches": "y",
         "title": {
          "text": "Number of<br>responders"
         }
        },
        "yaxis5": {
         "anchor": "x5",
         "domain": [
          0.856,
          1
         ],
         "matches": "y",
         "title": {
          "text": "Number of<br>responders"
         }
        }
       }
      }
     },
     "metadata": {},
     "output_type": "display_data"
    }
   ],
   "source": [
    "color=['rgb(0,109,44)','rgb(161,217,155)','rgb(35,139,6)', 'rgb(116,196,118)', 'rgb(65,171,93)' ]\n",
    "i='Q29'\n",
    "title=\"Yearly compensation (approximate $USD)\"\n",
    "c1=df_prue.groupby(['Q4',i],as_index=False).size()\n",
    "\n",
    "fig=px.bar(c1,x=i,   y='size', color='Q4',height=800,\n",
    "           category_orders={\"Q4\": q4_5top,\"Q29\":q29_i},\n",
    "           color_discrete_sequence=color,facet_col_wrap=1, facet_col=\"Q4\",\n",
    "           text='size')\n",
    "fig.update_traces(  textangle=0)\n",
    "fig.for_each_annotation(lambda a: a.update(text=a.text.replace(\"Q4=\", \"\")))\n",
    "\n",
    "fig.layout.legend.title.text = ''\n",
    "fig.layout.xaxis.title.text = title\n",
    "fig.layout.yaxis1.title.text = 'Number of<br>responders'\n",
    "fig.layout.yaxis2.title.text = 'Number of<br>responders'\n",
    "fig.layout.yaxis3.title.text = 'Number of<br>responders'\n",
    "fig.layout.yaxis4.title.text = 'Number of<br>responders'\n",
    "fig.layout.yaxis5.title.text = 'Number of<br>responders'\n",
    "fig.show()\n"
   ]
  },
  {
   "cell_type": "markdown",
   "metadata": {},
   "source": [
    "#### **Activities at work**\n",
    "\n",
    "On the most important activities for an expert data scientist, data analysis and understanding stands out as the main activity, according to 79.93% of the surveyed users, being the most frequent task. **The following activities are related to the use of machine learning:** prototyping for application in new areas, experimentation and iteration of ML models to improve existing models, and building or running a machine learning service to operationally improve products or workflows. These last activities are performed by more than 50% of the surveyed users."
   ]
  },
  {
   "cell_type": "code",
   "execution_count": 43,
   "metadata": {},
   "outputs": [
    {
     "data": {
      "application/vnd.plotly.v1+json": {
       "config": {
        "plotlyServerURL": "https://plot.ly"
       },
       "data": [
        {
         "marker": {
          "color": [
           "rgb(199,233,192)",
           "rgb(199,233,192)",
           "rgb(199,233,192)",
           "rgb(199,233,192)",
           "rgb(0,68,27)",
           "rgb(0,68,27)",
           "rgb(0,68,27)",
           "rgb(199,233,192)"
          ]
         },
         "name": "",
         "orientation": "h",
         "text": [
          4,
          10,
          172,
          234,
          291,
          362,
          404,
          438
         ],
         "texttemplate": "%{x}%<br>%{text}",
         "type": "bar",
         "x": [
          0.73,
          1.82,
          31.39,
          42.7,
          53.1,
          66.06,
          73.72,
          79.93
         ],
         "y": [
          "None of these activities",
          "Other",
          "Research of machine learning",
          "Build and/or run the data infrastructure",
          "Build and/or run a machine learning service",
          "Experimentation and iteration ML models",
          "Build prototypes applying machine learning",
          "Analyze and understand data"
         ]
        }
       ],
       "layout": {
        "barmode": "overlay",
        "template": {
         "data": {
          "bar": [
           {
            "error_x": {
             "color": "#2a3f5f"
            },
            "error_y": {
             "color": "#2a3f5f"
            },
            "marker": {
             "line": {
              "color": "#E5ECF6",
              "width": 0.5
             },
             "pattern": {
              "fillmode": "overlay",
              "size": 10,
              "solidity": 0.2
             }
            },
            "type": "bar"
           }
          ],
          "barpolar": [
           {
            "marker": {
             "line": {
              "color": "#E5ECF6",
              "width": 0.5
             },
             "pattern": {
              "fillmode": "overlay",
              "size": 10,
              "solidity": 0.2
             }
            },
            "type": "barpolar"
           }
          ],
          "carpet": [
           {
            "aaxis": {
             "endlinecolor": "#2a3f5f",
             "gridcolor": "white",
             "linecolor": "white",
             "minorgridcolor": "white",
             "startlinecolor": "#2a3f5f"
            },
            "baxis": {
             "endlinecolor": "#2a3f5f",
             "gridcolor": "white",
             "linecolor": "white",
             "minorgridcolor": "white",
             "startlinecolor": "#2a3f5f"
            },
            "type": "carpet"
           }
          ],
          "choropleth": [
           {
            "colorbar": {
             "outlinewidth": 0,
             "ticks": ""
            },
            "type": "choropleth"
           }
          ],
          "contour": [
           {
            "colorbar": {
             "outlinewidth": 0,
             "ticks": ""
            },
            "colorscale": [
             [
              0,
              "#0d0887"
             ],
             [
              0.1111111111111111,
              "#46039f"
             ],
             [
              0.2222222222222222,
              "#7201a8"
             ],
             [
              0.3333333333333333,
              "#9c179e"
             ],
             [
              0.4444444444444444,
              "#bd3786"
             ],
             [
              0.5555555555555556,
              "#d8576b"
             ],
             [
              0.6666666666666666,
              "#ed7953"
             ],
             [
              0.7777777777777778,
              "#fb9f3a"
             ],
             [
              0.8888888888888888,
              "#fdca26"
             ],
             [
              1,
              "#f0f921"
             ]
            ],
            "type": "contour"
           }
          ],
          "contourcarpet": [
           {
            "colorbar": {
             "outlinewidth": 0,
             "ticks": ""
            },
            "type": "contourcarpet"
           }
          ],
          "heatmap": [
           {
            "colorbar": {
             "outlinewidth": 0,
             "ticks": ""
            },
            "colorscale": [
             [
              0,
              "#0d0887"
             ],
             [
              0.1111111111111111,
              "#46039f"
             ],
             [
              0.2222222222222222,
              "#7201a8"
             ],
             [
              0.3333333333333333,
              "#9c179e"
             ],
             [
              0.4444444444444444,
              "#bd3786"
             ],
             [
              0.5555555555555556,
              "#d8576b"
             ],
             [
              0.6666666666666666,
              "#ed7953"
             ],
             [
              0.7777777777777778,
              "#fb9f3a"
             ],
             [
              0.8888888888888888,
              "#fdca26"
             ],
             [
              1,
              "#f0f921"
             ]
            ],
            "type": "heatmap"
           }
          ],
          "heatmapgl": [
           {
            "colorbar": {
             "outlinewidth": 0,
             "ticks": ""
            },
            "colorscale": [
             [
              0,
              "#0d0887"
             ],
             [
              0.1111111111111111,
              "#46039f"
             ],
             [
              0.2222222222222222,
              "#7201a8"
             ],
             [
              0.3333333333333333,
              "#9c179e"
             ],
             [
              0.4444444444444444,
              "#bd3786"
             ],
             [
              0.5555555555555556,
              "#d8576b"
             ],
             [
              0.6666666666666666,
              "#ed7953"
             ],
             [
              0.7777777777777778,
              "#fb9f3a"
             ],
             [
              0.8888888888888888,
              "#fdca26"
             ],
             [
              1,
              "#f0f921"
             ]
            ],
            "type": "heatmapgl"
           }
          ],
          "histogram": [
           {
            "marker": {
             "pattern": {
              "fillmode": "overlay",
              "size": 10,
              "solidity": 0.2
             }
            },
            "type": "histogram"
           }
          ],
          "histogram2d": [
           {
            "colorbar": {
             "outlinewidth": 0,
             "ticks": ""
            },
            "colorscale": [
             [
              0,
              "#0d0887"
             ],
             [
              0.1111111111111111,
              "#46039f"
             ],
             [
              0.2222222222222222,
              "#7201a8"
             ],
             [
              0.3333333333333333,
              "#9c179e"
             ],
             [
              0.4444444444444444,
              "#bd3786"
             ],
             [
              0.5555555555555556,
              "#d8576b"
             ],
             [
              0.6666666666666666,
              "#ed7953"
             ],
             [
              0.7777777777777778,
              "#fb9f3a"
             ],
             [
              0.8888888888888888,
              "#fdca26"
             ],
             [
              1,
              "#f0f921"
             ]
            ],
            "type": "histogram2d"
           }
          ],
          "histogram2dcontour": [
           {
            "colorbar": {
             "outlinewidth": 0,
             "ticks": ""
            },
            "colorscale": [
             [
              0,
              "#0d0887"
             ],
             [
              0.1111111111111111,
              "#46039f"
             ],
             [
              0.2222222222222222,
              "#7201a8"
             ],
             [
              0.3333333333333333,
              "#9c179e"
             ],
             [
              0.4444444444444444,
              "#bd3786"
             ],
             [
              0.5555555555555556,
              "#d8576b"
             ],
             [
              0.6666666666666666,
              "#ed7953"
             ],
             [
              0.7777777777777778,
              "#fb9f3a"
             ],
             [
              0.8888888888888888,
              "#fdca26"
             ],
             [
              1,
              "#f0f921"
             ]
            ],
            "type": "histogram2dcontour"
           }
          ],
          "mesh3d": [
           {
            "colorbar": {
             "outlinewidth": 0,
             "ticks": ""
            },
            "type": "mesh3d"
           }
          ],
          "parcoords": [
           {
            "line": {
             "colorbar": {
              "outlinewidth": 0,
              "ticks": ""
             }
            },
            "type": "parcoords"
           }
          ],
          "pie": [
           {
            "automargin": true,
            "type": "pie"
           }
          ],
          "scatter": [
           {
            "fillpattern": {
             "fillmode": "overlay",
             "size": 10,
             "solidity": 0.2
            },
            "type": "scatter"
           }
          ],
          "scatter3d": [
           {
            "line": {
             "colorbar": {
              "outlinewidth": 0,
              "ticks": ""
             }
            },
            "marker": {
             "colorbar": {
              "outlinewidth": 0,
              "ticks": ""
             }
            },
            "type": "scatter3d"
           }
          ],
          "scattercarpet": [
           {
            "marker": {
             "colorbar": {
              "outlinewidth": 0,
              "ticks": ""
             }
            },
            "type": "scattercarpet"
           }
          ],
          "scattergeo": [
           {
            "marker": {
             "colorbar": {
              "outlinewidth": 0,
              "ticks": ""
             }
            },
            "type": "scattergeo"
           }
          ],
          "scattergl": [
           {
            "marker": {
             "colorbar": {
              "outlinewidth": 0,
              "ticks": ""
             }
            },
            "type": "scattergl"
           }
          ],
          "scattermapbox": [
           {
            "marker": {
             "colorbar": {
              "outlinewidth": 0,
              "ticks": ""
             }
            },
            "type": "scattermapbox"
           }
          ],
          "scatterpolar": [
           {
            "marker": {
             "colorbar": {
              "outlinewidth": 0,
              "ticks": ""
             }
            },
            "type": "scatterpolar"
           }
          ],
          "scatterpolargl": [
           {
            "marker": {
             "colorbar": {
              "outlinewidth": 0,
              "ticks": ""
             }
            },
            "type": "scatterpolargl"
           }
          ],
          "scatterternary": [
           {
            "marker": {
             "colorbar": {
              "outlinewidth": 0,
              "ticks": ""
             }
            },
            "type": "scatterternary"
           }
          ],
          "surface": [
           {
            "colorbar": {
             "outlinewidth": 0,
             "ticks": ""
            },
            "colorscale": [
             [
              0,
              "#0d0887"
             ],
             [
              0.1111111111111111,
              "#46039f"
             ],
             [
              0.2222222222222222,
              "#7201a8"
             ],
             [
              0.3333333333333333,
              "#9c179e"
             ],
             [
              0.4444444444444444,
              "#bd3786"
             ],
             [
              0.5555555555555556,
              "#d8576b"
             ],
             [
              0.6666666666666666,
              "#ed7953"
             ],
             [
              0.7777777777777778,
              "#fb9f3a"
             ],
             [
              0.8888888888888888,
              "#fdca26"
             ],
             [
              1,
              "#f0f921"
             ]
            ],
            "type": "surface"
           }
          ],
          "table": [
           {
            "cells": {
             "fill": {
              "color": "#EBF0F8"
             },
             "line": {
              "color": "white"
             }
            },
            "header": {
             "fill": {
              "color": "#C8D4E3"
             },
             "line": {
              "color": "white"
             }
            },
            "type": "table"
           }
          ]
         },
         "layout": {
          "annotationdefaults": {
           "arrowcolor": "#2a3f5f",
           "arrowhead": 0,
           "arrowwidth": 1
          },
          "autotypenumbers": "strict",
          "coloraxis": {
           "colorbar": {
            "outlinewidth": 0,
            "ticks": ""
           }
          },
          "colorscale": {
           "diverging": [
            [
             0,
             "#8e0152"
            ],
            [
             0.1,
             "#c51b7d"
            ],
            [
             0.2,
             "#de77ae"
            ],
            [
             0.3,
             "#f1b6da"
            ],
            [
             0.4,
             "#fde0ef"
            ],
            [
             0.5,
             "#f7f7f7"
            ],
            [
             0.6,
             "#e6f5d0"
            ],
            [
             0.7,
             "#b8e186"
            ],
            [
             0.8,
             "#7fbc41"
            ],
            [
             0.9,
             "#4d9221"
            ],
            [
             1,
             "#276419"
            ]
           ],
           "sequential": [
            [
             0,
             "#0d0887"
            ],
            [
             0.1111111111111111,
             "#46039f"
            ],
            [
             0.2222222222222222,
             "#7201a8"
            ],
            [
             0.3333333333333333,
             "#9c179e"
            ],
            [
             0.4444444444444444,
             "#bd3786"
            ],
            [
             0.5555555555555556,
             "#d8576b"
            ],
            [
             0.6666666666666666,
             "#ed7953"
            ],
            [
             0.7777777777777778,
             "#fb9f3a"
            ],
            [
             0.8888888888888888,
             "#fdca26"
            ],
            [
             1,
             "#f0f921"
            ]
           ],
           "sequentialminus": [
            [
             0,
             "#0d0887"
            ],
            [
             0.1111111111111111,
             "#46039f"
            ],
            [
             0.2222222222222222,
             "#7201a8"
            ],
            [
             0.3333333333333333,
             "#9c179e"
            ],
            [
             0.4444444444444444,
             "#bd3786"
            ],
            [
             0.5555555555555556,
             "#d8576b"
            ],
            [
             0.6666666666666666,
             "#ed7953"
            ],
            [
             0.7777777777777778,
             "#fb9f3a"
            ],
            [
             0.8888888888888888,
             "#fdca26"
            ],
            [
             1,
             "#f0f921"
            ]
           ]
          },
          "colorway": [
           "#636efa",
           "#EF553B",
           "#00cc96",
           "#ab63fa",
           "#FFA15A",
           "#19d3f3",
           "#FF6692",
           "#B6E880",
           "#FF97FF",
           "#FECB52"
          ],
          "font": {
           "color": "#2a3f5f"
          },
          "geo": {
           "bgcolor": "white",
           "lakecolor": "white",
           "landcolor": "#E5ECF6",
           "showlakes": true,
           "showland": true,
           "subunitcolor": "white"
          },
          "hoverlabel": {
           "align": "left"
          },
          "hovermode": "closest",
          "mapbox": {
           "style": "light"
          },
          "paper_bgcolor": "white",
          "plot_bgcolor": "#E5ECF6",
          "polar": {
           "angularaxis": {
            "gridcolor": "white",
            "linecolor": "white",
            "ticks": ""
           },
           "bgcolor": "#E5ECF6",
           "radialaxis": {
            "gridcolor": "white",
            "linecolor": "white",
            "ticks": ""
           }
          },
          "scene": {
           "xaxis": {
            "backgroundcolor": "#E5ECF6",
            "gridcolor": "white",
            "gridwidth": 2,
            "linecolor": "white",
            "showbackground": true,
            "ticks": "",
            "zerolinecolor": "white"
           },
           "yaxis": {
            "backgroundcolor": "#E5ECF6",
            "gridcolor": "white",
            "gridwidth": 2,
            "linecolor": "white",
            "showbackground": true,
            "ticks": "",
            "zerolinecolor": "white"
           },
           "zaxis": {
            "backgroundcolor": "#E5ECF6",
            "gridcolor": "white",
            "gridwidth": 2,
            "linecolor": "white",
            "showbackground": true,
            "ticks": "",
            "zerolinecolor": "white"
           }
          },
          "shapedefaults": {
           "line": {
            "color": "#2a3f5f"
           }
          },
          "ternary": {
           "aaxis": {
            "gridcolor": "white",
            "linecolor": "white",
            "ticks": ""
           },
           "baxis": {
            "gridcolor": "white",
            "linecolor": "white",
            "ticks": ""
           },
           "bgcolor": "#E5ECF6",
           "caxis": {
            "gridcolor": "white",
            "linecolor": "white",
            "ticks": ""
           }
          },
          "title": {
           "x": 0.05
          },
          "xaxis": {
           "automargin": true,
           "gridcolor": "white",
           "linecolor": "white",
           "ticks": "",
           "title": {
            "standoff": 15
           },
           "zerolinecolor": "white",
           "zerolinewidth": 2
          },
          "yaxis": {
           "automargin": true,
           "gridcolor": "white",
           "linecolor": "white",
           "ticks": "",
           "title": {
            "standoff": 15
           },
           "zerolinecolor": "white",
           "zerolinewidth": 2
          }
         }
        },
        "title": {
         "text": "Important activities of DS rol at work"
        },
        "xaxis": {
         "title": {
          "text": "% "
         }
        }
       }
      }
     },
     "metadata": {},
     "output_type": "display_data"
    }
   ],
   "source": [
    "# graficas barras de preguntas con respuestas multiples mostrando porcentajes de solo expertos coun =  ['USA', 'India', 'Other', 'Brazil', 'Japan', 'Spain']m=['Brazil', 'Mexico', 'Colombia']\n",
    "i=28\n",
    "\n",
    "tabla = value_count_from_multiple_choice(df_prue, v_v1,i)\n",
    "name ='Important activities of DS rol at work'\n",
    "tabla.index =['None of these activities',\n",
    "              'Other',\n",
    "              'Research of machine learning', \n",
    "              'Build and/or run the data infrastructure',\n",
    "              'Build and/or run a machine learning service',\n",
    "              'Experimentation and iteration ML models',\n",
    "              'Build prototypes applying machine learning',\n",
    "              'Analyze and understand data']\n",
    "fig = go.Figure()\n",
    "color = ['rgb(199,233,192)']*4 + ['rgb(0,68,27)']*3 + ['rgb(199,233,192)']*1\n",
    "fig.add_trace(go.Bar(x=tabla[\"% Users\"],   y=tabla.index,   marker_color=color,name= '',\n",
    "                    text =tabla[\"Yes\"].values,texttemplate = \"%{x}%<br>%{text}\", orientation='h'))\n",
    "fig.update_xaxes(title_text=\"% \")\n",
    "fig.update_layout(barmode='overlay',title_text=name)\n",
    "fig.show()"
   ]
  },
  {
   "attachments": {},
   "cell_type": "markdown",
   "metadata": {},
   "source": [
    "### > The most used technologies and preferred techniques by data scientists."
   ]
  },
  {
   "cell_type": "markdown",
   "metadata": {},
   "source": [
    "#### **Coding Language**\n",
    "\n",
    "Compared to SQL and R, **Python** offers the following advantages for data scientists:\n",
    "\n",
    "* Ease of use: Python has a simpler syntax than SQL and R, making it easier to learn and use.\n",
    "* Flexibility: Python can be used for a wide range of tasks, including data cleansing, analysis and visualization.\n",
    "* Scalability: Python can be used to train complex machine learning models on large data sets.\n",
    "\n",
    "**SQL** is a very efficient language for accessing and manipulating data in relational databases. However, SQL is less flexible than Python and is not as suitable for data analysis and data science.\n",
    "\n",
    "**R** is a very powerful language for statistics and data analysis. However, R can be more difficult to learn than Python and is not as suitable for general programming."
   ]
  },
  {
   "cell_type": "code",
   "execution_count": 44,
   "metadata": {},
   "outputs": [
    {
     "data": {
      "application/vnd.plotly.v1+json": {
       "config": {
        "plotlyServerURL": "https://plot.ly"
       },
       "data": [
        {
         "marker": {
          "color": [
           "rgb(0,68,27)",
           "rgb(0,68,27)",
           "rgb(0,68,27)"
          ]
         },
         "name": "",
         "orientation": "h",
         "text": [
          198,
          364,
          524
         ],
         "textfont": {
          "size": 500
         },
         "textposition": "inside",
         "texttemplate": "%{x}%<br>%{text}",
         "type": "bar",
         "x": [
          36.13,
          66.42,
          95.62
         ],
         "y": [
          "R",
          "SQL",
          "Python"
         ]
        }
       ],
       "layout": {
        "barmode": "overlay",
        "height": 500,
        "images": [
         {
          "sizex": 0.1,
          "sizey": 1,
          "sizing": "contain",
          "source": "data:image/png;base64,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",
          "x": 1,
          "xanchor": "right",
          "xref": "paper",
          "y": 0.73,
          "yanchor": "bottom",
          "yref": "paper"
         },
         {
          "sizex": 0.2,
          "sizey": 1,
          "sizing": "contain",
          "source": "data:image/png;base64,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",
          "x": 0.85,
          "xanchor": "right",
          "xref": "paper",
          "y": 0.4,
          "yanchor": "bottom",
          "yref": "paper"
         },
         {
          "sizex": 0.1,
          "sizey": 1,
          "sizing": "contain",
          "source": "data:image/jpeg;base64,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",
          "x": 0.45,
          "xanchor": "right",
          "xref": "paper",
          "y": 0.09,
          "yanchor": "bottom",
          "yref": "paper"
         }
        ],
        "template": {
         "data": {
          "bar": [
           {
            "error_x": {
             "color": "#2a3f5f"
            },
            "error_y": {
             "color": "#2a3f5f"
            },
            "marker": {
             "line": {
              "color": "#E5ECF6",
              "width": 0.5
             },
             "pattern": {
              "fillmode": "overlay",
              "size": 10,
              "solidity": 0.2
             }
            },
            "type": "bar"
           }
          ],
          "barpolar": [
           {
            "marker": {
             "line": {
              "color": "#E5ECF6",
              "width": 0.5
             },
             "pattern": {
              "fillmode": "overlay",
              "size": 10,
              "solidity": 0.2
             }
            },
            "type": "barpolar"
           }
          ],
          "carpet": [
           {
            "aaxis": {
             "endlinecolor": "#2a3f5f",
             "gridcolor": "white",
             "linecolor": "white",
             "minorgridcolor": "white",
             "startlinecolor": "#2a3f5f"
            },
            "baxis": {
             "endlinecolor": "#2a3f5f",
             "gridcolor": "white",
             "linecolor": "white",
             "minorgridcolor": "white",
             "startlinecolor": "#2a3f5f"
            },
            "type": "carpet"
           }
          ],
          "choropleth": [
           {
            "colorbar": {
             "outlinewidth": 0,
             "ticks": ""
            },
            "type": "choropleth"
           }
          ],
          "contour": [
           {
            "colorbar": {
             "outlinewidth": 0,
             "ticks": ""
            },
            "colorscale": [
             [
              0,
              "#0d0887"
             ],
             [
              0.1111111111111111,
              "#46039f"
             ],
             [
              0.2222222222222222,
              "#7201a8"
             ],
             [
              0.3333333333333333,
              "#9c179e"
             ],
             [
              0.4444444444444444,
              "#bd3786"
             ],
             [
              0.5555555555555556,
              "#d8576b"
             ],
             [
              0.6666666666666666,
              "#ed7953"
             ],
             [
              0.7777777777777778,
              "#fb9f3a"
             ],
             [
              0.8888888888888888,
              "#fdca26"
             ],
             [
              1,
              "#f0f921"
             ]
            ],
            "type": "contour"
           }
          ],
          "contourcarpet": [
           {
            "colorbar": {
             "outlinewidth": 0,
             "ticks": ""
            },
            "type": "contourcarpet"
           }
          ],
          "heatmap": [
           {
            "colorbar": {
             "outlinewidth": 0,
             "ticks": ""
            },
            "colorscale": [
             [
              0,
              "#0d0887"
             ],
             [
              0.1111111111111111,
              "#46039f"
             ],
             [
              0.2222222222222222,
              "#7201a8"
             ],
             [
              0.3333333333333333,
              "#9c179e"
             ],
             [
              0.4444444444444444,
              "#bd3786"
             ],
             [
              0.5555555555555556,
              "#d8576b"
             ],
             [
              0.6666666666666666,
              "#ed7953"
             ],
             [
              0.7777777777777778,
              "#fb9f3a"
             ],
             [
              0.8888888888888888,
              "#fdca26"
             ],
             [
              1,
              "#f0f921"
             ]
            ],
            "type": "heatmap"
           }
          ],
          "heatmapgl": [
           {
            "colorbar": {
             "outlinewidth": 0,
             "ticks": ""
            },
            "colorscale": [
             [
              0,
              "#0d0887"
             ],
             [
              0.1111111111111111,
              "#46039f"
             ],
             [
              0.2222222222222222,
              "#7201a8"
             ],
             [
              0.3333333333333333,
              "#9c179e"
             ],
             [
              0.4444444444444444,
              "#bd3786"
             ],
             [
              0.5555555555555556,
              "#d8576b"
             ],
             [
              0.6666666666666666,
              "#ed7953"
             ],
             [
              0.7777777777777778,
              "#fb9f3a"
             ],
             [
              0.8888888888888888,
              "#fdca26"
             ],
             [
              1,
              "#f0f921"
             ]
            ],
            "type": "heatmapgl"
           }
          ],
          "histogram": [
           {
            "marker": {
             "pattern": {
              "fillmode": "overlay",
              "size": 10,
              "solidity": 0.2
             }
            },
            "type": "histogram"
           }
          ],
          "histogram2d": [
           {
            "colorbar": {
             "outlinewidth": 0,
             "ticks": ""
            },
            "colorscale": [
             [
              0,
              "#0d0887"
             ],
             [
              0.1111111111111111,
              "#46039f"
             ],
             [
              0.2222222222222222,
              "#7201a8"
             ],
             [
              0.3333333333333333,
              "#9c179e"
             ],
             [
              0.4444444444444444,
              "#bd3786"
             ],
             [
              0.5555555555555556,
              "#d8576b"
             ],
             [
              0.6666666666666666,
              "#ed7953"
             ],
             [
              0.7777777777777778,
              "#fb9f3a"
             ],
             [
              0.8888888888888888,
              "#fdca26"
             ],
             [
              1,
              "#f0f921"
             ]
            ],
            "type": "histogram2d"
           }
          ],
          "histogram2dcontour": [
           {
            "colorbar": {
             "outlinewidth": 0,
             "ticks": ""
            },
            "colorscale": [
             [
              0,
              "#0d0887"
             ],
             [
              0.1111111111111111,
              "#46039f"
             ],
             [
              0.2222222222222222,
              "#7201a8"
             ],
             [
              0.3333333333333333,
              "#9c179e"
             ],
             [
              0.4444444444444444,
              "#bd3786"
             ],
             [
              0.5555555555555556,
              "#d8576b"
             ],
             [
              0.6666666666666666,
              "#ed7953"
             ],
             [
              0.7777777777777778,
              "#fb9f3a"
             ],
             [
              0.8888888888888888,
              "#fdca26"
             ],
             [
              1,
              "#f0f921"
             ]
            ],
            "type": "histogram2dcontour"
           }
          ],
          "mesh3d": [
           {
            "colorbar": {
             "outlinewidth": 0,
             "ticks": ""
            },
            "type": "mesh3d"
           }
          ],
          "parcoords": [
           {
            "line": {
             "colorbar": {
              "outlinewidth": 0,
              "ticks": ""
             }
            },
            "type": "parcoords"
           }
          ],
          "pie": [
           {
            "automargin": true,
            "type": "pie"
           }
          ],
          "scatter": [
           {
            "fillpattern": {
             "fillmode": "overlay",
             "size": 10,
             "solidity": 0.2
            },
            "type": "scatter"
           }
          ],
          "scatter3d": [
           {
            "line": {
             "colorbar": {
              "outlinewidth": 0,
              "ticks": ""
             }
            },
            "marker": {
             "colorbar": {
              "outlinewidth": 0,
              "ticks": ""
             }
            },
            "type": "scatter3d"
           }
          ],
          "scattercarpet": [
           {
            "marker": {
             "colorbar": {
              "outlinewidth": 0,
              "ticks": ""
             }
            },
            "type": "scattercarpet"
           }
          ],
          "scattergeo": [
           {
            "marker": {
             "colorbar": {
              "outlinewidth": 0,
              "ticks": ""
             }
            },
            "type": "scattergeo"
           }
          ],
          "scattergl": [
           {
            "marker": {
             "colorbar": {
              "outlinewidth": 0,
              "ticks": ""
             }
            },
            "type": "scattergl"
           }
          ],
          "scattermapbox": [
           {
            "marker": {
             "colorbar": {
              "outlinewidth": 0,
              "ticks": ""
             }
            },
            "type": "scattermapbox"
           }
          ],
          "scatterpolar": [
           {
            "marker": {
             "colorbar": {
              "outlinewidth": 0,
              "ticks": ""
             }
            },
            "type": "scatterpolar"
           }
          ],
          "scatterpolargl": [
           {
            "marker": {
             "colorbar": {
              "outlinewidth": 0,
              "ticks": ""
             }
            },
            "type": "scatterpolargl"
           }
          ],
          "scatterternary": [
           {
            "marker": {
             "colorbar": {
              "outlinewidth": 0,
              "ticks": ""
             }
            },
            "type": "scatterternary"
           }
          ],
          "surface": [
           {
            "colorbar": {
             "outlinewidth": 0,
             "ticks": ""
            },
            "colorscale": [
             [
              0,
              "#0d0887"
             ],
             [
              0.1111111111111111,
              "#46039f"
             ],
             [
              0.2222222222222222,
              "#7201a8"
             ],
             [
              0.3333333333333333,
              "#9c179e"
             ],
             [
              0.4444444444444444,
              "#bd3786"
             ],
             [
              0.5555555555555556,
              "#d8576b"
             ],
             [
              0.6666666666666666,
              "#ed7953"
             ],
             [
              0.7777777777777778,
              "#fb9f3a"
             ],
             [
              0.8888888888888888,
              "#fdca26"
             ],
             [
              1,
              "#f0f921"
             ]
            ],
            "type": "surface"
           }
          ],
          "table": [
           {
            "cells": {
             "fill": {
              "color": "#EBF0F8"
             },
             "line": {
              "color": "white"
             }
            },
            "header": {
             "fill": {
              "color": "#C8D4E3"
             },
             "line": {
              "color": "white"
             }
            },
            "type": "table"
           }
          ]
         },
         "layout": {
          "annotationdefaults": {
           "arrowcolor": "#2a3f5f",
           "arrowhead": 0,
           "arrowwidth": 1
          },
          "autotypenumbers": "strict",
          "coloraxis": {
           "colorbar": {
            "outlinewidth": 0,
            "ticks": ""
           }
          },
          "colorscale": {
           "diverging": [
            [
             0,
             "#8e0152"
            ],
            [
             0.1,
             "#c51b7d"
            ],
            [
             0.2,
             "#de77ae"
            ],
            [
             0.3,
             "#f1b6da"
            ],
            [
             0.4,
             "#fde0ef"
            ],
            [
             0.5,
             "#f7f7f7"
            ],
            [
             0.6,
             "#e6f5d0"
            ],
            [
             0.7,
             "#b8e186"
            ],
            [
             0.8,
             "#7fbc41"
            ],
            [
             0.9,
             "#4d9221"
            ],
            [
             1,
             "#276419"
            ]
           ],
           "sequential": [
            [
             0,
             "#0d0887"
            ],
            [
             0.1111111111111111,
             "#46039f"
            ],
            [
             0.2222222222222222,
             "#7201a8"
            ],
            [
             0.3333333333333333,
             "#9c179e"
            ],
            [
             0.4444444444444444,
             "#bd3786"
            ],
            [
             0.5555555555555556,
             "#d8576b"
            ],
            [
             0.6666666666666666,
             "#ed7953"
            ],
            [
             0.7777777777777778,
             "#fb9f3a"
            ],
            [
             0.8888888888888888,
             "#fdca26"
            ],
            [
             1,
             "#f0f921"
            ]
           ],
           "sequentialminus": [
            [
             0,
             "#0d0887"
            ],
            [
             0.1111111111111111,
             "#46039f"
            ],
            [
             0.2222222222222222,
             "#7201a8"
            ],
            [
             0.3333333333333333,
             "#9c179e"
            ],
            [
             0.4444444444444444,
             "#bd3786"
            ],
            [
             0.5555555555555556,
             "#d8576b"
            ],
            [
             0.6666666666666666,
             "#ed7953"
            ],
            [
             0.7777777777777778,
             "#fb9f3a"
            ],
            [
             0.8888888888888888,
             "#fdca26"
            ],
            [
             1,
             "#f0f921"
            ]
           ]
          },
          "colorway": [
           "#636efa",
           "#EF553B",
           "#00cc96",
           "#ab63fa",
           "#FFA15A",
           "#19d3f3",
           "#FF6692",
           "#B6E880",
           "#FF97FF",
           "#FECB52"
          ],
          "font": {
           "color": "#2a3f5f"
          },
          "geo": {
           "bgcolor": "white",
           "lakecolor": "white",
           "landcolor": "#E5ECF6",
           "showlakes": true,
           "showland": true,
           "subunitcolor": "white"
          },
          "hoverlabel": {
           "align": "left"
          },
          "hovermode": "closest",
          "mapbox": {
           "style": "light"
          },
          "paper_bgcolor": "white",
          "plot_bgcolor": "#E5ECF6",
          "polar": {
           "angularaxis": {
            "gridcolor": "white",
            "linecolor": "white",
            "ticks": ""
           },
           "bgcolor": "#E5ECF6",
           "radialaxis": {
            "gridcolor": "white",
            "linecolor": "white",
            "ticks": ""
           }
          },
          "scene": {
           "xaxis": {
            "backgroundcolor": "#E5ECF6",
            "gridcolor": "white",
            "gridwidth": 2,
            "linecolor": "white",
            "showbackground": true,
            "ticks": "",
            "zerolinecolor": "white"
           },
           "yaxis": {
            "backgroundcolor": "#E5ECF6",
            "gridcolor": "white",
            "gridwidth": 2,
            "linecolor": "white",
            "showbackground": true,
            "ticks": "",
            "zerolinecolor": "white"
           },
           "zaxis": {
            "backgroundcolor": "#E5ECF6",
            "gridcolor": "white",
            "gridwidth": 2,
            "linecolor": "white",
            "showbackground": true,
            "ticks": "",
            "zerolinecolor": "white"
           }
          },
          "shapedefaults": {
           "line": {
            "color": "#2a3f5f"
           }
          },
          "ternary": {
           "aaxis": {
            "gridcolor": "white",
            "linecolor": "white",
            "ticks": ""
           },
           "baxis": {
            "gridcolor": "white",
            "linecolor": "white",
            "ticks": ""
           },
           "bgcolor": "#E5ECF6",
           "caxis": {
            "gridcolor": "white",
            "linecolor": "white",
            "ticks": ""
           }
          },
          "title": {
           "x": 0.05
          },
          "xaxis": {
           "automargin": true,
           "gridcolor": "white",
           "linecolor": "white",
           "ticks": "",
           "title": {
            "standoff": 15
           },
           "zerolinecolor": "white",
           "zerolinewidth": 2
          },
          "yaxis": {
           "automargin": true,
           "gridcolor": "white",
           "linecolor": "white",
           "ticks": "",
           "title": {
            "standoff": 15
           },
           "zerolinecolor": "white",
           "zerolinewidth": 2
          }
         }
        },
        "title": {
         "text": "Coding Language"
        },
        "width": 900,
        "xaxis": {
         "range": [
          0,
          110
         ],
         "title": {
          "text": "% "
         }
        }
       }
      }
     },
     "metadata": {},
     "output_type": "display_data"
    }
   ],
   "source": [
    "i=12\n",
    "\n",
    "tabla = value_count_from_multiple_choice(df_prue, v_v1,i)[-3:]\n",
    "name='Coding Language'\n",
    "color = ['rgb(199,233,192)']*(tabla.shape[0]-3) + ['rgb(0,68,27)']*3\n",
    "fig = go.Figure()\n",
    "fig.add_trace(go.Bar(x=tabla[\"% Users\"],   y=tabla.index,   marker_color=color,name= '',\n",
    "                    text =tabla[\"Yes\"].values,texttemplate = \"%{x}%<br>%{text}\",textposition = \"outside\", orientation='h'))\n",
    "fig.update_traces(textposition='inside', textfont_size=500)\n",
    "fig.update_xaxes(title_text=\"% \")\n",
    "fig.update_layout(barmode='overlay',title_text=name,    height=500, width=900,)\n",
    "fig.add_layout_image(\n",
    "    dict(\n",
    "        source=\"data:image/png;base64,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\",\n",
    "        xref=\"paper\", yref=\"paper\",\n",
    "        x=1, y=0.73,\n",
    "        sizex=0.1, sizey=1,\n",
    "        xanchor=\"right\", yanchor=\"bottom\", sizing= \"contain\",\n",
    "    )\n",
    ")\n",
    "fig.add_layout_image(\n",
    "    dict(\n",
    "        source=\"data:image/png;base64,iVBORw0KGgoAAAANSUhEUgAAAOoAAAB7CAMAAABNcOyaAAAAwFBMVEX///8AcsYmd8e41DJ/ugAAX8Dx+f2Os94XdMcIbsQAbMRcjs6Ytd4AcMUAaMMAasPt8vlNiM0AZcKJvhB3tgCeu+Hl78j4+fx6odat0IXl7Pbm78K00hmeyCG9zui515jJ1uxnl9L7/PW+2FPO4YrF3H6rzird5fM3fcnF3qivx+aHqdrQ3vHy9+fs89zn8NDe6rbV5aLG3Gq51UDE23QAV77R45eUxFWCuzWu0XPT5KnZ6ceRw0ipz3zM4rSgymvTibGkAAAG90lEQVR4nO3ceUObSBgH4EAamRmOYVgRioqQWEEgR03Xutrq9/9WyzGcIYc1K0yW3x+Vgmnz5B2YYYCMRkOGDBlSzXQ6XywvLi4uLy9Xq/iPePFiOZ9Ou35fR810vvz++O1hNluvx1mu6M/1bDb7cfu4WrAPjpHPP2ZXScZbk25ePzwu2QVPL77/WO9ENsDr2e3lout3/QdZ3s7GhzJL73j2sGKrttPn9buZZXm/zbt+/4dnNftTJ8XeMtKOpw/jD0kT7HrVteKQLNYfhabY71079mf6cAxpbL3oWrI3q+NIx+NZ15K9+XYs6lXXkr15Pj7V6JCzGatYWhxLetvyj/chllcsbttZ7+6ur6//qiVecXe3RfpQDprsLkRbc2aWy6t6t5oQY9b5+fmXliSrE/Nd3VwdMalhB6DtOcNlWUfLor9JlV9ajc0kRc61V+PnykA4FD7fsyNnf7tq5a/Ldfx2764PITbA13fxx/RYHQTbuGfUiebWDpTLx59bmuzOnJ8//fNcO7WxAeobldPM+pFy/nL/613a+Jeffr82Bvo24GHvqBzyo8ba6fzla8rdIz5PmW/3G9MQagh6SeWgFnot2xavN7/ffv56SuvWSOx8+vn2dnP/0nJCbtg85PleUjkO+8KW/n6+WL68vN7f39zcfE0TL9zc37++vCzmW6YdbDMuaW+pHNyOfV8MW8ygvaVynKxoru19bNiqRhKPKLTH1KQZY98M2vbag6I6ksjDAtpvatKOISCC8/7aWoHp86Di7D01acgQTzQS2pGn7n95vG9anqO7vIY4vpneU2l1NeSLZqjbjqe219iwIicQQpfwGMlgw8kMNS0vwhjGCN/3ieiagiDpQRDogiSZLiEkXs0DWQatSsaoFJwGIqwkgUlkbjuPZWothxEHatcZqAN1oA7UgdpVBupAHagDdaB2lYE6UAfqQB2oXaWdmk6d/Q+oUFGSS4aypqE6V8YK4n2fR83p7XQeEW58Dn2noomo25HneZETmABWPgENu4ETJRt0F8EKyZfSiE1rv6kycmuXp8TcKkNfr8zyqyFfwICYrZMgS1QIg/pmF+UbhMYVHM+VWabKTWlO3fgI4hghYpiKNm4fy6gyaLuFzjBlZqmyT/dTI9IlPYjUnIrLmlpeeS1SdQGrVETfsxHKmqJhIOpGSsVi/tuOSXwiFrttxCxVoW/NxnJ2NIa+Lyc/82ILEAAeAI7kR+m0CTNJpe1U14ojcmLGJu1lQo12MCBv6R5klKpRqg2royQZ0mNSNCkujkN6a60hcmxSMT0AGyaujpIIvZ/JheUYGNPdVZfZpMokHw8FfomFbrYu4itXy7GerXQAo9Sy+7R0XqOtOH/DAayc2YDc77NJ5aBYjv5UiY71805VQNWTOMrzCKNUDldv+bbM9CQO0VKHuEqlbd2KT2fYpHKKW7mn0pCS8/Mt1OwzsQizVA761eFugPdUld0GnFgnxClbcagUVB3WqNlKj+GqJjsnEp18swplLGWLrUdgh2e4qkmng+Uw72Hj0QQdGXm1fpUelgNGhxCVaPloItCK0VLcmMuqZpsNl1VqZTw4cbLtQTz0p4uqVo6B6WBJ5RltwNgk+RCJ0ygmPsvJh8ajYEIxKD/X0Vk9s1H0kc4nN8bKMlZoqxVwvOvmp6cO4eNtwKcHqqyoJVWDefpPjQmebvoA8q5DtxNYnYVQbSkUirv7DaE2C+FIRQgL1PQOdc/Ke1YvPUtXKvOFlclgm69VtRKzz8/ZlNRqDAKz3kdvealNL12cBNUI6Yy3DKXmDfxGkB+PT4HqucXMS/MCx8gzi0tULFLjczgnf/zCUB1TqUy7cFBzo/LZDH1SXowDoqE24vaeymHNdwVJ1yXJ9DWFqwdpvinQa1TFVYw0pJnedzZp8eijF9WJtHIjhIiO82tW0AwT1N2JDcXYSW8OjjbCOpWX845Hb39m6oSoPMgHFMGeurJP5bFDX+zwO+t6AlRQPIZv+ydO5QExaciusp4CtexeTn1fPTQDtasM1IE6UAfqQO0qA/UUqaP/kto2pdphuLaZleNQFadrXD1Cc7bsiFXt2taI57+jrO+i9m1XHY0C1PaYycepsnjQlxh9anTlYOs7qJB4+//rT4/QOun7MSoi/frG3DwOjw8r7KFUAMP+td4sZy7Ax6MCQJyuRTviuNoBlT2EChDR+1rSLEaChXu0+6kc5PV+fYV3a9SQgN3aPVQZ+KbTteLAqI5AoLZdu4MKIPzI9z12ETXSCYqbMmx7gHULFcgY+aFjMdByNxIJLvEBwgjVK9ykgvQ2JuKGTr8PRLtz5tnpFzJymqYpeXB+DxZCGGPgu6YQ2BHLzCKGoVpebA7orVd6niAWepZ19ilN9l9HlsLW5BxsBwAAAABJRU5ErkJggg==\",\n",
    "        xref=\"paper\", yref=\"paper\",\n",
    "        x=0.85, y=0.4,\n",
    "        sizex=0.2, sizey=1,\n",
    "        xanchor=\"right\", yanchor=\"bottom\", sizing= \"contain\",\n",
    "    )\n",
    ")\n",
    "fig.add_layout_image(\n",
    "    dict(\n",
    "        source=\"data:image/jpeg;base64,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\",\n",
    "\n",
    "        xref=\"paper\", yref=\"paper\",\n",
    "        x=0.45, y=0.09,\n",
    "        sizex=0.1, sizey=1,\n",
    "\n",
    "        xanchor=\"right\", yanchor=\"bottom\", sizing= \"contain\",\n",
    "    )\n",
    ")\n",
    "fig.update_xaxes(range=[0, 110])\n",
    "fig.show()"
   ]
  },
  {
   "cell_type": "markdown",
   "metadata": {},
   "source": [
    "#### **Integrated Development Environments IDE’s**\n",
    "\n",
    "There are several reasons why a data scientist might use **Jupyter Notebook** more than Visual Studio Code and JupyterLab.\n",
    "\n",
    "* Interactive user interface: Jupyter Notebook has an interactive user interface that allows data scientists to run code, visualize data, and explore models interactively.\n",
    "* Integrated documentation: Jupyter Notebook allows data scientists to easily document their work, which is important for reproducibility.\n",
    "* Easy collaboration: Jupyter Notebook allows data scientists to easily share their work with others, which is important for teamwork and collaboration.\n",
    "\n",
    "**Visual Studio Code** is a general-purpose code editor that is suitable for a wide range of tasks, including data science. However, Visual Studio Code is not as well suited for data science as Jupyter Notebook because it does not have an interactive user interface or integrated documentation.\n",
    "\n",
    "**JupyterLab** is an extension to Jupyter Notebook that offers a more advanced user interface. However, JupyterLab is not as suitable for data science as Jupyter Notebook because it is not as easy to use and does not have as many collaboration features.\n",
    "\n",
    "Overall, Jupyter Notebook is a good choice for data scientists because it is a natural collaboration, exploration, and documentation tool."
   ]
  },
  {
   "cell_type": "code",
   "execution_count": 45,
   "metadata": {},
   "outputs": [
    {
     "data": {
      "application/vnd.plotly.v1+json": {
       "config": {
        "plotlyServerURL": "https://plot.ly"
       },
       "data": [
        {
         "marker": {
          "color": [
           "rgb(0,68,27)",
           "rgb(0,68,27)",
           "rgb(0,68,27)"
          ]
         },
         "name": "",
         "orientation": "h",
         "text": [
          225,
          268,
          416
         ],
         "textfont": {
          "size": 500
         },
         "textposition": "inside",
         "texttemplate": "%{x}%<br>%{text}",
         "type": "bar",
         "x": [
          41.06,
          48.91,
          75.91
         ],
         "y": [
          "JupyterLab",
          "Visual Studio Code (VSCode)",
          "Jupyter Notebook"
         ]
        }
       ],
       "layout": {
        "barmode": "overlay",
        "height": 500,
        "images": [
         {
          "sizex": 0.1,
          "sizey": 1,
          "sizing": "contain",
          "source": "https://avatars.githubusercontent.com/u/22800682?s=280&v=4",
          "x": 1,
          "xanchor": "right",
          "xref": "paper",
          "y": 0.73,
          "yanchor": "bottom",
          "yref": "paper"
         },
         {
          "sizex": 0.1,
          "sizey": 1,
          "sizing": "contain",
          "source": "data:image/jpeg;base64,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",
          "x": 0.7,
          "xanchor": "right",
          "xref": "paper",
          "y": 0.43,
          "yanchor": "bottom",
          "yref": "paper"
         },
         {
          "sizex": 0.1,
          "sizey": 1,
          "sizing": "contain",
          "source": "https://avatars.githubusercontent.com/u/22800682?s=280&v=4",
          "x": 0.6,
          "xanchor": "right",
          "xref": "paper",
          "y": 0.09,
          "yanchor": "bottom",
          "yref": "paper"
         }
        ],
        "template": {
         "data": {
          "bar": [
           {
            "error_x": {
             "color": "#2a3f5f"
            },
            "error_y": {
             "color": "#2a3f5f"
            },
            "marker": {
             "line": {
              "color": "#E5ECF6",
              "width": 0.5
             },
             "pattern": {
              "fillmode": "overlay",
              "size": 10,
              "solidity": 0.2
             }
            },
            "type": "bar"
           }
          ],
          "barpolar": [
           {
            "marker": {
             "line": {
              "color": "#E5ECF6",
              "width": 0.5
             },
             "pattern": {
              "fillmode": "overlay",
              "size": 10,
              "solidity": 0.2
             }
            },
            "type": "barpolar"
           }
          ],
          "carpet": [
           {
            "aaxis": {
             "endlinecolor": "#2a3f5f",
             "gridcolor": "white",
             "linecolor": "white",
             "minorgridcolor": "white",
             "startlinecolor": "#2a3f5f"
            },
            "baxis": {
             "endlinecolor": "#2a3f5f",
             "gridcolor": "white",
             "linecolor": "white",
             "minorgridcolor": "white",
             "startlinecolor": "#2a3f5f"
            },
            "type": "carpet"
           }
          ],
          "choropleth": [
           {
            "colorbar": {
             "outlinewidth": 0,
             "ticks": ""
            },
            "type": "choropleth"
           }
          ],
          "contour": [
           {
            "colorbar": {
             "outlinewidth": 0,
             "ticks": ""
            },
            "colorscale": [
             [
              0,
              "#0d0887"
             ],
             [
              0.1111111111111111,
              "#46039f"
             ],
             [
              0.2222222222222222,
              "#7201a8"
             ],
             [
              0.3333333333333333,
              "#9c179e"
             ],
             [
              0.4444444444444444,
              "#bd3786"
             ],
             [
              0.5555555555555556,
              "#d8576b"
             ],
             [
              0.6666666666666666,
              "#ed7953"
             ],
             [
              0.7777777777777778,
              "#fb9f3a"
             ],
             [
              0.8888888888888888,
              "#fdca26"
             ],
             [
              1,
              "#f0f921"
             ]
            ],
            "type": "contour"
           }
          ],
          "contourcarpet": [
           {
            "colorbar": {
             "outlinewidth": 0,
             "ticks": ""
            },
            "type": "contourcarpet"
           }
          ],
          "heatmap": [
           {
            "colorbar": {
             "outlinewidth": 0,
             "ticks": ""
            },
            "colorscale": [
             [
              0,
              "#0d0887"
             ],
             [
              0.1111111111111111,
              "#46039f"
             ],
             [
              0.2222222222222222,
              "#7201a8"
             ],
             [
              0.3333333333333333,
              "#9c179e"
             ],
             [
              0.4444444444444444,
              "#bd3786"
             ],
             [
              0.5555555555555556,
              "#d8576b"
             ],
             [
              0.6666666666666666,
              "#ed7953"
             ],
             [
              0.7777777777777778,
              "#fb9f3a"
             ],
             [
              0.8888888888888888,
              "#fdca26"
             ],
             [
              1,
              "#f0f921"
             ]
            ],
            "type": "heatmap"
           }
          ],
          "heatmapgl": [
           {
            "colorbar": {
             "outlinewidth": 0,
             "ticks": ""
            },
            "colorscale": [
             [
              0,
              "#0d0887"
             ],
             [
              0.1111111111111111,
              "#46039f"
             ],
             [
              0.2222222222222222,
              "#7201a8"
             ],
             [
              0.3333333333333333,
              "#9c179e"
             ],
             [
              0.4444444444444444,
              "#bd3786"
             ],
             [
              0.5555555555555556,
              "#d8576b"
             ],
             [
              0.6666666666666666,
              "#ed7953"
             ],
             [
              0.7777777777777778,
              "#fb9f3a"
             ],
             [
              0.8888888888888888,
              "#fdca26"
             ],
             [
              1,
              "#f0f921"
             ]
            ],
            "type": "heatmapgl"
           }
          ],
          "histogram": [
           {
            "marker": {
             "pattern": {
              "fillmode": "overlay",
              "size": 10,
              "solidity": 0.2
             }
            },
            "type": "histogram"
           }
          ],
          "histogram2d": [
           {
            "colorbar": {
             "outlinewidth": 0,
             "ticks": ""
            },
            "colorscale": [
             [
              0,
              "#0d0887"
             ],
             [
              0.1111111111111111,
              "#46039f"
             ],
             [
              0.2222222222222222,
              "#7201a8"
             ],
             [
              0.3333333333333333,
              "#9c179e"
             ],
             [
              0.4444444444444444,
              "#bd3786"
             ],
             [
              0.5555555555555556,
              "#d8576b"
             ],
             [
              0.6666666666666666,
              "#ed7953"
             ],
             [
              0.7777777777777778,
              "#fb9f3a"
             ],
             [
              0.8888888888888888,
              "#fdca26"
             ],
             [
              1,
              "#f0f921"
             ]
            ],
            "type": "histogram2d"
           }
          ],
          "histogram2dcontour": [
           {
            "colorbar": {
             "outlinewidth": 0,
             "ticks": ""
            },
            "colorscale": [
             [
              0,
              "#0d0887"
             ],
             [
              0.1111111111111111,
              "#46039f"
             ],
             [
              0.2222222222222222,
              "#7201a8"
             ],
             [
              0.3333333333333333,
              "#9c179e"
             ],
             [
              0.4444444444444444,
              "#bd3786"
             ],
             [
              0.5555555555555556,
              "#d8576b"
             ],
             [
              0.6666666666666666,
              "#ed7953"
             ],
             [
              0.7777777777777778,
              "#fb9f3a"
             ],
             [
              0.8888888888888888,
              "#fdca26"
             ],
             [
              1,
              "#f0f921"
             ]
            ],
            "type": "histogram2dcontour"
           }
          ],
          "mesh3d": [
           {
            "colorbar": {
             "outlinewidth": 0,
             "ticks": ""
            },
            "type": "mesh3d"
           }
          ],
          "parcoords": [
           {
            "line": {
             "colorbar": {
              "outlinewidth": 0,
              "ticks": ""
             }
            },
            "type": "parcoords"
           }
          ],
          "pie": [
           {
            "automargin": true,
            "type": "pie"
           }
          ],
          "scatter": [
           {
            "fillpattern": {
             "fillmode": "overlay",
             "size": 10,
             "solidity": 0.2
            },
            "type": "scatter"
           }
          ],
          "scatter3d": [
           {
            "line": {
             "colorbar": {
              "outlinewidth": 0,
              "ticks": ""
             }
            },
            "marker": {
             "colorbar": {
              "outlinewidth": 0,
              "ticks": ""
             }
            },
            "type": "scatter3d"
           }
          ],
          "scattercarpet": [
           {
            "marker": {
             "colorbar": {
              "outlinewidth": 0,
              "ticks": ""
             }
            },
            "type": "scattercarpet"
           }
          ],
          "scattergeo": [
           {
            "marker": {
             "colorbar": {
              "outlinewidth": 0,
              "ticks": ""
             }
            },
            "type": "scattergeo"
           }
          ],
          "scattergl": [
           {
            "marker": {
             "colorbar": {
              "outlinewidth": 0,
              "ticks": ""
             }
            },
            "type": "scattergl"
           }
          ],
          "scattermapbox": [
           {
            "marker": {
             "colorbar": {
              "outlinewidth": 0,
              "ticks": ""
             }
            },
            "type": "scattermapbox"
           }
          ],
          "scatterpolar": [
           {
            "marker": {
             "colorbar": {
              "outlinewidth": 0,
              "ticks": ""
             }
            },
            "type": "scatterpolar"
           }
          ],
          "scatterpolargl": [
           {
            "marker": {
             "colorbar": {
              "outlinewidth": 0,
              "ticks": ""
             }
            },
            "type": "scatterpolargl"
           }
          ],
          "scatterternary": [
           {
            "marker": {
             "colorbar": {
              "outlinewidth": 0,
              "ticks": ""
             }
            },
            "type": "scatterternary"
           }
          ],
          "surface": [
           {
            "colorbar": {
             "outlinewidth": 0,
             "ticks": ""
            },
            "colorscale": [
             [
              0,
              "#0d0887"
             ],
             [
              0.1111111111111111,
              "#46039f"
             ],
             [
              0.2222222222222222,
              "#7201a8"
             ],
             [
              0.3333333333333333,
              "#9c179e"
             ],
             [
              0.4444444444444444,
              "#bd3786"
             ],
             [
              0.5555555555555556,
              "#d8576b"
             ],
             [
              0.6666666666666666,
              "#ed7953"
             ],
             [
              0.7777777777777778,
              "#fb9f3a"
             ],
             [
              0.8888888888888888,
              "#fdca26"
             ],
             [
              1,
              "#f0f921"
             ]
            ],
            "type": "surface"
           }
          ],
          "table": [
           {
            "cells": {
             "fill": {
              "color": "#EBF0F8"
             },
             "line": {
              "color": "white"
             }
            },
            "header": {
             "fill": {
              "color": "#C8D4E3"
             },
             "line": {
              "color": "white"
             }
            },
            "type": "table"
           }
          ]
         },
         "layout": {
          "annotationdefaults": {
           "arrowcolor": "#2a3f5f",
           "arrowhead": 0,
           "arrowwidth": 1
          },
          "autotypenumbers": "strict",
          "coloraxis": {
           "colorbar": {
            "outlinewidth": 0,
            "ticks": ""
           }
          },
          "colorscale": {
           "diverging": [
            [
             0,
             "#8e0152"
            ],
            [
             0.1,
             "#c51b7d"
            ],
            [
             0.2,
             "#de77ae"
            ],
            [
             0.3,
             "#f1b6da"
            ],
            [
             0.4,
             "#fde0ef"
            ],
            [
             0.5,
             "#f7f7f7"
            ],
            [
             0.6,
             "#e6f5d0"
            ],
            [
             0.7,
             "#b8e186"
            ],
            [
             0.8,
             "#7fbc41"
            ],
            [
             0.9,
             "#4d9221"
            ],
            [
             1,
             "#276419"
            ]
           ],
           "sequential": [
            [
             0,
             "#0d0887"
            ],
            [
             0.1111111111111111,
             "#46039f"
            ],
            [
             0.2222222222222222,
             "#7201a8"
            ],
            [
             0.3333333333333333,
             "#9c179e"
            ],
            [
             0.4444444444444444,
             "#bd3786"
            ],
            [
             0.5555555555555556,
             "#d8576b"
            ],
            [
             0.6666666666666666,
             "#ed7953"
            ],
            [
             0.7777777777777778,
             "#fb9f3a"
            ],
            [
             0.8888888888888888,
             "#fdca26"
            ],
            [
             1,
             "#f0f921"
            ]
           ],
           "sequentialminus": [
            [
             0,
             "#0d0887"
            ],
            [
             0.1111111111111111,
             "#46039f"
            ],
            [
             0.2222222222222222,
             "#7201a8"
            ],
            [
             0.3333333333333333,
             "#9c179e"
            ],
            [
             0.4444444444444444,
             "#bd3786"
            ],
            [
             0.5555555555555556,
             "#d8576b"
            ],
            [
             0.6666666666666666,
             "#ed7953"
            ],
            [
             0.7777777777777778,
             "#fb9f3a"
            ],
            [
             0.8888888888888888,
             "#fdca26"
            ],
            [
             1,
             "#f0f921"
            ]
           ]
          },
          "colorway": [
           "#636efa",
           "#EF553B",
           "#00cc96",
           "#ab63fa",
           "#FFA15A",
           "#19d3f3",
           "#FF6692",
           "#B6E880",
           "#FF97FF",
           "#FECB52"
          ],
          "font": {
           "color": "#2a3f5f"
          },
          "geo": {
           "bgcolor": "white",
           "lakecolor": "white",
           "landcolor": "#E5ECF6",
           "showlakes": true,
           "showland": true,
           "subunitcolor": "white"
          },
          "hoverlabel": {
           "align": "left"
          },
          "hovermode": "closest",
          "mapbox": {
           "style": "light"
          },
          "paper_bgcolor": "white",
          "plot_bgcolor": "#E5ECF6",
          "polar": {
           "angularaxis": {
            "gridcolor": "white",
            "linecolor": "white",
            "ticks": ""
           },
           "bgcolor": "#E5ECF6",
           "radialaxis": {
            "gridcolor": "white",
            "linecolor": "white",
            "ticks": ""
           }
          },
          "scene": {
           "xaxis": {
            "backgroundcolor": "#E5ECF6",
            "gridcolor": "white",
            "gridwidth": 2,
            "linecolor": "white",
            "showbackground": true,
            "ticks": "",
            "zerolinecolor": "white"
           },
           "yaxis": {
            "backgroundcolor": "#E5ECF6",
            "gridcolor": "white",
            "gridwidth": 2,
            "linecolor": "white",
            "showbackground": true,
            "ticks": "",
            "zerolinecolor": "white"
           },
           "zaxis": {
            "backgroundcolor": "#E5ECF6",
            "gridcolor": "white",
            "gridwidth": 2,
            "linecolor": "white",
            "showbackground": true,
            "ticks": "",
            "zerolinecolor": "white"
           }
          },
          "shapedefaults": {
           "line": {
            "color": "#2a3f5f"
           }
          },
          "ternary": {
           "aaxis": {
            "gridcolor": "white",
            "linecolor": "white",
            "ticks": ""
           },
           "baxis": {
            "gridcolor": "white",
            "linecolor": "white",
            "ticks": ""
           },
           "bgcolor": "#E5ECF6",
           "caxis": {
            "gridcolor": "white",
            "linecolor": "white",
            "ticks": ""
           }
          },
          "title": {
           "x": 0.05
          },
          "xaxis": {
           "automargin": true,
           "gridcolor": "white",
           "linecolor": "white",
           "ticks": "",
           "title": {
            "standoff": 15
           },
           "zerolinecolor": "white",
           "zerolinewidth": 2
          },
          "yaxis": {
           "automargin": true,
           "gridcolor": "white",
           "linecolor": "white",
           "ticks": "",
           "title": {
            "standoff": 15
           },
           "zerolinecolor": "white",
           "zerolinewidth": 2
          }
         }
        },
        "title": {
         "text": "Integrated Development Environments IDE’s"
        },
        "width": 900,
        "xaxis": {
         "range": [
          0,
          88
         ],
         "title": {
          "text": "% "
         }
        }
       }
      }
     },
     "metadata": {},
     "output_type": "display_data"
    }
   ],
   "source": [
    "i=13\n",
    "\n",
    "tabla = value_count_from_multiple_choice(df_prue, v_v1,i)[-3:]\n",
    "name='Integrated Development Environments IDE’s'\n",
    "color = ['rgb(199,233,192)']*(tabla.shape[0]-3) + ['rgb(0,68,27)']*3\n",
    "fig = go.Figure()\n",
    "fig.add_trace(go.Bar(x=tabla[\"% Users\"],   y=tabla.index,   marker_color=color,name= '',\n",
    "                    text =tabla[\"Yes\"].values,texttemplate = \"%{x}%<br>%{text}\",textposition = \"outside\", orientation='h'))\n",
    "                    \n",
    "fig.update_traces(textposition='inside', textfont_size=500)\n",
    "fig.update_xaxes(title_text=\"% \")\n",
    "fig.update_layout(barmode='overlay',title_text=name,xaxis_range=[0, 88],    height=500, width=900,)\n",
    "fig.add_layout_image(\n",
    "    dict(\n",
    "        source=\"https://avatars.githubusercontent.com/u/22800682?s=280&v=4\",\n",
    "        xref=\"paper\", yref=\"paper\",\n",
    "        x=1, y=0.73,\n",
    "        sizex=0.1, sizey=1,\n",
    "        xanchor=\"right\", yanchor=\"bottom\", sizing= \"contain\",\n",
    "    )\n",
    ")\n",
    "fig.add_layout_image(\n",
    "    dict(\n",
    "        source=\"data:image/jpeg;base64,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\",\n",
    "        xref=\"paper\", yref=\"paper\",\n",
    "        x=0.7, y=0.43,\n",
    "        sizex=0.1, sizey=1,\n",
    "        xanchor=\"right\", yanchor=\"bottom\", sizing= \"contain\",\n",
    "    )\n",
    ")\n",
    "fig.add_layout_image(\n",
    "    dict(\n",
    "        source=\"https://avatars.githubusercontent.com/u/22800682?s=280&v=4\",\n",
    "        xref=\"paper\", yref=\"paper\",\n",
    "        x=0.6, y=0.09,\n",
    "        sizex=0.1, sizey=1,\n",
    "        xanchor=\"right\", yanchor=\"bottom\", sizing= \"contain\",\n",
    "    )\n",
    ")\n",
    "\n",
    "fig.show()"
   ]
  },
  {
   "cell_type": "markdown",
   "metadata": {},
   "source": [
    "#### **Data Visualisation Packages**\n",
    "\n",
    "This order may be due to the fact that:\n",
    "\n",
    "* **Matplotlib** is a good choice for data scientists who need complete control over the appearance of their graphs and allows for a wide variety of graphs. \n",
    "* **Seaborn** is a good choice for data scientists looking for an easy way to create statistical plots. \n",
    "* **Plotly** is a good choice for data scientists who need to create interactive plots and is built on top of Matplotlib.\n"
   ]
  },
  {
   "cell_type": "code",
   "execution_count": 46,
   "metadata": {},
   "outputs": [
    {
     "data": {
      "application/vnd.plotly.v1+json": {
       "config": {
        "plotlyServerURL": "https://plot.ly"
       },
       "data": [
        {
         "marker": {
          "color": [
           "rgb(0,68,27)",
           "rgb(0,68,27)",
           "rgb(0,68,27)"
          ]
         },
         "name": "",
         "orientation": "h",
         "text": [
          271,
          396,
          450
         ],
         "textfont": {
          "size": 500
         },
         "textposition": "inside",
         "texttemplate": "%{x}%<br>%{text}",
         "type": "bar",
         "x": [
          49.45,
          72.26,
          82.12
         ],
         "y": [
          "Plotly / Plotly Express",
          "Seaborn",
          "Matplotlib"
         ]
        }
       ],
       "layout": {
        "barmode": "overlay",
        "height": 500,
        "images": [
         {
          "sizex": 0.1,
          "sizey": 1,
          "sizing": "contain",
          "source": "https://upload.wikimedia.org/wikipedia/commons/8/84/Matplotlib_icon.svg",
          "x": 0.99,
          "xanchor": "right",
          "y": 0.73,
          "yanchor": "bottom"
         },
         {
          "sizex": 0.1,
          "sizey": 1,
          "sizing": "contain",
          "source": "https://seaborn.pydata.org/_images/logo-mark-lightbg.svg",
          "x": 0.89,
          "xanchor": "right",
          "xref": "paper",
          "y": 0.4,
          "yanchor": "bottom",
          "yref": "paper"
         },
         {
          "sizex": 0.4,
          "sizey": 1,
          "sizing": "contain",
          "source": "https://upload.wikimedia.org/wikipedia/commons/8/8a/Plotly-logo.png",
          "x": 0.9,
          "xanchor": "right",
          "xref": "paper",
          "y": 0.03,
          "yanchor": "bottom",
          "yref": "paper"
         }
        ],
        "template": {
         "data": {
          "bar": [
           {
            "error_x": {
             "color": "#2a3f5f"
            },
            "error_y": {
             "color": "#2a3f5f"
            },
            "marker": {
             "line": {
              "color": "#E5ECF6",
              "width": 0.5
             },
             "pattern": {
              "fillmode": "overlay",
              "size": 10,
              "solidity": 0.2
             }
            },
            "type": "bar"
           }
          ],
          "barpolar": [
           {
            "marker": {
             "line": {
              "color": "#E5ECF6",
              "width": 0.5
             },
             "pattern": {
              "fillmode": "overlay",
              "size": 10,
              "solidity": 0.2
             }
            },
            "type": "barpolar"
           }
          ],
          "carpet": [
           {
            "aaxis": {
             "endlinecolor": "#2a3f5f",
             "gridcolor": "white",
             "linecolor": "white",
             "minorgridcolor": "white",
             "startlinecolor": "#2a3f5f"
            },
            "baxis": {
             "endlinecolor": "#2a3f5f",
             "gridcolor": "white",
             "linecolor": "white",
             "minorgridcolor": "white",
             "startlinecolor": "#2a3f5f"
            },
            "type": "carpet"
           }
          ],
          "choropleth": [
           {
            "colorbar": {
             "outlinewidth": 0,
             "ticks": ""
            },
            "type": "choropleth"
           }
          ],
          "contour": [
           {
            "colorbar": {
             "outlinewidth": 0,
             "ticks": ""
            },
            "colorscale": [
             [
              0,
              "#0d0887"
             ],
             [
              0.1111111111111111,
              "#46039f"
             ],
             [
              0.2222222222222222,
              "#7201a8"
             ],
             [
              0.3333333333333333,
              "#9c179e"
             ],
             [
              0.4444444444444444,
              "#bd3786"
             ],
             [
              0.5555555555555556,
              "#d8576b"
             ],
             [
              0.6666666666666666,
              "#ed7953"
             ],
             [
              0.7777777777777778,
              "#fb9f3a"
             ],
             [
              0.8888888888888888,
              "#fdca26"
             ],
             [
              1,
              "#f0f921"
             ]
            ],
            "type": "contour"
           }
          ],
          "contourcarpet": [
           {
            "colorbar": {
             "outlinewidth": 0,
             "ticks": ""
            },
            "type": "contourcarpet"
           }
          ],
          "heatmap": [
           {
            "colorbar": {
             "outlinewidth": 0,
             "ticks": ""
            },
            "colorscale": [
             [
              0,
              "#0d0887"
             ],
             [
              0.1111111111111111,
              "#46039f"
             ],
             [
              0.2222222222222222,
              "#7201a8"
             ],
             [
              0.3333333333333333,
              "#9c179e"
             ],
             [
              0.4444444444444444,
              "#bd3786"
             ],
             [
              0.5555555555555556,
              "#d8576b"
             ],
             [
              0.6666666666666666,
              "#ed7953"
             ],
             [
              0.7777777777777778,
              "#fb9f3a"
             ],
             [
              0.8888888888888888,
              "#fdca26"
             ],
             [
              1,
              "#f0f921"
             ]
            ],
            "type": "heatmap"
           }
          ],
          "heatmapgl": [
           {
            "colorbar": {
             "outlinewidth": 0,
             "ticks": ""
            },
            "colorscale": [
             [
              0,
              "#0d0887"
             ],
             [
              0.1111111111111111,
              "#46039f"
             ],
             [
              0.2222222222222222,
              "#7201a8"
             ],
             [
              0.3333333333333333,
              "#9c179e"
             ],
             [
              0.4444444444444444,
              "#bd3786"
             ],
             [
              0.5555555555555556,
              "#d8576b"
             ],
             [
              0.6666666666666666,
              "#ed7953"
             ],
             [
              0.7777777777777778,
              "#fb9f3a"
             ],
             [
              0.8888888888888888,
              "#fdca26"
             ],
             [
              1,
              "#f0f921"
             ]
            ],
            "type": "heatmapgl"
           }
          ],
          "histogram": [
           {
            "marker": {
             "pattern": {
              "fillmode": "overlay",
              "size": 10,
              "solidity": 0.2
             }
            },
            "type": "histogram"
           }
          ],
          "histogram2d": [
           {
            "colorbar": {
             "outlinewidth": 0,
             "ticks": ""
            },
            "colorscale": [
             [
              0,
              "#0d0887"
             ],
             [
              0.1111111111111111,
              "#46039f"
             ],
             [
              0.2222222222222222,
              "#7201a8"
             ],
             [
              0.3333333333333333,
              "#9c179e"
             ],
             [
              0.4444444444444444,
              "#bd3786"
             ],
             [
              0.5555555555555556,
              "#d8576b"
             ],
             [
              0.6666666666666666,
              "#ed7953"
             ],
             [
              0.7777777777777778,
              "#fb9f3a"
             ],
             [
              0.8888888888888888,
              "#fdca26"
             ],
             [
              1,
              "#f0f921"
             ]
            ],
            "type": "histogram2d"
           }
          ],
          "histogram2dcontour": [
           {
            "colorbar": {
             "outlinewidth": 0,
             "ticks": ""
            },
            "colorscale": [
             [
              0,
              "#0d0887"
             ],
             [
              0.1111111111111111,
              "#46039f"
             ],
             [
              0.2222222222222222,
              "#7201a8"
             ],
             [
              0.3333333333333333,
              "#9c179e"
             ],
             [
              0.4444444444444444,
              "#bd3786"
             ],
             [
              0.5555555555555556,
              "#d8576b"
             ],
             [
              0.6666666666666666,
              "#ed7953"
             ],
             [
              0.7777777777777778,
              "#fb9f3a"
             ],
             [
              0.8888888888888888,
              "#fdca26"
             ],
             [
              1,
              "#f0f921"
             ]
            ],
            "type": "histogram2dcontour"
           }
          ],
          "mesh3d": [
           {
            "colorbar": {
             "outlinewidth": 0,
             "ticks": ""
            },
            "type": "mesh3d"
           }
          ],
          "parcoords": [
           {
            "line": {
             "colorbar": {
              "outlinewidth": 0,
              "ticks": ""
             }
            },
            "type": "parcoords"
           }
          ],
          "pie": [
           {
            "automargin": true,
            "type": "pie"
           }
          ],
          "scatter": [
           {
            "fillpattern": {
             "fillmode": "overlay",
             "size": 10,
             "solidity": 0.2
            },
            "type": "scatter"
           }
          ],
          "scatter3d": [
           {
            "line": {
             "colorbar": {
              "outlinewidth": 0,
              "ticks": ""
             }
            },
            "marker": {
             "colorbar": {
              "outlinewidth": 0,
              "ticks": ""
             }
            },
            "type": "scatter3d"
           }
          ],
          "scattercarpet": [
           {
            "marker": {
             "colorbar": {
              "outlinewidth": 0,
              "ticks": ""
             }
            },
            "type": "scattercarpet"
           }
          ],
          "scattergeo": [
           {
            "marker": {
             "colorbar": {
              "outlinewidth": 0,
              "ticks": ""
             }
            },
            "type": "scattergeo"
           }
          ],
          "scattergl": [
           {
            "marker": {
             "colorbar": {
              "outlinewidth": 0,
              "ticks": ""
             }
            },
            "type": "scattergl"
           }
          ],
          "scattermapbox": [
           {
            "marker": {
             "colorbar": {
              "outlinewidth": 0,
              "ticks": ""
             }
            },
            "type": "scattermapbox"
           }
          ],
          "scatterpolar": [
           {
            "marker": {
             "colorbar": {
              "outlinewidth": 0,
              "ticks": ""
             }
            },
            "type": "scatterpolar"
           }
          ],
          "scatterpolargl": [
           {
            "marker": {
             "colorbar": {
              "outlinewidth": 0,
              "ticks": ""
             }
            },
            "type": "scatterpolargl"
           }
          ],
          "scatterternary": [
           {
            "marker": {
             "colorbar": {
              "outlinewidth": 0,
              "ticks": ""
             }
            },
            "type": "scatterternary"
           }
          ],
          "surface": [
           {
            "colorbar": {
             "outlinewidth": 0,
             "ticks": ""
            },
            "colorscale": [
             [
              0,
              "#0d0887"
             ],
             [
              0.1111111111111111,
              "#46039f"
             ],
             [
              0.2222222222222222,
              "#7201a8"
             ],
             [
              0.3333333333333333,
              "#9c179e"
             ],
             [
              0.4444444444444444,
              "#bd3786"
             ],
             [
              0.5555555555555556,
              "#d8576b"
             ],
             [
              0.6666666666666666,
              "#ed7953"
             ],
             [
              0.7777777777777778,
              "#fb9f3a"
             ],
             [
              0.8888888888888888,
              "#fdca26"
             ],
             [
              1,
              "#f0f921"
             ]
            ],
            "type": "surface"
           }
          ],
          "table": [
           {
            "cells": {
             "fill": {
              "color": "#EBF0F8"
             },
             "line": {
              "color": "white"
             }
            },
            "header": {
             "fill": {
              "color": "#C8D4E3"
             },
             "line": {
              "color": "white"
             }
            },
            "type": "table"
           }
          ]
         },
         "layout": {
          "annotationdefaults": {
           "arrowcolor": "#2a3f5f",
           "arrowhead": 0,
           "arrowwidth": 1
          },
          "autotypenumbers": "strict",
          "coloraxis": {
           "colorbar": {
            "outlinewidth": 0,
            "ticks": ""
           }
          },
          "colorscale": {
           "diverging": [
            [
             0,
             "#8e0152"
            ],
            [
             0.1,
             "#c51b7d"
            ],
            [
             0.2,
             "#de77ae"
            ],
            [
             0.3,
             "#f1b6da"
            ],
            [
             0.4,
             "#fde0ef"
            ],
            [
             0.5,
             "#f7f7f7"
            ],
            [
             0.6,
             "#e6f5d0"
            ],
            [
             0.7,
             "#b8e186"
            ],
            [
             0.8,
             "#7fbc41"
            ],
            [
             0.9,
             "#4d9221"
            ],
            [
             1,
             "#276419"
            ]
           ],
           "sequential": [
            [
             0,
             "#0d0887"
            ],
            [
             0.1111111111111111,
             "#46039f"
            ],
            [
             0.2222222222222222,
             "#7201a8"
            ],
            [
             0.3333333333333333,
             "#9c179e"
            ],
            [
             0.4444444444444444,
             "#bd3786"
            ],
            [
             0.5555555555555556,
             "#d8576b"
            ],
            [
             0.6666666666666666,
             "#ed7953"
            ],
            [
             0.7777777777777778,
             "#fb9f3a"
            ],
            [
             0.8888888888888888,
             "#fdca26"
            ],
            [
             1,
             "#f0f921"
            ]
           ],
           "sequentialminus": [
            [
             0,
             "#0d0887"
            ],
            [
             0.1111111111111111,
             "#46039f"
            ],
            [
             0.2222222222222222,
             "#7201a8"
            ],
            [
             0.3333333333333333,
             "#9c179e"
            ],
            [
             0.4444444444444444,
             "#bd3786"
            ],
            [
             0.5555555555555556,
             "#d8576b"
            ],
            [
             0.6666666666666666,
             "#ed7953"
            ],
            [
             0.7777777777777778,
             "#fb9f3a"
            ],
            [
             0.8888888888888888,
             "#fdca26"
            ],
            [
             1,
             "#f0f921"
            ]
           ]
          },
          "colorway": [
           "#636efa",
           "#EF553B",
           "#00cc96",
           "#ab63fa",
           "#FFA15A",
           "#19d3f3",
           "#FF6692",
           "#B6E880",
           "#FF97FF",
           "#FECB52"
          ],
          "font": {
           "color": "#2a3f5f"
          },
          "geo": {
           "bgcolor": "white",
           "lakecolor": "white",
           "landcolor": "#E5ECF6",
           "showlakes": true,
           "showland": true,
           "subunitcolor": "white"
          },
          "hoverlabel": {
           "align": "left"
          },
          "hovermode": "closest",
          "mapbox": {
           "style": "light"
          },
          "paper_bgcolor": "white",
          "plot_bgcolor": "#E5ECF6",
          "polar": {
           "angularaxis": {
            "gridcolor": "white",
            "linecolor": "white",
            "ticks": ""
           },
           "bgcolor": "#E5ECF6",
           "radialaxis": {
            "gridcolor": "white",
            "linecolor": "white",
            "ticks": ""
           }
          },
          "scene": {
           "xaxis": {
            "backgroundcolor": "#E5ECF6",
            "gridcolor": "white",
            "gridwidth": 2,
            "linecolor": "white",
            "showbackground": true,
            "ticks": "",
            "zerolinecolor": "white"
           },
           "yaxis": {
            "backgroundcolor": "#E5ECF6",
            "gridcolor": "white",
            "gridwidth": 2,
            "linecolor": "white",
            "showbackground": true,
            "ticks": "",
            "zerolinecolor": "white"
           },
           "zaxis": {
            "backgroundcolor": "#E5ECF6",
            "gridcolor": "white",
            "gridwidth": 2,
            "linecolor": "white",
            "showbackground": true,
            "ticks": "",
            "zerolinecolor": "white"
           }
          },
          "shapedefaults": {
           "line": {
            "color": "#2a3f5f"
           }
          },
          "ternary": {
           "aaxis": {
            "gridcolor": "white",
            "linecolor": "white",
            "ticks": ""
           },
           "baxis": {
            "gridcolor": "white",
            "linecolor": "white",
            "ticks": ""
           },
           "bgcolor": "#E5ECF6",
           "caxis": {
            "gridcolor": "white",
            "linecolor": "white",
            "ticks": ""
           }
          },
          "title": {
           "x": 0.05
          },
          "xaxis": {
           "automargin": true,
           "gridcolor": "white",
           "linecolor": "white",
           "ticks": "",
           "title": {
            "standoff": 15
           },
           "zerolinecolor": "white",
           "zerolinewidth": 2
          },
          "yaxis": {
           "automargin": true,
           "gridcolor": "white",
           "linecolor": "white",
           "ticks": "",
           "title": {
            "standoff": 15
           },
           "zerolinecolor": "white",
           "zerolinewidth": 2
          }
         }
        },
        "title": {
         "text": "Data Visualisation Packages"
        },
        "width": 900,
        "xaxis": {
         "range": [
          0,
          95
         ],
         "title": {
          "text": "% "
         }
        }
       }
      }
     },
     "metadata": {},
     "output_type": "display_data"
    }
   ],
   "source": [
    "i=15\n",
    "\n",
    "tabla = value_count_from_multiple_choice(df_prue, v_v1,i)[-3:]\n",
    "name='Data Visualisation Packages'\n",
    "color = ['rgb(199,233,192)']*(tabla.shape[0]-3) + ['rgb(0,68,27)']*3\n",
    "fig = go.Figure()\n",
    "fig.add_trace(go.Bar(x=tabla[\"% Users\"],   y=tabla.index,   marker_color=color,name= '',\n",
    "                    text =tabla[\"Yes\"].values,texttemplate = \"%{x}%<br>%{text}\",textposition = \"outside\", orientation='h'))\n",
    "fig.update_traces(textposition='inside', textfont_size=500)\n",
    "fig.update_xaxes(title_text=\"% \")\n",
    "fig.update_layout(barmode='overlay',title_text=name,xaxis_range=[0, 95],    height=500, width=900,)\n",
    "\n",
    "fig.add_layout_image(\n",
    "    dict(\n",
    "        source=\"https://upload.wikimedia.org/wikipedia/commons/8/84/Matplotlib_icon.svg\",\n",
    "        # xref=\"paper\", yref=\"paper\",\n",
    "        x=0.99, y=0.73,\n",
    "        sizex=0.1, sizey=1,\n",
    "        xanchor=\"right\", yanchor=\"bottom\", sizing= \"contain\",\n",
    "    )\n",
    ")\n",
    "fig.add_layout_image(\n",
    "    dict(\n",
    "        source=\"https://seaborn.pydata.org/_images/logo-mark-lightbg.svg\",\n",
    "        xref=\"paper\", yref=\"paper\",\n",
    "        x=0.89, y=0.4,\n",
    "        sizex=0.1, sizey=1,\n",
    "        xanchor=\"right\", yanchor=\"bottom\", sizing= \"contain\",\n",
    "    )\n",
    ")\n",
    "\n",
    "fig.add_layout_image(\n",
    "    dict(\n",
    "        source=\"https://upload.wikimedia.org/wikipedia/commons/8/8a/Plotly-logo.png\",\n",
    "        xref=\"paper\", yref=\"paper\",\n",
    "        x=0.9, y=0.03,\n",
    "        sizex=0.4, sizey=1,\n",
    "        xanchor=\"right\", yanchor=\"bottom\", sizing= \"contain\",\n",
    "    )\n",
    ")\n",
    "fig.show()"
   ]
  },
  {
   "cell_type": "markdown",
   "metadata": {},
   "source": [
    "#### **Cloud computing  platforms**\n",
    "\n",
    "Some specific factors that may influence the decision to use a particular cloud platform:\n",
    "\n",
    "* **AWS:** AWS is the most mature cloud platform and has the broadest range of services available. It is a good choice for companies that need a cloud platform that can handle complex workloads and has a broad feature set.\n",
    "* **GCP:** GCP is a relatively new cloud platform, but it has grown rapidly in popularity. It is a good choice for companies looking for a cloud platform that is affordable and easy to use. GCP also has a strong focus on innovation and offers a number of cutting-edge services.\n",
    "* **Azure:** Azure is a cloud platform that offers a wide range of services, including integration with Microsoft enterprise systems. It is a good option for companies already using other Microsoft products or services."
   ]
  },
  {
   "cell_type": "code",
   "execution_count": 47,
   "metadata": {},
   "outputs": [
    {
     "data": {
      "application/vnd.plotly.v1+json": {
       "config": {
        "plotlyServerURL": "https://plot.ly"
       },
       "data": [
        {
         "marker": {
          "color": [
           "rgb(0,68,27)",
           "rgb(0,68,27)",
           "rgb(0,68,27)"
          ]
         },
         "name": "",
         "orientation": "h",
         "text": [
          138,
          180,
          248
         ],
         "textfont": {
          "size": 500
         },
         "textposition": "inside",
         "texttemplate": "%{x}%<br>%{text}",
         "type": "bar",
         "x": [
          25.18,
          32.85,
          45.26
         ],
         "y": [
          "Microsoft Azure",
          "Google Cloud Platform (GCP)",
          "Amazon Web Services (AWS)"
         ]
        }
       ],
       "layout": {
        "barmode": "overlay",
        "height": 500,
        "images": [
         {
          "sizex": 0.1,
          "sizey": 1,
          "sizing": "contain",
          "source": "https://upload.wikimedia.org/wikipedia/commons/9/93/Amazon_Web_Services_Logo.svg",
          "x": 0.99,
          "xanchor": "right",
          "y": 0.73,
          "yanchor": "bottom"
         },
         {
          "sizex": 0.3,
          "sizey": 1,
          "sizing": "contain",
          "source": "https://upload.wikimedia.org/wikipedia/commons/5/51/Google_Cloud_logo.svg",
          "x": 0.95,
          "xanchor": "right",
          "xref": "paper",
          "y": 0.45,
          "yanchor": "bottom",
          "yref": "paper"
         },
         {
          "sizex": 0.2,
          "sizey": 1,
          "sizing": "contain",
          "source": "https://upload.wikimedia.org/wikipedia/commons/a/a8/Microsoft_Azure_Logo.svg",
          "x": 0.7,
          "xanchor": "right",
          "xref": "paper",
          "y": 0.1,
          "yanchor": "bottom",
          "yref": "paper"
         }
        ],
        "template": {
         "data": {
          "bar": [
           {
            "error_x": {
             "color": "#2a3f5f"
            },
            "error_y": {
             "color": "#2a3f5f"
            },
            "marker": {
             "line": {
              "color": "#E5ECF6",
              "width": 0.5
             },
             "pattern": {
              "fillmode": "overlay",
              "size": 10,
              "solidity": 0.2
             }
            },
            "type": "bar"
           }
          ],
          "barpolar": [
           {
            "marker": {
             "line": {
              "color": "#E5ECF6",
              "width": 0.5
             },
             "pattern": {
              "fillmode": "overlay",
              "size": 10,
              "solidity": 0.2
             }
            },
            "type": "barpolar"
           }
          ],
          "carpet": [
           {
            "aaxis": {
             "endlinecolor": "#2a3f5f",
             "gridcolor": "white",
             "linecolor": "white",
             "minorgridcolor": "white",
             "startlinecolor": "#2a3f5f"
            },
            "baxis": {
             "endlinecolor": "#2a3f5f",
             "gridcolor": "white",
             "linecolor": "white",
             "minorgridcolor": "white",
             "startlinecolor": "#2a3f5f"
            },
            "type": "carpet"
           }
          ],
          "choropleth": [
           {
            "colorbar": {
             "outlinewidth": 0,
             "ticks": ""
            },
            "type": "choropleth"
           }
          ],
          "contour": [
           {
            "colorbar": {
             "outlinewidth": 0,
             "ticks": ""
            },
            "colorscale": [
             [
              0,
              "#0d0887"
             ],
             [
              0.1111111111111111,
              "#46039f"
             ],
             [
              0.2222222222222222,
              "#7201a8"
             ],
             [
              0.3333333333333333,
              "#9c179e"
             ],
             [
              0.4444444444444444,
              "#bd3786"
             ],
             [
              0.5555555555555556,
              "#d8576b"
             ],
             [
              0.6666666666666666,
              "#ed7953"
             ],
             [
              0.7777777777777778,
              "#fb9f3a"
             ],
             [
              0.8888888888888888,
              "#fdca26"
             ],
             [
              1,
              "#f0f921"
             ]
            ],
            "type": "contour"
           }
          ],
          "contourcarpet": [
           {
            "colorbar": {
             "outlinewidth": 0,
             "ticks": ""
            },
            "type": "contourcarpet"
           }
          ],
          "heatmap": [
           {
            "colorbar": {
             "outlinewidth": 0,
             "ticks": ""
            },
            "colorscale": [
             [
              0,
              "#0d0887"
             ],
             [
              0.1111111111111111,
              "#46039f"
             ],
             [
              0.2222222222222222,
              "#7201a8"
             ],
             [
              0.3333333333333333,
              "#9c179e"
             ],
             [
              0.4444444444444444,
              "#bd3786"
             ],
             [
              0.5555555555555556,
              "#d8576b"
             ],
             [
              0.6666666666666666,
              "#ed7953"
             ],
             [
              0.7777777777777778,
              "#fb9f3a"
             ],
             [
              0.8888888888888888,
              "#fdca26"
             ],
             [
              1,
              "#f0f921"
             ]
            ],
            "type": "heatmap"
           }
          ],
          "heatmapgl": [
           {
            "colorbar": {
             "outlinewidth": 0,
             "ticks": ""
            },
            "colorscale": [
             [
              0,
              "#0d0887"
             ],
             [
              0.1111111111111111,
              "#46039f"
             ],
             [
              0.2222222222222222,
              "#7201a8"
             ],
             [
              0.3333333333333333,
              "#9c179e"
             ],
             [
              0.4444444444444444,
              "#bd3786"
             ],
             [
              0.5555555555555556,
              "#d8576b"
             ],
             [
              0.6666666666666666,
              "#ed7953"
             ],
             [
              0.7777777777777778,
              "#fb9f3a"
             ],
             [
              0.8888888888888888,
              "#fdca26"
             ],
             [
              1,
              "#f0f921"
             ]
            ],
            "type": "heatmapgl"
           }
          ],
          "histogram": [
           {
            "marker": {
             "pattern": {
              "fillmode": "overlay",
              "size": 10,
              "solidity": 0.2
             }
            },
            "type": "histogram"
           }
          ],
          "histogram2d": [
           {
            "colorbar": {
             "outlinewidth": 0,
             "ticks": ""
            },
            "colorscale": [
             [
              0,
              "#0d0887"
             ],
             [
              0.1111111111111111,
              "#46039f"
             ],
             [
              0.2222222222222222,
              "#7201a8"
             ],
             [
              0.3333333333333333,
              "#9c179e"
             ],
             [
              0.4444444444444444,
              "#bd3786"
             ],
             [
              0.5555555555555556,
              "#d8576b"
             ],
             [
              0.6666666666666666,
              "#ed7953"
             ],
             [
              0.7777777777777778,
              "#fb9f3a"
             ],
             [
              0.8888888888888888,
              "#fdca26"
             ],
             [
              1,
              "#f0f921"
             ]
            ],
            "type": "histogram2d"
           }
          ],
          "histogram2dcontour": [
           {
            "colorbar": {
             "outlinewidth": 0,
             "ticks": ""
            },
            "colorscale": [
             [
              0,
              "#0d0887"
             ],
             [
              0.1111111111111111,
              "#46039f"
             ],
             [
              0.2222222222222222,
              "#7201a8"
             ],
             [
              0.3333333333333333,
              "#9c179e"
             ],
             [
              0.4444444444444444,
              "#bd3786"
             ],
             [
              0.5555555555555556,
              "#d8576b"
             ],
             [
              0.6666666666666666,
              "#ed7953"
             ],
             [
              0.7777777777777778,
              "#fb9f3a"
             ],
             [
              0.8888888888888888,
              "#fdca26"
             ],
             [
              1,
              "#f0f921"
             ]
            ],
            "type": "histogram2dcontour"
           }
          ],
          "mesh3d": [
           {
            "colorbar": {
             "outlinewidth": 0,
             "ticks": ""
            },
            "type": "mesh3d"
           }
          ],
          "parcoords": [
           {
            "line": {
             "colorbar": {
              "outlinewidth": 0,
              "ticks": ""
             }
            },
            "type": "parcoords"
           }
          ],
          "pie": [
           {
            "automargin": true,
            "type": "pie"
           }
          ],
          "scatter": [
           {
            "fillpattern": {
             "fillmode": "overlay",
             "size": 10,
             "solidity": 0.2
            },
            "type": "scatter"
           }
          ],
          "scatter3d": [
           {
            "line": {
             "colorbar": {
              "outlinewidth": 0,
              "ticks": ""
             }
            },
            "marker": {
             "colorbar": {
              "outlinewidth": 0,
              "ticks": ""
             }
            },
            "type": "scatter3d"
           }
          ],
          "scattercarpet": [
           {
            "marker": {
             "colorbar": {
              "outlinewidth": 0,
              "ticks": ""
             }
            },
            "type": "scattercarpet"
           }
          ],
          "scattergeo": [
           {
            "marker": {
             "colorbar": {
              "outlinewidth": 0,
              "ticks": ""
             }
            },
            "type": "scattergeo"
           }
          ],
          "scattergl": [
           {
            "marker": {
             "colorbar": {
              "outlinewidth": 0,
              "ticks": ""
             }
            },
            "type": "scattergl"
           }
          ],
          "scattermapbox": [
           {
            "marker": {
             "colorbar": {
              "outlinewidth": 0,
              "ticks": ""
             }
            },
            "type": "scattermapbox"
           }
          ],
          "scatterpolar": [
           {
            "marker": {
             "colorbar": {
              "outlinewidth": 0,
              "ticks": ""
             }
            },
            "type": "scatterpolar"
           }
          ],
          "scatterpolargl": [
           {
            "marker": {
             "colorbar": {
              "outlinewidth": 0,
              "ticks": ""
             }
            },
            "type": "scatterpolargl"
           }
          ],
          "scatterternary": [
           {
            "marker": {
             "colorbar": {
              "outlinewidth": 0,
              "ticks": ""
             }
            },
            "type": "scatterternary"
           }
          ],
          "surface": [
           {
            "colorbar": {
             "outlinewidth": 0,
             "ticks": ""
            },
            "colorscale": [
             [
              0,
              "#0d0887"
             ],
             [
              0.1111111111111111,
              "#46039f"
             ],
             [
              0.2222222222222222,
              "#7201a8"
             ],
             [
              0.3333333333333333,
              "#9c179e"
             ],
             [
              0.4444444444444444,
              "#bd3786"
             ],
             [
              0.5555555555555556,
              "#d8576b"
             ],
             [
              0.6666666666666666,
              "#ed7953"
             ],
             [
              0.7777777777777778,
              "#fb9f3a"
             ],
             [
              0.8888888888888888,
              "#fdca26"
             ],
             [
              1,
              "#f0f921"
             ]
            ],
            "type": "surface"
           }
          ],
          "table": [
           {
            "cells": {
             "fill": {
              "color": "#EBF0F8"
             },
             "line": {
              "color": "white"
             }
            },
            "header": {
             "fill": {
              "color": "#C8D4E3"
             },
             "line": {
              "color": "white"
             }
            },
            "type": "table"
           }
          ]
         },
         "layout": {
          "annotationdefaults": {
           "arrowcolor": "#2a3f5f",
           "arrowhead": 0,
           "arrowwidth": 1
          },
          "autotypenumbers": "strict",
          "coloraxis": {
           "colorbar": {
            "outlinewidth": 0,
            "ticks": ""
           }
          },
          "colorscale": {
           "diverging": [
            [
             0,
             "#8e0152"
            ],
            [
             0.1,
             "#c51b7d"
            ],
            [
             0.2,
             "#de77ae"
            ],
            [
             0.3,
             "#f1b6da"
            ],
            [
             0.4,
             "#fde0ef"
            ],
            [
             0.5,
             "#f7f7f7"
            ],
            [
             0.6,
             "#e6f5d0"
            ],
            [
             0.7,
             "#b8e186"
            ],
            [
             0.8,
             "#7fbc41"
            ],
            [
             0.9,
             "#4d9221"
            ],
            [
             1,
             "#276419"
            ]
           ],
           "sequential": [
            [
             0,
             "#0d0887"
            ],
            [
             0.1111111111111111,
             "#46039f"
            ],
            [
             0.2222222222222222,
             "#7201a8"
            ],
            [
             0.3333333333333333,
             "#9c179e"
            ],
            [
             0.4444444444444444,
             "#bd3786"
            ],
            [
             0.5555555555555556,
             "#d8576b"
            ],
            [
             0.6666666666666666,
             "#ed7953"
            ],
            [
             0.7777777777777778,
             "#fb9f3a"
            ],
            [
             0.8888888888888888,
             "#fdca26"
            ],
            [
             1,
             "#f0f921"
            ]
           ],
           "sequentialminus": [
            [
             0,
             "#0d0887"
            ],
            [
             0.1111111111111111,
             "#46039f"
            ],
            [
             0.2222222222222222,
             "#7201a8"
            ],
            [
             0.3333333333333333,
             "#9c179e"
            ],
            [
             0.4444444444444444,
             "#bd3786"
            ],
            [
             0.5555555555555556,
             "#d8576b"
            ],
            [
             0.6666666666666666,
             "#ed7953"
            ],
            [
             0.7777777777777778,
             "#fb9f3a"
            ],
            [
             0.8888888888888888,
             "#fdca26"
            ],
            [
             1,
             "#f0f921"
            ]
           ]
          },
          "colorway": [
           "#636efa",
           "#EF553B",
           "#00cc96",
           "#ab63fa",
           "#FFA15A",
           "#19d3f3",
           "#FF6692",
           "#B6E880",
           "#FF97FF",
           "#FECB52"
          ],
          "font": {
           "color": "#2a3f5f"
          },
          "geo": {
           "bgcolor": "white",
           "lakecolor": "white",
           "landcolor": "#E5ECF6",
           "showlakes": true,
           "showland": true,
           "subunitcolor": "white"
          },
          "hoverlabel": {
           "align": "left"
          },
          "hovermode": "closest",
          "mapbox": {
           "style": "light"
          },
          "paper_bgcolor": "white",
          "plot_bgcolor": "#E5ECF6",
          "polar": {
           "angularaxis": {
            "gridcolor": "white",
            "linecolor": "white",
            "ticks": ""
           },
           "bgcolor": "#E5ECF6",
           "radialaxis": {
            "gridcolor": "white",
            "linecolor": "white",
            "ticks": ""
           }
          },
          "scene": {
           "xaxis": {
            "backgroundcolor": "#E5ECF6",
            "gridcolor": "white",
            "gridwidth": 2,
            "linecolor": "white",
            "showbackground": true,
            "ticks": "",
            "zerolinecolor": "white"
           },
           "yaxis": {
            "backgroundcolor": "#E5ECF6",
            "gridcolor": "white",
            "gridwidth": 2,
            "linecolor": "white",
            "showbackground": true,
            "ticks": "",
            "zerolinecolor": "white"
           },
           "zaxis": {
            "backgroundcolor": "#E5ECF6",
            "gridcolor": "white",
            "gridwidth": 2,
            "linecolor": "white",
            "showbackground": true,
            "ticks": "",
            "zerolinecolor": "white"
           }
          },
          "shapedefaults": {
           "line": {
            "color": "#2a3f5f"
           }
          },
          "ternary": {
           "aaxis": {
            "gridcolor": "white",
            "linecolor": "white",
            "ticks": ""
           },
           "baxis": {
            "gridcolor": "white",
            "linecolor": "white",
            "ticks": ""
           },
           "bgcolor": "#E5ECF6",
           "caxis": {
            "gridcolor": "white",
            "linecolor": "white",
            "ticks": ""
           }
          },
          "title": {
           "x": 0.05
          },
          "xaxis": {
           "automargin": true,
           "gridcolor": "white",
           "linecolor": "white",
           "ticks": "",
           "title": {
            "standoff": 15
           },
           "zerolinecolor": "white",
           "zerolinewidth": 2
          },
          "yaxis": {
           "automargin": true,
           "gridcolor": "white",
           "linecolor": "white",
           "ticks": "",
           "title": {
            "standoff": 15
           },
           "zerolinecolor": "white",
           "zerolinewidth": 2
          }
         }
        },
        "title": {
         "text": "Cloud computing  platforms "
        },
        "width": 900,
        "xaxis": {
         "range": [
          0,
          53
         ],
         "title": {
          "text": "% "
         }
        }
       }
      }
     },
     "metadata": {},
     "output_type": "display_data"
    }
   ],
   "source": [
    "i=31\n",
    "\n",
    "tabla = value_count_from_multiple_choice(df_prue, v_v1,i)[-3:]\n",
    "name='Cloud computing  platforms '\n",
    "color = ['rgb(199,233,192)']*(tabla.shape[0]-3) + ['rgb(0,68,27)']*3\n",
    "fig = go.Figure()\n",
    "fig.add_trace(go.Bar(x=tabla[\"% Users\"],   y=tabla.index,   marker_color=color,name= '',\n",
    "                    text =tabla[\"Yes\"].values,texttemplate = \"%{x}%<br>%{text}\",textposition = \"outside\", orientation='h'))\n",
    "fig.update_traces(textposition='inside', textfont_size=500)\n",
    "fig.update_xaxes(title_text=\"% \")\n",
    "fig.update_layout(barmode='overlay',title_text=name,xaxis_range=[0, 53],    height=500, width=900,)\n",
    "\n",
    "fig.add_layout_image(\n",
    "    dict(\n",
    "        source=\"https://upload.wikimedia.org/wikipedia/commons/9/93/Amazon_Web_Services_Logo.svg\",\n",
    "        # xref=\"paper\", yref=\"paper\",\n",
    "        x=0.99, y=0.73,\n",
    "        sizex=0.1, sizey=1,\n",
    "        xanchor=\"right\", yanchor=\"bottom\", sizing= \"contain\",\n",
    "    )\n",
    ")\n",
    "fig.add_layout_image(\n",
    "    dict(\n",
    "        source=\"https://upload.wikimedia.org/wikipedia/commons/5/51/Google_Cloud_logo.svg\",\n",
    "        xref=\"paper\", yref=\"paper\",\n",
    "        x=0.95, y=0.45,\n",
    "        sizex=0.3, sizey=1,\n",
    "        xanchor=\"right\", yanchor=\"bottom\", sizing= \"contain\",\n",
    "    )\n",
    ")\n",
    "\n",
    "fig.add_layout_image(\n",
    "    dict(\n",
    "        source=\"https://upload.wikimedia.org/wikipedia/commons/a/a8/Microsoft_Azure_Logo.svg\",\n",
    "        xref=\"paper\", yref=\"paper\",\n",
    "        x=0.7, y=0.1,\n",
    "        sizex=0.2, sizey=1,\n",
    "        xanchor=\"right\", yanchor=\"bottom\", sizing= \"contain\",\n",
    "    )\n",
    ")\n",
    "\n",
    "fig.show()"
   ]
  },
  {
   "cell_type": "markdown",
   "metadata": {},
   "source": [
    "#### **Databases**\n",
    "\n",
    "* **MySQL** is free, open source and easy to learn. Scalable, which means it can grow as business needs require.\n",
    "* **PostgreSQL** is an open source relational database that offers a wide range of functions and features. It is a good choice for companies that need a powerful and flexible database. However, PostgreSQL can be more complex to learn and use than MySQL.\n",
    "* **Microsoft SQL Server** is a proprietary relational database that offers a wide range of functions and features. It is a good choice for companies that need a Microsoft-compatible database. However, Microsoft SQL Server has a licensing cost, which can be a deterrent for companies on a limited budget."
   ]
  },
  {
   "cell_type": "code",
   "execution_count": 48,
   "metadata": {},
   "outputs": [
    {
     "data": {
      "application/vnd.plotly.v1+json": {
       "config": {
        "plotlyServerURL": "https://plot.ly"
       },
       "data": [
        {
         "marker": {
          "color": [
           "rgb(0,68,27)",
           "rgb(0,68,27)",
           "rgb(0,68,27)"
          ]
         },
         "name": "",
         "orientation": "h",
         "text": [
          101,
          137,
          150
         ],
         "textangle": 0,
         "textfont": {
          "size": 500
         },
         "textposition": "inside",
         "texttemplate": "%{x}%<br>%{text}",
         "type": "bar",
         "x": [
          18.43,
          25,
          27.37
         ],
         "y": [
          "Microsoft SQL Server",
          "PostgreSQL",
          "MySQL"
         ]
        }
       ],
       "layout": {
        "barmode": "overlay",
        "height": 500,
        "images": [
         {
          "sizex": 0.1,
          "sizey": 1,
          "sizing": "contain",
          "source": "https://upload.wikimedia.org/wikipedia/commons/0/0a/MySQL_textlogo.svg",
          "x": 0.98,
          "xanchor": "right",
          "xref": "paper",
          "y": 0.8,
          "yanchor": "bottom",
          "yref": "paper"
         },
         {
          "sizex": 0.07,
          "sizey": 1,
          "sizing": "contain",
          "source": "https://upload.wikimedia.org/wikipedia/commons/2/29/Postgresql_elephant.svg",
          "x": 0.9,
          "xanchor": "right",
          "xref": "paper",
          "y": 0.42,
          "yanchor": "bottom",
          "yref": "paper"
         },
         {
          "sizex": 0.2,
          "sizey": 1,
          "sizing": "contain",
          "source": "https://upload.wikimedia.org/wikipedia/commons/9/99/Logo_M_SQL_Server.png",
          "x": 0.8,
          "xanchor": "right",
          "xref": "paper",
          "y": 0.1,
          "yanchor": "bottom",
          "yref": "paper"
         }
        ],
        "template": {
         "data": {
          "bar": [
           {
            "error_x": {
             "color": "#2a3f5f"
            },
            "error_y": {
             "color": "#2a3f5f"
            },
            "marker": {
             "line": {
              "color": "#E5ECF6",
              "width": 0.5
             },
             "pattern": {
              "fillmode": "overlay",
              "size": 10,
              "solidity": 0.2
             }
            },
            "type": "bar"
           }
          ],
          "barpolar": [
           {
            "marker": {
             "line": {
              "color": "#E5ECF6",
              "width": 0.5
             },
             "pattern": {
              "fillmode": "overlay",
              "size": 10,
              "solidity": 0.2
             }
            },
            "type": "barpolar"
           }
          ],
          "carpet": [
           {
            "aaxis": {
             "endlinecolor": "#2a3f5f",
             "gridcolor": "white",
             "linecolor": "white",
             "minorgridcolor": "white",
             "startlinecolor": "#2a3f5f"
            },
            "baxis": {
             "endlinecolor": "#2a3f5f",
             "gridcolor": "white",
             "linecolor": "white",
             "minorgridcolor": "white",
             "startlinecolor": "#2a3f5f"
            },
            "type": "carpet"
           }
          ],
          "choropleth": [
           {
            "colorbar": {
             "outlinewidth": 0,
             "ticks": ""
            },
            "type": "choropleth"
           }
          ],
          "contour": [
           {
            "colorbar": {
             "outlinewidth": 0,
             "ticks": ""
            },
            "colorscale": [
             [
              0,
              "#0d0887"
             ],
             [
              0.1111111111111111,
              "#46039f"
             ],
             [
              0.2222222222222222,
              "#7201a8"
             ],
             [
              0.3333333333333333,
              "#9c179e"
             ],
             [
              0.4444444444444444,
              "#bd3786"
             ],
             [
              0.5555555555555556,
              "#d8576b"
             ],
             [
              0.6666666666666666,
              "#ed7953"
             ],
             [
              0.7777777777777778,
              "#fb9f3a"
             ],
             [
              0.8888888888888888,
              "#fdca26"
             ],
             [
              1,
              "#f0f921"
             ]
            ],
            "type": "contour"
           }
          ],
          "contourcarpet": [
           {
            "colorbar": {
             "outlinewidth": 0,
             "ticks": ""
            },
            "type": "contourcarpet"
           }
          ],
          "heatmap": [
           {
            "colorbar": {
             "outlinewidth": 0,
             "ticks": ""
            },
            "colorscale": [
             [
              0,
              "#0d0887"
             ],
             [
              0.1111111111111111,
              "#46039f"
             ],
             [
              0.2222222222222222,
              "#7201a8"
             ],
             [
              0.3333333333333333,
              "#9c179e"
             ],
             [
              0.4444444444444444,
              "#bd3786"
             ],
             [
              0.5555555555555556,
              "#d8576b"
             ],
             [
              0.6666666666666666,
              "#ed7953"
             ],
             [
              0.7777777777777778,
              "#fb9f3a"
             ],
             [
              0.8888888888888888,
              "#fdca26"
             ],
             [
              1,
              "#f0f921"
             ]
            ],
            "type": "heatmap"
           }
          ],
          "heatmapgl": [
           {
            "colorbar": {
             "outlinewidth": 0,
             "ticks": ""
            },
            "colorscale": [
             [
              0,
              "#0d0887"
             ],
             [
              0.1111111111111111,
              "#46039f"
             ],
             [
              0.2222222222222222,
              "#7201a8"
             ],
             [
              0.3333333333333333,
              "#9c179e"
             ],
             [
              0.4444444444444444,
              "#bd3786"
             ],
             [
              0.5555555555555556,
              "#d8576b"
             ],
             [
              0.6666666666666666,
              "#ed7953"
             ],
             [
              0.7777777777777778,
              "#fb9f3a"
             ],
             [
              0.8888888888888888,
              "#fdca26"
             ],
             [
              1,
              "#f0f921"
             ]
            ],
            "type": "heatmapgl"
           }
          ],
          "histogram": [
           {
            "marker": {
             "pattern": {
              "fillmode": "overlay",
              "size": 10,
              "solidity": 0.2
             }
            },
            "type": "histogram"
           }
          ],
          "histogram2d": [
           {
            "colorbar": {
             "outlinewidth": 0,
             "ticks": ""
            },
            "colorscale": [
             [
              0,
              "#0d0887"
             ],
             [
              0.1111111111111111,
              "#46039f"
             ],
             [
              0.2222222222222222,
              "#7201a8"
             ],
             [
              0.3333333333333333,
              "#9c179e"
             ],
             [
              0.4444444444444444,
              "#bd3786"
             ],
             [
              0.5555555555555556,
              "#d8576b"
             ],
             [
              0.6666666666666666,
              "#ed7953"
             ],
             [
              0.7777777777777778,
              "#fb9f3a"
             ],
             [
              0.8888888888888888,
              "#fdca26"
             ],
             [
              1,
              "#f0f921"
             ]
            ],
            "type": "histogram2d"
           }
          ],
          "histogram2dcontour": [
           {
            "colorbar": {
             "outlinewidth": 0,
             "ticks": ""
            },
            "colorscale": [
             [
              0,
              "#0d0887"
             ],
             [
              0.1111111111111111,
              "#46039f"
             ],
             [
              0.2222222222222222,
              "#7201a8"
             ],
             [
              0.3333333333333333,
              "#9c179e"
             ],
             [
              0.4444444444444444,
              "#bd3786"
             ],
             [
              0.5555555555555556,
              "#d8576b"
             ],
             [
              0.6666666666666666,
              "#ed7953"
             ],
             [
              0.7777777777777778,
              "#fb9f3a"
             ],
             [
              0.8888888888888888,
              "#fdca26"
             ],
             [
              1,
              "#f0f921"
             ]
            ],
            "type": "histogram2dcontour"
           }
          ],
          "mesh3d": [
           {
            "colorbar": {
             "outlinewidth": 0,
             "ticks": ""
            },
            "type": "mesh3d"
           }
          ],
          "parcoords": [
           {
            "line": {
             "colorbar": {
              "outlinewidth": 0,
              "ticks": ""
             }
            },
            "type": "parcoords"
           }
          ],
          "pie": [
           {
            "automargin": true,
            "type": "pie"
           }
          ],
          "scatter": [
           {
            "fillpattern": {
             "fillmode": "overlay",
             "size": 10,
             "solidity": 0.2
            },
            "type": "scatter"
           }
          ],
          "scatter3d": [
           {
            "line": {
             "colorbar": {
              "outlinewidth": 0,
              "ticks": ""
             }
            },
            "marker": {
             "colorbar": {
              "outlinewidth": 0,
              "ticks": ""
             }
            },
            "type": "scatter3d"
           }
          ],
          "scattercarpet": [
           {
            "marker": {
             "colorbar": {
              "outlinewidth": 0,
              "ticks": ""
             }
            },
            "type": "scattercarpet"
           }
          ],
          "scattergeo": [
           {
            "marker": {
             "colorbar": {
              "outlinewidth": 0,
              "ticks": ""
             }
            },
            "type": "scattergeo"
           }
          ],
          "scattergl": [
           {
            "marker": {
             "colorbar": {
              "outlinewidth": 0,
              "ticks": ""
             }
            },
            "type": "scattergl"
           }
          ],
          "scattermapbox": [
           {
            "marker": {
             "colorbar": {
              "outlinewidth": 0,
              "ticks": ""
             }
            },
            "type": "scattermapbox"
           }
          ],
          "scatterpolar": [
           {
            "marker": {
             "colorbar": {
              "outlinewidth": 0,
              "ticks": ""
             }
            },
            "type": "scatterpolar"
           }
          ],
          "scatterpolargl": [
           {
            "marker": {
             "colorbar": {
              "outlinewidth": 0,
              "ticks": ""
             }
            },
            "type": "scatterpolargl"
           }
          ],
          "scatterternary": [
           {
            "marker": {
             "colorbar": {
              "outlinewidth": 0,
              "ticks": ""
             }
            },
            "type": "scatterternary"
           }
          ],
          "surface": [
           {
            "colorbar": {
             "outlinewidth": 0,
             "ticks": ""
            },
            "colorscale": [
             [
              0,
              "#0d0887"
             ],
             [
              0.1111111111111111,
              "#46039f"
             ],
             [
              0.2222222222222222,
              "#7201a8"
             ],
             [
              0.3333333333333333,
              "#9c179e"
             ],
             [
              0.4444444444444444,
              "#bd3786"
             ],
             [
              0.5555555555555556,
              "#d8576b"
             ],
             [
              0.6666666666666666,
              "#ed7953"
             ],
             [
              0.7777777777777778,
              "#fb9f3a"
             ],
             [
              0.8888888888888888,
              "#fdca26"
             ],
             [
              1,
              "#f0f921"
             ]
            ],
            "type": "surface"
           }
          ],
          "table": [
           {
            "cells": {
             "fill": {
              "color": "#EBF0F8"
             },
             "line": {
              "color": "white"
             }
            },
            "header": {
             "fill": {
              "color": "#C8D4E3"
             },
             "line": {
              "color": "white"
             }
            },
            "type": "table"
           }
          ]
         },
         "layout": {
          "annotationdefaults": {
           "arrowcolor": "#2a3f5f",
           "arrowhead": 0,
           "arrowwidth": 1
          },
          "autotypenumbers": "strict",
          "coloraxis": {
           "colorbar": {
            "outlinewidth": 0,
            "ticks": ""
           }
          },
          "colorscale": {
           "diverging": [
            [
             0,
             "#8e0152"
            ],
            [
             0.1,
             "#c51b7d"
            ],
            [
             0.2,
             "#de77ae"
            ],
            [
             0.3,
             "#f1b6da"
            ],
            [
             0.4,
             "#fde0ef"
            ],
            [
             0.5,
             "#f7f7f7"
            ],
            [
             0.6,
             "#e6f5d0"
            ],
            [
             0.7,
             "#b8e186"
            ],
            [
             0.8,
             "#7fbc41"
            ],
            [
             0.9,
             "#4d9221"
            ],
            [
             1,
             "#276419"
            ]
           ],
           "sequential": [
            [
             0,
             "#0d0887"
            ],
            [
             0.1111111111111111,
             "#46039f"
            ],
            [
             0.2222222222222222,
             "#7201a8"
            ],
            [
             0.3333333333333333,
             "#9c179e"
            ],
            [
             0.4444444444444444,
             "#bd3786"
            ],
            [
             0.5555555555555556,
             "#d8576b"
            ],
            [
             0.6666666666666666,
             "#ed7953"
            ],
            [
             0.7777777777777778,
             "#fb9f3a"
            ],
            [
             0.8888888888888888,
             "#fdca26"
            ],
            [
             1,
             "#f0f921"
            ]
           ],
           "sequentialminus": [
            [
             0,
             "#0d0887"
            ],
            [
             0.1111111111111111,
             "#46039f"
            ],
            [
             0.2222222222222222,
             "#7201a8"
            ],
            [
             0.3333333333333333,
             "#9c179e"
            ],
            [
             0.4444444444444444,
             "#bd3786"
            ],
            [
             0.5555555555555556,
             "#d8576b"
            ],
            [
             0.6666666666666666,
             "#ed7953"
            ],
            [
             0.7777777777777778,
             "#fb9f3a"
            ],
            [
             0.8888888888888888,
             "#fdca26"
            ],
            [
             1,
             "#f0f921"
            ]
           ]
          },
          "colorway": [
           "#636efa",
           "#EF553B",
           "#00cc96",
           "#ab63fa",
           "#FFA15A",
           "#19d3f3",
           "#FF6692",
           "#B6E880",
           "#FF97FF",
           "#FECB52"
          ],
          "font": {
           "color": "#2a3f5f"
          },
          "geo": {
           "bgcolor": "white",
           "lakecolor": "white",
           "landcolor": "#E5ECF6",
           "showlakes": true,
           "showland": true,
           "subunitcolor": "white"
          },
          "hoverlabel": {
           "align": "left"
          },
          "hovermode": "closest",
          "mapbox": {
           "style": "light"
          },
          "paper_bgcolor": "white",
          "plot_bgcolor": "#E5ECF6",
          "polar": {
           "angularaxis": {
            "gridcolor": "white",
            "linecolor": "white",
            "ticks": ""
           },
           "bgcolor": "#E5ECF6",
           "radialaxis": {
            "gridcolor": "white",
            "linecolor": "white",
            "ticks": ""
           }
          },
          "scene": {
           "xaxis": {
            "backgroundcolor": "#E5ECF6",
            "gridcolor": "white",
            "gridwidth": 2,
            "linecolor": "white",
            "showbackground": true,
            "ticks": "",
            "zerolinecolor": "white"
           },
           "yaxis": {
            "backgroundcolor": "#E5ECF6",
            "gridcolor": "white",
            "gridwidth": 2,
            "linecolor": "white",
            "showbackground": true,
            "ticks": "",
            "zerolinecolor": "white"
           },
           "zaxis": {
            "backgroundcolor": "#E5ECF6",
            "gridcolor": "white",
            "gridwidth": 2,
            "linecolor": "white",
            "showbackground": true,
            "ticks": "",
            "zerolinecolor": "white"
           }
          },
          "shapedefaults": {
           "line": {
            "color": "#2a3f5f"
           }
          },
          "ternary": {
           "aaxis": {
            "gridcolor": "white",
            "linecolor": "white",
            "ticks": ""
           },
           "baxis": {
            "gridcolor": "white",
            "linecolor": "white",
            "ticks": ""
           },
           "bgcolor": "#E5ECF6",
           "caxis": {
            "gridcolor": "white",
            "linecolor": "white",
            "ticks": ""
           }
          },
          "title": {
           "x": 0.05
          },
          "xaxis": {
           "automargin": true,
           "gridcolor": "white",
           "linecolor": "white",
           "ticks": "",
           "title": {
            "standoff": 15
           },
           "zerolinecolor": "white",
           "zerolinewidth": 2
          },
          "yaxis": {
           "automargin": true,
           "gridcolor": "white",
           "linecolor": "white",
           "ticks": "",
           "title": {
            "standoff": 15
           },
           "zerolinecolor": "white",
           "zerolinewidth": 2
          }
         }
        },
        "title": {
         "text": "Databases"
        },
        "width": 900,
        "xaxis": {
         "range": [
          0,
          32
         ],
         "title": {
          "text": "% "
         }
        }
       }
      }
     },
     "metadata": {},
     "output_type": "display_data"
    }
   ],
   "source": [
    "i=35\n",
    "\n",
    "tabla = value_count_from_multiple_choice(df_prue, v_v1,i)[-3:]\n",
    "name='Databases'\n",
    "color = ['rgb(199,233,192)']*(tabla.shape[0]-3) + ['rgb(0,68,27)']*3\n",
    "fig = go.Figure()\n",
    "fig.add_trace(go.Bar(x=tabla[\"% Users\"],   y=tabla.index,   marker_color=color,name= '',\n",
    "                    text =tabla[\"Yes\"].values,texttemplate = \"%{x}%<br>%{text}\",textposition = \"outside\", orientation='h'))\n",
    "fig.update_traces(textposition='inside', textfont_size=500,textangle=0)\n",
    "fig.update_xaxes(title_text=\"% \")\n",
    "fig.update_layout(barmode='overlay',title_text=name,xaxis_range=[0, 32],    height=500, width=900,)\n",
    "\n",
    "fig.add_layout_image(\n",
    "    dict(\n",
    "        source=\"https://upload.wikimedia.org/wikipedia/commons/0/0a/MySQL_textlogo.svg\",\n",
    "        xref=\"paper\", yref=\"paper\",\n",
    "        x=0.98, y=0.8,\n",
    "        sizex=0.1, sizey=1,\n",
    "        xanchor=\"right\", yanchor=\"bottom\", sizing= \"contain\",\n",
    "    )\n",
    ")\n",
    "fig.add_layout_image(\n",
    "    dict(\n",
    "        source=\"https://upload.wikimedia.org/wikipedia/commons/2/29/Postgresql_elephant.svg\",\n",
    "        xref=\"paper\", yref=\"paper\",\n",
    "        x=0.9, y=0.42,\n",
    "        sizex=0.07, sizey=1,\n",
    "        xanchor=\"right\", yanchor=\"bottom\", sizing= \"contain\",\n",
    "    )\n",
    ")\n",
    "\n",
    "fig.add_layout_image(\n",
    "    dict(\n",
    "        source=\"https://upload.wikimedia.org/wikipedia/commons/9/99/Logo_M_SQL_Server.png\",\n",
    "        xref=\"paper\", yref=\"paper\",\n",
    "        x=0.8, y=0.1,\n",
    "        sizex=0.2, sizey=1,\n",
    "        xanchor=\"right\", yanchor=\"bottom\", sizing= \"contain\",\n",
    "    )\n",
    ")\n",
    "\n",
    "fig.show()"
   ]
  },
  {
   "cell_type": "markdown",
   "metadata": {},
   "source": [
    "#### **Business intelligence tools**\n",
    "\n",
    "The next bar chart presents a comparison between popular business intelligence tools: \n",
    "\n",
    "* **Tableau** is widely recognized for its ease of use and its ability to generate interactive and engaging visualizations. Its wide variety of features and customization options make it a popular tool among data professionals and business analysts looking to present data in an effective and accessible way.\n",
    "* **None** represents users who choose not to use any specific business intelligence tool. This choice could be due to different reasons, such as the use of custom in-house tools, preference for analyzing data directly with programming languages, or perhaps because some users are not directly involved in data visualization and analysis.\n",
    "* **Microsoft Power BI** is a robust tool that is well integrated with the Microsoft ecosystem, making it attractive to those who already use Microsoft products in their business operations. Its ease of integration with other Microsoft tools and its focus on business data analysis may explain its popularity."
   ]
  },
  {
   "cell_type": "code",
   "execution_count": 49,
   "metadata": {},
   "outputs": [
    {
     "data": {
      "application/vnd.plotly.v1+json": {
       "config": {
        "plotlyServerURL": "https://plot.ly"
       },
       "data": [
        {
         "marker": {
          "color": [
           "rgb(0,68,27)",
           "rgb(0,68,27)",
           "rgb(0,68,27)"
          ]
         },
         "name": "",
         "orientation": "h",
         "text": [
          124,
          136,
          161
         ],
         "textfont": {
          "size": 500
         },
         "textposition": "inside",
         "texttemplate": "%{x}%<br>%{text}",
         "type": "bar",
         "x": [
          22.63,
          24.82,
          29.38
         ],
         "y": [
          "Microsoft Power BI",
          "None",
          "Tableau"
         ]
        }
       ],
       "layout": {
        "barmode": "overlay",
        "height": 500,
        "images": [
         {
          "sizex": 0.15,
          "sizey": 1,
          "sizing": "contain",
          "source": "https://upload.wikimedia.org/wikipedia/commons/4/4b/Tableau_Logo.png",
          "x": 0.98,
          "xanchor": "right",
          "xref": "paper",
          "y": 0.8,
          "yanchor": "bottom",
          "yref": "paper"
         },
         {
          "sizex": 0.07,
          "sizey": 1,
          "sizing": "contain",
          "source": "https://upload.wikimedia.org/wikipedia/commons/c/cf/New_Power_BI_Logo.svg",
          "x": 0.72,
          "xanchor": "right",
          "xref": "paper",
          "y": 0.1,
          "yanchor": "bottom",
          "yref": "paper"
         }
        ],
        "template": {
         "data": {
          "bar": [
           {
            "error_x": {
             "color": "#2a3f5f"
            },
            "error_y": {
             "color": "#2a3f5f"
            },
            "marker": {
             "line": {
              "color": "#E5ECF6",
              "width": 0.5
             },
             "pattern": {
              "fillmode": "overlay",
              "size": 10,
              "solidity": 0.2
             }
            },
            "type": "bar"
           }
          ],
          "barpolar": [
           {
            "marker": {
             "line": {
              "color": "#E5ECF6",
              "width": 0.5
             },
             "pattern": {
              "fillmode": "overlay",
              "size": 10,
              "solidity": 0.2
             }
            },
            "type": "barpolar"
           }
          ],
          "carpet": [
           {
            "aaxis": {
             "endlinecolor": "#2a3f5f",
             "gridcolor": "white",
             "linecolor": "white",
             "minorgridcolor": "white",
             "startlinecolor": "#2a3f5f"
            },
            "baxis": {
             "endlinecolor": "#2a3f5f",
             "gridcolor": "white",
             "linecolor": "white",
             "minorgridcolor": "white",
             "startlinecolor": "#2a3f5f"
            },
            "type": "carpet"
           }
          ],
          "choropleth": [
           {
            "colorbar": {
             "outlinewidth": 0,
             "ticks": ""
            },
            "type": "choropleth"
           }
          ],
          "contour": [
           {
            "colorbar": {
             "outlinewidth": 0,
             "ticks": ""
            },
            "colorscale": [
             [
              0,
              "#0d0887"
             ],
             [
              0.1111111111111111,
              "#46039f"
             ],
             [
              0.2222222222222222,
              "#7201a8"
             ],
             [
              0.3333333333333333,
              "#9c179e"
             ],
             [
              0.4444444444444444,
              "#bd3786"
             ],
             [
              0.5555555555555556,
              "#d8576b"
             ],
             [
              0.6666666666666666,
              "#ed7953"
             ],
             [
              0.7777777777777778,
              "#fb9f3a"
             ],
             [
              0.8888888888888888,
              "#fdca26"
             ],
             [
              1,
              "#f0f921"
             ]
            ],
            "type": "contour"
           }
          ],
          "contourcarpet": [
           {
            "colorbar": {
             "outlinewidth": 0,
             "ticks": ""
            },
            "type": "contourcarpet"
           }
          ],
          "heatmap": [
           {
            "colorbar": {
             "outlinewidth": 0,
             "ticks": ""
            },
            "colorscale": [
             [
              0,
              "#0d0887"
             ],
             [
              0.1111111111111111,
              "#46039f"
             ],
             [
              0.2222222222222222,
              "#7201a8"
             ],
             [
              0.3333333333333333,
              "#9c179e"
             ],
             [
              0.4444444444444444,
              "#bd3786"
             ],
             [
              0.5555555555555556,
              "#d8576b"
             ],
             [
              0.6666666666666666,
              "#ed7953"
             ],
             [
              0.7777777777777778,
              "#fb9f3a"
             ],
             [
              0.8888888888888888,
              "#fdca26"
             ],
             [
              1,
              "#f0f921"
             ]
            ],
            "type": "heatmap"
           }
          ],
          "heatmapgl": [
           {
            "colorbar": {
             "outlinewidth": 0,
             "ticks": ""
            },
            "colorscale": [
             [
              0,
              "#0d0887"
             ],
             [
              0.1111111111111111,
              "#46039f"
             ],
             [
              0.2222222222222222,
              "#7201a8"
             ],
             [
              0.3333333333333333,
              "#9c179e"
             ],
             [
              0.4444444444444444,
              "#bd3786"
             ],
             [
              0.5555555555555556,
              "#d8576b"
             ],
             [
              0.6666666666666666,
              "#ed7953"
             ],
             [
              0.7777777777777778,
              "#fb9f3a"
             ],
             [
              0.8888888888888888,
              "#fdca26"
             ],
             [
              1,
              "#f0f921"
             ]
            ],
            "type": "heatmapgl"
           }
          ],
          "histogram": [
           {
            "marker": {
             "pattern": {
              "fillmode": "overlay",
              "size": 10,
              "solidity": 0.2
             }
            },
            "type": "histogram"
           }
          ],
          "histogram2d": [
           {
            "colorbar": {
             "outlinewidth": 0,
             "ticks": ""
            },
            "colorscale": [
             [
              0,
              "#0d0887"
             ],
             [
              0.1111111111111111,
              "#46039f"
             ],
             [
              0.2222222222222222,
              "#7201a8"
             ],
             [
              0.3333333333333333,
              "#9c179e"
             ],
             [
              0.4444444444444444,
              "#bd3786"
             ],
             [
              0.5555555555555556,
              "#d8576b"
             ],
             [
              0.6666666666666666,
              "#ed7953"
             ],
             [
              0.7777777777777778,
              "#fb9f3a"
             ],
             [
              0.8888888888888888,
              "#fdca26"
             ],
             [
              1,
              "#f0f921"
             ]
            ],
            "type": "histogram2d"
           }
          ],
          "histogram2dcontour": [
           {
            "colorbar": {
             "outlinewidth": 0,
             "ticks": ""
            },
            "colorscale": [
             [
              0,
              "#0d0887"
             ],
             [
              0.1111111111111111,
              "#46039f"
             ],
             [
              0.2222222222222222,
              "#7201a8"
             ],
             [
              0.3333333333333333,
              "#9c179e"
             ],
             [
              0.4444444444444444,
              "#bd3786"
             ],
             [
              0.5555555555555556,
              "#d8576b"
             ],
             [
              0.6666666666666666,
              "#ed7953"
             ],
             [
              0.7777777777777778,
              "#fb9f3a"
             ],
             [
              0.8888888888888888,
              "#fdca26"
             ],
             [
              1,
              "#f0f921"
             ]
            ],
            "type": "histogram2dcontour"
           }
          ],
          "mesh3d": [
           {
            "colorbar": {
             "outlinewidth": 0,
             "ticks": ""
            },
            "type": "mesh3d"
           }
          ],
          "parcoords": [
           {
            "line": {
             "colorbar": {
              "outlinewidth": 0,
              "ticks": ""
             }
            },
            "type": "parcoords"
           }
          ],
          "pie": [
           {
            "automargin": true,
            "type": "pie"
           }
          ],
          "scatter": [
           {
            "fillpattern": {
             "fillmode": "overlay",
             "size": 10,
             "solidity": 0.2
            },
            "type": "scatter"
           }
          ],
          "scatter3d": [
           {
            "line": {
             "colorbar": {
              "outlinewidth": 0,
              "ticks": ""
             }
            },
            "marker": {
             "colorbar": {
              "outlinewidth": 0,
              "ticks": ""
             }
            },
            "type": "scatter3d"
           }
          ],
          "scattercarpet": [
           {
            "marker": {
             "colorbar": {
              "outlinewidth": 0,
              "ticks": ""
             }
            },
            "type": "scattercarpet"
           }
          ],
          "scattergeo": [
           {
            "marker": {
             "colorbar": {
              "outlinewidth": 0,
              "ticks": ""
             }
            },
            "type": "scattergeo"
           }
          ],
          "scattergl": [
           {
            "marker": {
             "colorbar": {
              "outlinewidth": 0,
              "ticks": ""
             }
            },
            "type": "scattergl"
           }
          ],
          "scattermapbox": [
           {
            "marker": {
             "colorbar": {
              "outlinewidth": 0,
              "ticks": ""
             }
            },
            "type": "scattermapbox"
           }
          ],
          "scatterpolar": [
           {
            "marker": {
             "colorbar": {
              "outlinewidth": 0,
              "ticks": ""
             }
            },
            "type": "scatterpolar"
           }
          ],
          "scatterpolargl": [
           {
            "marker": {
             "colorbar": {
              "outlinewidth": 0,
              "ticks": ""
             }
            },
            "type": "scatterpolargl"
           }
          ],
          "scatterternary": [
           {
            "marker": {
             "colorbar": {
              "outlinewidth": 0,
              "ticks": ""
             }
            },
            "type": "scatterternary"
           }
          ],
          "surface": [
           {
            "colorbar": {
             "outlinewidth": 0,
             "ticks": ""
            },
            "colorscale": [
             [
              0,
              "#0d0887"
             ],
             [
              0.1111111111111111,
              "#46039f"
             ],
             [
              0.2222222222222222,
              "#7201a8"
             ],
             [
              0.3333333333333333,
              "#9c179e"
             ],
             [
              0.4444444444444444,
              "#bd3786"
             ],
             [
              0.5555555555555556,
              "#d8576b"
             ],
             [
              0.6666666666666666,
              "#ed7953"
             ],
             [
              0.7777777777777778,
              "#fb9f3a"
             ],
             [
              0.8888888888888888,
              "#fdca26"
             ],
             [
              1,
              "#f0f921"
             ]
            ],
            "type": "surface"
           }
          ],
          "table": [
           {
            "cells": {
             "fill": {
              "color": "#EBF0F8"
             },
             "line": {
              "color": "white"
             }
            },
            "header": {
             "fill": {
              "color": "#C8D4E3"
             },
             "line": {
              "color": "white"
             }
            },
            "type": "table"
           }
          ]
         },
         "layout": {
          "annotationdefaults": {
           "arrowcolor": "#2a3f5f",
           "arrowhead": 0,
           "arrowwidth": 1
          },
          "autotypenumbers": "strict",
          "coloraxis": {
           "colorbar": {
            "outlinewidth": 0,
            "ticks": ""
           }
          },
          "colorscale": {
           "diverging": [
            [
             0,
             "#8e0152"
            ],
            [
             0.1,
             "#c51b7d"
            ],
            [
             0.2,
             "#de77ae"
            ],
            [
             0.3,
             "#f1b6da"
            ],
            [
             0.4,
             "#fde0ef"
            ],
            [
             0.5,
             "#f7f7f7"
            ],
            [
             0.6,
             "#e6f5d0"
            ],
            [
             0.7,
             "#b8e186"
            ],
            [
             0.8,
             "#7fbc41"
            ],
            [
             0.9,
             "#4d9221"
            ],
            [
             1,
             "#276419"
            ]
           ],
           "sequential": [
            [
             0,
             "#0d0887"
            ],
            [
             0.1111111111111111,
             "#46039f"
            ],
            [
             0.2222222222222222,
             "#7201a8"
            ],
            [
             0.3333333333333333,
             "#9c179e"
            ],
            [
             0.4444444444444444,
             "#bd3786"
            ],
            [
             0.5555555555555556,
             "#d8576b"
            ],
            [
             0.6666666666666666,
             "#ed7953"
            ],
            [
             0.7777777777777778,
             "#fb9f3a"
            ],
            [
             0.8888888888888888,
             "#fdca26"
            ],
            [
             1,
             "#f0f921"
            ]
           ],
           "sequentialminus": [
            [
             0,
             "#0d0887"
            ],
            [
             0.1111111111111111,
             "#46039f"
            ],
            [
             0.2222222222222222,
             "#7201a8"
            ],
            [
             0.3333333333333333,
             "#9c179e"
            ],
            [
             0.4444444444444444,
             "#bd3786"
            ],
            [
             0.5555555555555556,
             "#d8576b"
            ],
            [
             0.6666666666666666,
             "#ed7953"
            ],
            [
             0.7777777777777778,
             "#fb9f3a"
            ],
            [
             0.8888888888888888,
             "#fdca26"
            ],
            [
             1,
             "#f0f921"
            ]
           ]
          },
          "colorway": [
           "#636efa",
           "#EF553B",
           "#00cc96",
           "#ab63fa",
           "#FFA15A",
           "#19d3f3",
           "#FF6692",
           "#B6E880",
           "#FF97FF",
           "#FECB52"
          ],
          "font": {
           "color": "#2a3f5f"
          },
          "geo": {
           "bgcolor": "white",
           "lakecolor": "white",
           "landcolor": "#E5ECF6",
           "showlakes": true,
           "showland": true,
           "subunitcolor": "white"
          },
          "hoverlabel": {
           "align": "left"
          },
          "hovermode": "closest",
          "mapbox": {
           "style": "light"
          },
          "paper_bgcolor": "white",
          "plot_bgcolor": "#E5ECF6",
          "polar": {
           "angularaxis": {
            "gridcolor": "white",
            "linecolor": "white",
            "ticks": ""
           },
           "bgcolor": "#E5ECF6",
           "radialaxis": {
            "gridcolor": "white",
            "linecolor": "white",
            "ticks": ""
           }
          },
          "scene": {
           "xaxis": {
            "backgroundcolor": "#E5ECF6",
            "gridcolor": "white",
            "gridwidth": 2,
            "linecolor": "white",
            "showbackground": true,
            "ticks": "",
            "zerolinecolor": "white"
           },
           "yaxis": {
            "backgroundcolor": "#E5ECF6",
            "gridcolor": "white",
            "gridwidth": 2,
            "linecolor": "white",
            "showbackground": true,
            "ticks": "",
            "zerolinecolor": "white"
           },
           "zaxis": {
            "backgroundcolor": "#E5ECF6",
            "gridcolor": "white",
            "gridwidth": 2,
            "linecolor": "white",
            "showbackground": true,
            "ticks": "",
            "zerolinecolor": "white"
           }
          },
          "shapedefaults": {
           "line": {
            "color": "#2a3f5f"
           }
          },
          "ternary": {
           "aaxis": {
            "gridcolor": "white",
            "linecolor": "white",
            "ticks": ""
           },
           "baxis": {
            "gridcolor": "white",
            "linecolor": "white",
            "ticks": ""
           },
           "bgcolor": "#E5ECF6",
           "caxis": {
            "gridcolor": "white",
            "linecolor": "white",
            "ticks": ""
           }
          },
          "title": {
           "x": 0.05
          },
          "xaxis": {
           "automargin": true,
           "gridcolor": "white",
           "linecolor": "white",
           "ticks": "",
           "title": {
            "standoff": 15
           },
           "zerolinecolor": "white",
           "zerolinewidth": 2
          },
          "yaxis": {
           "automargin": true,
           "gridcolor": "white",
           "linecolor": "white",
           "ticks": "",
           "title": {
            "standoff": 15
           },
           "zerolinecolor": "white",
           "zerolinewidth": 2
          }
         }
        },
        "title": {
         "text": "Business intelligence tools"
        },
        "width": 900,
        "xaxis": {
         "range": [
          0,
          36
         ],
         "title": {
          "text": "% "
         }
        }
       }
      }
     },
     "metadata": {},
     "output_type": "display_data"
    }
   ],
   "source": [
    "i=36\n",
    "\n",
    "tabla = value_count_from_multiple_choice(df_prue, v_v1,i)[-3:]\n",
    "name='Business intelligence tools'\n",
    "color = ['rgb(199,233,192)']*(tabla.shape[0]-3) + ['rgb(0,68,27)']*3\n",
    "fig = go.Figure()\n",
    "fig.add_trace(go.Bar(x=tabla[\"% Users\"],   y=tabla.index,   marker_color=color,name= '',\n",
    "                    text =tabla[\"Yes\"].values,texttemplate = \"%{x}%<br>%{text}\",textposition = \"outside\", orientation='h'))\n",
    "fig.update_traces(textposition='inside', textfont_size=500)\n",
    "fig.update_xaxes(title_text=\"% \")\n",
    "fig.update_layout(barmode='overlay',title_text=name,xaxis_range=[0, 36],    height=500, width=900,)\n",
    "\n",
    "fig.add_layout_image(\n",
    "    dict(\n",
    "        source=\"https://upload.wikimedia.org/wikipedia/commons/4/4b/Tableau_Logo.png\",\n",
    "        xref=\"paper\", yref=\"paper\",\n",
    "        x=0.98, y=0.8,\n",
    "        sizex=0.15, sizey=1,\n",
    "        xanchor=\"right\", yanchor=\"bottom\", sizing= \"contain\",\n",
    "    )\n",
    ")\n",
    "\n",
    "fig.add_layout_image(\n",
    "    dict(\n",
    "        source=\"https://upload.wikimedia.org/wikipedia/commons/c/cf/New_Power_BI_Logo.svg\",\n",
    "        xref=\"paper\", yref=\"paper\",\n",
    "        x=0.72, y=0.1,\n",
    "        sizex=0.07, sizey=1,\n",
    "        xanchor=\"right\", yanchor=\"bottom\", sizing= \"contain\",\n",
    "    )\n",
    ")\n",
    "\n",
    "fig.show()"
   ]
  },
  {
   "cell_type": "markdown",
   "metadata": {},
   "source": [
    "#### **Machine Learning Frameworks**\n",
    "\n",
    "Scikit-learn, XGBoost and TensorFlow are all popular machine learning algorithms, but they have their own strengths and weaknesses. Choosing the right algorithm depends on the specific needs of your application.\n",
    "\n",
    "* **Scikit-learn** is an open source machine learning toolkit that is easy to use and has a wide selection of algorithms. It is a good choice for machine learning beginners and for applications that require flexibility and control.\n",
    "* **XGBoost** is a decision tree-based machine learning algorithm that is very accurate and scalable. It is a good choice for applications that require high accuracy and can handle large amounts of data.\n",
    "* **TensorFlow** is an open source machine learning framework that is powerful and flexible. It is a good choice for applications that require complex models or need to be trained on big data.\n"
   ]
  },
  {
   "cell_type": "code",
   "execution_count": 50,
   "metadata": {},
   "outputs": [
    {
     "data": {
      "application/vnd.plotly.v1+json": {
       "config": {
        "plotlyServerURL": "https://plot.ly"
       },
       "data": [
        {
         "marker": {
          "color": [
           "rgb(0,68,27)",
           "rgb(0,68,27)",
           "rgb(0,68,27)"
          ]
         },
         "name": "",
         "orientation": "h",
         "text": [
          272,
          335,
          478
         ],
         "textfont": {
          "size": 500
         },
         "textposition": "inside",
         "texttemplate": "%{x}%<br>%{text}",
         "type": "bar",
         "x": [
          49.64,
          61.13,
          87.23
         ],
         "y": [
          "TensorFlow",
          "Xgboost",
          "Scikit-learn"
         ]
        }
       ],
       "layout": {
        "barmode": "overlay",
        "height": 500,
        "images": [
         {
          "sizex": 0.15,
          "sizey": 1,
          "sizing": "contain",
          "source": "https://upload.wikimedia.org/wikipedia/commons/0/05/Scikit_learn_logo_small.svg",
          "x": 0.97,
          "xanchor": "right",
          "xref": "paper",
          "y": 0.74,
          "yanchor": "bottom",
          "yref": "paper"
         },
         {
          "sizex": 0.15,
          "sizey": 1,
          "sizing": "contain",
          "source": "https://upload.wikimedia.org/wikipedia/commons/6/69/XGBoost_logo.png",
          "x": 0.73,
          "xanchor": "right",
          "xref": "paper",
          "y": 0.415,
          "yanchor": "bottom",
          "yref": "paper"
         },
         {
          "sizex": 0.13,
          "sizey": 1,
          "sizing": "contain",
          "source": "https://upload.wikimedia.org/wikipedia/commons/a/ab/TensorFlow_logo.svg",
          "x": 0.58,
          "xanchor": "right",
          "xref": "paper",
          "y": 0.09,
          "yanchor": "bottom",
          "yref": "paper"
         }
        ],
        "template": {
         "data": {
          "bar": [
           {
            "error_x": {
             "color": "#2a3f5f"
            },
            "error_y": {
             "color": "#2a3f5f"
            },
            "marker": {
             "line": {
              "color": "#E5ECF6",
              "width": 0.5
             },
             "pattern": {
              "fillmode": "overlay",
              "size": 10,
              "solidity": 0.2
             }
            },
            "type": "bar"
           }
          ],
          "barpolar": [
           {
            "marker": {
             "line": {
              "color": "#E5ECF6",
              "width": 0.5
             },
             "pattern": {
              "fillmode": "overlay",
              "size": 10,
              "solidity": 0.2
             }
            },
            "type": "barpolar"
           }
          ],
          "carpet": [
           {
            "aaxis": {
             "endlinecolor": "#2a3f5f",
             "gridcolor": "white",
             "linecolor": "white",
             "minorgridcolor": "white",
             "startlinecolor": "#2a3f5f"
            },
            "baxis": {
             "endlinecolor": "#2a3f5f",
             "gridcolor": "white",
             "linecolor": "white",
             "minorgridcolor": "white",
             "startlinecolor": "#2a3f5f"
            },
            "type": "carpet"
           }
          ],
          "choropleth": [
           {
            "colorbar": {
             "outlinewidth": 0,
             "ticks": ""
            },
            "type": "choropleth"
           }
          ],
          "contour": [
           {
            "colorbar": {
             "outlinewidth": 0,
             "ticks": ""
            },
            "colorscale": [
             [
              0,
              "#0d0887"
             ],
             [
              0.1111111111111111,
              "#46039f"
             ],
             [
              0.2222222222222222,
              "#7201a8"
             ],
             [
              0.3333333333333333,
              "#9c179e"
             ],
             [
              0.4444444444444444,
              "#bd3786"
             ],
             [
              0.5555555555555556,
              "#d8576b"
             ],
             [
              0.6666666666666666,
              "#ed7953"
             ],
             [
              0.7777777777777778,
              "#fb9f3a"
             ],
             [
              0.8888888888888888,
              "#fdca26"
             ],
             [
              1,
              "#f0f921"
             ]
            ],
            "type": "contour"
           }
          ],
          "contourcarpet": [
           {
            "colorbar": {
             "outlinewidth": 0,
             "ticks": ""
            },
            "type": "contourcarpet"
           }
          ],
          "heatmap": [
           {
            "colorbar": {
             "outlinewidth": 0,
             "ticks": ""
            },
            "colorscale": [
             [
              0,
              "#0d0887"
             ],
             [
              0.1111111111111111,
              "#46039f"
             ],
             [
              0.2222222222222222,
              "#7201a8"
             ],
             [
              0.3333333333333333,
              "#9c179e"
             ],
             [
              0.4444444444444444,
              "#bd3786"
             ],
             [
              0.5555555555555556,
              "#d8576b"
             ],
             [
              0.6666666666666666,
              "#ed7953"
             ],
             [
              0.7777777777777778,
              "#fb9f3a"
             ],
             [
              0.8888888888888888,
              "#fdca26"
             ],
             [
              1,
              "#f0f921"
             ]
            ],
            "type": "heatmap"
           }
          ],
          "heatmapgl": [
           {
            "colorbar": {
             "outlinewidth": 0,
             "ticks": ""
            },
            "colorscale": [
             [
              0,
              "#0d0887"
             ],
             [
              0.1111111111111111,
              "#46039f"
             ],
             [
              0.2222222222222222,
              "#7201a8"
             ],
             [
              0.3333333333333333,
              "#9c179e"
             ],
             [
              0.4444444444444444,
              "#bd3786"
             ],
             [
              0.5555555555555556,
              "#d8576b"
             ],
             [
              0.6666666666666666,
              "#ed7953"
             ],
             [
              0.7777777777777778,
              "#fb9f3a"
             ],
             [
              0.8888888888888888,
              "#fdca26"
             ],
             [
              1,
              "#f0f921"
             ]
            ],
            "type": "heatmapgl"
           }
          ],
          "histogram": [
           {
            "marker": {
             "pattern": {
              "fillmode": "overlay",
              "size": 10,
              "solidity": 0.2
             }
            },
            "type": "histogram"
           }
          ],
          "histogram2d": [
           {
            "colorbar": {
             "outlinewidth": 0,
             "ticks": ""
            },
            "colorscale": [
             [
              0,
              "#0d0887"
             ],
             [
              0.1111111111111111,
              "#46039f"
             ],
             [
              0.2222222222222222,
              "#7201a8"
             ],
             [
              0.3333333333333333,
              "#9c179e"
             ],
             [
              0.4444444444444444,
              "#bd3786"
             ],
             [
              0.5555555555555556,
              "#d8576b"
             ],
             [
              0.6666666666666666,
              "#ed7953"
             ],
             [
              0.7777777777777778,
              "#fb9f3a"
             ],
             [
              0.8888888888888888,
              "#fdca26"
             ],
             [
              1,
              "#f0f921"
             ]
            ],
            "type": "histogram2d"
           }
          ],
          "histogram2dcontour": [
           {
            "colorbar": {
             "outlinewidth": 0,
             "ticks": ""
            },
            "colorscale": [
             [
              0,
              "#0d0887"
             ],
             [
              0.1111111111111111,
              "#46039f"
             ],
             [
              0.2222222222222222,
              "#7201a8"
             ],
             [
              0.3333333333333333,
              "#9c179e"
             ],
             [
              0.4444444444444444,
              "#bd3786"
             ],
             [
              0.5555555555555556,
              "#d8576b"
             ],
             [
              0.6666666666666666,
              "#ed7953"
             ],
             [
              0.7777777777777778,
              "#fb9f3a"
             ],
             [
              0.8888888888888888,
              "#fdca26"
             ],
             [
              1,
              "#f0f921"
             ]
            ],
            "type": "histogram2dcontour"
           }
          ],
          "mesh3d": [
           {
            "colorbar": {
             "outlinewidth": 0,
             "ticks": ""
            },
            "type": "mesh3d"
           }
          ],
          "parcoords": [
           {
            "line": {
             "colorbar": {
              "outlinewidth": 0,
              "ticks": ""
             }
            },
            "type": "parcoords"
           }
          ],
          "pie": [
           {
            "automargin": true,
            "type": "pie"
           }
          ],
          "scatter": [
           {
            "fillpattern": {
             "fillmode": "overlay",
             "size": 10,
             "solidity": 0.2
            },
            "type": "scatter"
           }
          ],
          "scatter3d": [
           {
            "line": {
             "colorbar": {
              "outlinewidth": 0,
              "ticks": ""
             }
            },
            "marker": {
             "colorbar": {
              "outlinewidth": 0,
              "ticks": ""
             }
            },
            "type": "scatter3d"
           }
          ],
          "scattercarpet": [
           {
            "marker": {
             "colorbar": {
              "outlinewidth": 0,
              "ticks": ""
             }
            },
            "type": "scattercarpet"
           }
          ],
          "scattergeo": [
           {
            "marker": {
             "colorbar": {
              "outlinewidth": 0,
              "ticks": ""
             }
            },
            "type": "scattergeo"
           }
          ],
          "scattergl": [
           {
            "marker": {
             "colorbar": {
              "outlinewidth": 0,
              "ticks": ""
             }
            },
            "type": "scattergl"
           }
          ],
          "scattermapbox": [
           {
            "marker": {
             "colorbar": {
              "outlinewidth": 0,
              "ticks": ""
             }
            },
            "type": "scattermapbox"
           }
          ],
          "scatterpolar": [
           {
            "marker": {
             "colorbar": {
              "outlinewidth": 0,
              "ticks": ""
             }
            },
            "type": "scatterpolar"
           }
          ],
          "scatterpolargl": [
           {
            "marker": {
             "colorbar": {
              "outlinewidth": 0,
              "ticks": ""
             }
            },
            "type": "scatterpolargl"
           }
          ],
          "scatterternary": [
           {
            "marker": {
             "colorbar": {
              "outlinewidth": 0,
              "ticks": ""
             }
            },
            "type": "scatterternary"
           }
          ],
          "surface": [
           {
            "colorbar": {
             "outlinewidth": 0,
             "ticks": ""
            },
            "colorscale": [
             [
              0,
              "#0d0887"
             ],
             [
              0.1111111111111111,
              "#46039f"
             ],
             [
              0.2222222222222222,
              "#7201a8"
             ],
             [
              0.3333333333333333,
              "#9c179e"
             ],
             [
              0.4444444444444444,
              "#bd3786"
             ],
             [
              0.5555555555555556,
              "#d8576b"
             ],
             [
              0.6666666666666666,
              "#ed7953"
             ],
             [
              0.7777777777777778,
              "#fb9f3a"
             ],
             [
              0.8888888888888888,
              "#fdca26"
             ],
             [
              1,
              "#f0f921"
             ]
            ],
            "type": "surface"
           }
          ],
          "table": [
           {
            "cells": {
             "fill": {
              "color": "#EBF0F8"
             },
             "line": {
              "color": "white"
             }
            },
            "header": {
             "fill": {
              "color": "#C8D4E3"
             },
             "line": {
              "color": "white"
             }
            },
            "type": "table"
           }
          ]
         },
         "layout": {
          "annotationdefaults": {
           "arrowcolor": "#2a3f5f",
           "arrowhead": 0,
           "arrowwidth": 1
          },
          "autotypenumbers": "strict",
          "coloraxis": {
           "colorbar": {
            "outlinewidth": 0,
            "ticks": ""
           }
          },
          "colorscale": {
           "diverging": [
            [
             0,
             "#8e0152"
            ],
            [
             0.1,
             "#c51b7d"
            ],
            [
             0.2,
             "#de77ae"
            ],
            [
             0.3,
             "#f1b6da"
            ],
            [
             0.4,
             "#fde0ef"
            ],
            [
             0.5,
             "#f7f7f7"
            ],
            [
             0.6,
             "#e6f5d0"
            ],
            [
             0.7,
             "#b8e186"
            ],
            [
             0.8,
             "#7fbc41"
            ],
            [
             0.9,
             "#4d9221"
            ],
            [
             1,
             "#276419"
            ]
           ],
           "sequential": [
            [
             0,
             "#0d0887"
            ],
            [
             0.1111111111111111,
             "#46039f"
            ],
            [
             0.2222222222222222,
             "#7201a8"
            ],
            [
             0.3333333333333333,
             "#9c179e"
            ],
            [
             0.4444444444444444,
             "#bd3786"
            ],
            [
             0.5555555555555556,
             "#d8576b"
            ],
            [
             0.6666666666666666,
             "#ed7953"
            ],
            [
             0.7777777777777778,
             "#fb9f3a"
            ],
            [
             0.8888888888888888,
             "#fdca26"
            ],
            [
             1,
             "#f0f921"
            ]
           ],
           "sequentialminus": [
            [
             0,
             "#0d0887"
            ],
            [
             0.1111111111111111,
             "#46039f"
            ],
            [
             0.2222222222222222,
             "#7201a8"
            ],
            [
             0.3333333333333333,
             "#9c179e"
            ],
            [
             0.4444444444444444,
             "#bd3786"
            ],
            [
             0.5555555555555556,
             "#d8576b"
            ],
            [
             0.6666666666666666,
             "#ed7953"
            ],
            [
             0.7777777777777778,
             "#fb9f3a"
            ],
            [
             0.8888888888888888,
             "#fdca26"
            ],
            [
             1,
             "#f0f921"
            ]
           ]
          },
          "colorway": [
           "#636efa",
           "#EF553B",
           "#00cc96",
           "#ab63fa",
           "#FFA15A",
           "#19d3f3",
           "#FF6692",
           "#B6E880",
           "#FF97FF",
           "#FECB52"
          ],
          "font": {
           "color": "#2a3f5f"
          },
          "geo": {
           "bgcolor": "white",
           "lakecolor": "white",
           "landcolor": "#E5ECF6",
           "showlakes": true,
           "showland": true,
           "subunitcolor": "white"
          },
          "hoverlabel": {
           "align": "left"
          },
          "hovermode": "closest",
          "mapbox": {
           "style": "light"
          },
          "paper_bgcolor": "white",
          "plot_bgcolor": "#E5ECF6",
          "polar": {
           "angularaxis": {
            "gridcolor": "white",
            "linecolor": "white",
            "ticks": ""
           },
           "bgcolor": "#E5ECF6",
           "radialaxis": {
            "gridcolor": "white",
            "linecolor": "white",
            "ticks": ""
           }
          },
          "scene": {
           "xaxis": {
            "backgroundcolor": "#E5ECF6",
            "gridcolor": "white",
            "gridwidth": 2,
            "linecolor": "white",
            "showbackground": true,
            "ticks": "",
            "zerolinecolor": "white"
           },
           "yaxis": {
            "backgroundcolor": "#E5ECF6",
            "gridcolor": "white",
            "gridwidth": 2,
            "linecolor": "white",
            "showbackground": true,
            "ticks": "",
            "zerolinecolor": "white"
           },
           "zaxis": {
            "backgroundcolor": "#E5ECF6",
            "gridcolor": "white",
            "gridwidth": 2,
            "linecolor": "white",
            "showbackground": true,
            "ticks": "",
            "zerolinecolor": "white"
           }
          },
          "shapedefaults": {
           "line": {
            "color": "#2a3f5f"
           }
          },
          "ternary": {
           "aaxis": {
            "gridcolor": "white",
            "linecolor": "white",
            "ticks": ""
           },
           "baxis": {
            "gridcolor": "white",
            "linecolor": "white",
            "ticks": ""
           },
           "bgcolor": "#E5ECF6",
           "caxis": {
            "gridcolor": "white",
            "linecolor": "white",
            "ticks": ""
           }
          },
          "title": {
           "x": 0.05
          },
          "xaxis": {
           "automargin": true,
           "gridcolor": "white",
           "linecolor": "white",
           "ticks": "",
           "title": {
            "standoff": 15
           },
           "zerolinecolor": "white",
           "zerolinewidth": 2
          },
          "yaxis": {
           "automargin": true,
           "gridcolor": "white",
           "linecolor": "white",
           "ticks": "",
           "title": {
            "standoff": 15
           },
           "zerolinecolor": "white",
           "zerolinewidth": 2
          }
         }
        },
        "title": {
         "text": "Machine Learning Frameworks"
        },
        "width": 900,
        "xaxis": {
         "range": [
          0,
          110
         ],
         "title": {
          "text": "% "
         }
        }
       }
      }
     },
     "metadata": {},
     "output_type": "display_data"
    }
   ],
   "source": [
    "i=17\n",
    "\n",
    "tabla = value_count_from_multiple_choice(df_prue, v_v1,i)[-3:]\n",
    "name='Machine Learning Frameworks'\n",
    "color = ['rgb(199,233,192)']*(tabla.shape[0]-3) + ['rgb(0,68,27)']*3\n",
    "fig = go.Figure()\n",
    "fig.add_trace(go.Bar(x=tabla[\"% Users\"],   y=tabla.index,   marker_color=color,name= '',\n",
    "                    text =tabla[\"Yes\"].values,texttemplate = \"%{x}%<br>%{text}\",textposition = \"outside\", orientation='h'))\n",
    "fig.update_traces(textposition='inside', textfont_size=500)\n",
    "fig.update_xaxes(title_text=\"% \")\n",
    "fig.update_layout(barmode='overlay',title_text=name,xaxis_range=[0, 93],    height=500, width=900,)\n",
    "fig.add_layout_image(\n",
    "    dict(\n",
    "        source=\"https://upload.wikimedia.org/wikipedia/commons/0/05/Scikit_learn_logo_small.svg\",\n",
    "        xref=\"paper\", yref=\"paper\",\n",
    "        x=0.97, y=0.74,\n",
    "        sizex=0.15, sizey=1,\n",
    "        xanchor=\"right\", yanchor=\"bottom\", sizing= \"contain\",\n",
    "    )\n",
    ")\n",
    "fig.add_layout_image(\n",
    "    dict(\n",
    "        source=\"https://upload.wikimedia.org/wikipedia/commons/6/69/XGBoost_logo.png\",\n",
    "        xref=\"paper\", yref=\"paper\",\n",
    "        x=0.73, y=0.415,\n",
    "        sizex=0.15, sizey=1,\n",
    "        xanchor=\"right\", yanchor=\"bottom\", sizing= \"contain\",\n",
    "    )\n",
    ")\n",
    "fig.add_layout_image(\n",
    "    dict(\n",
    "        source=\"https://upload.wikimedia.org/wikipedia/commons/a/ab/TensorFlow_logo.svg\",\n",
    "        xref=\"paper\", yref=\"paper\",\n",
    "        x=0.58, y=0.09,\n",
    "        sizex=0.13, sizey=1,\n",
    "        xanchor=\"right\", yanchor=\"bottom\", sizing= \"contain\",\n",
    "    )\n",
    ")\n",
    "fig.update_xaxes(range=[0, 110])\n",
    "fig.show()"
   ]
  },
  {
   "cell_type": "markdown",
   "metadata": {},
   "source": [
    "#### **Machine Learning algorithms**\n",
    "\n",
    "The bar chart shows a comparison of popular machine learning algorithms:\n",
    "\n",
    "* **Linear Regression** is a simple and easy to implement model, especially suitable for regression problems where continuous numerical values are to be predicted. On the other hand, Logistic Regression is widely used in binary classification problems, where one of two possible classes is to be predicted. Its efficiency, interpretability and ability to deal with linear problems make it an attractive option for many users.\n",
    "* **Decision Trees** are nonlinear models used for both classification and regression problems. They are known for their ease of interpretation and visualization, as they are represented as trees with decision nodes and leaves representing the predictions. Random Forests are an extension of Decision Trees that combine multiple trees to improve accuracy and reduce overfitting in the model.\n",
    "* **Gradient Boosting Machines** are a set of algorithms that are widely used in supervised learning problems. These algorithms work in sequential iterations to improve model accuracy by correcting errors made by previous models. xgboost and lightgbm are popular examples of Gradient Boosting libraries that offer exceptional performance and training speed."
   ]
  },
  {
   "cell_type": "code",
   "execution_count": 51,
   "metadata": {},
   "outputs": [
    {
     "data": {
      "application/vnd.plotly.v1+json": {
       "config": {
        "plotlyServerURL": "https://plot.ly"
       },
       "data": [
        {
         "marker": {
          "color": [
           "rgb(0,68,27)",
           "rgb(0,68,27)",
           "rgb(0,68,27)"
          ]
         },
         "name": "",
         "orientation": "h",
         "text": [
          389,
          437,
          453
         ],
         "textfont": {
          "size": 500
         },
         "textposition": "inside",
         "texttemplate": "%{x}%<br>%{text}",
         "type": "bar",
         "x": [
          70.99,
          79.74,
          82.66
         ],
         "y": [
          "Gradient Boosting Machines ",
          "Decision Trees or Random Forests",
          "Linear or Logistic Regression"
         ]
        }
       ],
       "layout": {
        "barmode": "overlay",
        "height": 500,
        "template": {
         "data": {
          "bar": [
           {
            "error_x": {
             "color": "#2a3f5f"
            },
            "error_y": {
             "color": "#2a3f5f"
            },
            "marker": {
             "line": {
              "color": "#E5ECF6",
              "width": 0.5
             },
             "pattern": {
              "fillmode": "overlay",
              "size": 10,
              "solidity": 0.2
             }
            },
            "type": "bar"
           }
          ],
          "barpolar": [
           {
            "marker": {
             "line": {
              "color": "#E5ECF6",
              "width": 0.5
             },
             "pattern": {
              "fillmode": "overlay",
              "size": 10,
              "solidity": 0.2
             }
            },
            "type": "barpolar"
           }
          ],
          "carpet": [
           {
            "aaxis": {
             "endlinecolor": "#2a3f5f",
             "gridcolor": "white",
             "linecolor": "white",
             "minorgridcolor": "white",
             "startlinecolor": "#2a3f5f"
            },
            "baxis": {
             "endlinecolor": "#2a3f5f",
             "gridcolor": "white",
             "linecolor": "white",
             "minorgridcolor": "white",
             "startlinecolor": "#2a3f5f"
            },
            "type": "carpet"
           }
          ],
          "choropleth": [
           {
            "colorbar": {
             "outlinewidth": 0,
             "ticks": ""
            },
            "type": "choropleth"
           }
          ],
          "contour": [
           {
            "colorbar": {
             "outlinewidth": 0,
             "ticks": ""
            },
            "colorscale": [
             [
              0,
              "#0d0887"
             ],
             [
              0.1111111111111111,
              "#46039f"
             ],
             [
              0.2222222222222222,
              "#7201a8"
             ],
             [
              0.3333333333333333,
              "#9c179e"
             ],
             [
              0.4444444444444444,
              "#bd3786"
             ],
             [
              0.5555555555555556,
              "#d8576b"
             ],
             [
              0.6666666666666666,
              "#ed7953"
             ],
             [
              0.7777777777777778,
              "#fb9f3a"
             ],
             [
              0.8888888888888888,
              "#fdca26"
             ],
             [
              1,
              "#f0f921"
             ]
            ],
            "type": "contour"
           }
          ],
          "contourcarpet": [
           {
            "colorbar": {
             "outlinewidth": 0,
             "ticks": ""
            },
            "type": "contourcarpet"
           }
          ],
          "heatmap": [
           {
            "colorbar": {
             "outlinewidth": 0,
             "ticks": ""
            },
            "colorscale": [
             [
              0,
              "#0d0887"
             ],
             [
              0.1111111111111111,
              "#46039f"
             ],
             [
              0.2222222222222222,
              "#7201a8"
             ],
             [
              0.3333333333333333,
              "#9c179e"
             ],
             [
              0.4444444444444444,
              "#bd3786"
             ],
             [
              0.5555555555555556,
              "#d8576b"
             ],
             [
              0.6666666666666666,
              "#ed7953"
             ],
             [
              0.7777777777777778,
              "#fb9f3a"
             ],
             [
              0.8888888888888888,
              "#fdca26"
             ],
             [
              1,
              "#f0f921"
             ]
            ],
            "type": "heatmap"
           }
          ],
          "heatmapgl": [
           {
            "colorbar": {
             "outlinewidth": 0,
             "ticks": ""
            },
            "colorscale": [
             [
              0,
              "#0d0887"
             ],
             [
              0.1111111111111111,
              "#46039f"
             ],
             [
              0.2222222222222222,
              "#7201a8"
             ],
             [
              0.3333333333333333,
              "#9c179e"
             ],
             [
              0.4444444444444444,
              "#bd3786"
             ],
             [
              0.5555555555555556,
              "#d8576b"
             ],
             [
              0.6666666666666666,
              "#ed7953"
             ],
             [
              0.7777777777777778,
              "#fb9f3a"
             ],
             [
              0.8888888888888888,
              "#fdca26"
             ],
             [
              1,
              "#f0f921"
             ]
            ],
            "type": "heatmapgl"
           }
          ],
          "histogram": [
           {
            "marker": {
             "pattern": {
              "fillmode": "overlay",
              "size": 10,
              "solidity": 0.2
             }
            },
            "type": "histogram"
           }
          ],
          "histogram2d": [
           {
            "colorbar": {
             "outlinewidth": 0,
             "ticks": ""
            },
            "colorscale": [
             [
              0,
              "#0d0887"
             ],
             [
              0.1111111111111111,
              "#46039f"
             ],
             [
              0.2222222222222222,
              "#7201a8"
             ],
             [
              0.3333333333333333,
              "#9c179e"
             ],
             [
              0.4444444444444444,
              "#bd3786"
             ],
             [
              0.5555555555555556,
              "#d8576b"
             ],
             [
              0.6666666666666666,
              "#ed7953"
             ],
             [
              0.7777777777777778,
              "#fb9f3a"
             ],
             [
              0.8888888888888888,
              "#fdca26"
             ],
             [
              1,
              "#f0f921"
             ]
            ],
            "type": "histogram2d"
           }
          ],
          "histogram2dcontour": [
           {
            "colorbar": {
             "outlinewidth": 0,
             "ticks": ""
            },
            "colorscale": [
             [
              0,
              "#0d0887"
             ],
             [
              0.1111111111111111,
              "#46039f"
             ],
             [
              0.2222222222222222,
              "#7201a8"
             ],
             [
              0.3333333333333333,
              "#9c179e"
             ],
             [
              0.4444444444444444,
              "#bd3786"
             ],
             [
              0.5555555555555556,
              "#d8576b"
             ],
             [
              0.6666666666666666,
              "#ed7953"
             ],
             [
              0.7777777777777778,
              "#fb9f3a"
             ],
             [
              0.8888888888888888,
              "#fdca26"
             ],
             [
              1,
              "#f0f921"
             ]
            ],
            "type": "histogram2dcontour"
           }
          ],
          "mesh3d": [
           {
            "colorbar": {
             "outlinewidth": 0,
             "ticks": ""
            },
            "type": "mesh3d"
           }
          ],
          "parcoords": [
           {
            "line": {
             "colorbar": {
              "outlinewidth": 0,
              "ticks": ""
             }
            },
            "type": "parcoords"
           }
          ],
          "pie": [
           {
            "automargin": true,
            "type": "pie"
           }
          ],
          "scatter": [
           {
            "fillpattern": {
             "fillmode": "overlay",
             "size": 10,
             "solidity": 0.2
            },
            "type": "scatter"
           }
          ],
          "scatter3d": [
           {
            "line": {
             "colorbar": {
              "outlinewidth": 0,
              "ticks": ""
             }
            },
            "marker": {
             "colorbar": {
              "outlinewidth": 0,
              "ticks": ""
             }
            },
            "type": "scatter3d"
           }
          ],
          "scattercarpet": [
           {
            "marker": {
             "colorbar": {
              "outlinewidth": 0,
              "ticks": ""
             }
            },
            "type": "scattercarpet"
           }
          ],
          "scattergeo": [
           {
            "marker": {
             "colorbar": {
              "outlinewidth": 0,
              "ticks": ""
             }
            },
            "type": "scattergeo"
           }
          ],
          "scattergl": [
           {
            "marker": {
             "colorbar": {
              "outlinewidth": 0,
              "ticks": ""
             }
            },
            "type": "scattergl"
           }
          ],
          "scattermapbox": [
           {
            "marker": {
             "colorbar": {
              "outlinewidth": 0,
              "ticks": ""
             }
            },
            "type": "scattermapbox"
           }
          ],
          "scatterpolar": [
           {
            "marker": {
             "colorbar": {
              "outlinewidth": 0,
              "ticks": ""
             }
            },
            "type": "scatterpolar"
           }
          ],
          "scatterpolargl": [
           {
            "marker": {
             "colorbar": {
              "outlinewidth": 0,
              "ticks": ""
             }
            },
            "type": "scatterpolargl"
           }
          ],
          "scatterternary": [
           {
            "marker": {
             "colorbar": {
              "outlinewidth": 0,
              "ticks": ""
             }
            },
            "type": "scatterternary"
           }
          ],
          "surface": [
           {
            "colorbar": {
             "outlinewidth": 0,
             "ticks": ""
            },
            "colorscale": [
             [
              0,
              "#0d0887"
             ],
             [
              0.1111111111111111,
              "#46039f"
             ],
             [
              0.2222222222222222,
              "#7201a8"
             ],
             [
              0.3333333333333333,
              "#9c179e"
             ],
             [
              0.4444444444444444,
              "#bd3786"
             ],
             [
              0.5555555555555556,
              "#d8576b"
             ],
             [
              0.6666666666666666,
              "#ed7953"
             ],
             [
              0.7777777777777778,
              "#fb9f3a"
             ],
             [
              0.8888888888888888,
              "#fdca26"
             ],
             [
              1,
              "#f0f921"
             ]
            ],
            "type": "surface"
           }
          ],
          "table": [
           {
            "cells": {
             "fill": {
              "color": "#EBF0F8"
             },
             "line": {
              "color": "white"
             }
            },
            "header": {
             "fill": {
              "color": "#C8D4E3"
             },
             "line": {
              "color": "white"
             }
            },
            "type": "table"
           }
          ]
         },
         "layout": {
          "annotationdefaults": {
           "arrowcolor": "#2a3f5f",
           "arrowhead": 0,
           "arrowwidth": 1
          },
          "autotypenumbers": "strict",
          "coloraxis": {
           "colorbar": {
            "outlinewidth": 0,
            "ticks": ""
           }
          },
          "colorscale": {
           "diverging": [
            [
             0,
             "#8e0152"
            ],
            [
             0.1,
             "#c51b7d"
            ],
            [
             0.2,
             "#de77ae"
            ],
            [
             0.3,
             "#f1b6da"
            ],
            [
             0.4,
             "#fde0ef"
            ],
            [
             0.5,
             "#f7f7f7"
            ],
            [
             0.6,
             "#e6f5d0"
            ],
            [
             0.7,
             "#b8e186"
            ],
            [
             0.8,
             "#7fbc41"
            ],
            [
             0.9,
             "#4d9221"
            ],
            [
             1,
             "#276419"
            ]
           ],
           "sequential": [
            [
             0,
             "#0d0887"
            ],
            [
             0.1111111111111111,
             "#46039f"
            ],
            [
             0.2222222222222222,
             "#7201a8"
            ],
            [
             0.3333333333333333,
             "#9c179e"
            ],
            [
             0.4444444444444444,
             "#bd3786"
            ],
            [
             0.5555555555555556,
             "#d8576b"
            ],
            [
             0.6666666666666666,
             "#ed7953"
            ],
            [
             0.7777777777777778,
             "#fb9f3a"
            ],
            [
             0.8888888888888888,
             "#fdca26"
            ],
            [
             1,
             "#f0f921"
            ]
           ],
           "sequentialminus": [
            [
             0,
             "#0d0887"
            ],
            [
             0.1111111111111111,
             "#46039f"
            ],
            [
             0.2222222222222222,
             "#7201a8"
            ],
            [
             0.3333333333333333,
             "#9c179e"
            ],
            [
             0.4444444444444444,
             "#bd3786"
            ],
            [
             0.5555555555555556,
             "#d8576b"
            ],
            [
             0.6666666666666666,
             "#ed7953"
            ],
            [
             0.7777777777777778,
             "#fb9f3a"
            ],
            [
             0.8888888888888888,
             "#fdca26"
            ],
            [
             1,
             "#f0f921"
            ]
           ]
          },
          "colorway": [
           "#636efa",
           "#EF553B",
           "#00cc96",
           "#ab63fa",
           "#FFA15A",
           "#19d3f3",
           "#FF6692",
           "#B6E880",
           "#FF97FF",
           "#FECB52"
          ],
          "font": {
           "color": "#2a3f5f"
          },
          "geo": {
           "bgcolor": "white",
           "lakecolor": "white",
           "landcolor": "#E5ECF6",
           "showlakes": true,
           "showland": true,
           "subunitcolor": "white"
          },
          "hoverlabel": {
           "align": "left"
          },
          "hovermode": "closest",
          "mapbox": {
           "style": "light"
          },
          "paper_bgcolor": "white",
          "plot_bgcolor": "#E5ECF6",
          "polar": {
           "angularaxis": {
            "gridcolor": "white",
            "linecolor": "white",
            "ticks": ""
           },
           "bgcolor": "#E5ECF6",
           "radialaxis": {
            "gridcolor": "white",
            "linecolor": "white",
            "ticks": ""
           }
          },
          "scene": {
           "xaxis": {
            "backgroundcolor": "#E5ECF6",
            "gridcolor": "white",
            "gridwidth": 2,
            "linecolor": "white",
            "showbackground": true,
            "ticks": "",
            "zerolinecolor": "white"
           },
           "yaxis": {
            "backgroundcolor": "#E5ECF6",
            "gridcolor": "white",
            "gridwidth": 2,
            "linecolor": "white",
            "showbackground": true,
            "ticks": "",
            "zerolinecolor": "white"
           },
           "zaxis": {
            "backgroundcolor": "#E5ECF6",
            "gridcolor": "white",
            "gridwidth": 2,
            "linecolor": "white",
            "showbackground": true,
            "ticks": "",
            "zerolinecolor": "white"
           }
          },
          "shapedefaults": {
           "line": {
            "color": "#2a3f5f"
           }
          },
          "ternary": {
           "aaxis": {
            "gridcolor": "white",
            "linecolor": "white",
            "ticks": ""
           },
           "baxis": {
            "gridcolor": "white",
            "linecolor": "white",
            "ticks": ""
           },
           "bgcolor": "#E5ECF6",
           "caxis": {
            "gridcolor": "white",
            "linecolor": "white",
            "ticks": ""
           }
          },
          "title": {
           "x": 0.05
          },
          "xaxis": {
           "automargin": true,
           "gridcolor": "white",
           "linecolor": "white",
           "ticks": "",
           "title": {
            "standoff": 15
           },
           "zerolinecolor": "white",
           "zerolinewidth": 2
          },
          "yaxis": {
           "automargin": true,
           "gridcolor": "white",
           "linecolor": "white",
           "ticks": "",
           "title": {
            "standoff": 15
           },
           "zerolinecolor": "white",
           "zerolinewidth": 2
          }
         }
        },
        "title": {
         "text": "Machine Learning algorithms"
        },
        "width": 900,
        "xaxis": {
         "range": [
          0,
          90
         ],
         "title": {
          "text": "% "
         }
        }
       }
      }
     },
     "metadata": {},
     "output_type": "display_data"
    }
   ],
   "source": [
    "i=18\n",
    "\n",
    "tabla = value_count_from_multiple_choice(df_prue, v_v1,i)[-3:]\n",
    "tabla.index=name_column_graph(tabla,'(')\n",
    "name='Machine Learning algorithms'\n",
    "color = ['rgb(199,233,192)']*(tabla.shape[0]-3) + ['rgb(0,68,27)']*3\n",
    "fig = go.Figure()\n",
    "fig.add_trace(go.Bar(x=tabla[\"% Users\"],   y=tabla.index,   marker_color=color,name= '',\n",
    "                    text =tabla[\"Yes\"].values,texttemplate = \"%{x}%<br>%{text}\",textposition = \"outside\", orientation='h'))\n",
    "fig.update_traces(textposition='inside', textfont_size=500)\n",
    "fig.update_xaxes(title_text=\"% \")\n",
    "fig.update_layout(barmode='overlay',title_text=name,xaxis_range=[0, 90],    height=500, width=900,)\n",
    "fig.show()"
   ]
  },
  {
   "cell_type": "markdown",
   "metadata": {},
   "source": [
    "#### **Favorite media sources on data science topics**\n",
    "\n",
    "* **Blogs**, such as Towards and Analytics Vidhya, are the most widely used media source for their detailed content, practical tutorials and in-depth approach to various data science topics.\n",
    "* **Kaggle**, with its notebooks and forums, users turn to this platform for data science information and resources. Kaggle is known for its active community, data science competitions and abundant content shared by professionals and enthusiasts in the field.\n",
    "* **YouTube**, with channels such as Kaggle YouTube and Cloud AI Adventures, YouTube offers instructional videos, visual tutorials and inspirational talks, making it an attractive and accessible source for many users.\n",
    "\n",
    "In summary, the bar chart highlights the most popular media sources used by users to obtain data science information. Blogs are the preferred choice, followed closely by Kaggle and YouTube."
   ]
  },
  {
   "cell_type": "code",
   "execution_count": 52,
   "metadata": {},
   "outputs": [
    {
     "data": {
      "application/vnd.plotly.v1+json": {
       "config": {
        "plotlyServerURL": "https://plot.ly"
       },
       "data": [
        {
         "marker": {
          "color": [
           "rgb(0,68,27)",
           "rgb(0,68,27)",
           "rgb(0,68,27)"
          ]
         },
         "name": "",
         "orientation": "h",
         "text": [
          285,
          291,
          337
         ],
         "textfont": {
          "size": 500
         },
         "textposition": "inside",
         "texttemplate": "%{x}%<br>%{text}",
         "type": "bar",
         "x": [
          52.01,
          53.1,
          61.5
         ],
         "y": [
          "YouTube ",
          "Kaggle ",
          "Blogs "
         ]
        }
       ],
       "layout": {
        "barmode": "overlay",
        "height": 500,
        "images": [
         {
          "sizex": 0.15,
          "sizey": 1,
          "sizing": "contain",
          "source": "https://upload.wikimedia.org/wikipedia/commons/7/7c/Kaggle_logo.png",
          "x": 0.95,
          "xanchor": "right",
          "xref": "paper",
          "y": 0.415,
          "yanchor": "bottom",
          "yref": "paper"
         },
         {
          "sizex": 0.13,
          "sizey": 1,
          "sizing": "contain",
          "source": "https://upload.wikimedia.org/wikipedia/commons/0/09/YouTube_full-color_icon_%282017%29.svg",
          "x": 0.91,
          "xanchor": "right",
          "xref": "paper",
          "y": 0.06,
          "yanchor": "bottom",
          "yref": "paper"
         }
        ],
        "template": {
         "data": {
          "bar": [
           {
            "error_x": {
             "color": "#2a3f5f"
            },
            "error_y": {
             "color": "#2a3f5f"
            },
            "marker": {
             "line": {
              "color": "#E5ECF6",
              "width": 0.5
             },
             "pattern": {
              "fillmode": "overlay",
              "size": 10,
              "solidity": 0.2
             }
            },
            "type": "bar"
           }
          ],
          "barpolar": [
           {
            "marker": {
             "line": {
              "color": "#E5ECF6",
              "width": 0.5
             },
             "pattern": {
              "fillmode": "overlay",
              "size": 10,
              "solidity": 0.2
             }
            },
            "type": "barpolar"
           }
          ],
          "carpet": [
           {
            "aaxis": {
             "endlinecolor": "#2a3f5f",
             "gridcolor": "white",
             "linecolor": "white",
             "minorgridcolor": "white",
             "startlinecolor": "#2a3f5f"
            },
            "baxis": {
             "endlinecolor": "#2a3f5f",
             "gridcolor": "white",
             "linecolor": "white",
             "minorgridcolor": "white",
             "startlinecolor": "#2a3f5f"
            },
            "type": "carpet"
           }
          ],
          "choropleth": [
           {
            "colorbar": {
             "outlinewidth": 0,
             "ticks": ""
            },
            "type": "choropleth"
           }
          ],
          "contour": [
           {
            "colorbar": {
             "outlinewidth": 0,
             "ticks": ""
            },
            "colorscale": [
             [
              0,
              "#0d0887"
             ],
             [
              0.1111111111111111,
              "#46039f"
             ],
             [
              0.2222222222222222,
              "#7201a8"
             ],
             [
              0.3333333333333333,
              "#9c179e"
             ],
             [
              0.4444444444444444,
              "#bd3786"
             ],
             [
              0.5555555555555556,
              "#d8576b"
             ],
             [
              0.6666666666666666,
              "#ed7953"
             ],
             [
              0.7777777777777778,
              "#fb9f3a"
             ],
             [
              0.8888888888888888,
              "#fdca26"
             ],
             [
              1,
              "#f0f921"
             ]
            ],
            "type": "contour"
           }
          ],
          "contourcarpet": [
           {
            "colorbar": {
             "outlinewidth": 0,
             "ticks": ""
            },
            "type": "contourcarpet"
           }
          ],
          "heatmap": [
           {
            "colorbar": {
             "outlinewidth": 0,
             "ticks": ""
            },
            "colorscale": [
             [
              0,
              "#0d0887"
             ],
             [
              0.1111111111111111,
              "#46039f"
             ],
             [
              0.2222222222222222,
              "#7201a8"
             ],
             [
              0.3333333333333333,
              "#9c179e"
             ],
             [
              0.4444444444444444,
              "#bd3786"
             ],
             [
              0.5555555555555556,
              "#d8576b"
             ],
             [
              0.6666666666666666,
              "#ed7953"
             ],
             [
              0.7777777777777778,
              "#fb9f3a"
             ],
             [
              0.8888888888888888,
              "#fdca26"
             ],
             [
              1,
              "#f0f921"
             ]
            ],
            "type": "heatmap"
           }
          ],
          "heatmapgl": [
           {
            "colorbar": {
             "outlinewidth": 0,
             "ticks": ""
            },
            "colorscale": [
             [
              0,
              "#0d0887"
             ],
             [
              0.1111111111111111,
              "#46039f"
             ],
             [
              0.2222222222222222,
              "#7201a8"
             ],
             [
              0.3333333333333333,
              "#9c179e"
             ],
             [
              0.4444444444444444,
              "#bd3786"
             ],
             [
              0.5555555555555556,
              "#d8576b"
             ],
             [
              0.6666666666666666,
              "#ed7953"
             ],
             [
              0.7777777777777778,
              "#fb9f3a"
             ],
             [
              0.8888888888888888,
              "#fdca26"
             ],
             [
              1,
              "#f0f921"
             ]
            ],
            "type": "heatmapgl"
           }
          ],
          "histogram": [
           {
            "marker": {
             "pattern": {
              "fillmode": "overlay",
              "size": 10,
              "solidity": 0.2
             }
            },
            "type": "histogram"
           }
          ],
          "histogram2d": [
           {
            "colorbar": {
             "outlinewidth": 0,
             "ticks": ""
            },
            "colorscale": [
             [
              0,
              "#0d0887"
             ],
             [
              0.1111111111111111,
              "#46039f"
             ],
             [
              0.2222222222222222,
              "#7201a8"
             ],
             [
              0.3333333333333333,
              "#9c179e"
             ],
             [
              0.4444444444444444,
              "#bd3786"
             ],
             [
              0.5555555555555556,
              "#d8576b"
             ],
             [
              0.6666666666666666,
              "#ed7953"
             ],
             [
              0.7777777777777778,
              "#fb9f3a"
             ],
             [
              0.8888888888888888,
              "#fdca26"
             ],
             [
              1,
              "#f0f921"
             ]
            ],
            "type": "histogram2d"
           }
          ],
          "histogram2dcontour": [
           {
            "colorbar": {
             "outlinewidth": 0,
             "ticks": ""
            },
            "colorscale": [
             [
              0,
              "#0d0887"
             ],
             [
              0.1111111111111111,
              "#46039f"
             ],
             [
              0.2222222222222222,
              "#7201a8"
             ],
             [
              0.3333333333333333,
              "#9c179e"
             ],
             [
              0.4444444444444444,
              "#bd3786"
             ],
             [
              0.5555555555555556,
              "#d8576b"
             ],
             [
              0.6666666666666666,
              "#ed7953"
             ],
             [
              0.7777777777777778,
              "#fb9f3a"
             ],
             [
              0.8888888888888888,
              "#fdca26"
             ],
             [
              1,
              "#f0f921"
             ]
            ],
            "type": "histogram2dcontour"
           }
          ],
          "mesh3d": [
           {
            "colorbar": {
             "outlinewidth": 0,
             "ticks": ""
            },
            "type": "mesh3d"
           }
          ],
          "parcoords": [
           {
            "line": {
             "colorbar": {
              "outlinewidth": 0,
              "ticks": ""
             }
            },
            "type": "parcoords"
           }
          ],
          "pie": [
           {
            "automargin": true,
            "type": "pie"
           }
          ],
          "scatter": [
           {
            "fillpattern": {
             "fillmode": "overlay",
             "size": 10,
             "solidity": 0.2
            },
            "type": "scatter"
           }
          ],
          "scatter3d": [
           {
            "line": {
             "colorbar": {
              "outlinewidth": 0,
              "ticks": ""
             }
            },
            "marker": {
             "colorbar": {
              "outlinewidth": 0,
              "ticks": ""
             }
            },
            "type": "scatter3d"
           }
          ],
          "scattercarpet": [
           {
            "marker": {
             "colorbar": {
              "outlinewidth": 0,
              "ticks": ""
             }
            },
            "type": "scattercarpet"
           }
          ],
          "scattergeo": [
           {
            "marker": {
             "colorbar": {
              "outlinewidth": 0,
              "ticks": ""
             }
            },
            "type": "scattergeo"
           }
          ],
          "scattergl": [
           {
            "marker": {
             "colorbar": {
              "outlinewidth": 0,
              "ticks": ""
             }
            },
            "type": "scattergl"
           }
          ],
          "scattermapbox": [
           {
            "marker": {
             "colorbar": {
              "outlinewidth": 0,
              "ticks": ""
             }
            },
            "type": "scattermapbox"
           }
          ],
          "scatterpolar": [
           {
            "marker": {
             "colorbar": {
              "outlinewidth": 0,
              "ticks": ""
             }
            },
            "type": "scatterpolar"
           }
          ],
          "scatterpolargl": [
           {
            "marker": {
             "colorbar": {
              "outlinewidth": 0,
              "ticks": ""
             }
            },
            "type": "scatterpolargl"
           }
          ],
          "scatterternary": [
           {
            "marker": {
             "colorbar": {
              "outlinewidth": 0,
              "ticks": ""
             }
            },
            "type": "scatterternary"
           }
          ],
          "surface": [
           {
            "colorbar": {
             "outlinewidth": 0,
             "ticks": ""
            },
            "colorscale": [
             [
              0,
              "#0d0887"
             ],
             [
              0.1111111111111111,
              "#46039f"
             ],
             [
              0.2222222222222222,
              "#7201a8"
             ],
             [
              0.3333333333333333,
              "#9c179e"
             ],
             [
              0.4444444444444444,
              "#bd3786"
             ],
             [
              0.5555555555555556,
              "#d8576b"
             ],
             [
              0.6666666666666666,
              "#ed7953"
             ],
             [
              0.7777777777777778,
              "#fb9f3a"
             ],
             [
              0.8888888888888888,
              "#fdca26"
             ],
             [
              1,
              "#f0f921"
             ]
            ],
            "type": "surface"
           }
          ],
          "table": [
           {
            "cells": {
             "fill": {
              "color": "#EBF0F8"
             },
             "line": {
              "color": "white"
             }
            },
            "header": {
             "fill": {
              "color": "#C8D4E3"
             },
             "line": {
              "color": "white"
             }
            },
            "type": "table"
           }
          ]
         },
         "layout": {
          "annotationdefaults": {
           "arrowcolor": "#2a3f5f",
           "arrowhead": 0,
           "arrowwidth": 1
          },
          "autotypenumbers": "strict",
          "coloraxis": {
           "colorbar": {
            "outlinewidth": 0,
            "ticks": ""
           }
          },
          "colorscale": {
           "diverging": [
            [
             0,
             "#8e0152"
            ],
            [
             0.1,
             "#c51b7d"
            ],
            [
             0.2,
             "#de77ae"
            ],
            [
             0.3,
             "#f1b6da"
            ],
            [
             0.4,
             "#fde0ef"
            ],
            [
             0.5,
             "#f7f7f7"
            ],
            [
             0.6,
             "#e6f5d0"
            ],
            [
             0.7,
             "#b8e186"
            ],
            [
             0.8,
             "#7fbc41"
            ],
            [
             0.9,
             "#4d9221"
            ],
            [
             1,
             "#276419"
            ]
           ],
           "sequential": [
            [
             0,
             "#0d0887"
            ],
            [
             0.1111111111111111,
             "#46039f"
            ],
            [
             0.2222222222222222,
             "#7201a8"
            ],
            [
             0.3333333333333333,
             "#9c179e"
            ],
            [
             0.4444444444444444,
             "#bd3786"
            ],
            [
             0.5555555555555556,
             "#d8576b"
            ],
            [
             0.6666666666666666,
             "#ed7953"
            ],
            [
             0.7777777777777778,
             "#fb9f3a"
            ],
            [
             0.8888888888888888,
             "#fdca26"
            ],
            [
             1,
             "#f0f921"
            ]
           ],
           "sequentialminus": [
            [
             0,
             "#0d0887"
            ],
            [
             0.1111111111111111,
             "#46039f"
            ],
            [
             0.2222222222222222,
             "#7201a8"
            ],
            [
             0.3333333333333333,
             "#9c179e"
            ],
            [
             0.4444444444444444,
             "#bd3786"
            ],
            [
             0.5555555555555556,
             "#d8576b"
            ],
            [
             0.6666666666666666,
             "#ed7953"
            ],
            [
             0.7777777777777778,
             "#fb9f3a"
            ],
            [
             0.8888888888888888,
             "#fdca26"
            ],
            [
             1,
             "#f0f921"
            ]
           ]
          },
          "colorway": [
           "#636efa",
           "#EF553B",
           "#00cc96",
           "#ab63fa",
           "#FFA15A",
           "#19d3f3",
           "#FF6692",
           "#B6E880",
           "#FF97FF",
           "#FECB52"
          ],
          "font": {
           "color": "#2a3f5f"
          },
          "geo": {
           "bgcolor": "white",
           "lakecolor": "white",
           "landcolor": "#E5ECF6",
           "showlakes": true,
           "showland": true,
           "subunitcolor": "white"
          },
          "hoverlabel": {
           "align": "left"
          },
          "hovermode": "closest",
          "mapbox": {
           "style": "light"
          },
          "paper_bgcolor": "white",
          "plot_bgcolor": "#E5ECF6",
          "polar": {
           "angularaxis": {
            "gridcolor": "white",
            "linecolor": "white",
            "ticks": ""
           },
           "bgcolor": "#E5ECF6",
           "radialaxis": {
            "gridcolor": "white",
            "linecolor": "white",
            "ticks": ""
           }
          },
          "scene": {
           "xaxis": {
            "backgroundcolor": "#E5ECF6",
            "gridcolor": "white",
            "gridwidth": 2,
            "linecolor": "white",
            "showbackground": true,
            "ticks": "",
            "zerolinecolor": "white"
           },
           "yaxis": {
            "backgroundcolor": "#E5ECF6",
            "gridcolor": "white",
            "gridwidth": 2,
            "linecolor": "white",
            "showbackground": true,
            "ticks": "",
            "zerolinecolor": "white"
           },
           "zaxis": {
            "backgroundcolor": "#E5ECF6",
            "gridcolor": "white",
            "gridwidth": 2,
            "linecolor": "white",
            "showbackground": true,
            "ticks": "",
            "zerolinecolor": "white"
           }
          },
          "shapedefaults": {
           "line": {
            "color": "#2a3f5f"
           }
          },
          "ternary": {
           "aaxis": {
            "gridcolor": "white",
            "linecolor": "white",
            "ticks": ""
           },
           "baxis": {
            "gridcolor": "white",
            "linecolor": "white",
            "ticks": ""
           },
           "bgcolor": "#E5ECF6",
           "caxis": {
            "gridcolor": "white",
            "linecolor": "white",
            "ticks": ""
           }
          },
          "title": {
           "x": 0.05
          },
          "xaxis": {
           "automargin": true,
           "gridcolor": "white",
           "linecolor": "white",
           "ticks": "",
           "title": {
            "standoff": 15
           },
           "zerolinecolor": "white",
           "zerolinewidth": 2
          },
          "yaxis": {
           "automargin": true,
           "gridcolor": "white",
           "linecolor": "white",
           "ticks": "",
           "title": {
            "standoff": 15
           },
           "zerolinecolor": "white",
           "zerolinewidth": 2
          }
         }
        },
        "title": {
         "text": "Favorite media sources on data science topics"
        },
        "width": 900,
        "xaxis": {
         "range": [
          0,
          68
         ],
         "title": {
          "text": "% "
         }
        }
       }
      }
     },
     "metadata": {},
     "output_type": "display_data"
    }
   ],
   "source": [
    "i=44\n",
    "\n",
    "tabla = value_count_from_multiple_choice(df_prue, v_v1,i)[-3:]\n",
    "tabla.index=name_column_graph(tabla,'(')\n",
    "name='Favorite media sources on data science topics'\n",
    "color = ['rgb(199,233,192)']*(tabla.shape[0]-3) + ['rgb(0,68,27)']*3\n",
    "fig = go.Figure()\n",
    "fig.add_trace(go.Bar(x=tabla[\"% Users\"],   y=tabla.index,   marker_color=color,name= '',\n",
    "                    text =tabla[\"Yes\"].values,texttemplate = \"%{x}%<br>%{text}\",textposition = \"outside\", orientation='h'))\n",
    "fig.update_traces(textposition='inside', textfont_size=500)\n",
    "fig.update_xaxes(title_text=\"% \")\n",
    "fig.update_layout(barmode='overlay',title_text=name,xaxis_range=[0, 68],    height=500, width=900,)\n",
    "\n",
    "fig.add_layout_image(\n",
    "    dict(\n",
    "        source=\"https://upload.wikimedia.org/wikipedia/commons/7/7c/Kaggle_logo.png\",\n",
    "        xref=\"paper\", yref=\"paper\",\n",
    "        x=0.95, y=0.415,\n",
    "        sizex=0.15, sizey=1,\n",
    "        xanchor=\"right\", yanchor=\"bottom\", sizing= \"contain\",\n",
    "    )\n",
    ")\n",
    "fig.add_layout_image(\n",
    "    dict(\n",
    "        source=\"https://upload.wikimedia.org/wikipedia/commons/0/09/YouTube_full-color_icon_%282017%29.svg\",\n",
    "        xref=\"paper\", yref=\"paper\",\n",
    "        x=0.91, y=0.06,\n",
    "        sizex=0.13, sizey=1,\n",
    "        xanchor=\"right\", yanchor=\"bottom\", sizing= \"contain\",\n",
    "    )\n",
    ")\n",
    "\n",
    "fig.show()"
   ]
  },
  {
   "cell_type": "markdown",
   "metadata": {},
   "source": [
    "<a id='conclusions'></a>\n",
    "## **Conclusions**\n",
    "\n",
    "The demographic, technological, and data science techniques comparison among the top 5 countries most present on Kaggle underscores the significance of fostering data science growth in these nations, particularly within the third-ranked country. Emphasizing the need for promoting gender inclusivity and equitable representation within the field is crucial to achieve greater diversity and enrich the data science community with varied perspectives. The diversity in age ranges also contributes to enriching the community by incorporating professionals from different generations.\n",
    "\n",
    "Furthermore, the data reveals a high adoption of machine learning techniques in the business realm, signaling their increasing importance across diverse industries. It's important to consider that salary variations among countries may stem from economic factors and specific hiring policies unique to each location.\n",
    "\n",
    "The presented graphs and analyses empower informed decision-making regarding suitable technologies and tools within the data science domain. Additionally, the availability of resources enhances learning and professional development in this field, providing users with access to valuable information. In conclusion, this study highlights the relevance and potential of data science in these countries, offering insights to continue driving their growth and advancement.\n",
    "\n",
    "\n",
    "## **Challenges**\n",
    "\n",
    "Selecting the work objective is undoubtedly one of the most significant challenges when carrying out a data analysis project. A clear and well-defined objective is essential to properly focus the research and ensure that the conclusions are relevant and useful. If the objective is too broad, obtaining concrete and meaningful results can be difficult, potentially complicating data interpretation and informed decision-making.\n",
    "\n",
    "Likewise, choosing the appropriate questions to showcase the most used tools also presents a significant challenge. It's crucial to pose questions that are relevant to the analysis and provide valuable insights into the landscape of tools in the field of data science. A proper selection of questions will ensure that graphs and analyses accurately and comprehensively reflect preferences and trends in technology usage within the field.\n",
    "\n",
    "On the other hand, creating effective graphs that clearly display the expected results may require additional time and effort. Technical challenges in data manipulation and visual presentation are common. It's important to consider aspects such as choosing suitable charts, colors, and labels to achieve an accurate and appealing representation of the data.\n",
    "\n",
    "In summary, encountering challenges during data analysis is a natural part of the process. Through experience and practice, it's possible to enhance the selection of objectives, questions, and graphical techniques, resulting in more accurate and meaningful outcomes in future data analysis projects.\n",
    "\n",
    "\n",
    "\n"
   ]
  }
 ],
 "metadata": {
  "kernelspec": {
   "display_name": "Python 3",
   "language": "python",
   "name": "python3"
  },
  "language_info": {
   "codemirror_mode": {
    "name": "ipython",
    "version": 3
   },
   "file_extension": ".py",
   "mimetype": "text/x-python",
   "name": "python",
   "nbconvert_exporter": "python",
   "pygments_lexer": "ipython3",
   "version": "3.9.5"
  },
  "orig_nbformat": 4
 },
 "nbformat": 4,
 "nbformat_minor": 2
}
